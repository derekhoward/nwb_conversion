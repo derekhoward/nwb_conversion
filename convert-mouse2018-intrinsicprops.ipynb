{
 "cells": [
  {
   "cell_type": "code",
   "execution_count": 1,
   "metadata": {},
   "outputs": [],
   "source": [
    "import os\n",
    "import time\n",
    "import datetime\n",
    "from pathlib import Path\n",
    "import pandas as pd\n",
    "import pyabf"
   ]
  },
  {
   "cell_type": "markdown",
   "metadata": {},
   "source": [
    "# Steps to convert 1st set of ABF files\n",
    "- read in metadata\n",
    "- identify files to be converted (from mouse2018, using protocols testing intrinsic properties, ABFv2)\n",
    "- merge in extracted metadata\n",
    "- convert using modified ABF1Converter\n",
    "- validate NWB outputs using dandi-cli\n",
    "- explore errors\n"
   ]
  },
  {
   "cell_type": "markdown",
   "metadata": {},
   "source": [
    "## Read in metadata provided by Homeira\n",
    "- Focus on files with firing pattern\n",
    "- we find 12 ABF files that suit these criteria\n",
    "- later we will read in files and determine whether they are ABFv1 or ABFv2"
   ]
  },
  {
   "cell_type": "code",
   "execution_count": 2,
   "metadata": {},
   "outputs": [],
   "source": [
    "mouse_meta = pd.read_csv('./data/raw/Metadata/Mouse18_Metadatav2.csv')\n",
    "mouse_meta.drop('Unnamed: 0', axis=1, inplace=True)"
   ]
  },
  {
   "cell_type": "code",
   "execution_count": 3,
   "metadata": {},
   "outputs": [
    {
     "data": {
      "text/html": [
       "<div>\n",
       "<style scoped>\n",
       "    .dataframe tbody tr th:only-of-type {\n",
       "        vertical-align: middle;\n",
       "    }\n",
       "\n",
       "    .dataframe tbody tr th {\n",
       "        vertical-align: top;\n",
       "    }\n",
       "\n",
       "    .dataframe thead th {\n",
       "        text-align: right;\n",
       "    }\n",
       "</style>\n",
       "<table border=\"1\" class=\"dataframe\">\n",
       "  <thead>\n",
       "    <tr style=\"text-align: right;\">\n",
       "      <th></th>\n",
       "      <th>Cell Name</th>\n",
       "      <th>Data Type</th>\n",
       "      <th>Exp. Date</th>\n",
       "      <th>Cell #</th>\n",
       "      <th>Cell Layer</th>\n",
       "      <th>Stim Type</th>\n",
       "      <th>ZD status</th>\n",
       "      <th>Unnamed: 8</th>\n",
       "      <th>Gain</th>\n",
       "      <th>Offset</th>\n",
       "      <th>Response Channel</th>\n",
       "      <th>Command Channel</th>\n",
       "      <th>RMP</th>\n",
       "    </tr>\n",
       "  </thead>\n",
       "  <tbody>\n",
       "    <tr>\n",
       "      <th>0</th>\n",
       "      <td>18116450</td>\n",
       "      <td>Mouse</td>\n",
       "      <td>Jan 16_2018</td>\n",
       "      <td>C5</td>\n",
       "      <td>L5</td>\n",
       "      <td>Firing</td>\n",
       "      <td>n.a</td>\n",
       "      <td>NaN</td>\n",
       "      <td>1.0</td>\n",
       "      <td>17.5</td>\n",
       "      <td>Iclamp (mV)</td>\n",
       "      <td>Current_in(pA)</td>\n",
       "      <td>-67.5</td>\n",
       "    </tr>\n",
       "    <tr>\n",
       "      <th>1</th>\n",
       "      <td>18130014</td>\n",
       "      <td>Mouse</td>\n",
       "      <td>Jan 30_2018</td>\n",
       "      <td>C5</td>\n",
       "      <td>L5</td>\n",
       "      <td>Firing</td>\n",
       "      <td>n.a</td>\n",
       "      <td>NaN</td>\n",
       "      <td>1.0</td>\n",
       "      <td>15.2</td>\n",
       "      <td>Iclamp (mV)</td>\n",
       "      <td>Current_in(pA)</td>\n",
       "      <td>-75.2</td>\n",
       "    </tr>\n",
       "    <tr>\n",
       "      <th>2</th>\n",
       "      <td>2018_02_08_0000</td>\n",
       "      <td>Mouse</td>\n",
       "      <td>Feb 08_2018</td>\n",
       "      <td>C1</td>\n",
       "      <td>L5</td>\n",
       "      <td>Firing pattern</td>\n",
       "      <td>n.a</td>\n",
       "      <td>NaN</td>\n",
       "      <td>1.0</td>\n",
       "      <td>12.0</td>\n",
       "      <td>Iclamp (mV)</td>\n",
       "      <td>Current_in(pA)</td>\n",
       "      <td>-62.6</td>\n",
       "    </tr>\n",
       "    <tr>\n",
       "      <th>3</th>\n",
       "      <td>2018_02_08_0001</td>\n",
       "      <td>Mouse</td>\n",
       "      <td>Feb 08_2018</td>\n",
       "      <td>C1</td>\n",
       "      <td>L5</td>\n",
       "      <td>Firing pattern</td>\n",
       "      <td>n.a</td>\n",
       "      <td>NaN</td>\n",
       "      <td>1.0</td>\n",
       "      <td>12.0</td>\n",
       "      <td>Iclamp (mV)</td>\n",
       "      <td>Current_in(pA)</td>\n",
       "      <td>-62.6</td>\n",
       "    </tr>\n",
       "    <tr>\n",
       "      <th>4</th>\n",
       "      <td>18208013</td>\n",
       "      <td>Mouse</td>\n",
       "      <td>Feb 08_2018</td>\n",
       "      <td>C3</td>\n",
       "      <td>L5</td>\n",
       "      <td>Firing pattern</td>\n",
       "      <td>n.a</td>\n",
       "      <td>NaN</td>\n",
       "      <td>1.0</td>\n",
       "      <td>27.3</td>\n",
       "      <td>Iclamp (mV)</td>\n",
       "      <td>Current_in(pA)</td>\n",
       "      <td>-62.3</td>\n",
       "    </tr>\n",
       "  </tbody>\n",
       "</table>\n",
       "</div>"
      ],
      "text/plain": [
       "         Cell Name Data Type    Exp. Date Cell # Cell Layer       Stim Type  \\\n",
       "0         18116450     Mouse  Jan 16_2018     C5         L5          Firing   \n",
       "1         18130014     Mouse  Jan 30_2018     C5         L5          Firing   \n",
       "2  2018_02_08_0000     Mouse  Feb 08_2018     C1         L5  Firing pattern   \n",
       "3  2018_02_08_0001     Mouse  Feb 08_2018     C1         L5  Firing pattern   \n",
       "4         18208013     Mouse  Feb 08_2018     C3         L5  Firing pattern   \n",
       "\n",
       "  ZD status  Unnamed: 8  Gain  Offset Response Channel   Command Channel   RMP  \n",
       "0       n.a         NaN   1.0    17.5     Iclamp (mV)     Current_in(pA) -67.5  \n",
       "1       n.a         NaN   1.0    15.2     Iclamp (mV)     Current_in(pA) -75.2  \n",
       "2       n.a         NaN   1.0    12.0     Iclamp (mV)     Current_in(pA) -62.6  \n",
       "3       n.a         NaN   1.0    12.0     Iclamp (mV)     Current_in(pA) -62.6  \n",
       "4       n.a         NaN   1.0    27.3     Iclamp (mV)     Current_in(pA) -62.3  "
      ]
     },
     "execution_count": 3,
     "metadata": {},
     "output_type": "execute_result"
    }
   ],
   "source": [
    "mouse_meta.head()"
   ]
  },
  {
   "cell_type": "code",
   "execution_count": 4,
   "metadata": {},
   "outputs": [],
   "source": [
    "intrinsic_meta = pd.concat([mouse_meta[mouse_meta['Stim Type'] == 'Firing'], mouse_meta[mouse_meta['Stim Type'] == 'Firing pattern']])"
   ]
  },
  {
   "cell_type": "code",
   "execution_count": 5,
   "metadata": {},
   "outputs": [
    {
     "data": {
      "text/plain": [
       "(13, 13)"
      ]
     },
     "execution_count": 5,
     "metadata": {},
     "output_type": "execute_result"
    }
   ],
   "source": [
    "intrinsic_meta.shape"
   ]
  },
  {
   "cell_type": "code",
   "execution_count": 6,
   "metadata": {},
   "outputs": [
    {
     "data": {
      "text/html": [
       "<div>\n",
       "<style scoped>\n",
       "    .dataframe tbody tr th:only-of-type {\n",
       "        vertical-align: middle;\n",
       "    }\n",
       "\n",
       "    .dataframe tbody tr th {\n",
       "        vertical-align: top;\n",
       "    }\n",
       "\n",
       "    .dataframe thead th {\n",
       "        text-align: right;\n",
       "    }\n",
       "</style>\n",
       "<table border=\"1\" class=\"dataframe\">\n",
       "  <thead>\n",
       "    <tr style=\"text-align: right;\">\n",
       "      <th></th>\n",
       "      <th>Cell Name</th>\n",
       "      <th>Data Type</th>\n",
       "      <th>Exp. Date</th>\n",
       "      <th>Cell #</th>\n",
       "      <th>Cell Layer</th>\n",
       "      <th>Stim Type</th>\n",
       "      <th>ZD status</th>\n",
       "      <th>Unnamed: 8</th>\n",
       "      <th>Gain</th>\n",
       "      <th>Offset</th>\n",
       "      <th>Response Channel</th>\n",
       "      <th>Command Channel</th>\n",
       "      <th>RMP</th>\n",
       "    </tr>\n",
       "  </thead>\n",
       "  <tbody>\n",
       "    <tr>\n",
       "      <th>0</th>\n",
       "      <td>18116450</td>\n",
       "      <td>Mouse</td>\n",
       "      <td>Jan 16_2018</td>\n",
       "      <td>C5</td>\n",
       "      <td>L5</td>\n",
       "      <td>Firing</td>\n",
       "      <td>n.a</td>\n",
       "      <td>NaN</td>\n",
       "      <td>1.0</td>\n",
       "      <td>17.5</td>\n",
       "      <td>Iclamp (mV)</td>\n",
       "      <td>Current_in(pA)</td>\n",
       "      <td>-67.5</td>\n",
       "    </tr>\n",
       "    <tr>\n",
       "      <th>1</th>\n",
       "      <td>18130014</td>\n",
       "      <td>Mouse</td>\n",
       "      <td>Jan 30_2018</td>\n",
       "      <td>C5</td>\n",
       "      <td>L5</td>\n",
       "      <td>Firing</td>\n",
       "      <td>n.a</td>\n",
       "      <td>NaN</td>\n",
       "      <td>1.0</td>\n",
       "      <td>15.2</td>\n",
       "      <td>Iclamp (mV)</td>\n",
       "      <td>Current_in(pA)</td>\n",
       "      <td>-75.2</td>\n",
       "    </tr>\n",
       "    <tr>\n",
       "      <th>2</th>\n",
       "      <td>2018_02_08_0000</td>\n",
       "      <td>Mouse</td>\n",
       "      <td>Feb 08_2018</td>\n",
       "      <td>C1</td>\n",
       "      <td>L5</td>\n",
       "      <td>Firing pattern</td>\n",
       "      <td>n.a</td>\n",
       "      <td>NaN</td>\n",
       "      <td>1.0</td>\n",
       "      <td>12.0</td>\n",
       "      <td>Iclamp (mV)</td>\n",
       "      <td>Current_in(pA)</td>\n",
       "      <td>-62.6</td>\n",
       "    </tr>\n",
       "    <tr>\n",
       "      <th>3</th>\n",
       "      <td>2018_02_08_0001</td>\n",
       "      <td>Mouse</td>\n",
       "      <td>Feb 08_2018</td>\n",
       "      <td>C1</td>\n",
       "      <td>L5</td>\n",
       "      <td>Firing pattern</td>\n",
       "      <td>n.a</td>\n",
       "      <td>NaN</td>\n",
       "      <td>1.0</td>\n",
       "      <td>12.0</td>\n",
       "      <td>Iclamp (mV)</td>\n",
       "      <td>Current_in(pA)</td>\n",
       "      <td>-62.6</td>\n",
       "    </tr>\n",
       "    <tr>\n",
       "      <th>4</th>\n",
       "      <td>18208013</td>\n",
       "      <td>Mouse</td>\n",
       "      <td>Feb 08_2018</td>\n",
       "      <td>C3</td>\n",
       "      <td>L5</td>\n",
       "      <td>Firing pattern</td>\n",
       "      <td>n.a</td>\n",
       "      <td>NaN</td>\n",
       "      <td>1.0</td>\n",
       "      <td>27.3</td>\n",
       "      <td>Iclamp (mV)</td>\n",
       "      <td>Current_in(pA)</td>\n",
       "      <td>-62.3</td>\n",
       "    </tr>\n",
       "    <tr>\n",
       "      <th>5</th>\n",
       "      <td>18208014</td>\n",
       "      <td>Mouse</td>\n",
       "      <td>Feb 08_2018</td>\n",
       "      <td>C3</td>\n",
       "      <td>L5</td>\n",
       "      <td>Firing pattern</td>\n",
       "      <td>n.a</td>\n",
       "      <td>NaN</td>\n",
       "      <td>1.0</td>\n",
       "      <td>27.3</td>\n",
       "      <td>Iclamp (mV)</td>\n",
       "      <td>Current_in(pA)</td>\n",
       "      <td>-62.3</td>\n",
       "    </tr>\n",
       "    <tr>\n",
       "      <th>6</th>\n",
       "      <td>18208023</td>\n",
       "      <td>Mouse</td>\n",
       "      <td>Feb 08_2018</td>\n",
       "      <td>C6</td>\n",
       "      <td>L5</td>\n",
       "      <td>Firing pattern</td>\n",
       "      <td>n.a</td>\n",
       "      <td>NaN</td>\n",
       "      <td>1.0</td>\n",
       "      <td>23.2</td>\n",
       "      <td>Iclamp (mV)</td>\n",
       "      <td>Current_in(pA)</td>\n",
       "      <td>-63.2</td>\n",
       "    </tr>\n",
       "    <tr>\n",
       "      <th>7</th>\n",
       "      <td>18208024</td>\n",
       "      <td>Mouse</td>\n",
       "      <td>Feb 08_2018</td>\n",
       "      <td>C6</td>\n",
       "      <td>L5</td>\n",
       "      <td>Firing pattern</td>\n",
       "      <td>n.a</td>\n",
       "      <td>NaN</td>\n",
       "      <td>1.0</td>\n",
       "      <td>23.2</td>\n",
       "      <td>Iclamp (mV)</td>\n",
       "      <td>Current_in(pA)</td>\n",
       "      <td>-63.2</td>\n",
       "    </tr>\n",
       "    <tr>\n",
       "      <th>8</th>\n",
       "      <td>18118023</td>\n",
       "      <td>Mouse</td>\n",
       "      <td>Jan 18_2018</td>\n",
       "      <td>C4</td>\n",
       "      <td>L5</td>\n",
       "      <td>Firing pattern</td>\n",
       "      <td>n.a</td>\n",
       "      <td>NaN</td>\n",
       "      <td>20.0</td>\n",
       "      <td>17.4</td>\n",
       "      <td>Iclamp (mV)</td>\n",
       "      <td>Current_in(pA)</td>\n",
       "      <td>-59.4</td>\n",
       "    </tr>\n",
       "    <tr>\n",
       "      <th>9</th>\n",
       "      <td>18118024</td>\n",
       "      <td>Mouse</td>\n",
       "      <td>Jan 18_2018</td>\n",
       "      <td>C4</td>\n",
       "      <td>L5</td>\n",
       "      <td>Firing pattern</td>\n",
       "      <td>n.a</td>\n",
       "      <td>NaN</td>\n",
       "      <td>20.0</td>\n",
       "      <td>15.4</td>\n",
       "      <td>Iclamp (mV)</td>\n",
       "      <td>Current_in(pA)</td>\n",
       "      <td>-59.4</td>\n",
       "    </tr>\n",
       "    <tr>\n",
       "      <th>10</th>\n",
       "      <td>18119012</td>\n",
       "      <td>Mouse</td>\n",
       "      <td>Jan 19_2018</td>\n",
       "      <td>C2</td>\n",
       "      <td>L5</td>\n",
       "      <td>Firing pattern</td>\n",
       "      <td>n.a</td>\n",
       "      <td>NaN</td>\n",
       "      <td>20.0</td>\n",
       "      <td>16.4</td>\n",
       "      <td>Iclamp (mV)</td>\n",
       "      <td>Current_in(pA)</td>\n",
       "      <td>-70.4</td>\n",
       "    </tr>\n",
       "    <tr>\n",
       "      <th>11</th>\n",
       "      <td>18119024</td>\n",
       "      <td>Mouse</td>\n",
       "      <td>Jan 19_2018</td>\n",
       "      <td>C3</td>\n",
       "      <td>L5</td>\n",
       "      <td>Firing pattern</td>\n",
       "      <td>n.a</td>\n",
       "      <td>NaN</td>\n",
       "      <td>20.0</td>\n",
       "      <td>15.7</td>\n",
       "      <td>Iclamp (mV)</td>\n",
       "      <td>Current_in(pA)</td>\n",
       "      <td>-67.7</td>\n",
       "    </tr>\n",
       "    <tr>\n",
       "      <th>12</th>\n",
       "      <td>18208031</td>\n",
       "      <td>Mouse</td>\n",
       "      <td>Feb 08_2018</td>\n",
       "      <td>C8</td>\n",
       "      <td>L5</td>\n",
       "      <td>Firing pattern</td>\n",
       "      <td>n.a</td>\n",
       "      <td>NaN</td>\n",
       "      <td>1.0</td>\n",
       "      <td>22.4</td>\n",
       "      <td>Iclamp (mV)</td>\n",
       "      <td>Current_in(pA)</td>\n",
       "      <td>-62.4</td>\n",
       "    </tr>\n",
       "  </tbody>\n",
       "</table>\n",
       "</div>"
      ],
      "text/plain": [
       "          Cell Name Data Type    Exp. Date Cell # Cell Layer       Stim Type  \\\n",
       "0          18116450     Mouse  Jan 16_2018     C5         L5          Firing   \n",
       "1          18130014     Mouse  Jan 30_2018     C5         L5          Firing   \n",
       "2   2018_02_08_0000     Mouse  Feb 08_2018     C1         L5  Firing pattern   \n",
       "3   2018_02_08_0001     Mouse  Feb 08_2018     C1         L5  Firing pattern   \n",
       "4          18208013     Mouse  Feb 08_2018     C3         L5  Firing pattern   \n",
       "5          18208014     Mouse  Feb 08_2018     C3         L5  Firing pattern   \n",
       "6          18208023     Mouse  Feb 08_2018     C6         L5  Firing pattern   \n",
       "7          18208024     Mouse  Feb 08_2018     C6         L5  Firing pattern   \n",
       "8          18118023     Mouse  Jan 18_2018     C4         L5  Firing pattern   \n",
       "9          18118024     Mouse  Jan 18_2018     C4         L5  Firing pattern   \n",
       "10         18119012     Mouse  Jan 19_2018     C2         L5  Firing pattern   \n",
       "11         18119024     Mouse  Jan 19_2018     C3         L5  Firing pattern   \n",
       "12         18208031     Mouse  Feb 08_2018     C8         L5  Firing pattern   \n",
       "\n",
       "   ZD status  Unnamed: 8  Gain  Offset Response Channel   Command Channel  \\\n",
       "0        n.a         NaN   1.0    17.5     Iclamp (mV)     Current_in(pA)   \n",
       "1        n.a         NaN   1.0    15.2     Iclamp (mV)     Current_in(pA)   \n",
       "2        n.a         NaN   1.0    12.0     Iclamp (mV)     Current_in(pA)   \n",
       "3        n.a         NaN   1.0    12.0     Iclamp (mV)     Current_in(pA)   \n",
       "4        n.a         NaN   1.0    27.3     Iclamp (mV)     Current_in(pA)   \n",
       "5        n.a         NaN   1.0    27.3     Iclamp (mV)     Current_in(pA)   \n",
       "6        n.a         NaN   1.0    23.2     Iclamp (mV)     Current_in(pA)   \n",
       "7        n.a         NaN   1.0    23.2     Iclamp (mV)     Current_in(pA)   \n",
       "8        n.a         NaN  20.0    17.4     Iclamp (mV)     Current_in(pA)   \n",
       "9        n.a         NaN  20.0    15.4     Iclamp (mV)     Current_in(pA)   \n",
       "10       n.a         NaN  20.0    16.4     Iclamp (mV)     Current_in(pA)   \n",
       "11       n.a         NaN  20.0    15.7     Iclamp (mV)     Current_in(pA)   \n",
       "12       n.a         NaN   1.0    22.4     Iclamp (mV)     Current_in(pA)   \n",
       "\n",
       "     RMP  \n",
       "0  -67.5  \n",
       "1  -75.2  \n",
       "2  -62.6  \n",
       "3  -62.6  \n",
       "4  -62.3  \n",
       "5  -62.3  \n",
       "6  -63.2  \n",
       "7  -63.2  \n",
       "8  -59.4  \n",
       "9  -59.4  \n",
       "10 -70.4  \n",
       "11 -67.7  \n",
       "12 -62.4  "
      ]
     },
     "execution_count": 6,
     "metadata": {},
     "output_type": "execute_result"
    }
   ],
   "source": [
    "intrinsic_meta"
   ]
  },
  {
   "cell_type": "markdown",
   "metadata": {},
   "source": [
    "## Identify files to be converted\n",
    "- ABF files from mouse2018\n",
    "- need metadata to determine which files are testing firing pattern\n",
    "- extract ABF version info, time of creation and comments from the ABF file"
   ]
  },
  {
   "cell_type": "code",
   "execution_count": 7,
   "metadata": {},
   "outputs": [],
   "source": [
    "# The following provides a dataframe for all abf files found recursively within a directory\n",
    "# it outputs the filename, path to file and date created\n",
    "\n",
    "def summary_df(path, suffix='.abf'):\n",
    "    all_files = []\n",
    "    for i in path.rglob(f'*[!.DS_Store]{suffix}'): # searches for all files recursively excluding those named .DS_Store\n",
    "        all_files.append((i.name,  i))\n",
    "\n",
    "    columns = [\"file_name\", \"path\"]\n",
    "    df = pd.DataFrame.from_records(all_files, columns=columns)\n",
    "    df.path = df.path.astype('str')\n",
    "    return df\n",
    "\n",
    "\n",
    "mouse2018_abf_dir = Path(\"C:/Users/allen/Documents/GitHub/ABF2_NWB/Raw data-new/Raw data/Mouse data/Mouse data_2018/\")\n",
    "mouse2019_file_info = summary_df(mouse2018_abf_dir)"
   ]
  },
  {
   "cell_type": "code",
   "execution_count": 8,
   "metadata": {},
   "outputs": [
    {
     "name": "stdout",
     "output_type": "stream",
     "text": [
      "Wall time: 3.38 s\n"
     ]
    }
   ],
   "source": [
    "%%time\n",
    "def parse_timestamp(abf_path):\n",
    "    abf = pyabf.ABF(abf_path)\n",
    "    return datetime.datetime.strptime(abf.abfDateTimeString, \"%Y-%m-%dT%H:%M:%S.%f\")\n",
    "\n",
    "def extract_abf_version(abf_path):\n",
    "    abf = pyabf.ABF(abf_path)\n",
    "    return abf.abfVersionString\n",
    "\n",
    "def extract_abf_comments(abf_path):\n",
    "    abf = pyabf.ABF(abf_path)\n",
    "    return abf.tagComments\n",
    "\n",
    "mouse2019_file_info['timestamp'] = mouse2019_file_info.path.apply(parse_timestamp)\n",
    "mouse2019_file_info['abf_version'] = mouse2019_file_info.path.apply(extract_abf_version)\n",
    "mouse2019_file_info['abf_comments'] = mouse2019_file_info.path.apply(extract_abf_comments)\n",
    "\n",
    "# add this column to merge with provided metadata\n",
    "mouse2019_file_info['file_id'] = mouse2019_file_info.file_name.apply(lambda x: Path(x).stem) "
   ]
  },
  {
   "cell_type": "code",
   "execution_count": 9,
   "metadata": {},
   "outputs": [
    {
     "data": {
      "text/plain": [
       "(124, 6)"
      ]
     },
     "execution_count": 9,
     "metadata": {},
     "output_type": "execute_result"
    }
   ],
   "source": [
    "mouse2019_file_info.shape"
   ]
  },
  {
   "cell_type": "code",
   "execution_count": 10,
   "metadata": {},
   "outputs": [
    {
     "data": {
      "text/html": [
       "<div>\n",
       "<style scoped>\n",
       "    .dataframe tbody tr th:only-of-type {\n",
       "        vertical-align: middle;\n",
       "    }\n",
       "\n",
       "    .dataframe tbody tr th {\n",
       "        vertical-align: top;\n",
       "    }\n",
       "\n",
       "    .dataframe thead th {\n",
       "        text-align: right;\n",
       "    }\n",
       "</style>\n",
       "<table border=\"1\" class=\"dataframe\">\n",
       "  <thead>\n",
       "    <tr style=\"text-align: right;\">\n",
       "      <th></th>\n",
       "      <th>file_name</th>\n",
       "      <th>path</th>\n",
       "      <th>timestamp</th>\n",
       "      <th>abf_version</th>\n",
       "      <th>abf_comments</th>\n",
       "      <th>file_id</th>\n",
       "    </tr>\n",
       "  </thead>\n",
       "  <tbody>\n",
       "    <tr>\n",
       "      <th>0</th>\n",
       "      <td>18208005.abf</td>\n",
       "      <td>C:\\Users\\allen\\Documents\\GitHub\\ABF2_NWB\\Raw d...</td>\n",
       "      <td>2018-02-08 13:16:04.609</td>\n",
       "      <td>1.8.3.0</td>\n",
       "      <td>[C1; RMP -62.6mv;layer 5,]</td>\n",
       "      <td>18208005</td>\n",
       "    </tr>\n",
       "    <tr>\n",
       "      <th>1</th>\n",
       "      <td>18208006.abf</td>\n",
       "      <td>C:\\Users\\allen\\Documents\\GitHub\\ABF2_NWB\\Raw d...</td>\n",
       "      <td>2018-02-08 13:28:10.781</td>\n",
       "      <td>1.8.3.0</td>\n",
       "      <td>[C1; RMP -62.6mv;layer 5,]</td>\n",
       "      <td>18208006</td>\n",
       "    </tr>\n",
       "    <tr>\n",
       "      <th>2</th>\n",
       "      <td>18208007.abf</td>\n",
       "      <td>C:\\Users\\allen\\Documents\\GitHub\\ABF2_NWB\\Raw d...</td>\n",
       "      <td>2018-02-08 13:32:13.812</td>\n",
       "      <td>1.8.3.0</td>\n",
       "      <td>[C1; RMP -62.6mv;layer 5,]</td>\n",
       "      <td>18208007</td>\n",
       "    </tr>\n",
       "    <tr>\n",
       "      <th>3</th>\n",
       "      <td>18208008.abf</td>\n",
       "      <td>C:\\Users\\allen\\Documents\\GitHub\\ABF2_NWB\\Raw d...</td>\n",
       "      <td>2018-02-08 13:33:39.109</td>\n",
       "      <td>1.8.3.0</td>\n",
       "      <td>[C1; RMP -62.6mv;layer 5,]</td>\n",
       "      <td>18208008</td>\n",
       "    </tr>\n",
       "    <tr>\n",
       "      <th>4</th>\n",
       "      <td>2018_02_08_0000.abf</td>\n",
       "      <td>C:\\Users\\allen\\Documents\\GitHub\\ABF2_NWB\\Raw d...</td>\n",
       "      <td>2018-02-08 12:57:10.781</td>\n",
       "      <td>1.8.3.0</td>\n",
       "      <td>[]</td>\n",
       "      <td>2018_02_08_0000</td>\n",
       "    </tr>\n",
       "  </tbody>\n",
       "</table>\n",
       "</div>"
      ],
      "text/plain": [
       "             file_name                                               path  \\\n",
       "0         18208005.abf  C:\\Users\\allen\\Documents\\GitHub\\ABF2_NWB\\Raw d...   \n",
       "1         18208006.abf  C:\\Users\\allen\\Documents\\GitHub\\ABF2_NWB\\Raw d...   \n",
       "2         18208007.abf  C:\\Users\\allen\\Documents\\GitHub\\ABF2_NWB\\Raw d...   \n",
       "3         18208008.abf  C:\\Users\\allen\\Documents\\GitHub\\ABF2_NWB\\Raw d...   \n",
       "4  2018_02_08_0000.abf  C:\\Users\\allen\\Documents\\GitHub\\ABF2_NWB\\Raw d...   \n",
       "\n",
       "                timestamp abf_version                abf_comments  \\\n",
       "0 2018-02-08 13:16:04.609     1.8.3.0  [C1; RMP -62.6mv;layer 5,]   \n",
       "1 2018-02-08 13:28:10.781     1.8.3.0  [C1; RMP -62.6mv;layer 5,]   \n",
       "2 2018-02-08 13:32:13.812     1.8.3.0  [C1; RMP -62.6mv;layer 5,]   \n",
       "3 2018-02-08 13:33:39.109     1.8.3.0  [C1; RMP -62.6mv;layer 5,]   \n",
       "4 2018-02-08 12:57:10.781     1.8.3.0                          []   \n",
       "\n",
       "           file_id  \n",
       "0         18208005  \n",
       "1         18208006  \n",
       "2         18208007  \n",
       "3         18208008  \n",
       "4  2018_02_08_0000  "
      ]
     },
     "execution_count": 10,
     "metadata": {},
     "output_type": "execute_result"
    }
   ],
   "source": [
    "mouse2019_file_info.head()"
   ]
  },
  {
   "cell_type": "code",
   "execution_count": 11,
   "metadata": {},
   "outputs": [
    {
     "data": {
      "text/plain": [
       "1.8.3.0    124\n",
       "Name: abf_version, dtype: int64"
      ]
     },
     "execution_count": 11,
     "metadata": {},
     "output_type": "execute_result"
    }
   ],
   "source": [
    "mouse2019_file_info.abf_version.value_counts()"
   ]
  },
  {
   "cell_type": "code",
   "execution_count": 12,
   "metadata": {},
   "outputs": [],
   "source": [
    "merged_meta = intrinsic_meta.merge(mouse2019_file_info, left_on='Cell Name', right_on='file_id' , how='left')"
   ]
  },
  {
   "cell_type": "code",
   "execution_count": 13,
   "metadata": {},
   "outputs": [
    {
     "data": {
      "text/plain": [
       "1.8.3.0    13\n",
       "Name: abf_version, dtype: int64"
      ]
     },
     "execution_count": 13,
     "metadata": {},
     "output_type": "execute_result"
    }
   ],
   "source": [
    "# we are left with 36 files to convert\n",
    "merged_meta.abf_version.value_counts()"
   ]
  },
  {
   "cell_type": "code",
   "execution_count": 14,
   "metadata": {},
   "outputs": [],
   "source": [
    "temp = merged_meta[merged_meta.abf_version.notnull()]\n",
    "to_convert = temp[temp.abf_version.str.startswith('1')]"
   ]
  },
  {
   "cell_type": "code",
   "execution_count": 15,
   "metadata": {},
   "outputs": [
    {
     "data": {
      "text/plain": [
       "0"
      ]
     },
     "execution_count": 15,
     "metadata": {},
     "output_type": "execute_result"
    }
   ],
   "source": [
    "merged_meta.abf_version.isna().sum()"
   ]
  },
  {
   "cell_type": "code",
   "execution_count": 16,
   "metadata": {},
   "outputs": [
    {
     "data": {
      "text/plain": [
       "(13, 19)"
      ]
     },
     "execution_count": 16,
     "metadata": {},
     "output_type": "execute_result"
    }
   ],
   "source": [
    "to_convert.shape"
   ]
  },
  {
   "cell_type": "markdown",
   "metadata": {},
   "source": [
    "## Convert!\n",
    "- 13 files to convert to NWB"
   ]
  },
  {
   "cell_type": "code",
   "execution_count": 17,
   "metadata": {},
   "outputs": [],
   "source": [
    "output_dir = Path(\"data/processed/recordings/mouse2018\")\n",
    "output_dir.mkdir(exist_ok=True)"
   ]
  },
  {
   "cell_type": "code",
   "execution_count": 18,
   "metadata": {},
   "outputs": [
    {
     "data": {
      "text/html": [
       "<div>\n",
       "<style scoped>\n",
       "    .dataframe tbody tr th:only-of-type {\n",
       "        vertical-align: middle;\n",
       "    }\n",
       "\n",
       "    .dataframe tbody tr th {\n",
       "        vertical-align: top;\n",
       "    }\n",
       "\n",
       "    .dataframe thead th {\n",
       "        text-align: right;\n",
       "    }\n",
       "</style>\n",
       "<table border=\"1\" class=\"dataframe\">\n",
       "  <thead>\n",
       "    <tr style=\"text-align: right;\">\n",
       "      <th></th>\n",
       "      <th>Cell Name</th>\n",
       "      <th>Data Type</th>\n",
       "      <th>Exp. Date</th>\n",
       "      <th>Cell #</th>\n",
       "      <th>Cell Layer</th>\n",
       "      <th>Stim Type</th>\n",
       "      <th>ZD status</th>\n",
       "      <th>Unnamed: 8</th>\n",
       "      <th>Gain</th>\n",
       "      <th>Offset</th>\n",
       "      <th>Response Channel</th>\n",
       "      <th>Command Channel</th>\n",
       "      <th>RMP</th>\n",
       "      <th>file_name</th>\n",
       "      <th>path</th>\n",
       "      <th>timestamp</th>\n",
       "      <th>abf_version</th>\n",
       "      <th>abf_comments</th>\n",
       "      <th>file_id</th>\n",
       "    </tr>\n",
       "  </thead>\n",
       "  <tbody>\n",
       "    <tr>\n",
       "      <th>0</th>\n",
       "      <td>18116450</td>\n",
       "      <td>Mouse</td>\n",
       "      <td>Jan 16_2018</td>\n",
       "      <td>C5</td>\n",
       "      <td>L5</td>\n",
       "      <td>Firing</td>\n",
       "      <td>n.a</td>\n",
       "      <td>NaN</td>\n",
       "      <td>1.0</td>\n",
       "      <td>17.5</td>\n",
       "      <td>Iclamp (mV)</td>\n",
       "      <td>Current_in(pA)</td>\n",
       "      <td>-67.5</td>\n",
       "      <td>18116450.abf</td>\n",
       "      <td>C:\\Users\\allen\\Documents\\GitHub\\ABF2_NWB\\Raw d...</td>\n",
       "      <td>2018-01-16 16:07:17.546</td>\n",
       "      <td>1.8.3.0</td>\n",
       "      <td>[c5, RMP -67.5 mv]</td>\n",
       "      <td>18116450</td>\n",
       "    </tr>\n",
       "    <tr>\n",
       "      <th>1</th>\n",
       "      <td>18130014</td>\n",
       "      <td>Mouse</td>\n",
       "      <td>Jan 30_2018</td>\n",
       "      <td>C5</td>\n",
       "      <td>L5</td>\n",
       "      <td>Firing</td>\n",
       "      <td>n.a</td>\n",
       "      <td>NaN</td>\n",
       "      <td>1.0</td>\n",
       "      <td>15.2</td>\n",
       "      <td>Iclamp (mV)</td>\n",
       "      <td>Current_in(pA)</td>\n",
       "      <td>-75.2</td>\n",
       "      <td>18130014.abf</td>\n",
       "      <td>C:\\Users\\allen\\Documents\\GitHub\\ABF2_NWB\\Raw d...</td>\n",
       "      <td>2018-01-30 15:57:40.031</td>\n",
       "      <td>1.8.3.0</td>\n",
       "      <td>[C5,  L5, RMP: -75.2 mv]</td>\n",
       "      <td>18130014</td>\n",
       "    </tr>\n",
       "    <tr>\n",
       "      <th>2</th>\n",
       "      <td>2018_02_08_0000</td>\n",
       "      <td>Mouse</td>\n",
       "      <td>Feb 08_2018</td>\n",
       "      <td>C1</td>\n",
       "      <td>L5</td>\n",
       "      <td>Firing pattern</td>\n",
       "      <td>n.a</td>\n",
       "      <td>NaN</td>\n",
       "      <td>1.0</td>\n",
       "      <td>12.0</td>\n",
       "      <td>Iclamp (mV)</td>\n",
       "      <td>Current_in(pA)</td>\n",
       "      <td>-62.6</td>\n",
       "      <td>2018_02_08_0000.abf</td>\n",
       "      <td>C:\\Users\\allen\\Documents\\GitHub\\ABF2_NWB\\Raw d...</td>\n",
       "      <td>2018-02-08 12:57:10.781</td>\n",
       "      <td>1.8.3.0</td>\n",
       "      <td>[]</td>\n",
       "      <td>2018_02_08_0000</td>\n",
       "    </tr>\n",
       "    <tr>\n",
       "      <th>3</th>\n",
       "      <td>2018_02_08_0001</td>\n",
       "      <td>Mouse</td>\n",
       "      <td>Feb 08_2018</td>\n",
       "      <td>C1</td>\n",
       "      <td>L5</td>\n",
       "      <td>Firing pattern</td>\n",
       "      <td>n.a</td>\n",
       "      <td>NaN</td>\n",
       "      <td>1.0</td>\n",
       "      <td>12.0</td>\n",
       "      <td>Iclamp (mV)</td>\n",
       "      <td>Current_in(pA)</td>\n",
       "      <td>-62.6</td>\n",
       "      <td>2018_02_08_0001.abf</td>\n",
       "      <td>C:\\Users\\allen\\Documents\\GitHub\\ABF2_NWB\\Raw d...</td>\n",
       "      <td>2018-02-08 12:58:48.218</td>\n",
       "      <td>1.8.3.0</td>\n",
       "      <td>[C1; RMP -62.6mv;layer 5,]</td>\n",
       "      <td>2018_02_08_0001</td>\n",
       "    </tr>\n",
       "    <tr>\n",
       "      <th>4</th>\n",
       "      <td>18208013</td>\n",
       "      <td>Mouse</td>\n",
       "      <td>Feb 08_2018</td>\n",
       "      <td>C3</td>\n",
       "      <td>L5</td>\n",
       "      <td>Firing pattern</td>\n",
       "      <td>n.a</td>\n",
       "      <td>NaN</td>\n",
       "      <td>1.0</td>\n",
       "      <td>27.3</td>\n",
       "      <td>Iclamp (mV)</td>\n",
       "      <td>Current_in(pA)</td>\n",
       "      <td>-62.3</td>\n",
       "      <td>18208013.abf</td>\n",
       "      <td>C:\\Users\\allen\\Documents\\GitHub\\ABF2_NWB\\Raw d...</td>\n",
       "      <td>2018-02-08 14:45:14.687</td>\n",
       "      <td>1.8.3.0</td>\n",
       "      <td>[C3 RMP -62.3mv;layer 5,]</td>\n",
       "      <td>18208013</td>\n",
       "    </tr>\n",
       "  </tbody>\n",
       "</table>\n",
       "</div>"
      ],
      "text/plain": [
       "         Cell Name Data Type    Exp. Date Cell # Cell Layer       Stim Type  \\\n",
       "0         18116450     Mouse  Jan 16_2018     C5         L5          Firing   \n",
       "1         18130014     Mouse  Jan 30_2018     C5         L5          Firing   \n",
       "2  2018_02_08_0000     Mouse  Feb 08_2018     C1         L5  Firing pattern   \n",
       "3  2018_02_08_0001     Mouse  Feb 08_2018     C1         L5  Firing pattern   \n",
       "4         18208013     Mouse  Feb 08_2018     C3         L5  Firing pattern   \n",
       "\n",
       "  ZD status  Unnamed: 8  Gain  Offset Response Channel   Command Channel  \\\n",
       "0       n.a         NaN   1.0    17.5     Iclamp (mV)     Current_in(pA)   \n",
       "1       n.a         NaN   1.0    15.2     Iclamp (mV)     Current_in(pA)   \n",
       "2       n.a         NaN   1.0    12.0     Iclamp (mV)     Current_in(pA)   \n",
       "3       n.a         NaN   1.0    12.0     Iclamp (mV)     Current_in(pA)   \n",
       "4       n.a         NaN   1.0    27.3     Iclamp (mV)     Current_in(pA)   \n",
       "\n",
       "    RMP            file_name  \\\n",
       "0 -67.5         18116450.abf   \n",
       "1 -75.2         18130014.abf   \n",
       "2 -62.6  2018_02_08_0000.abf   \n",
       "3 -62.6  2018_02_08_0001.abf   \n",
       "4 -62.3         18208013.abf   \n",
       "\n",
       "                                                path               timestamp  \\\n",
       "0  C:\\Users\\allen\\Documents\\GitHub\\ABF2_NWB\\Raw d... 2018-01-16 16:07:17.546   \n",
       "1  C:\\Users\\allen\\Documents\\GitHub\\ABF2_NWB\\Raw d... 2018-01-30 15:57:40.031   \n",
       "2  C:\\Users\\allen\\Documents\\GitHub\\ABF2_NWB\\Raw d... 2018-02-08 12:57:10.781   \n",
       "3  C:\\Users\\allen\\Documents\\GitHub\\ABF2_NWB\\Raw d... 2018-02-08 12:58:48.218   \n",
       "4  C:\\Users\\allen\\Documents\\GitHub\\ABF2_NWB\\Raw d... 2018-02-08 14:45:14.687   \n",
       "\n",
       "  abf_version                abf_comments          file_id  \n",
       "0     1.8.3.0          [c5, RMP -67.5 mv]         18116450  \n",
       "1     1.8.3.0    [C5,  L5, RMP: -75.2 mv]         18130014  \n",
       "2     1.8.3.0                          []  2018_02_08_0000  \n",
       "3     1.8.3.0  [C1; RMP -62.6mv;layer 5,]  2018_02_08_0001  \n",
       "4     1.8.3.0   [C3 RMP -62.3mv;layer 5,]         18208013  "
      ]
     },
     "execution_count": 18,
     "metadata": {},
     "output_type": "execute_result"
    }
   ],
   "source": [
    "to_convert.head()"
   ]
  },
  {
   "cell_type": "code",
   "execution_count": 19,
   "metadata": {},
   "outputs": [],
   "source": [
    "from x_to_nwb import ABF1Converter_temp"
   ]
  },
  {
   "cell_type": "code",
   "execution_count": 20,
   "metadata": {},
   "outputs": [
    {
     "name": "stdout",
     "output_type": "stream",
     "text": [
      "C:\\Users\\allen\\Documents\\GitHub\\ABF2_NWB\\Raw data-new\\Raw data\\Mouse data\\Mouse data_2018\\Jan 16_2018\\C5_L5\\Firing\\18116450.abf\n",
      "****************************************************************************************************\n",
      "Error: Unsupported clamp mode 2 \n",
      " C:\\Users\\allen\\Documents\\GitHub\\ABF2_NWB\\Raw data-new\\Raw data\\Mouse data\\Mouse data_2018\\Jan 16_2018\\C5_L5\\Firing\\18116450.abf \n",
      "\n",
      "C:\\Users\\allen\\Documents\\GitHub\\ABF2_NWB\\Raw data-new\\Raw data\\Mouse data\\Mouse data_2018\\Jan 30_2018\\C5_L5\\Firing\\18130014.abf\n"
     ]
    },
    {
     "name": "stderr",
     "output_type": "stream",
     "text": [
      "C:\\Users\\allen\\anaconda3\\lib\\site-packages\\pynwb\\file.py:752: UserWarning: Date is missing timezone information. Updating to local timezone.\n",
      "  warn(\"Date is missing timezone information. Updating to local timezone.\")\n",
      "C:\\Users\\allen\\anaconda3\\lib\\site-packages\\pynwb\\icephys.py:309: UserWarning: Unit 'A' for CurrentClampStimulusSeries 'Index_0_0_1' is ignored and will be set to 'amperes' as per NWB 2.1.0.\n",
      "  warnings.warn(\n",
      "C:\\Users\\allen\\anaconda3\\lib\\site-packages\\pynwb\\icephys.py:309: UserWarning: Unit 'A' for CurrentClampStimulusSeries 'Index_0_1_1' is ignored and will be set to 'amperes' as per NWB 2.1.0.\n",
      "  warnings.warn(\n",
      "C:\\Users\\allen\\anaconda3\\lib\\site-packages\\pynwb\\icephys.py:309: UserWarning: Unit 'A' for CurrentClampStimulusSeries 'Index_0_2_1' is ignored and will be set to 'amperes' as per NWB 2.1.0.\n",
      "  warnings.warn(\n",
      "C:\\Users\\allen\\anaconda3\\lib\\site-packages\\pynwb\\icephys.py:309: UserWarning: Unit 'A' for CurrentClampStimulusSeries 'Index_0_3_1' is ignored and will be set to 'amperes' as per NWB 2.1.0.\n",
      "  warnings.warn(\n",
      "C:\\Users\\allen\\anaconda3\\lib\\site-packages\\pynwb\\icephys.py:309: UserWarning: Unit 'A' for CurrentClampStimulusSeries 'Index_0_4_1' is ignored and will be set to 'amperes' as per NWB 2.1.0.\n",
      "  warnings.warn(\n",
      "C:\\Users\\allen\\anaconda3\\lib\\site-packages\\pynwb\\icephys.py:309: UserWarning: Unit 'A' for CurrentClampStimulusSeries 'Index_0_5_1' is ignored and will be set to 'amperes' as per NWB 2.1.0.\n",
      "  warnings.warn(\n",
      "C:\\Users\\allen\\anaconda3\\lib\\site-packages\\pynwb\\icephys.py:309: UserWarning: Unit 'A' for CurrentClampStimulusSeries 'Index_0_6_1' is ignored and will be set to 'amperes' as per NWB 2.1.0.\n",
      "  warnings.warn(\n",
      "C:\\Users\\allen\\anaconda3\\lib\\site-packages\\pynwb\\icephys.py:309: UserWarning: Unit 'A' for CurrentClampStimulusSeries 'Index_0_7_1' is ignored and will be set to 'amperes' as per NWB 2.1.0.\n",
      "  warnings.warn(\n",
      "C:\\Users\\allen\\anaconda3\\lib\\site-packages\\pynwb\\icephys.py:309: UserWarning: Unit 'A' for CurrentClampStimulusSeries 'Index_0_8_1' is ignored and will be set to 'amperes' as per NWB 2.1.0.\n",
      "  warnings.warn(\n",
      "C:\\Users\\allen\\anaconda3\\lib\\site-packages\\pynwb\\icephys.py:309: UserWarning: Unit 'A' for CurrentClampStimulusSeries 'Index_0_9_1' is ignored and will be set to 'amperes' as per NWB 2.1.0.\n",
      "  warnings.warn(\n",
      "C:\\Users\\allen\\anaconda3\\lib\\site-packages\\pynwb\\icephys.py:309: UserWarning: Unit 'A' for CurrentClampStimulusSeries 'Index_0_10_1' is ignored and will be set to 'amperes' as per NWB 2.1.0.\n",
      "  warnings.warn(\n",
      "C:\\Users\\allen\\anaconda3\\lib\\site-packages\\pynwb\\icephys.py:309: UserWarning: Unit 'V' for CurrentClampSeries 'Index_0_0_0' is ignored and will be set to 'volts' as per NWB 2.1.0.\n",
      "  warnings.warn(\n",
      "C:\\Users\\allen\\anaconda3\\lib\\site-packages\\pynwb\\icephys.py:309: UserWarning: Unit 'V' for CurrentClampSeries 'Index_0_1_0' is ignored and will be set to 'volts' as per NWB 2.1.0.\n",
      "  warnings.warn(\n",
      "C:\\Users\\allen\\anaconda3\\lib\\site-packages\\pynwb\\icephys.py:309: UserWarning: Unit 'V' for CurrentClampSeries 'Index_0_2_0' is ignored and will be set to 'volts' as per NWB 2.1.0.\n",
      "  warnings.warn(\n",
      "C:\\Users\\allen\\anaconda3\\lib\\site-packages\\pynwb\\icephys.py:309: UserWarning: Unit 'V' for CurrentClampSeries 'Index_0_3_0' is ignored and will be set to 'volts' as per NWB 2.1.0.\n",
      "  warnings.warn(\n",
      "C:\\Users\\allen\\anaconda3\\lib\\site-packages\\pynwb\\icephys.py:309: UserWarning: Unit 'V' for CurrentClampSeries 'Index_0_4_0' is ignored and will be set to 'volts' as per NWB 2.1.0.\n",
      "  warnings.warn(\n",
      "C:\\Users\\allen\\anaconda3\\lib\\site-packages\\pynwb\\icephys.py:309: UserWarning: Unit 'V' for CurrentClampSeries 'Index_0_5_0' is ignored and will be set to 'volts' as per NWB 2.1.0.\n",
      "  warnings.warn(\n",
      "C:\\Users\\allen\\anaconda3\\lib\\site-packages\\pynwb\\icephys.py:309: UserWarning: Unit 'V' for CurrentClampSeries 'Index_0_6_0' is ignored and will be set to 'volts' as per NWB 2.1.0.\n",
      "  warnings.warn(\n",
      "C:\\Users\\allen\\anaconda3\\lib\\site-packages\\pynwb\\icephys.py:309: UserWarning: Unit 'V' for CurrentClampSeries 'Index_0_7_0' is ignored and will be set to 'volts' as per NWB 2.1.0.\n",
      "  warnings.warn(\n",
      "C:\\Users\\allen\\anaconda3\\lib\\site-packages\\pynwb\\icephys.py:309: UserWarning: Unit 'V' for CurrentClampSeries 'Index_0_8_0' is ignored and will be set to 'volts' as per NWB 2.1.0.\n",
      "  warnings.warn(\n",
      "C:\\Users\\allen\\anaconda3\\lib\\site-packages\\pynwb\\icephys.py:309: UserWarning: Unit 'V' for CurrentClampSeries 'Index_0_9_0' is ignored and will be set to 'volts' as per NWB 2.1.0.\n",
      "  warnings.warn(\n",
      "C:\\Users\\allen\\anaconda3\\lib\\site-packages\\pynwb\\icephys.py:309: UserWarning: Unit 'V' for CurrentClampSeries 'Index_0_10_0' is ignored and will be set to 'volts' as per NWB 2.1.0.\n",
      "  warnings.warn(\n",
      "C:\\Users\\allen\\anaconda3\\lib\\site-packages\\hdmf\\build\\objectmapper.py:233: DtypeConversionWarning: Spec 'CurrentClampSeries/sweep_number': Value with data type int32 is being converted to data type uint32 as specified.\n",
      "  warnings.warn(full_warning_msg, DtypeConversionWarning)\n",
      "C:\\Users\\allen\\anaconda3\\lib\\site-packages\\hdmf\\build\\objectmapper.py:233: DtypeConversionWarning: Spec 'CurrentClampStimulusSeries/sweep_number': Value with data type int32 is being converted to data type uint32 as specified.\n",
      "  warnings.warn(full_warning_msg, DtypeConversionWarning)\n",
      "C:\\Users\\allen\\anaconda3\\lib\\site-packages\\hdmf\\build\\objectmapper.py:233: DtypeConversionWarning: Spec 'SweepTable/sweep_number': Value with data type int32 is being converted to data type uint32 as specified.\n",
      "  warnings.warn(full_warning_msg, DtypeConversionWarning)\n"
     ]
    },
    {
     "name": "stdout",
     "output_type": "stream",
     "text": [
      "Successfully converted to data\\processed\\recordings\\mouse2018\\18130014.nwb.\n",
      "NWB Conversion complete for 18130014.nwb\n",
      "\n",
      "C:\\Users\\allen\\Documents\\GitHub\\ABF2_NWB\\Raw data-new\\Raw data\\Mouse data\\Mouse data_2018\\Feb 08_2018\\C1_L5\\Firing pattern\\2018_02_08_0000.abf\n",
      "Successfully converted to data\\processed\\recordings\\mouse2018\\2018_02_08_0000.nwb.\n",
      "NWB Conversion complete for 2018_02_08_0000.nwb\n",
      "\n",
      "C:\\Users\\allen\\Documents\\GitHub\\ABF2_NWB\\Raw data-new\\Raw data\\Mouse data\\Mouse data_2018\\Feb 08_2018\\C1_L5\\Firing pattern\\2018_02_08_0001.abf\n"
     ]
    },
    {
     "name": "stderr",
     "output_type": "stream",
     "text": [
      "C:\\Users\\allen\\anaconda3\\lib\\site-packages\\pynwb\\icephys.py:309: UserWarning: Unit 'A' for CurrentClampStimulusSeries 'Index_0_11_1' is ignored and will be set to 'amperes' as per NWB 2.1.0.\n",
      "  warnings.warn(\n",
      "C:\\Users\\allen\\anaconda3\\lib\\site-packages\\pynwb\\icephys.py:309: UserWarning: Unit 'A' for CurrentClampStimulusSeries 'Index_0_12_1' is ignored and will be set to 'amperes' as per NWB 2.1.0.\n",
      "  warnings.warn(\n",
      "C:\\Users\\allen\\anaconda3\\lib\\site-packages\\pynwb\\icephys.py:309: UserWarning: Unit 'A' for CurrentClampStimulusSeries 'Index_0_13_1' is ignored and will be set to 'amperes' as per NWB 2.1.0.\n",
      "  warnings.warn(\n",
      "C:\\Users\\allen\\anaconda3\\lib\\site-packages\\pynwb\\icephys.py:309: UserWarning: Unit 'V' for CurrentClampSeries 'Index_0_11_0' is ignored and will be set to 'volts' as per NWB 2.1.0.\n",
      "  warnings.warn(\n",
      "C:\\Users\\allen\\anaconda3\\lib\\site-packages\\pynwb\\icephys.py:309: UserWarning: Unit 'V' for CurrentClampSeries 'Index_0_12_0' is ignored and will be set to 'volts' as per NWB 2.1.0.\n",
      "  warnings.warn(\n",
      "C:\\Users\\allen\\anaconda3\\lib\\site-packages\\pynwb\\icephys.py:309: UserWarning: Unit 'V' for CurrentClampSeries 'Index_0_13_0' is ignored and will be set to 'volts' as per NWB 2.1.0.\n",
      "  warnings.warn(\n"
     ]
    },
    {
     "name": "stdout",
     "output_type": "stream",
     "text": [
      "Successfully converted to data\\processed\\recordings\\mouse2018\\2018_02_08_0001.nwb.\n",
      "NWB Conversion complete for 2018_02_08_0001.nwb\n",
      "\n",
      "C:\\Users\\allen\\Documents\\GitHub\\ABF2_NWB\\Raw data-new\\Raw data\\Mouse data\\Mouse data_2018\\Feb 08_2018\\C3_L5\\Firing pattern\\18208013.abf\n",
      "Successfully converted to data\\processed\\recordings\\mouse2018\\18208013.nwb.\n",
      "NWB Conversion complete for 18208013.nwb\n",
      "\n",
      "C:\\Users\\allen\\Documents\\GitHub\\ABF2_NWB\\Raw data-new\\Raw data\\Mouse data\\Mouse data_2018\\Feb 08_2018\\C3_L5\\Firing pattern\\18208014.abf\n",
      "Successfully converted to data\\processed\\recordings\\mouse2018\\18208014.nwb.\n",
      "NWB Conversion complete for 18208014.nwb\n",
      "\n",
      "C:\\Users\\allen\\Documents\\GitHub\\ABF2_NWB\\Raw data-new\\Raw data\\Mouse data\\Mouse data_2018\\Feb 08_2018\\C6_L5\\Firing pattern\\18208023.abf\n",
      "Successfully converted to data\\processed\\recordings\\mouse2018\\18208023.nwb.\n",
      "NWB Conversion complete for 18208023.nwb\n",
      "\n",
      "C:\\Users\\allen\\Documents\\GitHub\\ABF2_NWB\\Raw data-new\\Raw data\\Mouse data\\Mouse data_2018\\Feb 08_2018\\C6_L5\\Firing pattern\\18208024.abf\n",
      "Successfully converted to data\\processed\\recordings\\mouse2018\\18208024.nwb.\n",
      "NWB Conversion complete for 18208024.nwb\n",
      "\n",
      "C:\\Users\\allen\\Documents\\GitHub\\ABF2_NWB\\Raw data-new\\Raw data\\Mouse data\\Mouse data_2018\\Jan 18_2018\\C4_L5\\Firing pattern\\18118023.abf\n",
      "****************************************************************************************************\n",
      "Error: Unsupported clamp mode 2 \n",
      " C:\\Users\\allen\\Documents\\GitHub\\ABF2_NWB\\Raw data-new\\Raw data\\Mouse data\\Mouse data_2018\\Jan 18_2018\\C4_L5\\Firing pattern\\18118023.abf \n",
      "\n",
      "C:\\Users\\allen\\Documents\\GitHub\\ABF2_NWB\\Raw data-new\\Raw data\\Mouse data\\Mouse data_2018\\Jan 18_2018\\C4_L5\\Firing pattern\\18118024.abf\n"
     ]
    },
    {
     "name": "stderr",
     "output_type": "stream",
     "text": [
      "C:\\Users\\allen\\anaconda3\\lib\\site-packages\\pynwb\\icephys.py:309: UserWarning: Unit 'A' for CurrentClampStimulusSeries 'Index_0_14_1' is ignored and will be set to 'amperes' as per NWB 2.1.0.\n",
      "  warnings.warn(\n",
      "C:\\Users\\allen\\anaconda3\\lib\\site-packages\\pynwb\\icephys.py:309: UserWarning: Unit 'A' for CurrentClampStimulusSeries 'Index_0_15_1' is ignored and will be set to 'amperes' as per NWB 2.1.0.\n",
      "  warnings.warn(\n",
      "C:\\Users\\allen\\anaconda3\\lib\\site-packages\\pynwb\\icephys.py:309: UserWarning: Unit 'V' for CurrentClampSeries 'Index_0_14_0' is ignored and will be set to 'volts' as per NWB 2.1.0.\n",
      "  warnings.warn(\n",
      "C:\\Users\\allen\\anaconda3\\lib\\site-packages\\pynwb\\icephys.py:309: UserWarning: Unit 'V' for CurrentClampSeries 'Index_0_15_0' is ignored and will be set to 'volts' as per NWB 2.1.0.\n",
      "  warnings.warn(\n"
     ]
    },
    {
     "name": "stdout",
     "output_type": "stream",
     "text": [
      "Successfully converted to data\\processed\\recordings\\mouse2018\\18118024.nwb.\n",
      "NWB Conversion complete for 18118024.nwb\n",
      "\n",
      "C:\\Users\\allen\\Documents\\GitHub\\ABF2_NWB\\Raw data-new\\Raw data\\Mouse data\\Mouse data_2018\\Jan 19_2018\\C2_L5\\Firing pattern\\18119012.abf\n",
      "****************************************************************************************************\n",
      "Error: Unsupported clamp mode 2 \n",
      " C:\\Users\\allen\\Documents\\GitHub\\ABF2_NWB\\Raw data-new\\Raw data\\Mouse data\\Mouse data_2018\\Jan 19_2018\\C2_L5\\Firing pattern\\18119012.abf \n",
      "\n",
      "C:\\Users\\allen\\Documents\\GitHub\\ABF2_NWB\\Raw data-new\\Raw data\\Mouse data\\Mouse data_2018\\Jan 19_2018\\C3_L5\\Firing pattern\\18119024.abf\n",
      "****************************************************************************************************\n",
      "Error: Unsupported clamp mode 2 \n",
      " C:\\Users\\allen\\Documents\\GitHub\\ABF2_NWB\\Raw data-new\\Raw data\\Mouse data\\Mouse data_2018\\Jan 19_2018\\C3_L5\\Firing pattern\\18119024.abf \n",
      "\n",
      "C:\\Users\\allen\\Documents\\GitHub\\ABF2_NWB\\Raw data-new\\Raw data\\Mouse data\\Mouse data_2018\\Feb 08_2018\\C8_L5\\Firring pattern\\18208031.abf\n",
      "Successfully converted to data\\processed\\recordings\\mouse2018\\18208031.nwb.\n",
      "NWB Conversion complete for 18208031.nwb\n",
      "\n",
      "Wall time: 11.1 s\n"
     ]
    }
   ],
   "source": [
    "%%time\n",
    "errors = []\n",
    "successes = []\n",
    "\n",
    "for i, file_info in to_convert.iterrows():\n",
    "    abf = pyabf.ABF(file_info.path)\n",
    "    try:\n",
    "        file_stem = file_info.file_id\n",
    "        stim_chan = abf.adcNames[1] #Current_in\n",
    "        resp_chan = abf.adcNames[0] #Iclamp\n",
    "        \n",
    "        meta = {\n",
    "            'Subject': {\n",
    "                'age': None,\n",
    "                'description': f'{file_info.abf_comments}',\n",
    "                'species': 'Mouse',\n",
    "                'subject_id': f'Mouse_{file_info.file_id}'\n",
    "            }\n",
    "        }\n",
    "\n",
    "        \n",
    "        output_path = output_dir / f'{file_stem}.nwb'\n",
    "        nwb = ABF1Converter_temp.ABF1Converter(file_info.path, str(output_path), gain = file_info.Gain, acquisitionChannelName=resp_chan, stimulusChannelName=stim_chan)\n",
    "        print(\"NWB Conversion complete for \" + file_stem +'.nwb\\n')\n",
    "        successes.append((file_info.file_id, file_info.path))\n",
    "        \n",
    "\n",
    "\n",
    "        \n",
    "    except (ValueError, IndexError, TypeError, KeyError) as e:\n",
    "        print('**'*50)\n",
    "        print(f'Error: {e} \\n {file_info.path} \\n')\n",
    "        errors.append((e, file_info.file_id, file_info.path))"
   ]
  },
  {
   "cell_type": "code",
   "execution_count": 21,
   "metadata": {},
   "outputs": [],
   "source": [
    "error_df = pd.DataFrame(errors, columns = ['error', 'file_id', 'path'])"
   ]
  },
  {
   "cell_type": "code",
   "execution_count": 22,
   "metadata": {},
   "outputs": [
    {
     "data": {
      "text/html": [
       "<div>\n",
       "<style scoped>\n",
       "    .dataframe tbody tr th:only-of-type {\n",
       "        vertical-align: middle;\n",
       "    }\n",
       "\n",
       "    .dataframe tbody tr th {\n",
       "        vertical-align: top;\n",
       "    }\n",
       "\n",
       "    .dataframe thead th {\n",
       "        text-align: right;\n",
       "    }\n",
       "</style>\n",
       "<table border=\"1\" class=\"dataframe\">\n",
       "  <thead>\n",
       "    <tr style=\"text-align: right;\">\n",
       "      <th></th>\n",
       "      <th>error</th>\n",
       "      <th>file_id</th>\n",
       "      <th>path</th>\n",
       "    </tr>\n",
       "  </thead>\n",
       "  <tbody>\n",
       "    <tr>\n",
       "      <th>0</th>\n",
       "      <td>Unsupported clamp mode 2</td>\n",
       "      <td>18116450</td>\n",
       "      <td>C:\\Users\\allen\\Documents\\GitHub\\ABF2_NWB\\Raw d...</td>\n",
       "    </tr>\n",
       "    <tr>\n",
       "      <th>1</th>\n",
       "      <td>Unsupported clamp mode 2</td>\n",
       "      <td>18118023</td>\n",
       "      <td>C:\\Users\\allen\\Documents\\GitHub\\ABF2_NWB\\Raw d...</td>\n",
       "    </tr>\n",
       "    <tr>\n",
       "      <th>2</th>\n",
       "      <td>Unsupported clamp mode 2</td>\n",
       "      <td>18119012</td>\n",
       "      <td>C:\\Users\\allen\\Documents\\GitHub\\ABF2_NWB\\Raw d...</td>\n",
       "    </tr>\n",
       "    <tr>\n",
       "      <th>3</th>\n",
       "      <td>Unsupported clamp mode 2</td>\n",
       "      <td>18119024</td>\n",
       "      <td>C:\\Users\\allen\\Documents\\GitHub\\ABF2_NWB\\Raw d...</td>\n",
       "    </tr>\n",
       "  </tbody>\n",
       "</table>\n",
       "</div>"
      ],
      "text/plain": [
       "                      error   file_id  \\\n",
       "0  Unsupported clamp mode 2  18116450   \n",
       "1  Unsupported clamp mode 2  18118023   \n",
       "2  Unsupported clamp mode 2  18119012   \n",
       "3  Unsupported clamp mode 2  18119024   \n",
       "\n",
       "                                                path  \n",
       "0  C:\\Users\\allen\\Documents\\GitHub\\ABF2_NWB\\Raw d...  \n",
       "1  C:\\Users\\allen\\Documents\\GitHub\\ABF2_NWB\\Raw d...  \n",
       "2  C:\\Users\\allen\\Documents\\GitHub\\ABF2_NWB\\Raw d...  \n",
       "3  C:\\Users\\allen\\Documents\\GitHub\\ABF2_NWB\\Raw d...  "
      ]
     },
     "execution_count": 22,
     "metadata": {},
     "output_type": "execute_result"
    }
   ],
   "source": [
    "error_df"
   ]
  },
  {
   "cell_type": "code",
   "execution_count": 23,
   "metadata": {},
   "outputs": [],
   "source": [
    "successes_df = pd.DataFrame(successes, columns = ['file_id', 'path'])"
   ]
  },
  {
   "cell_type": "code",
   "execution_count": 24,
   "metadata": {},
   "outputs": [
    {
     "data": {
      "text/html": [
       "<div>\n",
       "<style scoped>\n",
       "    .dataframe tbody tr th:only-of-type {\n",
       "        vertical-align: middle;\n",
       "    }\n",
       "\n",
       "    .dataframe tbody tr th {\n",
       "        vertical-align: top;\n",
       "    }\n",
       "\n",
       "    .dataframe thead th {\n",
       "        text-align: right;\n",
       "    }\n",
       "</style>\n",
       "<table border=\"1\" class=\"dataframe\">\n",
       "  <thead>\n",
       "    <tr style=\"text-align: right;\">\n",
       "      <th></th>\n",
       "      <th>file_id</th>\n",
       "      <th>path</th>\n",
       "    </tr>\n",
       "  </thead>\n",
       "  <tbody>\n",
       "    <tr>\n",
       "      <th>0</th>\n",
       "      <td>18130014</td>\n",
       "      <td>C:\\Users\\allen\\Documents\\GitHub\\ABF2_NWB\\Raw d...</td>\n",
       "    </tr>\n",
       "    <tr>\n",
       "      <th>1</th>\n",
       "      <td>2018_02_08_0000</td>\n",
       "      <td>C:\\Users\\allen\\Documents\\GitHub\\ABF2_NWB\\Raw d...</td>\n",
       "    </tr>\n",
       "    <tr>\n",
       "      <th>2</th>\n",
       "      <td>2018_02_08_0001</td>\n",
       "      <td>C:\\Users\\allen\\Documents\\GitHub\\ABF2_NWB\\Raw d...</td>\n",
       "    </tr>\n",
       "    <tr>\n",
       "      <th>3</th>\n",
       "      <td>18208013</td>\n",
       "      <td>C:\\Users\\allen\\Documents\\GitHub\\ABF2_NWB\\Raw d...</td>\n",
       "    </tr>\n",
       "    <tr>\n",
       "      <th>4</th>\n",
       "      <td>18208014</td>\n",
       "      <td>C:\\Users\\allen\\Documents\\GitHub\\ABF2_NWB\\Raw d...</td>\n",
       "    </tr>\n",
       "    <tr>\n",
       "      <th>5</th>\n",
       "      <td>18208023</td>\n",
       "      <td>C:\\Users\\allen\\Documents\\GitHub\\ABF2_NWB\\Raw d...</td>\n",
       "    </tr>\n",
       "    <tr>\n",
       "      <th>6</th>\n",
       "      <td>18208024</td>\n",
       "      <td>C:\\Users\\allen\\Documents\\GitHub\\ABF2_NWB\\Raw d...</td>\n",
       "    </tr>\n",
       "    <tr>\n",
       "      <th>7</th>\n",
       "      <td>18118024</td>\n",
       "      <td>C:\\Users\\allen\\Documents\\GitHub\\ABF2_NWB\\Raw d...</td>\n",
       "    </tr>\n",
       "    <tr>\n",
       "      <th>8</th>\n",
       "      <td>18208031</td>\n",
       "      <td>C:\\Users\\allen\\Documents\\GitHub\\ABF2_NWB\\Raw d...</td>\n",
       "    </tr>\n",
       "  </tbody>\n",
       "</table>\n",
       "</div>"
      ],
      "text/plain": [
       "           file_id                                               path\n",
       "0         18130014  C:\\Users\\allen\\Documents\\GitHub\\ABF2_NWB\\Raw d...\n",
       "1  2018_02_08_0000  C:\\Users\\allen\\Documents\\GitHub\\ABF2_NWB\\Raw d...\n",
       "2  2018_02_08_0001  C:\\Users\\allen\\Documents\\GitHub\\ABF2_NWB\\Raw d...\n",
       "3         18208013  C:\\Users\\allen\\Documents\\GitHub\\ABF2_NWB\\Raw d...\n",
       "4         18208014  C:\\Users\\allen\\Documents\\GitHub\\ABF2_NWB\\Raw d...\n",
       "5         18208023  C:\\Users\\allen\\Documents\\GitHub\\ABF2_NWB\\Raw d...\n",
       "6         18208024  C:\\Users\\allen\\Documents\\GitHub\\ABF2_NWB\\Raw d...\n",
       "7         18118024  C:\\Users\\allen\\Documents\\GitHub\\ABF2_NWB\\Raw d...\n",
       "8         18208031  C:\\Users\\allen\\Documents\\GitHub\\ABF2_NWB\\Raw d..."
      ]
     },
     "execution_count": 24,
     "metadata": {},
     "output_type": "execute_result"
    }
   ],
   "source": [
    "successes_df"
   ]
  },
  {
   "cell_type": "markdown",
   "metadata": {},
   "source": [
    "## Plotting converted files"
   ]
  },
  {
   "cell_type": "code",
   "execution_count": 25,
   "metadata": {},
   "outputs": [],
   "source": [
    "from ipfx.dataset.create import create_ephys_data_set\n",
    "import matplotlib.pyplot as plt"
   ]
  },
  {
   "cell_type": "code",
   "execution_count": 26,
   "metadata": {},
   "outputs": [],
   "source": [
    "def load_nwb_ipfx(file_name, ontology):\n",
    "    print('loading dataset into data structure...')\n",
    "    print(file_name)\n",
    "    data_set = create_ephys_data_set(nwb_file=file_name, ontology=ontology) ##loads nwb file into ipfx data structure\n",
    "    return(data_set)"
   ]
  },
  {
   "cell_type": "code",
   "execution_count": 27,
   "metadata": {},
   "outputs": [],
   "source": [
    "def plot_nwb_sweep(file_name, ontology, sweep_plot_index, sweep_num):\n",
    "    \n",
    "    data_set = load_nwb_ipfx(file_name, ontology)\n",
    "    \n",
    "    curr_sweep = data_set.sweep_set(sweep_plot_index).sweeps[sweep_num]\n",
    "    t = curr_sweep.t\n",
    "    v = curr_sweep.v\n",
    "    i = curr_sweep.i\n",
    "\n",
    "    fig, axes = plt.subplots(2, 1, sharex=True)\n",
    "\n",
    "    axes[0].plot(t, v)\n",
    "    axes[0].set_xlim(0, 2)\n",
    "    axes[0].set_ylabel(\"Membrane voltage (mV)\")\n",
    "\n",
    "    axes[1].plot(t, i, c=\"orange\")\n",
    "    axes[1].set_ylabel(\"Injected current (pA)\")\n",
    "\n",
    "    \n",
    "    return(fig)"
   ]
  },
  {
   "cell_type": "code",
   "execution_count": 28,
   "metadata": {},
   "outputs": [
    {
     "name": "stdout",
     "output_type": "stream",
     "text": [
      "loading dataset into data structure...\n",
      "data/processed/recordings/mouse2018/18130014.nwb\n"
     ]
    },
    {
     "name": "stderr",
     "output_type": "stream",
     "text": [
      "C:\\Users\\allen\\anaconda3\\lib\\site-packages\\ipfx\\stimulus.py:88: UserWarning: Could not find stimulus: NA\n",
      "  warnings.warn(\"Could not find stimulus: %s\" % tag)\n",
      "C:\\Users\\allen\\anaconda3\\lib\\site-packages\\ipfx\\stimulus.py:88: UserWarning: Could not find stimulus: NA\n",
      "  warnings.warn(\"Could not find stimulus: %s\" % tag)\n"
     ]
    },
    {
     "name": "stdout",
     "output_type": "stream",
     "text": [
      "loading dataset into data structure...\n",
      "data/processed/recordings/mouse2018/2018_02_08_0000.nwb\n",
      "loading dataset into data structure...\n",
      "data/processed/recordings/mouse2018/2018_02_08_0001.nwb\n"
     ]
    },
    {
     "name": "stderr",
     "output_type": "stream",
     "text": [
      "C:\\Users\\allen\\anaconda3\\lib\\site-packages\\ipfx\\stimulus.py:88: UserWarning: Could not find stimulus: NA\n",
      "  warnings.warn(\"Could not find stimulus: %s\" % tag)\n",
      "C:\\Users\\allen\\anaconda3\\lib\\site-packages\\ipfx\\stimulus.py:88: UserWarning: Could not find stimulus: NA\n",
      "  warnings.warn(\"Could not find stimulus: %s\" % tag)\n"
     ]
    },
    {
     "name": "stdout",
     "output_type": "stream",
     "text": [
      "loading dataset into data structure...\n",
      "data/processed/recordings/mouse2018/18208013.nwb\n",
      "loading dataset into data structure...\n",
      "data/processed/recordings/mouse2018/18208014.nwb\n"
     ]
    },
    {
     "name": "stderr",
     "output_type": "stream",
     "text": [
      "C:\\Users\\allen\\anaconda3\\lib\\site-packages\\ipfx\\stimulus.py:88: UserWarning: Could not find stimulus: NA\n",
      "  warnings.warn(\"Could not find stimulus: %s\" % tag)\n",
      "C:\\Users\\allen\\anaconda3\\lib\\site-packages\\ipfx\\stimulus.py:88: UserWarning: Could not find stimulus: NA\n",
      "  warnings.warn(\"Could not find stimulus: %s\" % tag)\n"
     ]
    },
    {
     "name": "stdout",
     "output_type": "stream",
     "text": [
      "loading dataset into data structure...\n",
      "data/processed/recordings/mouse2018/18208023.nwb\n",
      "loading dataset into data structure...\n",
      "data/processed/recordings/mouse2018/18208024.nwb\n"
     ]
    },
    {
     "name": "stderr",
     "output_type": "stream",
     "text": [
      "C:\\Users\\allen\\anaconda3\\lib\\site-packages\\ipfx\\stimulus.py:88: UserWarning: Could not find stimulus: NA\n",
      "  warnings.warn(\"Could not find stimulus: %s\" % tag)\n"
     ]
    },
    {
     "name": "stdout",
     "output_type": "stream",
     "text": [
      "loading dataset into data structure...\n",
      "data/processed/recordings/mouse2018/18118024.nwb\n"
     ]
    },
    {
     "name": "stderr",
     "output_type": "stream",
     "text": [
      "C:\\Users\\allen\\anaconda3\\lib\\site-packages\\ipfx\\stimulus.py:88: UserWarning: Could not find stimulus: NA\n",
      "  warnings.warn(\"Could not find stimulus: %s\" % tag)\n",
      "C:\\Users\\allen\\anaconda3\\lib\\site-packages\\ipfx\\stimulus.py:88: UserWarning: Could not find stimulus: NA\n",
      "  warnings.warn(\"Could not find stimulus: %s\" % tag)\n"
     ]
    },
    {
     "name": "stdout",
     "output_type": "stream",
     "text": [
      "loading dataset into data structure...\n",
      "data/processed/recordings/mouse2018/18208031.nwb\n"
     ]
    },
    {
     "data": {
      "image/png": "[encoded data removed]",
      "text/plain": [
       "<Figure size 432x288 with 2 Axes>"
      ]
     },
     "metadata": {
      "needs_background": "light"
     },
     "output_type": "display_data"
    },
    {
     "data": {
      "image/png": "[encoded data removed]",
      "text/plain": [
       "<Figure size 432x288 with 2 Axes>"
      ]
     },
     "metadata": {
      "needs_background": "light"
     },
     "output_type": "display_data"
    },
    {
     "data": {
      "image/png": "[encoded data removed]",
      "text/plain": [
       "<Figure size 432x288 with 2 Axes>"
      ]
     },
     "metadata": {
      "needs_background": "light"
     },
     "output_type": "display_data"
    },
    {
     "data": {
      "image/png": "[encoded data removed]",
      "text/plain": [
       "<Figure size 432x288 with 2 Axes>"
      ]
     },
     "metadata": {
      "needs_background": "light"
     },
     "output_type": "display_data"
    },
    {
     "data": {
      "image/png": "[encoded data removed]",
      "text/plain": [
       "<Figure size 432x288 with 2 Axes>"
      ]
     },
     "metadata": {
      "needs_background": "light"
     },
     "output_type": "display_data"
    },
    {
     "data": {
      "image/png": "[encoded data removed]",
      "text/plain": [
       "<Figure size 432x288 with 2 Axes>"
      ]
     },
     "metadata": {
      "needs_background": "light"
     },
     "output_type": "display_data"
    },
    {
     "data": {
      "image/png": "[encoded data removed]",
      "text/plain": [
       "<Figure size 432x288 with 2 Axes>"
      ]
     },
     "metadata": {
      "needs_background": "light"
     },
     "output_type": "display_data"
    },
    {
     "data": {
      "image/png": "[encoded data removed]",
      "text/plain": [
       "<Figure size 432x288 with 2 Axes>"
      ]
     },
     "metadata": {
      "needs_background": "light"
     },
     "output_type": "display_data"
    },
    {
     "data": {
      "image/png": "[encoded data removed]",
      "text/plain": [
       "<Figure size 432x288 with 2 Axes>"
      ]
     },
     "metadata": {
      "needs_background": "light"
     },
     "output_type": "display_data"
    }
   ],
   "source": [
    "# plot all files with errors\n",
    "for i, row in successes_df.iterrows():\n",
    "    nwb_file = 'data/processed/recordings/mouse2018/' + row.file_id + \".nwb\"\n",
    "    plot_nwb_sweep(nwb_file, './data/stim_ontology_new_Homeira.json', 1, 0)\n",
    "    \n",
    "    \n",
    "    \n",
    "    "
   ]
  },
  {
   "cell_type": "code",
   "execution_count": null,
   "metadata": {},
   "outputs": [],
   "source": []
  }
 ],
 "metadata": {
  "kernelspec": {
   "display_name": "Python 3",
   "language": "python",
   "name": "python3"
  },
  "language_info": {
   "codemirror_mode": {
    "name": "ipython",
    "version": 3
   },
   "file_extension": ".py",
   "mimetype": "text/x-python",
   "name": "python",
   "nbconvert_exporter": "python",
   "pygments_lexer": "ipython3",
   "version": "3.8.3"
  }
 },
 "nbformat": 4,
 "nbformat_minor": 4
}
