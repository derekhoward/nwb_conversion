{
 "cells": [
  {
   "cell_type": "code",
   "execution_count": 1,
   "id": "e29328e0",
   "metadata": {},
   "outputs": [],
   "source": [
    "import os\n",
    "import time\n",
    "import datetime\n",
    "from pathlib import Path\n",
    "import pandas as pd\n",
    "import pyabf"
   ]
  },
  {
   "cell_type": "markdown",
   "id": "b973dc4f",
   "metadata": {},
   "source": [
    "# Steps to convert 1st set of ABF files\n",
    "- read in metadata\n",
    "- identify files to be converted (from human2019, using protocols testing intrinsic properties, ABFv2)\n",
    "- merge in extracted metadata\n",
    "- convert using modified ABF2Converter\n",
    "- validate NWB outputs using dandi-cli\n",
    "- explore errors"
   ]
  },
  {
   "cell_type": "markdown",
   "id": "1a69219d",
   "metadata": {},
   "source": [
    "## Read in metadata provided by Homeira\n",
    "- Focus on files testing intrinsic properties\n",
    "- we find 73 ABF files that suit these criteria\n",
    "- later we will read in files and determine whether they are ABFv1 or ABFv2"
   ]
  },
  {
   "cell_type": "code",
   "execution_count": 2,
   "id": "5fe5ad26",
   "metadata": {},
   "outputs": [],
   "source": [
    "human_meta = pd.read_csv('./data/raw/Metadata/Human19_Metadatav2.csv')\n",
    "human_meta.drop('Unnamed: 0', axis=1, inplace=True)"
   ]
  },
  {
   "cell_type": "code",
   "execution_count": 3,
   "id": "91c7ff6f",
   "metadata": {},
   "outputs": [
    {
     "data": {
      "text/html": [
       "<div>\n",
       "<style scoped>\n",
       "    .dataframe tbody tr th:only-of-type {\n",
       "        vertical-align: middle;\n",
       "    }\n",
       "\n",
       "    .dataframe tbody tr th {\n",
       "        vertical-align: top;\n",
       "    }\n",
       "\n",
       "    .dataframe thead th {\n",
       "        text-align: right;\n",
       "    }\n",
       "</style>\n",
       "<table border=\"1\" class=\"dataframe\">\n",
       "  <thead>\n",
       "    <tr style=\"text-align: right;\">\n",
       "      <th></th>\n",
       "      <th>ABF File</th>\n",
       "      <th>Data Type</th>\n",
       "      <th>Exp. Date</th>\n",
       "      <th>Cell #</th>\n",
       "      <th>Cell Layer</th>\n",
       "      <th>Stim Type</th>\n",
       "      <th>Threshold</th>\n",
       "      <th>DC</th>\n",
       "      <th>ZD</th>\n",
       "      <th>Hold</th>\n",
       "      <th>Unnamed: 11</th>\n",
       "      <th>Gain</th>\n",
       "      <th>Offset</th>\n",
       "      <th>Response Channel</th>\n",
       "      <th>Command Channel</th>\n",
       "      <th>RMP</th>\n",
       "    </tr>\n",
       "  </thead>\n",
       "  <tbody>\n",
       "    <tr>\n",
       "      <th>0</th>\n",
       "      <td>2019_11_26_0010</td>\n",
       "      <td>Human</td>\n",
       "      <td>Nov_26_2019</td>\n",
       "      <td>C1</td>\n",
       "      <td>L5</td>\n",
       "      <td>Gap Free</td>\n",
       "      <td>n.a</td>\n",
       "      <td>n.a</td>\n",
       "      <td>ZD</td>\n",
       "      <td>n.a</td>\n",
       "      <td>NaN</td>\n",
       "      <td>1</td>\n",
       "      <td>0</td>\n",
       "      <td>Vm_Sec(mV)</td>\n",
       "      <td>NaN</td>\n",
       "      <td>-71.5</td>\n",
       "    </tr>\n",
       "    <tr>\n",
       "      <th>1</th>\n",
       "      <td>2019_11_26_0011</td>\n",
       "      <td>Human</td>\n",
       "      <td>Nov_26_2019</td>\n",
       "      <td>C1</td>\n",
       "      <td>L5</td>\n",
       "      <td>Gap Free</td>\n",
       "      <td>n.a</td>\n",
       "      <td>n.a</td>\n",
       "      <td>ZD</td>\n",
       "      <td>n.a</td>\n",
       "      <td>NaN</td>\n",
       "      <td>1</td>\n",
       "      <td>0</td>\n",
       "      <td>Vm_Sec(mV)</td>\n",
       "      <td>NaN</td>\n",
       "      <td>-71.5</td>\n",
       "    </tr>\n",
       "    <tr>\n",
       "      <th>2</th>\n",
       "      <td>2019_11_26_0018</td>\n",
       "      <td>Human</td>\n",
       "      <td>Nov_26_2019</td>\n",
       "      <td>C2</td>\n",
       "      <td>L5</td>\n",
       "      <td>Gap Free</td>\n",
       "      <td>n.a</td>\n",
       "      <td>n.a</td>\n",
       "      <td>ZD</td>\n",
       "      <td>n.a</td>\n",
       "      <td>NaN</td>\n",
       "      <td>1</td>\n",
       "      <td>0</td>\n",
       "      <td>Vm_Sec(mV)</td>\n",
       "      <td>NaN</td>\n",
       "      <td>-72.9</td>\n",
       "    </tr>\n",
       "    <tr>\n",
       "      <th>3</th>\n",
       "      <td>2019_11_26_0020</td>\n",
       "      <td>Human</td>\n",
       "      <td>Nov_26_2019</td>\n",
       "      <td>C2</td>\n",
       "      <td>L5</td>\n",
       "      <td>Gap Free</td>\n",
       "      <td>n.a</td>\n",
       "      <td>n.a</td>\n",
       "      <td>ZD</td>\n",
       "      <td>n.a</td>\n",
       "      <td>NaN</td>\n",
       "      <td>1</td>\n",
       "      <td>0</td>\n",
       "      <td>Vm_Sec(mV)</td>\n",
       "      <td>NaN</td>\n",
       "      <td>-72.9</td>\n",
       "    </tr>\n",
       "    <tr>\n",
       "      <th>4</th>\n",
       "      <td>2019_11_26_0021</td>\n",
       "      <td>Human</td>\n",
       "      <td>Nov_26_2019</td>\n",
       "      <td>C2</td>\n",
       "      <td>L5</td>\n",
       "      <td>Gap Free</td>\n",
       "      <td>n.a</td>\n",
       "      <td>n.a</td>\n",
       "      <td>ZD</td>\n",
       "      <td>n.a</td>\n",
       "      <td>NaN</td>\n",
       "      <td>1</td>\n",
       "      <td>0</td>\n",
       "      <td>Vm_Sec(mV)</td>\n",
       "      <td>NaN</td>\n",
       "      <td>-72.9</td>\n",
       "    </tr>\n",
       "  </tbody>\n",
       "</table>\n",
       "</div>"
      ],
      "text/plain": [
       "          ABF File Data Type    Exp. Date Cell # Cell Layer Stim Type  \\\n",
       "0  2019_11_26_0010     Human  Nov_26_2019     C1         L5  Gap Free   \n",
       "1  2019_11_26_0011     Human  Nov_26_2019     C1         L5  Gap Free   \n",
       "2  2019_11_26_0018     Human  Nov_26_2019     C2         L5  Gap Free   \n",
       "3  2019_11_26_0020     Human  Nov_26_2019     C2         L5  Gap Free   \n",
       "4  2019_11_26_0021     Human  Nov_26_2019     C2         L5  Gap Free   \n",
       "\n",
       "  Threshold   DC  ZD Hold  Unnamed: 11 Gain Offset Response Channel  \\\n",
       "0       n.a  n.a  ZD  n.a          NaN    1      0       Vm_Sec(mV)   \n",
       "1       n.a  n.a  ZD  n.a          NaN    1      0       Vm_Sec(mV)   \n",
       "2       n.a  n.a  ZD  n.a          NaN    1      0       Vm_Sec(mV)   \n",
       "3       n.a  n.a  ZD  n.a          NaN    1      0       Vm_Sec(mV)   \n",
       "4       n.a  n.a  ZD  n.a          NaN    1      0       Vm_Sec(mV)   \n",
       "\n",
       "  Command Channel   RMP  \n",
       "0             NaN -71.5  \n",
       "1             NaN -71.5  \n",
       "2             NaN -72.9  \n",
       "3             NaN -72.9  \n",
       "4             NaN -72.9  "
      ]
     },
     "execution_count": 3,
     "metadata": {},
     "output_type": "execute_result"
    }
   ],
   "source": [
    "human_meta.head()"
   ]
  },
  {
   "cell_type": "code",
   "execution_count": 4,
   "id": "01eee638",
   "metadata": {},
   "outputs": [],
   "source": [
    "intrinsic_meta = human_meta[human_meta['Stim Type'] == 'Intrinsic Properties']"
   ]
  },
  {
   "cell_type": "code",
   "execution_count": 5,
   "id": "dd77d665",
   "metadata": {},
   "outputs": [
    {
     "data": {
      "text/plain": [
       "(73, 16)"
      ]
     },
     "execution_count": 5,
     "metadata": {},
     "output_type": "execute_result"
    }
   ],
   "source": [
    "intrinsic_meta.shape"
   ]
  },
  {
   "cell_type": "code",
   "execution_count": 6,
   "id": "c045b6dc",
   "metadata": {},
   "outputs": [
    {
     "data": {
      "text/html": [
       "<div>\n",
       "<style scoped>\n",
       "    .dataframe tbody tr th:only-of-type {\n",
       "        vertical-align: middle;\n",
       "    }\n",
       "\n",
       "    .dataframe tbody tr th {\n",
       "        vertical-align: top;\n",
       "    }\n",
       "\n",
       "    .dataframe thead th {\n",
       "        text-align: right;\n",
       "    }\n",
       "</style>\n",
       "<table border=\"1\" class=\"dataframe\">\n",
       "  <thead>\n",
       "    <tr style=\"text-align: right;\">\n",
       "      <th></th>\n",
       "      <th>ABF File</th>\n",
       "      <th>Data Type</th>\n",
       "      <th>Exp. Date</th>\n",
       "      <th>Cell #</th>\n",
       "      <th>Cell Layer</th>\n",
       "      <th>Stim Type</th>\n",
       "      <th>Threshold</th>\n",
       "      <th>DC</th>\n",
       "      <th>ZD</th>\n",
       "      <th>Hold</th>\n",
       "      <th>Unnamed: 11</th>\n",
       "      <th>Gain</th>\n",
       "      <th>Offset</th>\n",
       "      <th>Response Channel</th>\n",
       "      <th>Command Channel</th>\n",
       "      <th>RMP</th>\n",
       "    </tr>\n",
       "  </thead>\n",
       "  <tbody>\n",
       "    <tr>\n",
       "      <th>24</th>\n",
       "      <td>2019_11_04_0098</td>\n",
       "      <td>Human</td>\n",
       "      <td>Nov_04_2019</td>\n",
       "      <td>C2</td>\n",
       "      <td>L3C</td>\n",
       "      <td>Intrinsic Properties</td>\n",
       "      <td>n.a</td>\n",
       "      <td>n.a</td>\n",
       "      <td>ZD</td>\n",
       "      <td>n.a</td>\n",
       "      <td>NaN</td>\n",
       "      <td>1</td>\n",
       "      <td>0</td>\n",
       "      <td>Vm_Sec(mV)</td>\n",
       "      <td>IN 12(pA)</td>\n",
       "      <td>-60.0</td>\n",
       "    </tr>\n",
       "    <tr>\n",
       "      <th>26</th>\n",
       "      <td>2019_11_04_0128</td>\n",
       "      <td>Human</td>\n",
       "      <td>Nov_04_2019</td>\n",
       "      <td>C3</td>\n",
       "      <td>L5</td>\n",
       "      <td>Intrinsic Properties</td>\n",
       "      <td>n.a</td>\n",
       "      <td>n.a</td>\n",
       "      <td>ZD</td>\n",
       "      <td>n.a</td>\n",
       "      <td>NaN</td>\n",
       "      <td>1</td>\n",
       "      <td>0</td>\n",
       "      <td>Vm_Sec(mV)</td>\n",
       "      <td>IN 12(pA)</td>\n",
       "      <td>-60.0</td>\n",
       "    </tr>\n",
       "    <tr>\n",
       "      <th>27</th>\n",
       "      <td>2019_11_26_0103</td>\n",
       "      <td>Human</td>\n",
       "      <td>Nov_26_2019</td>\n",
       "      <td>C8</td>\n",
       "      <td>L5</td>\n",
       "      <td>Intrinsic Properties</td>\n",
       "      <td>n.a</td>\n",
       "      <td>n.a</td>\n",
       "      <td>ZD</td>\n",
       "      <td>n.a</td>\n",
       "      <td>NaN</td>\n",
       "      <td>1</td>\n",
       "      <td>0</td>\n",
       "      <td>Vm_Sec(mV)</td>\n",
       "      <td>IN 12(pA)</td>\n",
       "      <td>-65.2</td>\n",
       "    </tr>\n",
       "    <tr>\n",
       "      <th>28</th>\n",
       "      <td>2019_11_28_0016</td>\n",
       "      <td>Human</td>\n",
       "      <td>Nov_28_2019</td>\n",
       "      <td>C1</td>\n",
       "      <td>L3C</td>\n",
       "      <td>Intrinsic Properties</td>\n",
       "      <td>n.a</td>\n",
       "      <td>n.a</td>\n",
       "      <td>ZD</td>\n",
       "      <td>n.a</td>\n",
       "      <td>NaN</td>\n",
       "      <td>1</td>\n",
       "      <td>0</td>\n",
       "      <td>Vm_Sec(mV)</td>\n",
       "      <td>IN 12(pA)</td>\n",
       "      <td>-62.4</td>\n",
       "    </tr>\n",
       "    <tr>\n",
       "      <th>29</th>\n",
       "      <td>2019_11_28_0054</td>\n",
       "      <td>Human</td>\n",
       "      <td>Nov_28_2019</td>\n",
       "      <td>C2</td>\n",
       "      <td>L3C</td>\n",
       "      <td>Intrinsic Properties</td>\n",
       "      <td>n.a</td>\n",
       "      <td>n.a</td>\n",
       "      <td>ZD</td>\n",
       "      <td>n.a</td>\n",
       "      <td>NaN</td>\n",
       "      <td>1</td>\n",
       "      <td>0</td>\n",
       "      <td>Vm_Sec(mV)</td>\n",
       "      <td>IN 12(pA)</td>\n",
       "      <td>-70.0</td>\n",
       "    </tr>\n",
       "  </tbody>\n",
       "</table>\n",
       "</div>"
      ],
      "text/plain": [
       "           ABF File Data Type    Exp. Date Cell # Cell Layer  \\\n",
       "24  2019_11_04_0098     Human  Nov_04_2019     C2        L3C   \n",
       "26  2019_11_04_0128     Human  Nov_04_2019     C3         L5   \n",
       "27  2019_11_26_0103     Human  Nov_26_2019     C8         L5   \n",
       "28  2019_11_28_0016     Human  Nov_28_2019     C1        L3C   \n",
       "29  2019_11_28_0054     Human  Nov_28_2019     C2        L3C   \n",
       "\n",
       "               Stim Type Threshold   DC  ZD Hold  Unnamed: 11 Gain Offset  \\\n",
       "24  Intrinsic Properties       n.a  n.a  ZD  n.a          NaN    1      0   \n",
       "26  Intrinsic Properties       n.a  n.a  ZD  n.a          NaN    1      0   \n",
       "27  Intrinsic Properties       n.a  n.a  ZD  n.a          NaN    1      0   \n",
       "28  Intrinsic Properties       n.a  n.a  ZD  n.a          NaN    1      0   \n",
       "29  Intrinsic Properties       n.a  n.a  ZD  n.a          NaN    1      0   \n",
       "\n",
       "   Response Channel Command Channel   RMP  \n",
       "24       Vm_Sec(mV)       IN 12(pA) -60.0  \n",
       "26       Vm_Sec(mV)       IN 12(pA) -60.0  \n",
       "27       Vm_Sec(mV)       IN 12(pA) -65.2  \n",
       "28       Vm_Sec(mV)       IN 12(pA) -62.4  \n",
       "29       Vm_Sec(mV)       IN 12(pA) -70.0  "
      ]
     },
     "execution_count": 6,
     "metadata": {},
     "output_type": "execute_result"
    }
   ],
   "source": [
    "intrinsic_meta.head()"
   ]
  },
  {
   "cell_type": "markdown",
   "id": "0ca7a420",
   "metadata": {},
   "source": [
    "## Identify files to be converted\n",
    "- ABF files from human2019\n",
    "- need metadata to determine which files are testing intrinsic properties\n",
    "- extract ABF version info, time of creation and comments from the ABF file"
   ]
  },
  {
   "cell_type": "code",
   "execution_count": 7,
   "id": "6675aa03",
   "metadata": {},
   "outputs": [],
   "source": [
    "# The following provides a dataframe for all abf files found recursively within a directory\n",
    "# it outputs the filename, path to file and date created\n",
    "\n",
    "def summary_df(path, suffix='.abf'):\n",
    "    all_files = []\n",
    "    for i in path.rglob(f'*[!.DS_Store]{suffix}'): # searches for all files recursively excluding those named .DS_Store\n",
    "        all_files.append((i.name,  i))\n",
    "\n",
    "    columns = [\"file_name\", \"path\"]\n",
    "    df = pd.DataFrame.from_records(all_files, columns=columns)\n",
    "    df.path = df.path.astype('str')\n",
    "    return df\n",
    "\n",
    "\n",
    "human2019_abf_dir = Path(\"./data/raw/recordings/Human tissue/Human tissue-White noise_2019/\")\n",
    "human2019_file_info = summary_df(human2019_abf_dir)"
   ]
  },
  {
   "cell_type": "code",
   "execution_count": 8,
   "id": "2ca2aa21",
   "metadata": {},
   "outputs": [
    {
     "name": "stdout",
     "output_type": "stream",
     "text": [
      "CPU times: user 20.3 s, sys: 9.65 s, total: 30 s\n",
      "Wall time: 33.3 s\n"
     ]
    }
   ],
   "source": [
    "%%time\n",
    "def parse_timestamp(abf_path):\n",
    "    abf = pyabf.ABF(abf_path)\n",
    "    return datetime.datetime.strptime(abf.abfDateTimeString, \"%Y-%m-%dT%H:%M:%S.%f\")\n",
    "\n",
    "def extract_abf_version(abf_path):\n",
    "    abf = pyabf.ABF(abf_path)\n",
    "    return abf.abfVersionString\n",
    "\n",
    "def extract_abf_comments(abf_path):\n",
    "    abf = pyabf.ABF(abf_path)\n",
    "    return abf.tagComments\n",
    "\n",
    "human2019_file_info['timestamp'] = human2019_file_info.path.apply(parse_timestamp)\n",
    "human2019_file_info['abf_version'] = human2019_file_info.path.apply(extract_abf_version)\n",
    "human2019_file_info['abf_comments'] = human2019_file_info.path.apply(extract_abf_comments)\n",
    "\n",
    "# add this column to merge with provided metadata\n",
    "human2019_file_info['file_id'] = human2019_file_info.file_name.apply(lambda x: Path(x).stem) "
   ]
  },
  {
   "cell_type": "code",
   "execution_count": 9,
   "id": "dded9fbf",
   "metadata": {},
   "outputs": [
    {
     "data": {
      "text/plain": [
       "(503, 6)"
      ]
     },
     "execution_count": 9,
     "metadata": {},
     "output_type": "execute_result"
    }
   ],
   "source": [
    "human2019_file_info.shape"
   ]
  },
  {
   "cell_type": "code",
   "execution_count": 10,
   "id": "072338e2",
   "metadata": {},
   "outputs": [
    {
     "data": {
      "text/html": [
       "<div>\n",
       "<style scoped>\n",
       "    .dataframe tbody tr th:only-of-type {\n",
       "        vertical-align: middle;\n",
       "    }\n",
       "\n",
       "    .dataframe tbody tr th {\n",
       "        vertical-align: top;\n",
       "    }\n",
       "\n",
       "    .dataframe thead th {\n",
       "        text-align: right;\n",
       "    }\n",
       "</style>\n",
       "<table border=\"1\" class=\"dataframe\">\n",
       "  <thead>\n",
       "    <tr style=\"text-align: right;\">\n",
       "      <th></th>\n",
       "      <th>file_name</th>\n",
       "      <th>path</th>\n",
       "      <th>timestamp</th>\n",
       "      <th>abf_version</th>\n",
       "      <th>abf_comments</th>\n",
       "      <th>file_id</th>\n",
       "    </tr>\n",
       "  </thead>\n",
       "  <tbody>\n",
       "    <tr>\n",
       "      <th>0</th>\n",
       "      <td>19219023.abf</td>\n",
       "      <td>data/raw/recordings/Human tissue/Human tissue-...</td>\n",
       "      <td>2019-02-19 15:18:15.656</td>\n",
       "      <td>1.8.3.0</td>\n",
       "      <td>[C3,L5,   RMP -65.6 mv, gain 40; DC 200]</td>\n",
       "      <td>19219023</td>\n",
       "    </tr>\n",
       "    <tr>\n",
       "      <th>1</th>\n",
       "      <td>19219021.abf</td>\n",
       "      <td>data/raw/recordings/Human tissue/Human tissue-...</td>\n",
       "      <td>2019-02-19 15:14:56.781</td>\n",
       "      <td>1.8.3.0</td>\n",
       "      <td>[C3,L5,   RMP -65.6 mv,]</td>\n",
       "      <td>19219021</td>\n",
       "    </tr>\n",
       "    <tr>\n",
       "      <th>2</th>\n",
       "      <td>19219005.abf</td>\n",
       "      <td>data/raw/recordings/Human tissue/Human tissue-...</td>\n",
       "      <td>2019-02-19 12:13:46.656</td>\n",
       "      <td>1.8.3.0</td>\n",
       "      <td>[C1,L5,   RMP -62.6 mv,]</td>\n",
       "      <td>19219005</td>\n",
       "    </tr>\n",
       "    <tr>\n",
       "      <th>3</th>\n",
       "      <td>19219004.abf</td>\n",
       "      <td>data/raw/recordings/Human tissue/Human tissue-...</td>\n",
       "      <td>2019-02-19 12:13:30.968</td>\n",
       "      <td>1.8.3.0</td>\n",
       "      <td>[C1,L5,   RMP -62.6 mv,]</td>\n",
       "      <td>19219004</td>\n",
       "    </tr>\n",
       "    <tr>\n",
       "      <th>4</th>\n",
       "      <td>19219016.abf</td>\n",
       "      <td>data/raw/recordings/Human tissue/Human tissue-...</td>\n",
       "      <td>2019-02-19 12:45:01.828</td>\n",
       "      <td>1.8.3.0</td>\n",
       "      <td>[C1,L5,   RMP -61.6 mv, Gain 40; DC 150 pA]</td>\n",
       "      <td>19219016</td>\n",
       "    </tr>\n",
       "  </tbody>\n",
       "</table>\n",
       "</div>"
      ],
      "text/plain": [
       "      file_name                                               path  \\\n",
       "0  19219023.abf  data/raw/recordings/Human tissue/Human tissue-...   \n",
       "1  19219021.abf  data/raw/recordings/Human tissue/Human tissue-...   \n",
       "2  19219005.abf  data/raw/recordings/Human tissue/Human tissue-...   \n",
       "3  19219004.abf  data/raw/recordings/Human tissue/Human tissue-...   \n",
       "4  19219016.abf  data/raw/recordings/Human tissue/Human tissue-...   \n",
       "\n",
       "                timestamp abf_version  \\\n",
       "0 2019-02-19 15:18:15.656     1.8.3.0   \n",
       "1 2019-02-19 15:14:56.781     1.8.3.0   \n",
       "2 2019-02-19 12:13:46.656     1.8.3.0   \n",
       "3 2019-02-19 12:13:30.968     1.8.3.0   \n",
       "4 2019-02-19 12:45:01.828     1.8.3.0   \n",
       "\n",
       "                                  abf_comments   file_id  \n",
       "0     [C3,L5,   RMP -65.6 mv, gain 40; DC 200]  19219023  \n",
       "1                     [C3,L5,   RMP -65.6 mv,]  19219021  \n",
       "2                     [C1,L5,   RMP -62.6 mv,]  19219005  \n",
       "3                     [C1,L5,   RMP -62.6 mv,]  19219004  \n",
       "4  [C1,L5,   RMP -61.6 mv, Gain 40; DC 150 pA]  19219016  "
      ]
     },
     "execution_count": 10,
     "metadata": {},
     "output_type": "execute_result"
    }
   ],
   "source": [
    "human2019_file_info.head()"
   ]
  },
  {
   "cell_type": "code",
   "execution_count": 11,
   "id": "2d2996bd",
   "metadata": {},
   "outputs": [
    {
     "data": {
      "text/plain": [
       "2.6.0.0    276\n",
       "1.8.3.0    227\n",
       "Name: abf_version, dtype: int64"
      ]
     },
     "execution_count": 11,
     "metadata": {},
     "output_type": "execute_result"
    }
   ],
   "source": [
    "human2019_file_info.abf_version.value_counts()"
   ]
  },
  {
   "cell_type": "markdown",
   "id": "633d6ed6",
   "metadata": {},
   "source": [
    "## Merge metadata with extracted information about ABF files"
   ]
  },
  {
   "cell_type": "code",
   "execution_count": 12,
   "id": "e474c543",
   "metadata": {},
   "outputs": [],
   "source": [
    "merged_meta = intrinsic_meta.merge(human2019_file_info, left_on='ABF File', right_on='file_id' , how='left')"
   ]
  },
  {
   "cell_type": "code",
   "execution_count": 13,
   "id": "c5ad8460",
   "metadata": {},
   "outputs": [
    {
     "data": {
      "text/plain": [
       "1.8.3.0    41\n",
       "2.6.0.0    36\n",
       "Name: abf_version, dtype: int64"
      ]
     },
     "execution_count": 13,
     "metadata": {},
     "output_type": "execute_result"
    }
   ],
   "source": [
    "# we are left with 36 files to convert\n",
    "merged_meta.abf_version.value_counts()"
   ]
  },
  {
   "cell_type": "code",
   "execution_count": 14,
   "id": "2704ff08",
   "metadata": {},
   "outputs": [],
   "source": [
    "to_convert = merged_meta[merged_meta.abf_version.str.startswith('2')]"
   ]
  },
  {
   "cell_type": "code",
   "execution_count": 15,
   "id": "bbe0af4d",
   "metadata": {},
   "outputs": [
    {
     "data": {
      "text/plain": [
       "(36, 22)"
      ]
     },
     "execution_count": 15,
     "metadata": {},
     "output_type": "execute_result"
    }
   ],
   "source": [
    "to_convert.shape"
   ]
  },
  {
   "cell_type": "markdown",
   "id": "9e768b92",
   "metadata": {},
   "source": [
    "## Convert!\n",
    "- 36 files to convert to NWB"
   ]
  },
  {
   "cell_type": "code",
   "execution_count": 16,
   "id": "ddbb20ae",
   "metadata": {},
   "outputs": [],
   "source": [
    "output_dir = Path(\"data/processed/recordings\")\n",
    "output_dir.mkdir(exist_ok=True)"
   ]
  },
  {
   "cell_type": "code",
   "execution_count": 17,
   "id": "b0faac51",
   "metadata": {},
   "outputs": [
    {
     "data": {
      "text/html": [
       "<div>\n",
       "<style scoped>\n",
       "    .dataframe tbody tr th:only-of-type {\n",
       "        vertical-align: middle;\n",
       "    }\n",
       "\n",
       "    .dataframe tbody tr th {\n",
       "        vertical-align: top;\n",
       "    }\n",
       "\n",
       "    .dataframe thead th {\n",
       "        text-align: right;\n",
       "    }\n",
       "</style>\n",
       "<table border=\"1\" class=\"dataframe\">\n",
       "  <thead>\n",
       "    <tr style=\"text-align: right;\">\n",
       "      <th></th>\n",
       "      <th>ABF File</th>\n",
       "      <th>Data Type</th>\n",
       "      <th>Exp. Date</th>\n",
       "      <th>Cell #</th>\n",
       "      <th>Cell Layer</th>\n",
       "      <th>Stim Type</th>\n",
       "      <th>Threshold</th>\n",
       "      <th>DC</th>\n",
       "      <th>ZD</th>\n",
       "      <th>Hold</th>\n",
       "      <th>...</th>\n",
       "      <th>Offset</th>\n",
       "      <th>Response Channel</th>\n",
       "      <th>Command Channel</th>\n",
       "      <th>RMP</th>\n",
       "      <th>file_name</th>\n",
       "      <th>path</th>\n",
       "      <th>timestamp</th>\n",
       "      <th>abf_version</th>\n",
       "      <th>abf_comments</th>\n",
       "      <th>file_id</th>\n",
       "    </tr>\n",
       "  </thead>\n",
       "  <tbody>\n",
       "    <tr>\n",
       "      <th>0</th>\n",
       "      <td>2019_11_04_0098</td>\n",
       "      <td>Human</td>\n",
       "      <td>Nov_04_2019</td>\n",
       "      <td>C2</td>\n",
       "      <td>L3C</td>\n",
       "      <td>Intrinsic Properties</td>\n",
       "      <td>n.a</td>\n",
       "      <td>n.a</td>\n",
       "      <td>ZD</td>\n",
       "      <td>n.a</td>\n",
       "      <td>...</td>\n",
       "      <td>0</td>\n",
       "      <td>Vm_Sec(mV)</td>\n",
       "      <td>IN 12(pA)</td>\n",
       "      <td>-60.0</td>\n",
       "      <td>2019_11_04_0098.abf</td>\n",
       "      <td>data/raw/recordings/Human tissue/Human tissue-...</td>\n",
       "      <td>2019-11-04 16:08:13.031</td>\n",
       "      <td>2.6.0.0</td>\n",
       "      <td>[C2, L3, APV,CNQX,PTX,ZD 10 uM]</td>\n",
       "      <td>2019_11_04_0098</td>\n",
       "    </tr>\n",
       "    <tr>\n",
       "      <th>1</th>\n",
       "      <td>2019_11_04_0128</td>\n",
       "      <td>Human</td>\n",
       "      <td>Nov_04_2019</td>\n",
       "      <td>C3</td>\n",
       "      <td>L5</td>\n",
       "      <td>Intrinsic Properties</td>\n",
       "      <td>n.a</td>\n",
       "      <td>n.a</td>\n",
       "      <td>ZD</td>\n",
       "      <td>n.a</td>\n",
       "      <td>...</td>\n",
       "      <td>0</td>\n",
       "      <td>Vm_Sec(mV)</td>\n",
       "      <td>IN 12(pA)</td>\n",
       "      <td>-60.0</td>\n",
       "      <td>2019_11_04_0128.abf</td>\n",
       "      <td>data/raw/recordings/Human tissue/Human tissue-...</td>\n",
       "      <td>2019-11-04 17:38:56.406</td>\n",
       "      <td>2.6.0.0</td>\n",
       "      <td>[C3, L5, APV,CNQX,PTX, ZD 10 uM]</td>\n",
       "      <td>2019_11_04_0128</td>\n",
       "    </tr>\n",
       "    <tr>\n",
       "      <th>2</th>\n",
       "      <td>2019_11_26_0103</td>\n",
       "      <td>Human</td>\n",
       "      <td>Nov_26_2019</td>\n",
       "      <td>C8</td>\n",
       "      <td>L5</td>\n",
       "      <td>Intrinsic Properties</td>\n",
       "      <td>n.a</td>\n",
       "      <td>n.a</td>\n",
       "      <td>ZD</td>\n",
       "      <td>n.a</td>\n",
       "      <td>...</td>\n",
       "      <td>0</td>\n",
       "      <td>Vm_Sec(mV)</td>\n",
       "      <td>IN 12(pA)</td>\n",
       "      <td>-65.2</td>\n",
       "      <td>2019_11_26_0103.abf</td>\n",
       "      <td>data/raw/recordings/Human tissue/Human tissue-...</td>\n",
       "      <td>2019-11-26 18:03:05.234</td>\n",
       "      <td>2.6.0.0</td>\n",
       "      <td>[C8. L5 RMP -65.2  mV Big cell, gain 40, Dc 15...</td>\n",
       "      <td>2019_11_26_0103</td>\n",
       "    </tr>\n",
       "    <tr>\n",
       "      <th>3</th>\n",
       "      <td>2019_11_28_0016</td>\n",
       "      <td>Human</td>\n",
       "      <td>Nov_28_2019</td>\n",
       "      <td>C1</td>\n",
       "      <td>L3C</td>\n",
       "      <td>Intrinsic Properties</td>\n",
       "      <td>n.a</td>\n",
       "      <td>n.a</td>\n",
       "      <td>ZD</td>\n",
       "      <td>n.a</td>\n",
       "      <td>...</td>\n",
       "      <td>0</td>\n",
       "      <td>Vm_Sec(mV)</td>\n",
       "      <td>IN 12(pA)</td>\n",
       "      <td>-62.4</td>\n",
       "      <td>2019_11_28_0016.abf</td>\n",
       "      <td>data/raw/recordings/Human tissue/Human tissue-...</td>\n",
       "      <td>2019-11-28 12:45:16.828</td>\n",
       "      <td>2.6.0.0</td>\n",
       "      <td>[C1. L3C RMP -62.4  mV, Gain 40, Dc 140 pA, ZD...</td>\n",
       "      <td>2019_11_28_0016</td>\n",
       "    </tr>\n",
       "    <tr>\n",
       "      <th>4</th>\n",
       "      <td>2019_11_28_0054</td>\n",
       "      <td>Human</td>\n",
       "      <td>Nov_28_2019</td>\n",
       "      <td>C2</td>\n",
       "      <td>L3C</td>\n",
       "      <td>Intrinsic Properties</td>\n",
       "      <td>n.a</td>\n",
       "      <td>n.a</td>\n",
       "      <td>ZD</td>\n",
       "      <td>n.a</td>\n",
       "      <td>...</td>\n",
       "      <td>0</td>\n",
       "      <td>Vm_Sec(mV)</td>\n",
       "      <td>IN 12(pA)</td>\n",
       "      <td>-70.0</td>\n",
       "      <td>2019_11_28_0054.abf</td>\n",
       "      <td>data/raw/recordings/Human tissue/Human tissue-...</td>\n",
       "      <td>2019-11-28 14:18:44.437</td>\n",
       "      <td>2.6.0.0</td>\n",
       "      <td>[C2. L3 RMP -70 mv,ZD 10 uM, Gain 40, DC 27]</td>\n",
       "      <td>2019_11_28_0054</td>\n",
       "    </tr>\n",
       "  </tbody>\n",
       "</table>\n",
       "<p>5 rows × 22 columns</p>\n",
       "</div>"
      ],
      "text/plain": [
       "          ABF File Data Type    Exp. Date Cell # Cell Layer  \\\n",
       "0  2019_11_04_0098     Human  Nov_04_2019     C2        L3C   \n",
       "1  2019_11_04_0128     Human  Nov_04_2019     C3         L5   \n",
       "2  2019_11_26_0103     Human  Nov_26_2019     C8         L5   \n",
       "3  2019_11_28_0016     Human  Nov_28_2019     C1        L3C   \n",
       "4  2019_11_28_0054     Human  Nov_28_2019     C2        L3C   \n",
       "\n",
       "              Stim Type Threshold   DC  ZD Hold  ...  Offset Response Channel  \\\n",
       "0  Intrinsic Properties       n.a  n.a  ZD  n.a  ...       0       Vm_Sec(mV)   \n",
       "1  Intrinsic Properties       n.a  n.a  ZD  n.a  ...       0       Vm_Sec(mV)   \n",
       "2  Intrinsic Properties       n.a  n.a  ZD  n.a  ...       0       Vm_Sec(mV)   \n",
       "3  Intrinsic Properties       n.a  n.a  ZD  n.a  ...       0       Vm_Sec(mV)   \n",
       "4  Intrinsic Properties       n.a  n.a  ZD  n.a  ...       0       Vm_Sec(mV)   \n",
       "\n",
       "  Command Channel   RMP            file_name  \\\n",
       "0       IN 12(pA) -60.0  2019_11_04_0098.abf   \n",
       "1       IN 12(pA) -60.0  2019_11_04_0128.abf   \n",
       "2       IN 12(pA) -65.2  2019_11_26_0103.abf   \n",
       "3       IN 12(pA) -62.4  2019_11_28_0016.abf   \n",
       "4       IN 12(pA) -70.0  2019_11_28_0054.abf   \n",
       "\n",
       "                                                path               timestamp  \\\n",
       "0  data/raw/recordings/Human tissue/Human tissue-... 2019-11-04 16:08:13.031   \n",
       "1  data/raw/recordings/Human tissue/Human tissue-... 2019-11-04 17:38:56.406   \n",
       "2  data/raw/recordings/Human tissue/Human tissue-... 2019-11-26 18:03:05.234   \n",
       "3  data/raw/recordings/Human tissue/Human tissue-... 2019-11-28 12:45:16.828   \n",
       "4  data/raw/recordings/Human tissue/Human tissue-... 2019-11-28 14:18:44.437   \n",
       "\n",
       "  abf_version                                       abf_comments  \\\n",
       "0     2.6.0.0                    [C2, L3, APV,CNQX,PTX,ZD 10 uM]   \n",
       "1     2.6.0.0                   [C3, L5, APV,CNQX,PTX, ZD 10 uM]   \n",
       "2     2.6.0.0  [C8. L5 RMP -65.2  mV Big cell, gain 40, Dc 15...   \n",
       "3     2.6.0.0  [C1. L3C RMP -62.4  mV, Gain 40, Dc 140 pA, ZD...   \n",
       "4     2.6.0.0       [C2. L3 RMP -70 mv,ZD 10 uM, Gain 40, DC 27]   \n",
       "\n",
       "           file_id  \n",
       "0  2019_11_04_0098  \n",
       "1  2019_11_04_0128  \n",
       "2  2019_11_26_0103  \n",
       "3  2019_11_28_0016  \n",
       "4  2019_11_28_0054  \n",
       "\n",
       "[5 rows x 22 columns]"
      ]
     },
     "execution_count": 17,
     "metadata": {},
     "output_type": "execute_result"
    }
   ],
   "source": [
    "to_convert.head()"
   ]
  },
  {
   "cell_type": "code",
   "execution_count": 18,
   "id": "65d62c50",
   "metadata": {},
   "outputs": [],
   "source": [
    "from x_to_nwb import ABF2Converter"
   ]
  },
  {
   "cell_type": "code",
   "execution_count": 19,
   "id": "1f21ba26",
   "metadata": {},
   "outputs": [
    {
     "name": "stderr",
     "output_type": "stream",
     "text": [
      "/Users/derek_howard/triplab/x-to-nwb/src/x_to_nwb/ABF2Converter.py:188: UserWarning: Could not find the JSON file data/raw/recordings/Human tissue/Human tissue-White noise_2019/Nov_04_2019/C2_L3/ZD_C2_L3C/Intrinsic Properties_C2_L3C/2019_11_04_0098.json with settings.\n",
      "  warnings.warn(f\"Could not find the JSON file {settings} with settings.\")\n",
      "WARNING:pyabf.abf:fileGUID isn't truly unique (fileUUID is)\n",
      "/Users/derek_howard/miniconda3/envs/nwbephystest/lib/python3.8/site-packages/pynwb/file.py:753: UserWarning: Date is missing timezone information. Updating to local timezone.\n",
      "  warn(\"Date is missing timezone information. Updating to local timezone.\")\n",
      "/Users/derek_howard/triplab/x-to-nwb/src/x_to_nwb/ABF2Converter.py:519: UserWarning: Could not find the scale factor for the stimset I-V curve ,-400 pA, using 1.0 as fallback.\n",
      "  warnings.warn(\n",
      "/Users/derek_howard/triplab/x-to-nwb/src/x_to_nwb/ABF2Converter.py:550: UserWarning: Could not find settings for amplifier unknown of channel Vm_sec.\n",
      "  warnings.warn(f\"Could not find settings for amplifier {amplifier} of channel {adcName}.\")\n",
      "/Users/derek_howard/triplab/x-to-nwb/src/x_to_nwb/ABF2Converter.py:188: UserWarning: Could not find the JSON file data/raw/recordings/Human tissue/Human tissue-White noise_2019/Nov_04_2019/C3_L5/ZD_C3_L5/Intrinsic Properties_C3_L5/2019_11_04_0128.json with settings.\n",
      "  warnings.warn(f\"Could not find the JSON file {settings} with settings.\")\n",
      "WARNING:pyabf.abf:fileGUID isn't truly unique (fileUUID is)\n"
     ]
    },
    {
     "name": "stdout",
     "output_type": "stream",
     "text": [
      "NWB Conversion complete for 2019_11_04_0098.nwb\n",
      "\n"
     ]
    },
    {
     "name": "stderr",
     "output_type": "stream",
     "text": [
      "/Users/derek_howard/triplab/x-to-nwb/src/x_to_nwb/ABF2Converter.py:188: UserWarning: Could not find the JSON file data/raw/recordings/Human tissue/Human tissue-White noise_2019/Nov_26_2019/C8_L5/ZD/Intrinsic properties_C8_L5/2019_11_26_0103.json with settings.\n",
      "  warnings.warn(f\"Could not find the JSON file {settings} with settings.\")\n",
      "WARNING:pyabf.abf:fileGUID isn't truly unique (fileUUID is)\n"
     ]
    },
    {
     "name": "stdout",
     "output_type": "stream",
     "text": [
      "NWB Conversion complete for 2019_11_04_0128.nwb\n",
      "\n"
     ]
    },
    {
     "name": "stderr",
     "output_type": "stream",
     "text": [
      "/Users/derek_howard/triplab/x-to-nwb/src/x_to_nwb/ABF2Converter.py:188: UserWarning: Could not find the JSON file data/raw/recordings/Human tissue/Human tissue-White noise_2019/Nov_28_2019/C1_L3C/ZD/Intrinsic Properties_C1_L3C-ZD/2019_11_28_0016.json with settings.\n",
      "  warnings.warn(f\"Could not find the JSON file {settings} with settings.\")\n",
      "WARNING:pyabf.abf:fileGUID isn't truly unique (fileUUID is)\n"
     ]
    },
    {
     "name": "stdout",
     "output_type": "stream",
     "text": [
      "NWB Conversion complete for 2019_11_26_0103.nwb\n",
      "\n"
     ]
    },
    {
     "name": "stderr",
     "output_type": "stream",
     "text": [
      "/Users/derek_howard/triplab/x-to-nwb/src/x_to_nwb/ABF2Converter.py:188: UserWarning: Could not find the JSON file data/raw/recordings/Human tissue/Human tissue-White noise_2019/Nov_28_2019/C2_L3C/ZD/Intrinsic Properties_C1_L3C-ZD/2019_11_28_0054.json with settings.\n",
      "  warnings.warn(f\"Could not find the JSON file {settings} with settings.\")\n",
      "WARNING:pyabf.abf:fileGUID isn't truly unique (fileUUID is)\n"
     ]
    },
    {
     "name": "stdout",
     "output_type": "stream",
     "text": [
      "NWB Conversion complete for 2019_11_28_0016.nwb\n",
      "\n"
     ]
    },
    {
     "name": "stderr",
     "output_type": "stream",
     "text": [
      "/Users/derek_howard/triplab/x-to-nwb/src/x_to_nwb/ABF2Converter.py:188: UserWarning: Could not find the JSON file data/raw/recordings/Human tissue/Human tissue-White noise_2019/Nov_28_2019/C3_L3C/ZD/Intrinsic Properties_C3_L3C-ZD/2019_11_28_0090.json with settings.\n",
      "  warnings.warn(f\"Could not find the JSON file {settings} with settings.\")\n",
      "WARNING:pyabf.abf:fileGUID isn't truly unique (fileUUID is)\n"
     ]
    },
    {
     "name": "stdout",
     "output_type": "stream",
     "text": [
      "NWB Conversion complete for 2019_11_28_0054.nwb\n",
      "\n"
     ]
    },
    {
     "name": "stderr",
     "output_type": "stream",
     "text": [
      "/Users/derek_howard/triplab/x-to-nwb/src/x_to_nwb/ABF2Converter.py:188: UserWarning: Could not find the JSON file data/raw/recordings/Human tissue/Human tissue-White noise_2019/Nov_28_2019/C4_L3C/ZD/Intrinsic Properties_C4_L3C-ZD/2019_11_28_0114.json with settings.\n",
      "  warnings.warn(f\"Could not find the JSON file {settings} with settings.\")\n",
      "WARNING:pyabf.abf:fileGUID isn't truly unique (fileUUID is)\n"
     ]
    },
    {
     "name": "stdout",
     "output_type": "stream",
     "text": [
      "NWB Conversion complete for 2019_11_28_0090.nwb\n",
      "\n"
     ]
    },
    {
     "name": "stderr",
     "output_type": "stream",
     "text": [
      "/Users/derek_howard/triplab/x-to-nwb/src/x_to_nwb/ABF2Converter.py:188: UserWarning: Could not find the JSON file data/raw/recordings/Human tissue/Human tissue-White noise_2019/Nov_28_2019/C5_L5/ZD/Intrinsic Properties_C5_L5_ZD/2019_11_28_0127.json with settings.\n",
      "  warnings.warn(f\"Could not find the JSON file {settings} with settings.\")\n",
      "WARNING:pyabf.abf:fileGUID isn't truly unique (fileUUID is)\n"
     ]
    },
    {
     "name": "stdout",
     "output_type": "stream",
     "text": [
      "NWB Conversion complete for 2019_11_28_0114.nwb\n",
      "\n"
     ]
    },
    {
     "name": "stderr",
     "output_type": "stream",
     "text": [
      "/Users/derek_howard/triplab/x-to-nwb/src/x_to_nwb/ABF2Converter.py:188: UserWarning: Could not find the JSON file data/raw/recordings/Human tissue/Human tissue-White noise_2019/Nov_04_2019/C1_L3/Intrinsic Properties_C1_L3C/2019_11_04_0001.json with settings.\n",
      "  warnings.warn(f\"Could not find the JSON file {settings} with settings.\")\n",
      "WARNING:pyabf.abf:fileGUID isn't truly unique (fileUUID is)\n"
     ]
    },
    {
     "name": "stdout",
     "output_type": "stream",
     "text": [
      "NWB Conversion complete for 2019_11_28_0127.nwb\n",
      "\n"
     ]
    },
    {
     "name": "stderr",
     "output_type": "stream",
     "text": [
      "/Users/derek_howard/triplab/x-to-nwb/src/x_to_nwb/ABF2Converter.py:188: UserWarning: Could not find the JSON file data/raw/recordings/Human tissue/Human tissue-White noise_2019/Nov_04_2019/C1_L3/Intrinsic Properties_C1_L3C/2019_11_04_0002.json with settings.\n",
      "  warnings.warn(f\"Could not find the JSON file {settings} with settings.\")\n",
      "WARNING:pyabf.abf:fileGUID isn't truly unique (fileUUID is)\n"
     ]
    },
    {
     "name": "stdout",
     "output_type": "stream",
     "text": [
      "NWB Conversion complete for 2019_11_04_0001.nwb\n",
      "\n"
     ]
    },
    {
     "name": "stderr",
     "output_type": "stream",
     "text": [
      "/Users/derek_howard/triplab/x-to-nwb/src/x_to_nwb/ABF2Converter.py:188: UserWarning: Could not find the JSON file data/raw/recordings/Human tissue/Human tissue-White noise_2019/Nov_04_2019/C1_L3/Intrinsic Properties_C1_L3C/2019_11_04_0003.json with settings.\n",
      "  warnings.warn(f\"Could not find the JSON file {settings} with settings.\")\n",
      "WARNING:pyabf.abf:fileGUID isn't truly unique (fileUUID is)\n"
     ]
    },
    {
     "name": "stdout",
     "output_type": "stream",
     "text": [
      "NWB Conversion complete for 2019_11_04_0002.nwb\n",
      "\n"
     ]
    },
    {
     "name": "stderr",
     "output_type": "stream",
     "text": [
      "/Users/derek_howard/triplab/x-to-nwb/src/x_to_nwb/ABF2Converter.py:519: UserWarning: Could not find the scale factor for the stimset Ramp 1S-190-330-20, using 1.0 as fallback.\n",
      "  warnings.warn(\n",
      "/Users/derek_howard/triplab/x-to-nwb/src/x_to_nwb/ABF2Converter.py:188: UserWarning: Could not find the JSON file data/raw/recordings/Human tissue/Human tissue-White noise_2019/Nov_04_2019/C2_L3/Intrinsic Properties_C2_L3C/2019_11_04_0083.json with settings.\n",
      "  warnings.warn(f\"Could not find the JSON file {settings} with settings.\")\n",
      "WARNING:pyabf.abf:fileGUID isn't truly unique (fileUUID is)\n"
     ]
    },
    {
     "name": "stdout",
     "output_type": "stream",
     "text": [
      "NWB Conversion complete for 2019_11_04_0003.nwb\n",
      "\n"
     ]
    },
    {
     "name": "stderr",
     "output_type": "stream",
     "text": [
      "/Users/derek_howard/triplab/x-to-nwb/src/x_to_nwb/ABF2Converter.py:188: UserWarning: Could not find the JSON file data/raw/recordings/Human tissue/Human tissue-White noise_2019/Nov_04_2019/C2_L3/Intrinsic Properties_C2_L3C/2019_11_04_0084.json with settings.\n",
      "  warnings.warn(f\"Could not find the JSON file {settings} with settings.\")\n",
      "WARNING:pyabf.abf:fileGUID isn't truly unique (fileUUID is)\n"
     ]
    },
    {
     "name": "stdout",
     "output_type": "stream",
     "text": [
      "NWB Conversion complete for 2019_11_04_0083.nwb\n",
      "\n"
     ]
    },
    {
     "name": "stderr",
     "output_type": "stream",
     "text": [
      "/Users/derek_howard/triplab/x-to-nwb/src/x_to_nwb/ABF2Converter.py:188: UserWarning: Could not find the JSON file data/raw/recordings/Human tissue/Human tissue-White noise_2019/Nov_04_2019/C2_L3/Intrinsic Properties_C2_L3C/2019_11_04_0085.json with settings.\n",
      "  warnings.warn(f\"Could not find the JSON file {settings} with settings.\")\n",
      "WARNING:pyabf.abf:fileGUID isn't truly unique (fileUUID is)\n"
     ]
    },
    {
     "name": "stdout",
     "output_type": "stream",
     "text": [
      "NWB Conversion complete for 2019_11_04_0084.nwb\n",
      "\n"
     ]
    },
    {
     "name": "stderr",
     "output_type": "stream",
     "text": [
      "/Users/derek_howard/triplab/x-to-nwb/src/x_to_nwb/ABF2Converter.py:188: UserWarning: Could not find the JSON file data/raw/recordings/Human tissue/Human tissue-White noise_2019/Nov_26_2019/C1_L5/Intrinsic Properties_C1_L5/2019_11_26_0006.json with settings.\n",
      "  warnings.warn(f\"Could not find the JSON file {settings} with settings.\")\n",
      "WARNING:pyabf.abf:fileGUID isn't truly unique (fileUUID is)\n"
     ]
    },
    {
     "name": "stdout",
     "output_type": "stream",
     "text": [
      "NWB Conversion complete for 2019_11_04_0085.nwb\n",
      "\n"
     ]
    },
    {
     "name": "stderr",
     "output_type": "stream",
     "text": [
      "/Users/derek_howard/triplab/x-to-nwb/src/x_to_nwb/ABF2Converter.py:188: UserWarning: Could not find the JSON file data/raw/recordings/Human tissue/Human tissue-White noise_2019/Nov_26_2019/C2_L5/Intrinsic Properties_C2_L5/2019_11_26_0019.json with settings.\n",
      "  warnings.warn(f\"Could not find the JSON file {settings} with settings.\")\n",
      "WARNING:pyabf.abf:fileGUID isn't truly unique (fileUUID is)\n"
     ]
    },
    {
     "name": "stdout",
     "output_type": "stream",
     "text": [
      "NWB Conversion complete for 2019_11_26_0006.nwb\n",
      "\n"
     ]
    },
    {
     "name": "stderr",
     "output_type": "stream",
     "text": [
      "/Users/derek_howard/triplab/x-to-nwb/src/x_to_nwb/ABF2Converter.py:188: UserWarning: Could not find the JSON file data/raw/recordings/Human tissue/Human tissue-White noise_2019/Nov_26_2019/C3_L3/Intrinsic Properties_C3_L3/2019_11_26_0037.json with settings.\n",
      "  warnings.warn(f\"Could not find the JSON file {settings} with settings.\")\n",
      "WARNING:pyabf.abf:fileGUID isn't truly unique (fileUUID is)\n"
     ]
    },
    {
     "name": "stdout",
     "output_type": "stream",
     "text": [
      "NWB Conversion complete for 2019_11_26_0019.nwb\n",
      "\n"
     ]
    },
    {
     "name": "stderr",
     "output_type": "stream",
     "text": [
      "/Users/derek_howard/triplab/x-to-nwb/src/x_to_nwb/ABF2Converter.py:188: UserWarning: Could not find the JSON file data/raw/recordings/Human tissue/Human tissue-White noise_2019/Nov_26_2019/C8_L5/Intrinsic Properties_C8_L5/2019_11_26_0094.json with settings.\n",
      "  warnings.warn(f\"Could not find the JSON file {settings} with settings.\")\n",
      "WARNING:pyabf.abf:fileGUID isn't truly unique (fileUUID is)\n"
     ]
    },
    {
     "name": "stdout",
     "output_type": "stream",
     "text": [
      "NWB Conversion complete for 2019_11_26_0037.nwb\n",
      "\n"
     ]
    },
    {
     "name": "stderr",
     "output_type": "stream",
     "text": [
      "/Users/derek_howard/triplab/x-to-nwb/src/x_to_nwb/ABF2Converter.py:188: UserWarning: Could not find the JSON file data/raw/recordings/Human tissue/Human tissue-White noise_2019/Nov_26_2019/C9_L5/Intrinsic Properties_C9_L5/2019_11_26_0110.json with settings.\n",
      "  warnings.warn(f\"Could not find the JSON file {settings} with settings.\")\n",
      "WARNING:pyabf.abf:fileGUID isn't truly unique (fileUUID is)\n"
     ]
    },
    {
     "name": "stdout",
     "output_type": "stream",
     "text": [
      "NWB Conversion complete for 2019_11_26_0094.nwb\n",
      "\n"
     ]
    },
    {
     "name": "stderr",
     "output_type": "stream",
     "text": [
      "/Users/derek_howard/triplab/x-to-nwb/src/x_to_nwb/ABF2Converter.py:188: UserWarning: Could not find the JSON file data/raw/recordings/Human tissue/Human tissue-White noise_2019/Nov_28_2019/C1_L3C/Intrinsic Properties_C1_L3C/2019_11_28_0010.json with settings.\n",
      "  warnings.warn(f\"Could not find the JSON file {settings} with settings.\")\n",
      "WARNING:pyabf.abf:fileGUID isn't truly unique (fileUUID is)\n"
     ]
    },
    {
     "name": "stdout",
     "output_type": "stream",
     "text": [
      "NWB Conversion complete for 2019_11_26_0110.nwb\n",
      "\n"
     ]
    },
    {
     "name": "stderr",
     "output_type": "stream",
     "text": [
      "/Users/derek_howard/triplab/x-to-nwb/src/x_to_nwb/ABF2Converter.py:188: UserWarning: Could not find the JSON file data/raw/recordings/Human tissue/Human tissue-White noise_2019/Nov_28_2019/C2_L3C/Intrinsic Properties_C2_L3C/2019_11_28_0038.json with settings.\n",
      "  warnings.warn(f\"Could not find the JSON file {settings} with settings.\")\n",
      "WARNING:pyabf.abf:fileGUID isn't truly unique (fileUUID is)\n"
     ]
    },
    {
     "name": "stdout",
     "output_type": "stream",
     "text": [
      "NWB Conversion complete for 2019_11_28_0010.nwb\n",
      "\n"
     ]
    },
    {
     "name": "stderr",
     "output_type": "stream",
     "text": [
      "/Users/derek_howard/triplab/x-to-nwb/src/x_to_nwb/ABF2Converter.py:188: UserWarning: Could not find the JSON file data/raw/recordings/Human tissue/Human tissue-White noise_2019/Nov_28_2019/C3_L3C/Intrinsic Properties_C3_L3C/2019_11_28_0079.json with settings.\n",
      "  warnings.warn(f\"Could not find the JSON file {settings} with settings.\")\n",
      "WARNING:pyabf.abf:fileGUID isn't truly unique (fileUUID is)\n"
     ]
    },
    {
     "name": "stdout",
     "output_type": "stream",
     "text": [
      "NWB Conversion complete for 2019_11_28_0038.nwb\n",
      "\n"
     ]
    },
    {
     "name": "stderr",
     "output_type": "stream",
     "text": [
      "/Users/derek_howard/triplab/x-to-nwb/src/x_to_nwb/ABF2Converter.py:188: UserWarning: Could not find the JSON file data/raw/recordings/Human tissue/Human tissue-White noise_2019/Nov_28_2019/C5_L5/Intrinsic Properties_C5_L5/2019_11_28_0119.json with settings.\n",
      "  warnings.warn(f\"Could not find the JSON file {settings} with settings.\")\n",
      "WARNING:pyabf.abf:fileGUID isn't truly unique (fileUUID is)\n"
     ]
    },
    {
     "name": "stdout",
     "output_type": "stream",
     "text": [
      "NWB Conversion complete for 2019_11_28_0079.nwb\n",
      "\n"
     ]
    },
    {
     "name": "stderr",
     "output_type": "stream",
     "text": [
      "/Users/derek_howard/triplab/x-to-nwb/src/x_to_nwb/ABF2Converter.py:188: UserWarning: Could not find the JSON file data/raw/recordings/Human tissue/Human tissue-White noise_2019/October_10_2019_Epileptogenic zone/C1_L5/Intrinsic Properties_C1_L5/19o10010.json with settings.\n",
      "  warnings.warn(f\"Could not find the JSON file {settings} with settings.\")\n",
      "WARNING:pyabf.abf:fileGUID isn't truly unique (fileUUID is)\n"
     ]
    },
    {
     "name": "stdout",
     "output_type": "stream",
     "text": [
      "NWB Conversion complete for 2019_11_28_0119.nwb\n",
      "\n"
     ]
    },
    {
     "name": "stderr",
     "output_type": "stream",
     "text": [
      "/Users/derek_howard/triplab/x-to-nwb/src/x_to_nwb/ABF2Converter.py:188: UserWarning: Could not find the JSON file data/raw/recordings/Human tissue/Human tissue-White noise_2019/October_10_2019_Epileptogenic zone/C1_L5/Intrinsic Properties_C1_L5/19o10011.json with settings.\n",
      "  warnings.warn(f\"Could not find the JSON file {settings} with settings.\")\n",
      "WARNING:pyabf.abf:fileGUID isn't truly unique (fileUUID is)\n"
     ]
    },
    {
     "name": "stdout",
     "output_type": "stream",
     "text": [
      "NWB Conversion complete for 19o10010.nwb\n",
      "\n"
     ]
    },
    {
     "name": "stderr",
     "output_type": "stream",
     "text": [
      "/Users/derek_howard/triplab/x-to-nwb/src/x_to_nwb/ABF2Converter.py:188: UserWarning: Could not find the JSON file data/raw/recordings/Human tissue/Human tissue-White noise_2019/October_10_2019_Epileptogenic zone/C1_L5/Intrinsic Properties_C1_L5/19o10012.json with settings.\n",
      "  warnings.warn(f\"Could not find the JSON file {settings} with settings.\")\n",
      "WARNING:pyabf.abf:fileGUID isn't truly unique (fileUUID is)\n"
     ]
    },
    {
     "name": "stdout",
     "output_type": "stream",
     "text": [
      "NWB Conversion complete for 19o10011.nwb\n",
      "\n"
     ]
    },
    {
     "name": "stderr",
     "output_type": "stream",
     "text": [
      "/Users/derek_howard/triplab/x-to-nwb/src/x_to_nwb/ABF2Converter.py:188: UserWarning: Could not find the JSON file data/raw/recordings/Human tissue/Human tissue-White noise_2019/October_10_2019_Epileptogenic zone/C4_L5/Intrinsic Properties_C4_L5/19o10045.json with settings.\n",
      "  warnings.warn(f\"Could not find the JSON file {settings} with settings.\")\n",
      "WARNING:pyabf.abf:fileGUID isn't truly unique (fileUUID is)\n"
     ]
    },
    {
     "name": "stdout",
     "output_type": "stream",
     "text": [
      "NWB Conversion complete for 19o10012.nwb\n",
      "\n"
     ]
    },
    {
     "name": "stderr",
     "output_type": "stream",
     "text": [
      "/Users/derek_howard/triplab/x-to-nwb/src/x_to_nwb/ABF2Converter.py:188: UserWarning: Could not find the JSON file data/raw/recordings/Human tissue/Human tissue-White noise_2019/October_10_2019_Epileptogenic zone/C4_L5/Intrinsic Properties_C4_L5/19o10046.json with settings.\n",
      "  warnings.warn(f\"Could not find the JSON file {settings} with settings.\")\n",
      "WARNING:pyabf.abf:fileGUID isn't truly unique (fileUUID is)\n"
     ]
    },
    {
     "name": "stdout",
     "output_type": "stream",
     "text": [
      "NWB Conversion complete for 19o10045.nwb\n",
      "\n"
     ]
    },
    {
     "name": "stderr",
     "output_type": "stream",
     "text": [
      "/Users/derek_howard/triplab/x-to-nwb/src/x_to_nwb/ABF2Converter.py:188: UserWarning: Could not find the JSON file data/raw/recordings/Human tissue/Human tissue-White noise_2019/October_10_2019_Epileptogenic zone/C4_L5/Intrinsic Properties_C4_L5/19o10048.json with settings.\n",
      "  warnings.warn(f\"Could not find the JSON file {settings} with settings.\")\n",
      "WARNING:pyabf.abf:fileGUID isn't truly unique (fileUUID is)\n"
     ]
    },
    {
     "name": "stdout",
     "output_type": "stream",
     "text": [
      "NWB Conversion complete for 19o10046.nwb\n",
      "\n"
     ]
    },
    {
     "name": "stderr",
     "output_type": "stream",
     "text": [
      "/Users/derek_howard/triplab/x-to-nwb/src/x_to_nwb/ABF2Converter.py:188: UserWarning: Could not find the JSON file data/raw/recordings/Human tissue/Human tissue-White noise_2019/October_10_2019_Epileptogenic zone/C5_L5/Intrinsic Properties_C5_L5/19o10054.json with settings.\n",
      "  warnings.warn(f\"Could not find the JSON file {settings} with settings.\")\n",
      "WARNING:pyabf.abf:fileGUID isn't truly unique (fileUUID is)\n"
     ]
    },
    {
     "name": "stdout",
     "output_type": "stream",
     "text": [
      "NWB Conversion complete for 19o10048.nwb\n",
      "\n"
     ]
    },
    {
     "name": "stderr",
     "output_type": "stream",
     "text": [
      "/Users/derek_howard/triplab/x-to-nwb/src/x_to_nwb/ABF2Converter.py:188: UserWarning: Could not find the JSON file data/raw/recordings/Human tissue/Human tissue-White noise_2019/October_10_2019_Epileptogenic zone/C5_L5/Intrinsic Properties_C5_L5/19o10055.json with settings.\n",
      "  warnings.warn(f\"Could not find the JSON file {settings} with settings.\")\n",
      "WARNING:pyabf.abf:fileGUID isn't truly unique (fileUUID is)\n"
     ]
    },
    {
     "name": "stdout",
     "output_type": "stream",
     "text": [
      "NWB Conversion complete for 19o10054.nwb\n",
      "\n"
     ]
    },
    {
     "name": "stderr",
     "output_type": "stream",
     "text": [
      "/Users/derek_howard/triplab/x-to-nwb/src/x_to_nwb/ABF2Converter.py:188: UserWarning: Could not find the JSON file data/raw/recordings/Human tissue/Human tissue-White noise_2019/October_10_2019_Epileptogenic zone/C6_L2/Intrinsic Properties_C6_L2/19o10062.json with settings.\n",
      "  warnings.warn(f\"Could not find the JSON file {settings} with settings.\")\n",
      "WARNING:pyabf.abf:fileGUID isn't truly unique (fileUUID is)\n"
     ]
    },
    {
     "name": "stdout",
     "output_type": "stream",
     "text": [
      "NWB Conversion complete for 19o10055.nwb\n",
      "\n"
     ]
    },
    {
     "name": "stderr",
     "output_type": "stream",
     "text": [
      "/Users/derek_howard/triplab/x-to-nwb/src/x_to_nwb/ABF2Converter.py:188: UserWarning: Could not find the JSON file data/raw/recordings/Human tissue/Human tissue-White noise_2019/October_10_2019_Epileptogenic zone/C6_L2/Intrinsic Properties_C6_L2/19o10063.json with settings.\n",
      "  warnings.warn(f\"Could not find the JSON file {settings} with settings.\")\n",
      "WARNING:pyabf.abf:fileGUID isn't truly unique (fileUUID is)\n"
     ]
    },
    {
     "name": "stdout",
     "output_type": "stream",
     "text": [
      "NWB Conversion complete for 19o10062.nwb\n",
      "\n"
     ]
    },
    {
     "name": "stderr",
     "output_type": "stream",
     "text": [
      "/Users/derek_howard/triplab/x-to-nwb/src/x_to_nwb/ABF2Converter.py:188: UserWarning: Could not find the JSON file data/raw/recordings/Human tissue/Human tissue-White noise_2019/October_10_2019_Epileptogenic zone/C6_L2/Intrinsic Properties_C6_L2/19o10065.json with settings.\n",
      "  warnings.warn(f\"Could not find the JSON file {settings} with settings.\")\n",
      "WARNING:pyabf.abf:fileGUID isn't truly unique (fileUUID is)\n"
     ]
    },
    {
     "name": "stdout",
     "output_type": "stream",
     "text": [
      "NWB Conversion complete for 19o10063.nwb\n",
      "\n"
     ]
    },
    {
     "name": "stderr",
     "output_type": "stream",
     "text": [
      "/Users/derek_howard/triplab/x-to-nwb/src/x_to_nwb/ABF2Converter.py:188: UserWarning: Could not find the JSON file data/raw/recordings/Human tissue/Human tissue-White noise_2019/Sep_03-2019/C1_L2/Intrinsic Properties_C1_L2/2019_09_03_0017.json with settings.\n",
      "  warnings.warn(f\"Could not find the JSON file {settings} with settings.\")\n",
      "WARNING:pyabf.abf:fileGUID isn't truly unique (fileUUID is)\n",
      "/Users/derek_howard/triplab/x-to-nwb/src/x_to_nwb/ABF2Converter.py:519: UserWarning: Could not find the scale factor for the stimset None, using 1.0 as fallback.\n",
      "  warnings.warn(\n",
      "/Users/derek_howard/triplab/x-to-nwb/src/x_to_nwb/ABF2Converter.py:550: UserWarning: Could not find settings for amplifier unknown of channel Vm_primary.\n",
      "  warnings.warn(f\"Could not find settings for amplifier {amplifier} of channel {adcName}.\")\n",
      "/Users/derek_howard/triplab/x-to-nwb/src/x_to_nwb/ABF2Converter.py:605: UserWarning: Unsupported clamp mode {clampMode}\n",
      "  warnings.warn(\"Unsupported clamp mode {clampMode}\")\n",
      "/Users/derek_howard/triplab/x-to-nwb/src/x_to_nwb/ABF2Converter.py:188: UserWarning: Could not find the JSON file data/raw/recordings/Human tissue/Human tissue-White noise_2019/Sep_03-2019/C1_L2/Intrinsic Properties_C1_L2/2019_09_03_0020.json with settings.\n",
      "  warnings.warn(f\"Could not find the JSON file {settings} with settings.\")\n",
      "WARNING:pyabf.abf:fileGUID isn't truly unique (fileUUID is)\n"
     ]
    },
    {
     "name": "stdout",
     "output_type": "stream",
     "text": [
      "NWB Conversion complete for 19o10065.nwb\n",
      "\n",
      "****************************************************************************************************\n",
      "Error: 'bias_current' \n",
      " data/raw/recordings/Human tissue/Human tissue-White noise_2019/Sep_03-2019/C1_L2/Intrinsic Properties_C1_L2/2019_09_03_0017.abf \n",
      "\n",
      "NWB Conversion complete for 2019_09_03_0020.nwb\n",
      "\n",
      "CPU times: user 33 s, sys: 1.94 s, total: 34.9 s\n",
      "Wall time: 36 s\n"
     ]
    }
   ],
   "source": [
    "%%time\n",
    "errors = []\n",
    "\n",
    "for i, file_info in to_convert.iterrows():\n",
    "    abf = pyabf.ABF(file_info.path)\n",
    "    try:\n",
    "        file_stem = file_info.file_id\n",
    "        stim_chan = abf.dacNames[1] #'I_clampsec'\n",
    "        resp_chan = abf.adcNames[0] #'Vm_sec'\n",
    "        \n",
    "        meta = {\n",
    "            'Subject': {\n",
    "                'age': None,\n",
    "                'description': f'{file_info.abf_comments}',\n",
    "                'species': 'Homo sapiens',\n",
    "                'subject_id': f'Donor_{file_info.file_id}'\n",
    "            }\n",
    "        }\n",
    "\n",
    "        \n",
    "        output_path = output_dir / f'{file_stem}.nwb'\n",
    "        nwb = ABF2Converter.ABF2Converter(file_info.path, str(output_path), includeChannelList=[resp_chan], stimulus_name=stim_chan, metadata=meta)\n",
    "        print(\"NWB Conversion complete for \" + file_stem +'.nwb\\n')\n",
    "        \n",
    "    except (ValueError, IndexError, TypeError, KeyError) as e:\n",
    "        print('**'*50)\n",
    "        print(f'Error: {e} \\n {file_info.path} \\n')\n",
    "        errors.append((e, file_info.file_id, file_info.path))"
   ]
  },
  {
   "cell_type": "code",
   "execution_count": 20,
   "id": "406145d0",
   "metadata": {},
   "outputs": [],
   "source": [
    "error_df = pd.DataFrame(errors, columns = ['error', 'file_id', 'path'])"
   ]
  },
  {
   "cell_type": "code",
   "execution_count": 21,
   "id": "2509812b",
   "metadata": {},
   "outputs": [
    {
     "data": {
      "text/html": [
       "<div>\n",
       "<style scoped>\n",
       "    .dataframe tbody tr th:only-of-type {\n",
       "        vertical-align: middle;\n",
       "    }\n",
       "\n",
       "    .dataframe tbody tr th {\n",
       "        vertical-align: top;\n",
       "    }\n",
       "\n",
       "    .dataframe thead th {\n",
       "        text-align: right;\n",
       "    }\n",
       "</style>\n",
       "<table border=\"1\" class=\"dataframe\">\n",
       "  <thead>\n",
       "    <tr style=\"text-align: right;\">\n",
       "      <th></th>\n",
       "      <th>error</th>\n",
       "      <th>file_id</th>\n",
       "      <th>path</th>\n",
       "    </tr>\n",
       "  </thead>\n",
       "  <tbody>\n",
       "    <tr>\n",
       "      <th>0</th>\n",
       "      <td>'bias_current'</td>\n",
       "      <td>2019_09_03_0017</td>\n",
       "      <td>data/raw/recordings/Human tissue/Human tissue-...</td>\n",
       "    </tr>\n",
       "  </tbody>\n",
       "</table>\n",
       "</div>"
      ],
      "text/plain": [
       "            error          file_id  \\\n",
       "0  'bias_current'  2019_09_03_0017   \n",
       "\n",
       "                                                path  \n",
       "0  data/raw/recordings/Human tissue/Human tissue-...  "
      ]
     },
     "execution_count": 21,
     "metadata": {},
     "output_type": "execute_result"
    }
   ],
   "source": [
    "error_df"
   ]
  },
  {
   "cell_type": "markdown",
   "id": "bf956dfc",
   "metadata": {},
   "source": [
    "## Validate the NWB files"
   ]
  },
  {
   "cell_type": "code",
   "execution_count": 22,
   "id": "913cb114",
   "metadata": {},
   "outputs": [
    {
     "name": "stdout",
     "output_type": "stream",
     "text": [
      "2021-06-01 16:34:50,392 [    INFO] data/processed/recordings/2019_11_28_0010.nwb: ok\n",
      "2021-06-01 16:34:52,118 [    INFO] data/processed/recordings/2019_11_28_0038.nwb: ok\n",
      "2021-06-01 16:34:53,988 [    INFO] data/processed/recordings/2019_11_26_0019.nwb: ok\n",
      "2021-06-01 16:34:55,738 [    INFO] data/processed/recordings/2019_11_28_0016.nwb: ok\n",
      "2021-06-01 16:34:57,531 [    INFO] data/processed/recordings/2019_11_26_0037.nwb: ok\n",
      "2021-06-01 16:34:59,449 [    INFO] data/processed/recordings/19o10045.nwb: ok\n",
      "2021-06-01 16:35:01,312 [    INFO] data/processed/recordings/2019_11_04_0083.nwb: ok\n",
      "2021-06-01 16:35:02,991 [    INFO] data/processed/recordings/19o10046.nwb: ok\n",
      "2021-06-01 16:35:04,730 [    INFO] data/processed/recordings/2019_11_04_0084.nwb: ok\n",
      "2021-06-01 16:35:06,538 [    INFO] data/processed/recordings/2019_11_26_0094.nwb: ok\n",
      "2021-06-01 16:35:08,264 [    INFO] data/processed/recordings/2019_11_04_0085.nwb: ok\n",
      "2021-06-01 16:35:09,925 [    INFO] data/processed/recordings/19o10055.nwb: ok\n",
      "2021-06-01 16:35:11,708 [    INFO] data/processed/recordings/19o10054.nwb: ok\n",
      "2021-06-01 16:35:13,513 [    INFO] data/processed/recordings/2019_11_28_0114.nwb: ok\n",
      "2021-06-01 16:35:15,298 [    INFO] data/processed/recordings/2019_11_26_0110.nwb: ok\n",
      "2021-06-01 16:35:17,078 [    INFO] data/processed/recordings/2019_11_28_0079.nwb: ok\n",
      "2021-06-01 16:35:18,826 [    INFO] data/processed/recordings/2019_11_28_0119.nwb: ok\n",
      "2021-06-01 16:35:20,633 [    INFO] data/processed/recordings/2019_11_04_0128.nwb: ok\n",
      "2021-06-01 16:35:22,485 [    INFO] data/processed/recordings/19o10065.nwb: ok\n",
      "2021-06-01 16:35:24,275 [    INFO] data/processed/recordings/2019_11_28_0127.nwb: ok\n",
      "2021-06-01 16:35:26,093 [    INFO] data/processed/recordings/2019_11_28_0090.nwb: ok\n",
      "2021-06-01 16:35:27,877 [    INFO] data/processed/recordings/19o10063.nwb: ok\n",
      "2021-06-01 16:35:29,673 [    INFO] data/processed/recordings/19o10062.nwb: ok\n",
      "2021-06-01 16:35:31,488 [    INFO] data/processed/recordings/2019_11_26_0103.nwb: ok\n",
      "2021-06-01 16:35:33,273 [    INFO] data/processed/recordings/2019_11_04_0098.nwb: ok\n",
      "2021-06-01 16:35:34,998 [    INFO] data/processed/recordings/2019_11_28_0054.nwb: ok\n",
      "2021-06-01 16:35:36,753 [    INFO] data/processed/recordings/19o10048.nwb: ok\n",
      "2021-06-01 16:35:38,471 [    INFO] data/processed/recordings/2019_11_04_0003.nwb: ok\n",
      "2021-06-01 16:35:40,245 [    INFO] data/processed/recordings/19o10012.nwb: ok\n",
      "2021-06-01 16:35:41,979 [    INFO] data/processed/recordings/2019_11_26_0006.nwb: ok\n",
      "2021-06-01 16:35:43,928 [    INFO] data/processed/recordings/2019_11_04_0002.nwb: ok\n",
      "2021-06-01 16:35:45,692 [    INFO] data/processed/recordings/19o10011.nwb: ok\n",
      "2021-06-01 16:35:47,517 [    INFO] data/processed/recordings/19o10010.nwb: ok\n",
      "2021-06-01 16:35:49,323 [    INFO] data/processed/recordings/2019_11_04_0001.nwb: ok\n",
      "2021-06-01 16:35:51,084 [    INFO] data/processed/recordings/2019_09_03_0020.nwb: ok\n",
      "\u001b[32m\u001b[1mSummary: No validation errors among 35 file(s)\u001b[0m\n",
      "2021-06-01 16:35:51,085 [    INFO] Logs saved in /Users/derek_howard/Library/Logs/dandi-cli/20210601203446Z-44744.log\n"
     ]
    }
   ],
   "source": [
    "!dandi validate \"data/processed/recordings\""
   ]
  },
  {
   "cell_type": "markdown",
   "id": "e48c9c2f",
   "metadata": {},
   "source": [
    "## Explore the error in conversion"
   ]
  },
  {
   "cell_type": "code",
   "execution_count": 23,
   "id": "b923c30b",
   "metadata": {},
   "outputs": [],
   "source": [
    "import pyabf.plot"
   ]
  },
  {
   "cell_type": "code",
   "execution_count": 24,
   "id": "633f8a5d",
   "metadata": {},
   "outputs": [
    {
     "data": {
      "image/png": "[encoded data removed]",
      "text/plain": [
       "<Figure size 576x432 with 1 Axes>"
      ]
     },
     "metadata": {
      "needs_background": "light"
     },
     "output_type": "display_data"
    }
   ],
   "source": [
    "# plot all files with errors\n",
    "for i, row in error_df.iterrows():\n",
    "    abf = pyabf.ABF(row.path)\n",
    "    stim_chan = abf.dacNames[1]\n",
    "    resp_chan = abf.adcNames[0]\n",
    "    pyabf.plot.sweeps(abf, offsetXsec=.1, offsetYunits=20, startAtSec=0, endAtSec=1.5, channel=0)\n",
    "    pyabf.plot.scalebar(abf, hideFrame=True)"
   ]
  },
  {
   "cell_type": "code",
   "execution_count": 25,
   "id": "807fe23c",
   "metadata": {},
   "outputs": [
    {
     "data": {
      "image/png": "[encoded data removed]",
      "text/plain": [
       "<Figure size 576x432 with 1 Axes>"
      ]
     },
     "metadata": {
      "needs_background": "light"
     },
     "output_type": "display_data"
    }
   ],
   "source": [
    "# plot all files with errors\n",
    "for i, row in error_df.iterrows():\n",
    "    abf = pyabf.ABF(row.path)\n",
    "    stim_chan = abf.dacNames[1]\n",
    "    resp_chan = abf.adcNames[0]\n",
    "    pyabf.plot.sweeps(abf, offsetXsec=.1, offsetYunits=20, startAtSec=0, endAtSec=1.5, channel=1)\n",
    "    pyabf.plot.scalebar(abf, hideFrame=True)"
   ]
  },
  {
   "cell_type": "code",
   "execution_count": 26,
   "id": "33d0c250",
   "metadata": {
    "scrolled": true
   },
   "outputs": [],
   "source": [
    "error_info = to_convert[to_convert.file_id == error_df.loc[0, 'file_id']].reset_index()"
   ]
  },
  {
   "cell_type": "code",
   "execution_count": 27,
   "id": "40254516",
   "metadata": {},
   "outputs": [],
   "source": [
    "output_dir = Path(\"data/processed/test_errors_recordings\")\n",
    "output_dir.mkdir(exist_ok=True)"
   ]
  },
  {
   "cell_type": "code",
   "execution_count": 28,
   "id": "42b8e70d",
   "metadata": {},
   "outputs": [
    {
     "name": "stderr",
     "output_type": "stream",
     "text": [
      "/Users/derek_howard/triplab/x-to-nwb/src/x_to_nwb/ABF2Converter.py:188: UserWarning: Could not find the JSON file data/raw/recordings/Human tissue/Human tissue-White noise_2019/Sep_03-2019/C1_L2/Intrinsic Properties_C1_L2/2019_09_03_0017.json with settings.\n",
      "  warnings.warn(f\"Could not find the JSON file {settings} with settings.\")\n",
      "WARNING:pyabf.abf:fileGUID isn't truly unique (fileUUID is)\n",
      "/Users/derek_howard/miniconda3/envs/nwbephystest/lib/python3.8/site-packages/pynwb/file.py:753: UserWarning: Date is missing timezone information. Updating to local timezone.\n",
      "  warn(\"Date is missing timezone information. Updating to local timezone.\")\n",
      "/Users/derek_howard/triplab/x-to-nwb/src/x_to_nwb/ABF2Converter.py:519: UserWarning: Could not find the scale factor for the stimset None, using 1.0 as fallback.\n",
      "  warnings.warn(\n",
      "/Users/derek_howard/triplab/x-to-nwb/src/x_to_nwb/ABF2Converter.py:627: UserWarning: The channel settings ['I_clampsec'] (included) and None (discarded) resulted in an empty channelList for /Users/derek_howard/triplab/testingephys/nwb_conversion/data/raw/recordings/Human tissue/Human tissue-White noise_2019/Sep_03-2019/C1_L2/Intrinsic Properties_C1_L2/2019_09_03_0017.abf with the unfiltered channels being ['Vm_primary', 'Vm_sec', 'IN 10'].\n",
      "  warnings.warn(\n"
     ]
    },
    {
     "name": "stdout",
     "output_type": "stream",
     "text": [
      "NWB Conversion complete for 2019_09_03_0017.nwb\n",
      "\n"
     ]
    }
   ],
   "source": [
    "for i, file_info in error_info.iterrows():\n",
    "    abf = pyabf.ABF(file_info.path)\n",
    "    try:\n",
    "        file_stem = file_info.file_id\n",
    "        stim_chan = abf.adcNames[0] #'I_clampsec'\n",
    "        resp_chan = abf.dacNames[1] #'Vm_sec'\n",
    "\n",
    "        meta = {\n",
    "            'Subject': {\n",
    "                'age': None,\n",
    "                'description': f'{file_info.abf_comments}',\n",
    "                'species': 'Homo sapiens',\n",
    "                'subject_id': f'Donor_{file_info.file_id}'\n",
    "            }\n",
    "        }\n",
    "\n",
    "\n",
    "        output_path = output_dir / f'{file_stem}.nwb'\n",
    "        nwb = ABF2Converter.ABF2Converter(file_info.path, str(output_path), includeChannelList=[resp_chan], stimulus_name=stim_chan, metadata=meta)\n",
    "        print(\"NWB Conversion complete for \" + file_stem +'.nwb\\n')\n",
    "\n",
    "    except (ValueError, IndexError, TypeError, KeyError) as e:\n",
    "        print('**'*50)\n",
    "        print(f'Error: {e} \\n {file_info.path} \\n')\n",
    "        errors.append((e, file_info.file_id, file_info.path))"
   ]
  },
  {
   "cell_type": "code",
   "execution_count": 29,
   "id": "cae76b99",
   "metadata": {},
   "outputs": [
    {
     "name": "stdout",
     "output_type": "stream",
     "text": [
      "2021-06-01 16:35:56,275 [    INFO] data/processed/test_errors_recordings/2019_09_03_0017.nwb: ok\r\n",
      "\u001b[32m\u001b[1mSummary: No validation errors among 1 file(s)\u001b[0m\r\n",
      "2021-06-01 16:35:56,275 [    INFO] Logs saved in /Users/derek_howard/Library/Logs/dandi-cli/20210601203552Z-44749.log\r\n"
     ]
    }
   ],
   "source": [
    "!dandi validate \"data/processed/test_errors_recordings\""
   ]
  },
  {
   "cell_type": "code",
   "execution_count": null,
   "id": "9aeb914c",
   "metadata": {},
   "outputs": [],
   "source": []
  }
 ],
 "metadata": {
  "kernelspec": {
   "display_name": "Python 3",
   "language": "python",
   "name": "python3"
  },
  "language_info": {
   "codemirror_mode": {
    "name": "ipython",
    "version": 3
   },
   "file_extension": ".py",
   "mimetype": "text/x-python",
   "name": "python",
   "nbconvert_exporter": "python",
   "pygments_lexer": "ipython3",
   "version": "3.8.8"
  }
 },
 "nbformat": 4,
 "nbformat_minor": 5
}
