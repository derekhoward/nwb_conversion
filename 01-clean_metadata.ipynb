{
 "cells": [
  {
   "cell_type": "code",
   "execution_count": 1,
   "id": "ac5f6f1b",
   "metadata": {},
   "outputs": [],
   "source": [
    "from pathlib import Path\n",
    "import pandas as pd"
   ]
  },
  {
   "cell_type": "code",
   "execution_count": 2,
   "id": "4107014e",
   "metadata": {},
   "outputs": [],
   "source": [
    "# meta \n",
    "h19meta = pd.read_csv('./data/raw/Metadata/Human19_Metadata.csv', index_col=0)\n",
    "h19meta = h19meta[h19meta.stimulus_type == 'longsquare']\n",
    "h19meta.rename(columns={'ZD': 'ZD status'}, inplace=True)\n",
    "\n",
    "h18meta = pd.read_csv('./data/raw/Metadata/Human18_Metadata.csv', index_col=0)\n",
    "h18meta = h18meta[h18meta['Stimulus type'] == 'Long_Square']\n",
    "h18meta.rename(columns={'ZD': 'ZD status'}, inplace=True)\n",
    "\n",
    "m19meta = pd.read_csv('./data/raw/Metadata/Mouse19_Metadata.csv', index_col=0)\n",
    "m19meta = m19meta[m19meta.stimulus_type == 'longsquare']\n",
    "\n",
    "m18meta = pd.read_csv('./data/raw/Metadata/Mouse18_Metadata.csv', index_col=0)\n",
    "m18meta = m18meta[m18meta.stimulus_type == 'longsquare']"
   ]
  },
  {
   "cell_type": "code",
   "execution_count": 3,
   "id": "2dac518b",
   "metadata": {},
   "outputs": [
    {
     "data": {
      "text/plain": [
       "(56, 16)"
      ]
     },
     "execution_count": 3,
     "metadata": {},
     "output_type": "execute_result"
    }
   ],
   "source": [
    "h19meta.shape"
   ]
  },
  {
   "cell_type": "code",
   "execution_count": 4,
   "id": "d90c1393",
   "metadata": {},
   "outputs": [],
   "source": [
    "# solutions metadata for converted nwbs\n",
    "solutions_df = pd.read_csv('./data/raw/Metadata/extracted_features_Solutions.csv', usecols=['nwb', 'Extra-Solution', 'Internal-solution'])\n",
    "\n",
    "solutions_df.rename(columns={'Extra-Solution': 'external_soln', \n",
    "                             'Internal-solution': 'internal_soln'}, inplace=True)\n",
    "\n",
    "solutions_df['file_id'] = solutions_df.nwb.str.rstrip('.nwb')\n",
    "solutions_df.drop('nwb', axis=1, inplace=True)"
   ]
  },
  {
   "cell_type": "markdown",
   "id": "f348636c",
   "metadata": {},
   "source": [
    "## Demographics data cleaning"
   ]
  },
  {
   "cell_type": "code",
   "execution_count": 5,
   "id": "fcd4ccb5",
   "metadata": {},
   "outputs": [],
   "source": [
    "dem19 = pd.read_excel('./data/raw/Demographic_information/Human tissue-2019-Demographic information.xlsx', engine='openpyxl').dropna(how='all')\n",
    "dem18 = pd.read_excel('./data/raw/Demographic_information/Human tissue-2018-Demographic information.xlsx', engine='openpyxl').dropna(how='all')"
   ]
  },
  {
   "cell_type": "code",
   "execution_count": 6,
   "id": "6d969284",
   "metadata": {},
   "outputs": [],
   "source": [
    "resection19_map = {\n",
    "    'R Ant Temp Lobe + Amygdalohippocampectomy': 'Right-ATL',\n",
    "    'L Ant Temp Lobe + Amygdalohippocampectomy': 'Left-ATL',\n",
    "    'L Ant Temp Lobectomy ': 'Left-ATL',\n",
    "    'Left Anterior temporal lobectomy + Amygdalohippocampectomy': 'Left-ATL',\n",
    "    'L Awake Temp crani for resection with ECoG': 'Left-ATL', \n",
    "    'Left temporal lobectomy + Amygdalohippocampectomy +/- skull defect repair': 'Left-ATL',\n",
    "    'Resection of mass from left parietal lobe (update required)': 'Parietal lobe',\n",
    "    'R awake craniotomy with ECOG (SMA)': 'Right-ATL', \n",
    "    'R Ant Temp Lobe + Amygdalohippocampectomy + dermoid cyst resection': 'Right-ATL',\n",
    "    'L Temp crani for tumor resection + ECoG': 'Left-ATL' \n",
    "}\n",
    "\n",
    "dem19['resection_location'] = dem19['Resection Procedure '].map(resection19_map)\n",
    "\n",
    "\n",
    "resection18_map = {\n",
    "    'L ATL + Amyg': 'Left-ATL',\n",
    "    'R ATL + Amyg': 'Right-ATL',\n",
    "    'R ATL + Amyg + DNET removal': 'Right-ATL', #DNET: dysembryoplastic neuroepithelial tumor? \n",
    "    'R Awake FL Crani for Lesion resection': 'Right-FL', \n",
    "    'NOT A RESECTION:  Patient Specific Implant': 'Unknown',\n",
    "    'R Awake Crani with EcOG': 'Unknown',\n",
    "    'L ATL + Amyg + lesion with resection of cavernoma': 'Left-ATL',\n",
    "    'R ATL + Amyg + lesion with resection of cavernoma': 'Right-ATL', \n",
    "    'L ATL + Amyg + cavernoma resection': 'Left-ATL',\n",
    "    'L FL for lesion': 'Left-FL' \n",
    "}\n",
    "\n",
    "dem18['resection_location'] = dem18['Resection Procedure '].map(resection18_map)"
   ]
  },
  {
   "cell_type": "code",
   "execution_count": 7,
   "id": "e68caf62",
   "metadata": {},
   "outputs": [],
   "source": [
    "# should we change diagnosis column to tumour presence column?\n",
    "diagnosis18_map = {\n",
    "    'Medically refractory epilepsy': 'Epilepsy',\n",
    "    'Medically refractory epilepsy plus non-febrile sz in infancy (TX with phenobarbital)': 'Epilepsy',\n",
    "    \"Can't access; pt expired\": 'Unknown',\n",
    "    'Medically refractory epilepsy + tumor': 'Tumor', #both\n",
    "    'Cavernous malformation': '',\n",
    "    'Medically refractory epilepsy; lesion': 'Epilepsy',\n",
    "    'Left mesial temporal sclerosis': 'Epilepsy',\n",
    "    'Left temporal tumor, probably DNET; seizures': 'Tumor', #both\n",
    "    'left sided mesial temporal sclerosis and medically refractory epilepsy': 'Epilepsy',\n",
    "    'Right sided mesial temporal sclerosis and medically refractory epilepsy': 'Epilepsy',\n",
    "    'Left MTL cavernoma and medically intractable epilepsy': 'Epilepsy',\n",
    "    'Right mesiotemporal intraaxial tumor and epilepsy': 'Tumor', #both\n",
    "    'Left MTL cavernoma resection leading to absence seizures': 'Epilepsy',\n",
    "    '(likely MRE with tumor)': 'Tumor' #both\n",
    "    \n",
    "}\n",
    "\n",
    "dem18.rename(columns={'Diagnosis': 'Diagnosis_long'}, inplace=True)\n",
    "dem18['diagnosis'] = dem18['Diagnosis_long'].str.strip().map(diagnosis18_map)\n",
    "\n",
    "\n",
    "diagnosis19_map = {\n",
    "    'Medically refractory epilepsy': 'Epilepsy',\n",
    "    'Emergency Pt.': 'Unknown',\n",
    "    'Medically refractory epilepsy -likely glioneural hamartoma': 'Tumor', #both\n",
    "    'Medically refractory epilepsy secondary to underlying dermoid cyst': 'Epilepsy', #unsure?\n",
    "    'Medically refractory epilepsy with right sided mesial temporal sclerosis': 'Epilepsy',\n",
    "    'Mesial Temporal Epilepsy': 'Epilepsy'\n",
    "}\n",
    "\n",
    "dem19.rename(columns={'Diagnosis': 'Diagnosis_long'}, inplace=True)\n",
    "dem19['diagnosis'] = dem19['Diagnosis_long'].str.strip().map(diagnosis19_map)\n",
    "\n",
    "\n",
    "\n",
    "demog_cols = ['PatientId', 'Sex', 'Age At OR ','Years of Seizure history', 'diagnosis', 'Diagnosis_long',\n",
    "              'SX type', 'resection_location', 'Resection Procedure ', 'Focal cortical dysplasia (FCD)',\n",
    "              'Other Imaging notes','Antiepileptic Drugs ']"
   ]
  },
  {
   "cell_type": "code",
   "execution_count": 8,
   "id": "cab085d2",
   "metadata": {},
   "outputs": [],
   "source": [
    "idmap_h19 = {\n",
    "    \"2019_11_04_0098\": 1912,\n",
    "    \"2019_11_04_0128\": 1912,\n",
    "    \"2019_11_26_0103\": 1913,\n",
    "    \"2019_11_28_0016\": 1914,\n",
    "    \"2019_11_28_0054\": 1914,\n",
    "    \"2019_11_28_0090\": 1914,\n",
    "    \"2019_11_28_0114\": 1914,\n",
    "    \"2019_11_28_0127\": 1914,\n",
    "    \"19228030\": 1906,\n",
    "    \"19228044\": 1906,\n",
    "    \"19228058\": 1906,\n",
    "    \"19228068\": 1906,\n",
    "    \"19122003\": 1901,\n",
    "    \"19122026\": 1901,\n",
    "    \"19128006\": 1902,\n",
    "    \"19128040\": 1902,\n",
    "    \"19128061\": 1902, \n",
    "    \"19128068\": 1902,\n",
    "    \"19129058\": 1903,\n",
    "    \"19129072\": 1903,\n",
    "    \"19129014\": 1903,\n",
    "    \"19129022\": 1903,\n",
    "    \"19129024\": 1903,\n",
    "    \"19129037\": 1903,\n",
    "    \"19129040\": 1903,\n",
    "    \"19129043\": 1903,\n",
    "    \"19129047\": 1903,\n",
    "    \"19319025\": 1907,\n",
    "    \"19320001\": 1908,\n",
    "    \"19320007\": 1908,\n",
    "    \"19320017\": 1908,\n",
    "    \"19320022\": 1908,\n",
    "    \"19320025\": 1908,\n",
    "    \"19320030\": 1908,\n",
    "    \"19320041\": 1908,\n",
    "    \"19328001\": 1909,\n",
    "    \"19328009\": 1909,\n",
    "    \"19328019\": 1909,\n",
    "    \"19328034\": 1909,\n",
    "    \"19328039\": 1909,\n",
    "    \"19328046\": 1909,\n",
    "    \"2019_11_04_0001\": 1912,\n",
    "    \"2019_11_04_0083\": 1912,\n",
    "    \"2019_11_26_0006\": 1913,\n",
    "    \"2019_11_26_0019\": 1913,\n",
    "    \"2019_11_26_0037\": 1913,\n",
    "    \"2019_11_26_0094\": 1913,\n",
    "    \"2019_11_26_0110\": 1913,\n",
    "    \"2019_11_28_0010\": 1914,\n",
    "    \"2019_11_28_0038\": 1914,\n",
    "    \"2019_11_28_0079\": 1914,\n",
    "    \"2019_11_28_0119\": 1914,\n",
    "    \"19o10010\": 1911,\n",
    "    \"19o10045\": 1911,\n",
    "    \"19o10054\": 1911,\n",
    "    \"19o10065\": 1911\n",
    "    }\n",
    "\n",
    "\n",
    "idmap_h18 = {\n",
    "    \"18320005\": 1808, #case1\n",
    "    \"18320015\": 1808, #case1\n",
    "    \"18320021\": 1808, #case1\n",
    "    \"18320014\": 1809, #case2\n",
    "    \"18320019\": 1809, #case2\n",
    "    \"18320031\": 1809, #case2\n",
    "    \"18426010\": 1815, #could be case 1816?\n",
    "    \"18426017\": 1815, #could be case 1816?\n",
    "    \"18201004\": 1802,\n",
    "    \"18201011\": 1802,\n",
    "    \"18201028\": 1802,\n",
    "    \"18220008\": 1803,\n",
    "    \"18220019\": 1803,\n",
    "    \"18129004\": 1801,\n",
    "    \"18129009\": 1801,\n",
    "    \"18329051\": 1813,\n",
    "    \"18329062\": 1813,\n",
    "    \"18329014\": 1813,\n",
    "    \"18329044\": 1813,\n",
    "    \"18o22001\": 1822,\n",
    "    \"18o22010\": 1822,\n",
    "    \"18o22020\": 1822\n",
    "    }"
   ]
  },
  {
   "cell_type": "code",
   "execution_count": 9,
   "id": "7b802c2b",
   "metadata": {},
   "outputs": [],
   "source": [
    "h19meta['PatientId'] = h19meta['ABF File'].map(idmap_h19)\n",
    "h18meta['PatientId'] = h18meta['ABF File'].map(idmap_h18)"
   ]
  },
  {
   "cell_type": "code",
   "execution_count": 10,
   "id": "38a9aafd",
   "metadata": {},
   "outputs": [
    {
     "name": "stdout",
     "output_type": "stream",
     "text": [
      "Index(['ABF File', 'Data Type', 'Exp. Date', 'Cell #', 'Cell Layer',\n",
      "       'Stim Type', 'Threshold', 'DC', 'ZD status', 'Hold', 'Gain', 'Offset',\n",
      "       'Response Channel', 'Command Channel', 'RMP', 'stimulus_type',\n",
      "       'PatientId'],\n",
      "      dtype='object')\n",
      "Index(['ABF File', 'Data Type', 'Exp. Date', 'Case #', 'Cell #', 'Cell Layer',\n",
      "       'Stim Type', 'Threshold', 'Gain Value', 'ZD status', 'Hold',\n",
      "       'Unnamed: 12', 'Gain', 'Offset', 'Response Channel', 'Command Channel',\n",
      "       'RMP', 'Stimulus type', 'PatientId'],\n",
      "      dtype='object')\n",
      "Index(['Cell Name', 'Data Type', 'Exp. Date', 'Cell #', 'Cell Layer',\n",
      "       'Stim Type', 'ZD status', 'stimulus_type', 'Gain', 'Offset',\n",
      "       'Response Channel', 'Command Channel', 'RMP'],\n",
      "      dtype='object')\n",
      "Index(['Cell Name', 'Data Type', 'Exp. Date', 'Cell #', 'Cell Layer',\n",
      "       'Stim Type', 'ZD status', 'stimulus_type', 'Gain', 'Offset',\n",
      "       'Response Channel', 'Command Channel', 'RMP'],\n",
      "      dtype='object')\n"
     ]
    }
   ],
   "source": [
    "print(h19meta.columns)\n",
    "print(h18meta.columns)\n",
    "print(m19meta.columns)\n",
    "print(m18meta.columns)"
   ]
  },
  {
   "cell_type": "code",
   "execution_count": 11,
   "id": "a4b5504f",
   "metadata": {},
   "outputs": [],
   "source": [
    "cols_to_select = ['ABF File', 'Data Type', 'Exp. Date', 'Cell #', 'Cell Layer', 'ZD status', 'RMP']\n",
    "hcols_to_select = cols_to_select + ['PatientId']"
   ]
  },
  {
   "cell_type": "code",
   "execution_count": 12,
   "id": "c1522db4",
   "metadata": {},
   "outputs": [
    {
     "data": {
      "text/plain": [
       "(14, 12)"
      ]
     },
     "execution_count": 12,
     "metadata": {},
     "output_type": "execute_result"
    }
   ],
   "source": [
    "dem19.loc[:, demog_cols].shape"
   ]
  },
  {
   "cell_type": "code",
   "execution_count": 13,
   "id": "1c49b654",
   "metadata": {},
   "outputs": [
    {
     "data": {
      "text/plain": [
       "(56, 8)"
      ]
     },
     "execution_count": 13,
     "metadata": {},
     "output_type": "execute_result"
    }
   ],
   "source": [
    "h19meta.loc[:, hcols_to_select].shape"
   ]
  },
  {
   "cell_type": "code",
   "execution_count": 14,
   "id": "518609e8",
   "metadata": {},
   "outputs": [],
   "source": [
    "# merge demogs into metadata\n",
    "h19meta = h19meta.loc[:, hcols_to_select].merge(dem19.loc[:, demog_cols], on='PatientId')\n",
    "# merge in solutions info\n",
    "h19meta = h19meta.merge(solutions_df, left_on='ABF File', right_on='file_id').drop('file_id', axis=1)"
   ]
  },
  {
   "cell_type": "code",
   "execution_count": 15,
   "id": "9e80fdcf",
   "metadata": {},
   "outputs": [
    {
     "data": {
      "text/plain": [
       "(22, 19)"
      ]
     },
     "execution_count": 15,
     "metadata": {},
     "output_type": "execute_result"
    }
   ],
   "source": [
    "h18meta.shape"
   ]
  },
  {
   "cell_type": "code",
   "execution_count": 16,
   "id": "69b057fc",
   "metadata": {},
   "outputs": [
    {
     "data": {
      "text/plain": [
       "(26, 12)"
      ]
     },
     "execution_count": 16,
     "metadata": {},
     "output_type": "execute_result"
    }
   ],
   "source": [
    "dem18.loc[:, demog_cols].shape"
   ]
  },
  {
   "cell_type": "code",
   "execution_count": 17,
   "id": "39ab27f2",
   "metadata": {},
   "outputs": [],
   "source": [
    "# this should merge essential metadata for h18 (should only really add solutions used for each recording)\n",
    "h18meta = h18meta.loc[:, hcols_to_select].merge(dem18.loc[:, demog_cols], on='PatientId')\n",
    "# merge in solutions info\n",
    "h18meta = h18meta.merge(solutions_df, left_on='ABF File', right_on='file_id').drop('file_id', axis=1)"
   ]
  },
  {
   "cell_type": "code",
   "execution_count": 18,
   "id": "533c5dff",
   "metadata": {},
   "outputs": [],
   "source": [
    "h18meta.rename(columns={'PatientId': 'subject_id', \n",
    "                      'Sex': 'sex',\n",
    "                      'Cell Layer': 'layer_name',\n",
    "                      'Age At OR ' : 'age',\n",
    "                      'Years of Seizure history': 'seizure_duration_years', \n",
    "                      #'Diagnosis': 'diagnosis',\n",
    "                      'Antiepileptic Drugs ': 'drugs',\n",
    "                      'Exp. Date': 'expt_date'}, inplace=True)"
   ]
  },
  {
   "cell_type": "code",
   "execution_count": 19,
   "id": "2dd031e6",
   "metadata": {},
   "outputs": [],
   "source": [
    "h19meta.rename(columns={'PatientId': 'subject_id', \n",
    "                      'Sex': 'sex',\n",
    "                      'Cell Layer': 'layer_name',\n",
    "                      'Age At OR ' : 'age',\n",
    "                      'Years of Seizure history': 'seizure_duration_years', \n",
    "                      #'Diagnosis': 'diagnosis',\n",
    "                      'Antiepileptic Drugs ': 'drugs',\n",
    "                      'Exp. Date': 'expt_date'}, inplace=True)"
   ]
  },
  {
   "cell_type": "markdown",
   "id": "10e72832",
   "metadata": {},
   "source": [
    "## Natcom metadata cleaning"
   ]
  },
  {
   "cell_type": "code",
   "execution_count": 20,
   "id": "02b2d948",
   "metadata": {},
   "outputs": [],
   "source": [
    "nat_com_meta_url = 'https://raw.githubusercontent.com/stripathy/valiante_lab_abf_process/master/output_files/cell_final_raw_meta_df.csv'\n",
    "nat_com_meta = pd.read_csv(nat_com_meta_url, index_col=0)\n",
    "nat_com_meta['cell_id'] = nat_com_meta.cell_id.apply(lambda x: x.rstrip('.abf'))"
   ]
  },
  {
   "cell_type": "code",
   "execution_count": 21,
   "id": "0cf946dc",
   "metadata": {},
   "outputs": [
    {
     "data": {
      "text/plain": [
       "Index(['cell_id', 'expt_date', 'layer_name', 'cell_type', 'recorder_name',\n",
       "       'full_path', 'abf_tag', 'abf_version', 'file_time', 'num_sweeps',\n",
       "       'resp_chan', 'resp_gain', 'resp_offset', 'resp_sampling_rate',\n",
       "       'rmp_error', 'rmp_val', 'stim_amp_vec', 'stim_chan', 'stim_duration',\n",
       "       'stim_end_time', 'stim_gain', 'stim_name', 'stim_path',\n",
       "       'stim_sampling_rate', 'stim_start_time', 'valid_stim'],\n",
       "      dtype='object')"
      ]
     },
     "execution_count": 21,
     "metadata": {},
     "output_type": "execute_result"
    }
   ],
   "source": [
    "nat_com_meta.columns"
   ]
  },
  {
   "cell_type": "code",
   "execution_count": 22,
   "id": "bd521b5e",
   "metadata": {},
   "outputs": [
    {
     "data": {
      "text/html": [
       "<div>\n",
       "<style scoped>\n",
       "    .dataframe tbody tr th:only-of-type {\n",
       "        vertical-align: middle;\n",
       "    }\n",
       "\n",
       "    .dataframe tbody tr th {\n",
       "        vertical-align: top;\n",
       "    }\n",
       "\n",
       "    .dataframe thead th {\n",
       "        text-align: right;\n",
       "    }\n",
       "</style>\n",
       "<table border=\"1\" class=\"dataframe\">\n",
       "  <thead>\n",
       "    <tr style=\"text-align: right;\">\n",
       "      <th></th>\n",
       "      <th>cell_id</th>\n",
       "      <th>expt_date</th>\n",
       "      <th>layer_name</th>\n",
       "      <th>cell_type</th>\n",
       "      <th>rmp_val</th>\n",
       "    </tr>\n",
       "  </thead>\n",
       "  <tbody>\n",
       "    <tr>\n",
       "      <th>0</th>\n",
       "      <td>13n05011</td>\n",
       "      <td>2013-11-05</td>\n",
       "      <td>L5</td>\n",
       "      <td>Pyr</td>\n",
       "      <td>-54.937742</td>\n",
       "    </tr>\n",
       "    <tr>\n",
       "      <th>1</th>\n",
       "      <td>13n21007</td>\n",
       "      <td>2013-11-21</td>\n",
       "      <td>L5</td>\n",
       "      <td>Pyr</td>\n",
       "      <td>-59.158322</td>\n",
       "    </tr>\n",
       "    <tr>\n",
       "      <th>2</th>\n",
       "      <td>13d02004</td>\n",
       "      <td>2013-12-02</td>\n",
       "      <td>L5</td>\n",
       "      <td>Pyr</td>\n",
       "      <td>-59.069821</td>\n",
       "    </tr>\n",
       "    <tr>\n",
       "      <th>3</th>\n",
       "      <td>13d02022</td>\n",
       "      <td>2013-12-02</td>\n",
       "      <td>L5</td>\n",
       "      <td>Pyr</td>\n",
       "      <td>-64.428708</td>\n",
       "    </tr>\n",
       "    <tr>\n",
       "      <th>4</th>\n",
       "      <td>13d02049</td>\n",
       "      <td>2013-12-02</td>\n",
       "      <td>L5</td>\n",
       "      <td>Pyr</td>\n",
       "      <td>-57.000000</td>\n",
       "    </tr>\n",
       "    <tr>\n",
       "      <th>...</th>\n",
       "      <td>...</td>\n",
       "      <td>...</td>\n",
       "      <td>...</td>\n",
       "      <td>...</td>\n",
       "      <td>...</td>\n",
       "    </tr>\n",
       "    <tr>\n",
       "      <th>207</th>\n",
       "      <td>2020_01_27_0042</td>\n",
       "      <td>2020-01-27</td>\n",
       "      <td>L5</td>\n",
       "      <td>Pyr</td>\n",
       "      <td>-60.700000</td>\n",
       "    </tr>\n",
       "    <tr>\n",
       "      <th>210</th>\n",
       "      <td>2020_01_28_0029</td>\n",
       "      <td>2020-01-28</td>\n",
       "      <td>L5</td>\n",
       "      <td>Pyr</td>\n",
       "      <td>-68.000000</td>\n",
       "    </tr>\n",
       "    <tr>\n",
       "      <th>208</th>\n",
       "      <td>2020_01_28_0008</td>\n",
       "      <td>2020-01-28</td>\n",
       "      <td>L5</td>\n",
       "      <td>Pyr</td>\n",
       "      <td>-65.000000</td>\n",
       "    </tr>\n",
       "    <tr>\n",
       "      <th>209</th>\n",
       "      <td>2020_01_28_0017</td>\n",
       "      <td>2020-01-28</td>\n",
       "      <td>L5</td>\n",
       "      <td>Pyr</td>\n",
       "      <td>-55.000000</td>\n",
       "    </tr>\n",
       "    <tr>\n",
       "      <th>211</th>\n",
       "      <td>2020_03_02_0023</td>\n",
       "      <td>2020-03-02</td>\n",
       "      <td>L5</td>\n",
       "      <td>Pyr</td>\n",
       "      <td>-68.000000</td>\n",
       "    </tr>\n",
       "  </tbody>\n",
       "</table>\n",
       "<p>212 rows × 5 columns</p>\n",
       "</div>"
      ],
      "text/plain": [
       "             cell_id   expt_date layer_name cell_type    rmp_val\n",
       "0           13n05011  2013-11-05         L5       Pyr -54.937742\n",
       "1           13n21007  2013-11-21         L5       Pyr -59.158322\n",
       "2           13d02004  2013-12-02         L5       Pyr -59.069821\n",
       "3           13d02022  2013-12-02         L5       Pyr -64.428708\n",
       "4           13d02049  2013-12-02         L5       Pyr -57.000000\n",
       "..               ...         ...        ...       ...        ...\n",
       "207  2020_01_27_0042  2020-01-27         L5       Pyr -60.700000\n",
       "210  2020_01_28_0029  2020-01-28         L5       Pyr -68.000000\n",
       "208  2020_01_28_0008  2020-01-28         L5       Pyr -65.000000\n",
       "209  2020_01_28_0017  2020-01-28         L5       Pyr -55.000000\n",
       "211  2020_03_02_0023  2020-03-02         L5       Pyr -68.000000\n",
       "\n",
       "[212 rows x 5 columns]"
      ]
     },
     "execution_count": 22,
     "metadata": {},
     "output_type": "execute_result"
    }
   ],
   "source": [
    "nat_com_meta.loc[:, ['cell_id', 'expt_date', 'layer_name', 'cell_type', 'rmp_val']]"
   ]
  },
  {
   "cell_type": "code",
   "execution_count": 23,
   "id": "6d77bf3f",
   "metadata": {},
   "outputs": [],
   "source": [
    "# extract demographics data from Shreejoys repo\n",
    "demog_url = 'https://raw.githubusercontent.com/stripathy/valiante_ih/master/summary_tables/cells_w_demographic_data.csv'\n",
    "demog_df = pd.read_csv(demog_url, index_col=0)\n",
    "demog_df['cell_id'] = demog_df.cell_id.apply(lambda x: x.rstrip('.abf'))"
   ]
  },
  {
   "cell_type": "code",
   "execution_count": 24,
   "id": "df6c9187",
   "metadata": {},
   "outputs": [
    {
     "data": {
      "text/plain": [
       "(160, 45)"
      ]
     },
     "execution_count": 24,
     "metadata": {},
     "output_type": "execute_result"
    }
   ],
   "source": [
    "demog_df.shape"
   ]
  },
  {
   "cell_type": "code",
   "execution_count": 25,
   "id": "d47024b4",
   "metadata": {},
   "outputs": [
    {
     "data": {
      "text/html": [
       "<div>\n",
       "<style scoped>\n",
       "    .dataframe tbody tr th:only-of-type {\n",
       "        vertical-align: middle;\n",
       "    }\n",
       "\n",
       "    .dataframe tbody tr th {\n",
       "        vertical-align: top;\n",
       "    }\n",
       "\n",
       "    .dataframe thead th {\n",
       "        text-align: right;\n",
       "    }\n",
       "</style>\n",
       "<table border=\"1\" class=\"dataframe\">\n",
       "  <thead>\n",
       "    <tr style=\"text-align: right;\">\n",
       "      <th></th>\n",
       "      <th>cell_id</th>\n",
       "      <th>layer_name</th>\n",
       "      <th>cell_type</th>\n",
       "      <th>recorder_name</th>\n",
       "      <th>subject_id</th>\n",
       "      <th>acquisition_time</th>\n",
       "      <th>voltage_drift</th>\n",
       "      <th>has_morphology</th>\n",
       "      <th>tag_comments</th>\n",
       "      <th>resection_date</th>\n",
       "      <th>...</th>\n",
       "      <th>tau</th>\n",
       "      <th>rheo</th>\n",
       "      <th>apthr</th>\n",
       "      <th>peak_t</th>\n",
       "      <th>fast_trough_t</th>\n",
       "      <th>trough_t</th>\n",
       "      <th>res_center_freq</th>\n",
       "      <th>res_3dB_freq</th>\n",
       "      <th>res_sharpness</th>\n",
       "      <th>has_resonance</th>\n",
       "    </tr>\n",
       "  </thead>\n",
       "  <tbody>\n",
       "    <tr>\n",
       "      <th>1</th>\n",
       "      <td>13n05011</td>\n",
       "      <td>L5</td>\n",
       "      <td>Pyr</td>\n",
       "      <td>Homeira</td>\n",
       "      <td>X2013.11.05</td>\n",
       "      <td>2013-11-05 17:06:16.448</td>\n",
       "      <td>0.158689</td>\n",
       "      <td>False</td>\n",
       "      <td>NaN</td>\n",
       "      <td>2013-11-05</td>\n",
       "      <td>...</td>\n",
       "      <td>22.871723</td>\n",
       "      <td>50.000001</td>\n",
       "      <td>-36.022949</td>\n",
       "      <td>0.2275</td>\n",
       "      <td>0.2319</td>\n",
       "      <td>0.2625</td>\n",
       "      <td>NaN</td>\n",
       "      <td>NaN</td>\n",
       "      <td>NaN</td>\n",
       "      <td>NaN</td>\n",
       "    </tr>\n",
       "    <tr>\n",
       "      <th>2</th>\n",
       "      <td>13n21007</td>\n",
       "      <td>L5</td>\n",
       "      <td>Pyr</td>\n",
       "      <td>Homeira</td>\n",
       "      <td>X2013.11.21</td>\n",
       "      <td>2013-11-21 14:30:46.356</td>\n",
       "      <td>3.677365</td>\n",
       "      <td>False</td>\n",
       "      <td>NaN</td>\n",
       "      <td>2013-11-21</td>\n",
       "      <td>...</td>\n",
       "      <td>11.569936</td>\n",
       "      <td>50.000001</td>\n",
       "      <td>-43.212891</td>\n",
       "      <td>0.1442</td>\n",
       "      <td>0.1462</td>\n",
       "      <td>0.1582</td>\n",
       "      <td>NaN</td>\n",
       "      <td>NaN</td>\n",
       "      <td>NaN</td>\n",
       "      <td>NaN</td>\n",
       "    </tr>\n",
       "    <tr>\n",
       "      <th>3</th>\n",
       "      <td>13d02004</td>\n",
       "      <td>L5</td>\n",
       "      <td>Pyr</td>\n",
       "      <td>Homeira</td>\n",
       "      <td>X2013.12.02</td>\n",
       "      <td>2013-12-02 15:47:42.278</td>\n",
       "      <td>2.288816</td>\n",
       "      <td>False</td>\n",
       "      <td>NaN</td>\n",
       "      <td>2013-12-02</td>\n",
       "      <td>...</td>\n",
       "      <td>20.580639</td>\n",
       "      <td>50.000001</td>\n",
       "      <td>-52.404785</td>\n",
       "      <td>0.1777</td>\n",
       "      <td>0.1799</td>\n",
       "      <td>0.2090</td>\n",
       "      <td>NaN</td>\n",
       "      <td>NaN</td>\n",
       "      <td>NaN</td>\n",
       "      <td>NaN</td>\n",
       "    </tr>\n",
       "    <tr>\n",
       "      <th>4</th>\n",
       "      <td>13d02022</td>\n",
       "      <td>L5</td>\n",
       "      <td>Pyr</td>\n",
       "      <td>Homeira</td>\n",
       "      <td>X2013.12.02</td>\n",
       "      <td>2013-12-02 17:09:07.433</td>\n",
       "      <td>1.049802</td>\n",
       "      <td>False</td>\n",
       "      <td>NaN</td>\n",
       "      <td>2013-12-02</td>\n",
       "      <td>...</td>\n",
       "      <td>14.647232</td>\n",
       "      <td>150.000002</td>\n",
       "      <td>-49.554443</td>\n",
       "      <td>0.1725</td>\n",
       "      <td>0.1745</td>\n",
       "      <td>0.1744</td>\n",
       "      <td>NaN</td>\n",
       "      <td>NaN</td>\n",
       "      <td>NaN</td>\n",
       "      <td>NaN</td>\n",
       "    </tr>\n",
       "    <tr>\n",
       "      <th>5</th>\n",
       "      <td>13d02049</td>\n",
       "      <td>L5</td>\n",
       "      <td>Pyr</td>\n",
       "      <td>Homeira</td>\n",
       "      <td>X2013.12.02</td>\n",
       "      <td>2013-12-02 18:21:58.566</td>\n",
       "      <td>1.789062</td>\n",
       "      <td>False</td>\n",
       "      <td>gain50 resting -57mv</td>\n",
       "      <td>2013-12-02</td>\n",
       "      <td>...</td>\n",
       "      <td>21.951789</td>\n",
       "      <td>50.000001</td>\n",
       "      <td>-52.264404</td>\n",
       "      <td>0.1775</td>\n",
       "      <td>0.1798</td>\n",
       "      <td>0.2010</td>\n",
       "      <td>NaN</td>\n",
       "      <td>NaN</td>\n",
       "      <td>NaN</td>\n",
       "      <td>NaN</td>\n",
       "    </tr>\n",
       "  </tbody>\n",
       "</table>\n",
       "<p>5 rows × 45 columns</p>\n",
       "</div>"
      ],
      "text/plain": [
       "    cell_id layer_name cell_type recorder_name   subject_id  \\\n",
       "1  13n05011         L5       Pyr       Homeira  X2013.11.05   \n",
       "2  13n21007         L5       Pyr       Homeira  X2013.11.21   \n",
       "3  13d02004         L5       Pyr       Homeira  X2013.12.02   \n",
       "4  13d02022         L5       Pyr       Homeira  X2013.12.02   \n",
       "5  13d02049         L5       Pyr       Homeira  X2013.12.02   \n",
       "\n",
       "          acquisition_time  voltage_drift  has_morphology  \\\n",
       "1  2013-11-05 17:06:16.448       0.158689           False   \n",
       "2  2013-11-21 14:30:46.356       3.677365           False   \n",
       "3  2013-12-02 15:47:42.278       2.288816           False   \n",
       "4  2013-12-02 17:09:07.433       1.049802           False   \n",
       "5  2013-12-02 18:21:58.566       1.789062           False   \n",
       "\n",
       "           tag_comments resection_date  ...        tau        rheo      apthr  \\\n",
       "1                   NaN     2013-11-05  ...  22.871723   50.000001 -36.022949   \n",
       "2                   NaN     2013-11-21  ...  11.569936   50.000001 -43.212891   \n",
       "3                   NaN     2013-12-02  ...  20.580639   50.000001 -52.404785   \n",
       "4                   NaN     2013-12-02  ...  14.647232  150.000002 -49.554443   \n",
       "5  gain50 resting -57mv     2013-12-02  ...  21.951789   50.000001 -52.264404   \n",
       "\n",
       "   peak_t fast_trough_t trough_t res_center_freq res_3dB_freq res_sharpness  \\\n",
       "1  0.2275        0.2319   0.2625             NaN          NaN           NaN   \n",
       "2  0.1442        0.1462   0.1582             NaN          NaN           NaN   \n",
       "3  0.1777        0.1799   0.2090             NaN          NaN           NaN   \n",
       "4  0.1725        0.1745   0.1744             NaN          NaN           NaN   \n",
       "5  0.1775        0.1798   0.2010             NaN          NaN           NaN   \n",
       "\n",
       "   has_resonance  \n",
       "1            NaN  \n",
       "2            NaN  \n",
       "3            NaN  \n",
       "4            NaN  \n",
       "5            NaN  \n",
       "\n",
       "[5 rows x 45 columns]"
      ]
     },
     "execution_count": 25,
     "metadata": {},
     "output_type": "execute_result"
    }
   ],
   "source": [
    "demog_df.head()"
   ]
  },
  {
   "cell_type": "code",
   "execution_count": 26,
   "id": "cb1df0ed",
   "metadata": {},
   "outputs": [
    {
     "data": {
      "text/plain": [
       "Index(['cell_id', 'layer_name', 'cell_type', 'recorder_name', 'subject_id',\n",
       "       'acquisition_time', 'voltage_drift', 'has_morphology', 'tag_comments',\n",
       "       'resection_date', 'age', 'sex', 'seizure_duration', 'unique_subject',\n",
       "       'diagnosis', 'resection_location', 'drugs', 'Diagnosis_long',\n",
       "       'Resection_location_long', 'has_burst', 'rin', 'rmp', 'apamp', 'ahpamp',\n",
       "       'aphw', 'apvel', 'sagamp', 'adratio', 'first_isi', 'avgisi', 'cvisi',\n",
       "       'sag', 'fislope', 'latency', 'avg_rate', 'tau', 'rheo', 'apthr',\n",
       "       'peak_t', 'fast_trough_t', 'trough_t', 'res_center_freq',\n",
       "       'res_3dB_freq', 'res_sharpness', 'has_resonance'],\n",
       "      dtype='object')"
      ]
     },
     "execution_count": 26,
     "metadata": {},
     "output_type": "execute_result"
    }
   ],
   "source": [
    "demog_df.columns"
   ]
  },
  {
   "cell_type": "code",
   "execution_count": 27,
   "id": "eade2aa5",
   "metadata": {},
   "outputs": [],
   "source": [
    "demog_df = demog_df.loc[:, ['cell_id', 'layer_name', 'cell_type', 'recorder_name', 'subject_id',\n",
    "       'acquisition_time', 'voltage_drift', 'has_morphology', 'tag_comments',\n",
    "       'resection_date', 'age', 'sex', 'seizure_duration', 'unique_subject',\n",
    "       'diagnosis', 'resection_location', 'drugs', 'Diagnosis_long',\n",
    "       'Resection_location_long']]"
   ]
  },
  {
   "cell_type": "code",
   "execution_count": 28,
   "id": "814e13e9",
   "metadata": {},
   "outputs": [
    {
     "data": {
      "text/plain": [
       "(160, 19)"
      ]
     },
     "execution_count": 28,
     "metadata": {},
     "output_type": "execute_result"
    }
   ],
   "source": [
    "demog_df.shape"
   ]
  },
  {
   "cell_type": "code",
   "execution_count": 29,
   "id": "27b48d9f",
   "metadata": {},
   "outputs": [],
   "source": [
    "natcom_merged = nat_com_meta.loc[:, ['cell_id', 'expt_date', 'rmp_val']].merge(demog_df, on='cell_id')"
   ]
  },
  {
   "cell_type": "code",
   "execution_count": 30,
   "id": "2928dd52",
   "metadata": {},
   "outputs": [],
   "source": [
    "natcom_merged['Data Type'] = 'Human'\n",
    "natcom_merged['Cell #'] = 1\n",
    "natcom_merged['ZD status'] = 'n.a'\n",
    "\n",
    "natcom_merged.rename(columns={'rmp_val': 'RMP', \n",
    "                              'seizure_duration': 'seizure_duration_years',\n",
    "                              'cell_id': 'ABF File'}, inplace=True)\n",
    "\n",
    "# adds cols for the natcoms data. solutions were regular aCSF and potassium gluconate \n",
    "natcom_merged['external_soln'] = 'aCSF'\n",
    "natcom_merged['internal_soln'] = 'Potassium gluconate'"
   ]
  },
  {
   "cell_type": "code",
   "execution_count": 31,
   "id": "14d1c9ad",
   "metadata": {},
   "outputs": [
    {
     "data": {
      "text/plain": [
       "(160, 26)"
      ]
     },
     "execution_count": 31,
     "metadata": {},
     "output_type": "execute_result"
    }
   ],
   "source": [
    "natcom_merged.shape"
   ]
  },
  {
   "cell_type": "code",
   "execution_count": 32,
   "id": "01c10858",
   "metadata": {},
   "outputs": [],
   "source": [
    "cols_to_select = ['ABF File', 'Data Type', 'expt_date', 'layer_name', 'RMP', 'subject_id','sex', \n",
    "                  'age', 'seizure_duration_years', 'diagnosis', 'resection_location', 'drugs', 'Cell #', \n",
    "                  'ZD status', 'internal_soln', 'external_soln']"
   ]
  },
  {
   "cell_type": "code",
   "execution_count": 33,
   "id": "8b5f323e",
   "metadata": {},
   "outputs": [
    {
     "data": {
      "text/html": [
       "<div>\n",
       "<style scoped>\n",
       "    .dataframe tbody tr th:only-of-type {\n",
       "        vertical-align: middle;\n",
       "    }\n",
       "\n",
       "    .dataframe tbody tr th {\n",
       "        vertical-align: top;\n",
       "    }\n",
       "\n",
       "    .dataframe thead th {\n",
       "        text-align: right;\n",
       "    }\n",
       "</style>\n",
       "<table border=\"1\" class=\"dataframe\">\n",
       "  <thead>\n",
       "    <tr style=\"text-align: right;\">\n",
       "      <th></th>\n",
       "      <th>ABF File</th>\n",
       "      <th>Data Type</th>\n",
       "      <th>expt_date</th>\n",
       "      <th>layer_name</th>\n",
       "      <th>RMP</th>\n",
       "      <th>subject_id</th>\n",
       "      <th>sex</th>\n",
       "      <th>age</th>\n",
       "      <th>seizure_duration_years</th>\n",
       "      <th>diagnosis</th>\n",
       "      <th>resection_location</th>\n",
       "      <th>drugs</th>\n",
       "      <th>Cell #</th>\n",
       "      <th>ZD status</th>\n",
       "      <th>internal_soln</th>\n",
       "      <th>external_soln</th>\n",
       "    </tr>\n",
       "  </thead>\n",
       "  <tbody>\n",
       "    <tr>\n",
       "      <th>0</th>\n",
       "      <td>13n05011</td>\n",
       "      <td>Human</td>\n",
       "      <td>2013-11-05</td>\n",
       "      <td>L5</td>\n",
       "      <td>-54.937742</td>\n",
       "      <td>X2013.11.05</td>\n",
       "      <td>M</td>\n",
       "      <td>57</td>\n",
       "      <td>45</td>\n",
       "      <td>Epilepsy</td>\n",
       "      <td>Right-ATL</td>\n",
       "      <td>LSC, CZP, CBZ</td>\n",
       "      <td>1</td>\n",
       "      <td>n.a</td>\n",
       "      <td>Potassium gluconate</td>\n",
       "      <td>aCSF</td>\n",
       "    </tr>\n",
       "    <tr>\n",
       "      <th>1</th>\n",
       "      <td>13n21007</td>\n",
       "      <td>Human</td>\n",
       "      <td>2013-11-21</td>\n",
       "      <td>L5</td>\n",
       "      <td>-59.158322</td>\n",
       "      <td>X2013.11.21</td>\n",
       "      <td>M</td>\n",
       "      <td>27</td>\n",
       "      <td>11</td>\n",
       "      <td>Epilepsy</td>\n",
       "      <td>Right-ATL</td>\n",
       "      <td>LSC, LRZ, CLB</td>\n",
       "      <td>1</td>\n",
       "      <td>n.a</td>\n",
       "      <td>Potassium gluconate</td>\n",
       "      <td>aCSF</td>\n",
       "    </tr>\n",
       "    <tr>\n",
       "      <th>2</th>\n",
       "      <td>13d02004</td>\n",
       "      <td>Human</td>\n",
       "      <td>2013-12-02</td>\n",
       "      <td>L5</td>\n",
       "      <td>-59.069821</td>\n",
       "      <td>X2013.12.02</td>\n",
       "      <td>F</td>\n",
       "      <td>39</td>\n",
       "      <td>11</td>\n",
       "      <td>Tumor</td>\n",
       "      <td>Right-ATL</td>\n",
       "      <td>LSC, LRZ, LEV</td>\n",
       "      <td>1</td>\n",
       "      <td>n.a</td>\n",
       "      <td>Potassium gluconate</td>\n",
       "      <td>aCSF</td>\n",
       "    </tr>\n",
       "    <tr>\n",
       "      <th>3</th>\n",
       "      <td>13d02022</td>\n",
       "      <td>Human</td>\n",
       "      <td>2013-12-02</td>\n",
       "      <td>L5</td>\n",
       "      <td>-64.428708</td>\n",
       "      <td>X2013.12.02</td>\n",
       "      <td>F</td>\n",
       "      <td>39</td>\n",
       "      <td>11</td>\n",
       "      <td>Tumor</td>\n",
       "      <td>Right-ATL</td>\n",
       "      <td>LSC, LRZ, LEV</td>\n",
       "      <td>1</td>\n",
       "      <td>n.a</td>\n",
       "      <td>Potassium gluconate</td>\n",
       "      <td>aCSF</td>\n",
       "    </tr>\n",
       "    <tr>\n",
       "      <th>4</th>\n",
       "      <td>13d02049</td>\n",
       "      <td>Human</td>\n",
       "      <td>2013-12-02</td>\n",
       "      <td>L5</td>\n",
       "      <td>-57.000000</td>\n",
       "      <td>X2013.12.02</td>\n",
       "      <td>F</td>\n",
       "      <td>39</td>\n",
       "      <td>11</td>\n",
       "      <td>Tumor</td>\n",
       "      <td>Right-ATL</td>\n",
       "      <td>LSC, LRZ, LEV</td>\n",
       "      <td>1</td>\n",
       "      <td>n.a</td>\n",
       "      <td>Potassium gluconate</td>\n",
       "      <td>aCSF</td>\n",
       "    </tr>\n",
       "    <tr>\n",
       "      <th>...</th>\n",
       "      <td>...</td>\n",
       "      <td>...</td>\n",
       "      <td>...</td>\n",
       "      <td>...</td>\n",
       "      <td>...</td>\n",
       "      <td>...</td>\n",
       "      <td>...</td>\n",
       "      <td>...</td>\n",
       "      <td>...</td>\n",
       "      <td>...</td>\n",
       "      <td>...</td>\n",
       "      <td>...</td>\n",
       "      <td>...</td>\n",
       "      <td>...</td>\n",
       "      <td>...</td>\n",
       "      <td>...</td>\n",
       "    </tr>\n",
       "    <tr>\n",
       "      <th>155</th>\n",
       "      <td>2020_01_27_0042</td>\n",
       "      <td>Human</td>\n",
       "      <td>2020-01-27</td>\n",
       "      <td>L5</td>\n",
       "      <td>-60.700000</td>\n",
       "      <td>X2020.01.27</td>\n",
       "      <td>M</td>\n",
       "      <td>24</td>\n",
       "      <td>4</td>\n",
       "      <td>Epilepsy</td>\n",
       "      <td>Left-ATL</td>\n",
       "      <td>LEV, LTG</td>\n",
       "      <td>1</td>\n",
       "      <td>n.a</td>\n",
       "      <td>Potassium gluconate</td>\n",
       "      <td>aCSF</td>\n",
       "    </tr>\n",
       "    <tr>\n",
       "      <th>156</th>\n",
       "      <td>2020_01_28_0029</td>\n",
       "      <td>Human</td>\n",
       "      <td>2020-01-28</td>\n",
       "      <td>L5</td>\n",
       "      <td>-68.000000</td>\n",
       "      <td>X2020.01.28</td>\n",
       "      <td>M</td>\n",
       "      <td>33</td>\n",
       "      <td>6</td>\n",
       "      <td>Epilepsy</td>\n",
       "      <td>Right-ATL</td>\n",
       "      <td>LSc,PGB,PHN</td>\n",
       "      <td>1</td>\n",
       "      <td>n.a</td>\n",
       "      <td>Potassium gluconate</td>\n",
       "      <td>aCSF</td>\n",
       "    </tr>\n",
       "    <tr>\n",
       "      <th>157</th>\n",
       "      <td>2020_01_28_0008</td>\n",
       "      <td>Human</td>\n",
       "      <td>2020-01-28</td>\n",
       "      <td>L5</td>\n",
       "      <td>-65.000000</td>\n",
       "      <td>X2020.01.28</td>\n",
       "      <td>M</td>\n",
       "      <td>33</td>\n",
       "      <td>6</td>\n",
       "      <td>Epilepsy</td>\n",
       "      <td>Right-ATL</td>\n",
       "      <td>LSc,PGB,PHN</td>\n",
       "      <td>1</td>\n",
       "      <td>n.a</td>\n",
       "      <td>Potassium gluconate</td>\n",
       "      <td>aCSF</td>\n",
       "    </tr>\n",
       "    <tr>\n",
       "      <th>158</th>\n",
       "      <td>2020_01_28_0017</td>\n",
       "      <td>Human</td>\n",
       "      <td>2020-01-28</td>\n",
       "      <td>L5</td>\n",
       "      <td>-55.000000</td>\n",
       "      <td>X2020.01.28</td>\n",
       "      <td>M</td>\n",
       "      <td>33</td>\n",
       "      <td>6</td>\n",
       "      <td>Epilepsy</td>\n",
       "      <td>Right-ATL</td>\n",
       "      <td>LSc,PGB,PHN</td>\n",
       "      <td>1</td>\n",
       "      <td>n.a</td>\n",
       "      <td>Potassium gluconate</td>\n",
       "      <td>aCSF</td>\n",
       "    </tr>\n",
       "    <tr>\n",
       "      <th>159</th>\n",
       "      <td>2020_03_02_0023</td>\n",
       "      <td>Human</td>\n",
       "      <td>2020-03-02</td>\n",
       "      <td>L5</td>\n",
       "      <td>-68.000000</td>\n",
       "      <td>X2020.03.02</td>\n",
       "      <td>F</td>\n",
       "      <td>57</td>\n",
       "      <td>56</td>\n",
       "      <td>Epilepsy</td>\n",
       "      <td>Left-ATL</td>\n",
       "      <td>CLB, LTG, PRM, CBD oil</td>\n",
       "      <td>1</td>\n",
       "      <td>n.a</td>\n",
       "      <td>Potassium gluconate</td>\n",
       "      <td>aCSF</td>\n",
       "    </tr>\n",
       "  </tbody>\n",
       "</table>\n",
       "<p>160 rows × 16 columns</p>\n",
       "</div>"
      ],
      "text/plain": [
       "            ABF File Data Type   expt_date layer_name        RMP   subject_id  \\\n",
       "0           13n05011     Human  2013-11-05         L5 -54.937742  X2013.11.05   \n",
       "1           13n21007     Human  2013-11-21         L5 -59.158322  X2013.11.21   \n",
       "2           13d02004     Human  2013-12-02         L5 -59.069821  X2013.12.02   \n",
       "3           13d02022     Human  2013-12-02         L5 -64.428708  X2013.12.02   \n",
       "4           13d02049     Human  2013-12-02         L5 -57.000000  X2013.12.02   \n",
       "..               ...       ...         ...        ...        ...          ...   \n",
       "155  2020_01_27_0042     Human  2020-01-27         L5 -60.700000  X2020.01.27   \n",
       "156  2020_01_28_0029     Human  2020-01-28         L5 -68.000000  X2020.01.28   \n",
       "157  2020_01_28_0008     Human  2020-01-28         L5 -65.000000  X2020.01.28   \n",
       "158  2020_01_28_0017     Human  2020-01-28         L5 -55.000000  X2020.01.28   \n",
       "159  2020_03_02_0023     Human  2020-03-02         L5 -68.000000  X2020.03.02   \n",
       "\n",
       "    sex  age  seizure_duration_years diagnosis resection_location  \\\n",
       "0     M   57                      45  Epilepsy          Right-ATL   \n",
       "1     M   27                      11  Epilepsy          Right-ATL   \n",
       "2     F   39                      11     Tumor          Right-ATL   \n",
       "3     F   39                      11     Tumor          Right-ATL   \n",
       "4     F   39                      11     Tumor          Right-ATL   \n",
       "..   ..  ...                     ...       ...                ...   \n",
       "155   M   24                       4  Epilepsy           Left-ATL   \n",
       "156   M   33                       6  Epilepsy          Right-ATL   \n",
       "157   M   33                       6  Epilepsy          Right-ATL   \n",
       "158   M   33                       6  Epilepsy          Right-ATL   \n",
       "159   F   57                      56  Epilepsy           Left-ATL   \n",
       "\n",
       "                      drugs  Cell # ZD status        internal_soln  \\\n",
       "0             LSC, CZP, CBZ       1       n.a  Potassium gluconate   \n",
       "1             LSC, LRZ, CLB       1       n.a  Potassium gluconate   \n",
       "2             LSC, LRZ, LEV       1       n.a  Potassium gluconate   \n",
       "3             LSC, LRZ, LEV       1       n.a  Potassium gluconate   \n",
       "4             LSC, LRZ, LEV       1       n.a  Potassium gluconate   \n",
       "..                      ...     ...       ...                  ...   \n",
       "155                LEV, LTG       1       n.a  Potassium gluconate   \n",
       "156             LSc,PGB,PHN       1       n.a  Potassium gluconate   \n",
       "157             LSc,PGB,PHN       1       n.a  Potassium gluconate   \n",
       "158             LSc,PGB,PHN       1       n.a  Potassium gluconate   \n",
       "159  CLB, LTG, PRM, CBD oil       1       n.a  Potassium gluconate   \n",
       "\n",
       "    external_soln  \n",
       "0            aCSF  \n",
       "1            aCSF  \n",
       "2            aCSF  \n",
       "3            aCSF  \n",
       "4            aCSF  \n",
       "..            ...  \n",
       "155          aCSF  \n",
       "156          aCSF  \n",
       "157          aCSF  \n",
       "158          aCSF  \n",
       "159          aCSF  \n",
       "\n",
       "[160 rows x 16 columns]"
      ]
     },
     "execution_count": 33,
     "metadata": {},
     "output_type": "execute_result"
    }
   ],
   "source": [
    "natcom_merged.loc[:, cols_to_select]"
   ]
  },
  {
   "cell_type": "code",
   "execution_count": 34,
   "id": "2cc5b1ee",
   "metadata": {},
   "outputs": [
    {
     "data": {
      "text/plain": [
       "(56, 21)"
      ]
     },
     "execution_count": 34,
     "metadata": {},
     "output_type": "execute_result"
    }
   ],
   "source": [
    "h19meta.shape"
   ]
  },
  {
   "cell_type": "code",
   "execution_count": 35,
   "id": "3bbb1443",
   "metadata": {},
   "outputs": [
    {
     "data": {
      "text/plain": [
       "(20, 21)"
      ]
     },
     "execution_count": 35,
     "metadata": {},
     "output_type": "execute_result"
    }
   ],
   "source": [
    "# there are 20 files overlapping from h19 and natcom\n",
    "h19meta[h19meta['ABF File'].isin(natcom_merged['ABF File'])].shape"
   ]
  },
  {
   "cell_type": "code",
   "execution_count": 36,
   "id": "cb854a52",
   "metadata": {},
   "outputs": [],
   "source": [
    "# keep only h19 data that is not represented in natcoms data\n",
    "h19meta = h19meta[~h19meta['ABF File'].isin(natcom_merged['ABF File'])]"
   ]
  },
  {
   "cell_type": "code",
   "execution_count": 37,
   "id": "a8b47959",
   "metadata": {},
   "outputs": [
    {
     "data": {
      "text/plain": [
       "(36, 16)"
      ]
     },
     "execution_count": 37,
     "metadata": {},
     "output_type": "execute_result"
    }
   ],
   "source": [
    "h19meta.loc[:, cols_to_select].shape"
   ]
  },
  {
   "cell_type": "code",
   "execution_count": 38,
   "id": "e822c2c7",
   "metadata": {},
   "outputs": [
    {
     "data": {
      "text/plain": [
       "(18, 16)"
      ]
     },
     "execution_count": 38,
     "metadata": {},
     "output_type": "execute_result"
    }
   ],
   "source": [
    "h18meta.loc[:, cols_to_select].shape"
   ]
  },
  {
   "cell_type": "code",
   "execution_count": 39,
   "id": "704f2038",
   "metadata": {},
   "outputs": [],
   "source": [
    "human_meta = pd.concat([natcom_merged.loc[:, cols_to_select], h19meta.loc[:, cols_to_select], h18meta.loc[:, cols_to_select]])"
   ]
  },
  {
   "cell_type": "code",
   "execution_count": 40,
   "id": "84903cee",
   "metadata": {},
   "outputs": [],
   "source": [
    "layers = {'L5': 'L5', 'L23': 'L23', 'L2.3': 'L23', 'L3C': 'L3C', 'L3c': 'L3C', 'L2': 'L23', 'L3': 'L23', 'L23-Int': 'L23', 'L5-Int': 'L5'}\n",
    "human_meta['aggregated_cell_layer'] = human_meta.layer_name.map(layers)"
   ]
  },
  {
   "cell_type": "code",
   "execution_count": 41,
   "id": "717e0b1a",
   "metadata": {},
   "outputs": [],
   "source": [
    "human_meta = pd.concat([human_meta, pd.get_dummies(human_meta.diagnosis, prefix='diagnosis', dtype=bool)], axis=1)#.drop('diagnosis', axis=1)"
   ]
  },
  {
   "cell_type": "code",
   "execution_count": 42,
   "id": "aa9f1529",
   "metadata": {},
   "outputs": [],
   "source": [
    "human_meta.sex = human_meta.sex.str.strip(\" \")"
   ]
  },
  {
   "cell_type": "markdown",
   "id": "dbea16a9",
   "metadata": {},
   "source": [
    "# Process mouse meta"
   ]
  },
  {
   "cell_type": "code",
   "execution_count": 43,
   "id": "6e5b4a06",
   "metadata": {},
   "outputs": [],
   "source": [
    "m19meta = pd.read_csv('./data/raw/Metadata/Mouse19_Metadata.csv', index_col=0)\n",
    "m19meta = m19meta[m19meta.stimulus_type == 'longsquare']\n",
    "m19meta['nwb'] = m19meta['Cell Name'].apply(lambda x: x + '.nwb')\n",
    "\n",
    "m18meta = pd.read_csv('./data/raw/Metadata/Mouse18_Metadata.csv', index_col=0)\n",
    "m18meta = m18meta[m18meta.stimulus_type == 'longsquare']\n",
    "m18meta['nwb'] = m18meta['Cell Name'].apply(lambda x: x + '.nwb')"
   ]
  },
  {
   "cell_type": "code",
   "execution_count": 44,
   "id": "28efae8a",
   "metadata": {},
   "outputs": [
    {
     "name": "stdout",
     "output_type": "stream",
     "text": [
      "(214, 19)\n",
      "(5, 14)\n",
      "(16, 14)\n"
     ]
    }
   ],
   "source": [
    "print(human_meta.shape)\n",
    "print(m18meta.shape)\n",
    "print(m19meta.shape)"
   ]
  },
  {
   "cell_type": "code",
   "execution_count": 45,
   "id": "47c5fb11",
   "metadata": {},
   "outputs": [],
   "source": [
    "mcols_fix = {'Cell Layer': 'aggregated_cell_layer', \n",
    "             'Cell Name': 'ABF File', \n",
    "             'Exp. Date': 'expt_date'}\n",
    "\n",
    "m18meta.rename(columns=mcols_fix, inplace=True)\n",
    "m19meta.rename(columns=mcols_fix, inplace=True)"
   ]
  },
  {
   "cell_type": "code",
   "execution_count": 46,
   "id": "f90a4942",
   "metadata": {},
   "outputs": [],
   "source": [
    "m18meta = m18meta.merge(solutions_df, left_on='ABF File', right_on='file_id', how='left').drop('file_id', axis=1)\n",
    "m19meta = m19meta.merge(solutions_df, left_on='ABF File', right_on='file_id', how='left').drop('file_id', axis=1)"
   ]
  },
  {
   "cell_type": "code",
   "execution_count": 47,
   "id": "f2d8d3b9",
   "metadata": {},
   "outputs": [],
   "source": [
    "m18meta = m18meta.drop(['Stim Type', 'stimulus_type', 'Gain', 'Offset', 'Response Channel', 'Command Channel', 'nwb'], axis=1)\n",
    "m19meta = m19meta.drop(['Stim Type', 'stimulus_type', 'Gain', 'Offset', 'Response Channel', 'Command Channel', 'nwb'], axis=1)"
   ]
  },
  {
   "cell_type": "code",
   "execution_count": 48,
   "id": "49397143",
   "metadata": {},
   "outputs": [
    {
     "name": "stderr",
     "output_type": "stream",
     "text": [
      "<ipython-input-48-cc480de28377>:1: FutureWarning: Sorting because non-concatenation axis is not aligned. A future version\n",
      "of pandas will change to not sort by default.\n",
      "\n",
      "To accept the future behavior, pass 'sort=False'.\n",
      "\n",
      "To retain the current behavior and silence the warning, pass 'sort=True'.\n",
      "\n",
      "  all_meta = pd.concat([human_meta, m18meta, m19meta])\n"
     ]
    }
   ],
   "source": [
    "all_meta = pd.concat([human_meta, m18meta, m19meta])"
   ]
  },
  {
   "cell_type": "markdown",
   "id": "37ee40a2",
   "metadata": {},
   "source": [
    "# Add epileptogenic col and data about slice preparation solutions"
   ]
  },
  {
   "cell_type": "markdown",
   "id": "39da4d44",
   "metadata": {},
   "source": [
    "# tissue resected from the following patients was identified as from an epileptogenic focus \n",
    "epileptogenic_ids_natcom = ['X2014.01.27', 'X2015.06.22', 'X2015.07.23']\n",
    "epileptogenic_ids_2018 = ['1806', '1810', '1811', '1812']\n",
    "epileptogenic_ids_2019 = ['1904', '1908']\n",
    "\n",
    "epileptogenic_ids = epileptogenic_ids_natcom + epileptogenic_ids_2018 + epileptogenic_ids_2019\n",
    "all_meta['is_epileptogenic'] = all_meta['ABF File'].isin(epileptogenic_ids)"
   ]
  },
  {
   "cell_type": "code",
   "execution_count": 49,
   "id": "06290a13",
   "metadata": {},
   "outputs": [],
   "source": [
    "# recordings w/ the following ids were identified as from an epileptogenic focus (from natcoms data)\n",
    "epileptogenic_ids = ['20140127_600_1_0118', '20140127_600_1_0158', '15622000',\n",
    "                     '15622005', '15622013', '15622015', '15622019', '15723013']\n",
    "\n",
    "all_meta['is_epileptogenic'] = all_meta['ABF File'].isin(epileptogenic_ids)"
   ]
  },
  {
   "cell_type": "code",
   "execution_count": 50,
   "id": "fb71448b",
   "metadata": {
    "scrolled": true
   },
   "outputs": [
    {
     "data": {
      "text/html": [
       "<div>\n",
       "<style scoped>\n",
       "    .dataframe tbody tr th:only-of-type {\n",
       "        vertical-align: middle;\n",
       "    }\n",
       "\n",
       "    .dataframe tbody tr th {\n",
       "        vertical-align: top;\n",
       "    }\n",
       "\n",
       "    .dataframe thead th {\n",
       "        text-align: right;\n",
       "    }\n",
       "</style>\n",
       "<table border=\"1\" class=\"dataframe\">\n",
       "  <thead>\n",
       "    <tr style=\"text-align: right;\">\n",
       "      <th></th>\n",
       "      <th>ABF File</th>\n",
       "      <th>Cell #</th>\n",
       "      <th>Data Type</th>\n",
       "      <th>RMP</th>\n",
       "      <th>ZD status</th>\n",
       "      <th>age</th>\n",
       "      <th>aggregated_cell_layer</th>\n",
       "      <th>diagnosis</th>\n",
       "      <th>diagnosis_Epilepsy</th>\n",
       "      <th>diagnosis_Tumor</th>\n",
       "      <th>drugs</th>\n",
       "      <th>expt_date</th>\n",
       "      <th>external_soln</th>\n",
       "      <th>internal_soln</th>\n",
       "      <th>layer_name</th>\n",
       "      <th>resection_location</th>\n",
       "      <th>seizure_duration_years</th>\n",
       "      <th>sex</th>\n",
       "      <th>subject_id</th>\n",
       "      <th>is_epileptogenic</th>\n",
       "    </tr>\n",
       "  </thead>\n",
       "  <tbody>\n",
       "    <tr>\n",
       "      <th>42</th>\n",
       "      <td>19320022</td>\n",
       "      <td>C5</td>\n",
       "      <td>Human</td>\n",
       "      <td>-75.9</td>\n",
       "      <td>n.a</td>\n",
       "      <td>26.0</td>\n",
       "      <td>L23</td>\n",
       "      <td>Epilepsy</td>\n",
       "      <td>True</td>\n",
       "      <td>False</td>\n",
       "      <td>ESL, TMP, CLB</td>\n",
       "      <td>March_20_ 2019</td>\n",
       "      <td>Synaptic Blockers</td>\n",
       "      <td>Potassium gluconate</td>\n",
       "      <td>L23</td>\n",
       "      <td>Right-ATL</td>\n",
       "      <td>9</td>\n",
       "      <td>F</td>\n",
       "      <td>1908</td>\n",
       "      <td>True</td>\n",
       "    </tr>\n",
       "  </tbody>\n",
       "</table>\n",
       "</div>"
      ],
      "text/plain": [
       "    ABF File Cell # Data Type   RMP ZD status   age aggregated_cell_layer  \\\n",
       "42  19320022     C5     Human -75.9       n.a  26.0                   L23   \n",
       "\n",
       "   diagnosis diagnosis_Epilepsy diagnosis_Tumor          drugs  \\\n",
       "42  Epilepsy               True           False  ESL, TMP, CLB   \n",
       "\n",
       "         expt_date      external_soln        internal_soln layer_name  \\\n",
       "42  March_20_ 2019  Synaptic Blockers  Potassium gluconate        L23   \n",
       "\n",
       "   resection_location seizure_duration_years sex subject_id  is_epileptogenic  \n",
       "42          Right-ATL                      9   F       1908              True  "
      ]
     },
     "execution_count": 50,
     "metadata": {},
     "output_type": "execute_result"
    }
   ],
   "source": [
    "# tissue resected from the following patients was identified as from an epileptogenic focus \n",
    "epileptogenic_subject_ids = [1806, 1810, 1811, 1812, 1904, 1908]\n",
    "all_meta.loc[all_meta.subject_id.isin(epileptogenic_subject_ids), 'is_epileptogenic'] = True\n",
    "all_meta[all_meta.subject_id.isin(epileptogenic_subject_ids)]"
   ]
  },
  {
   "cell_type": "code",
   "execution_count": 51,
   "id": "fc1bf0c7",
   "metadata": {},
   "outputs": [
    {
     "data": {
      "text/html": [
       "<div>\n",
       "<style scoped>\n",
       "    .dataframe tbody tr th:only-of-type {\n",
       "        vertical-align: middle;\n",
       "    }\n",
       "\n",
       "    .dataframe tbody tr th {\n",
       "        vertical-align: top;\n",
       "    }\n",
       "\n",
       "    .dataframe thead th {\n",
       "        text-align: right;\n",
       "    }\n",
       "</style>\n",
       "<table border=\"1\" class=\"dataframe\">\n",
       "  <thead>\n",
       "    <tr style=\"text-align: right;\">\n",
       "      <th></th>\n",
       "      <th>ABF File</th>\n",
       "      <th>Cell #</th>\n",
       "      <th>Data Type</th>\n",
       "      <th>RMP</th>\n",
       "      <th>ZD status</th>\n",
       "      <th>age</th>\n",
       "      <th>aggregated_cell_layer</th>\n",
       "      <th>diagnosis</th>\n",
       "      <th>diagnosis_Epilepsy</th>\n",
       "      <th>diagnosis_Tumor</th>\n",
       "      <th>drugs</th>\n",
       "      <th>expt_date</th>\n",
       "      <th>external_soln</th>\n",
       "      <th>internal_soln</th>\n",
       "      <th>layer_name</th>\n",
       "      <th>resection_location</th>\n",
       "      <th>seizure_duration_years</th>\n",
       "      <th>sex</th>\n",
       "      <th>subject_id</th>\n",
       "      <th>is_epileptogenic</th>\n",
       "    </tr>\n",
       "  </thead>\n",
       "  <tbody>\n",
       "    <tr>\n",
       "      <th>125</th>\n",
       "      <td>19129004</td>\n",
       "      <td>1</td>\n",
       "      <td>Human</td>\n",
       "      <td>-62.9</td>\n",
       "      <td>n.a</td>\n",
       "      <td>52.0</td>\n",
       "      <td>L3C</td>\n",
       "      <td>Epilepsy</td>\n",
       "      <td>True</td>\n",
       "      <td>False</td>\n",
       "      <td>LTG, LEF</td>\n",
       "      <td>2019-01-29</td>\n",
       "      <td>aCSF</td>\n",
       "      <td>Potassium gluconate</td>\n",
       "      <td>L3c</td>\n",
       "      <td>Left-ATL</td>\n",
       "      <td>6</td>\n",
       "      <td>F</td>\n",
       "      <td>X2019.01.29</td>\n",
       "      <td>False</td>\n",
       "    </tr>\n",
       "    <tr>\n",
       "      <th>147</th>\n",
       "      <td>2020_01_06_0090</td>\n",
       "      <td>1</td>\n",
       "      <td>Human</td>\n",
       "      <td>-65.2</td>\n",
       "      <td>n.a</td>\n",
       "      <td>42.0</td>\n",
       "      <td>L3C</td>\n",
       "      <td>Epilepsy</td>\n",
       "      <td>True</td>\n",
       "      <td>False</td>\n",
       "      <td>CBZ, GPN</td>\n",
       "      <td>2020-01-06</td>\n",
       "      <td>aCSF</td>\n",
       "      <td>Potassium gluconate</td>\n",
       "      <td>L3c</td>\n",
       "      <td>Right-ATL</td>\n",
       "      <td>3</td>\n",
       "      <td>F</td>\n",
       "      <td>X2020.01.06</td>\n",
       "      <td>False</td>\n",
       "    </tr>\n",
       "    <tr>\n",
       "      <th>42</th>\n",
       "      <td>19320022</td>\n",
       "      <td>C5</td>\n",
       "      <td>Human</td>\n",
       "      <td>-75.9</td>\n",
       "      <td>n.a</td>\n",
       "      <td>26.0</td>\n",
       "      <td>L23</td>\n",
       "      <td>Epilepsy</td>\n",
       "      <td>True</td>\n",
       "      <td>False</td>\n",
       "      <td>ESL, TMP, CLB</td>\n",
       "      <td>March_20_ 2019</td>\n",
       "      <td>Synaptic Blockers</td>\n",
       "      <td>Potassium gluconate</td>\n",
       "      <td>L23</td>\n",
       "      <td>Right-ATL</td>\n",
       "      <td>9</td>\n",
       "      <td>F</td>\n",
       "      <td>1908</td>\n",
       "      <td>True</td>\n",
       "    </tr>\n",
       "  </tbody>\n",
       "</table>\n",
       "</div>"
      ],
      "text/plain": [
       "            ABF File Cell # Data Type   RMP ZD status   age  \\\n",
       "125         19129004      1     Human -62.9       n.a  52.0   \n",
       "147  2020_01_06_0090      1     Human -65.2       n.a  42.0   \n",
       "42          19320022     C5     Human -75.9       n.a  26.0   \n",
       "\n",
       "    aggregated_cell_layer diagnosis diagnosis_Epilepsy diagnosis_Tumor  \\\n",
       "125                   L3C  Epilepsy               True           False   \n",
       "147                   L3C  Epilepsy               True           False   \n",
       "42                    L23  Epilepsy               True           False   \n",
       "\n",
       "             drugs       expt_date      external_soln        internal_soln  \\\n",
       "125       LTG, LEF      2019-01-29               aCSF  Potassium gluconate   \n",
       "147       CBZ, GPN      2020-01-06               aCSF  Potassium gluconate   \n",
       "42   ESL, TMP, CLB  March_20_ 2019  Synaptic Blockers  Potassium gluconate   \n",
       "\n",
       "    layer_name resection_location seizure_duration_years sex   subject_id  \\\n",
       "125        L3c           Left-ATL                      6   F  X2019.01.29   \n",
       "147        L3c          Right-ATL                      3   F  X2020.01.06   \n",
       "42         L23          Right-ATL                      9   F         1908   \n",
       "\n",
       "     is_epileptogenic  \n",
       "125             False  \n",
       "147             False  \n",
       "42               True  "
      ]
     },
     "execution_count": 51,
     "metadata": {},
     "output_type": "execute_result"
    }
   ],
   "source": [
    "# ids for recordings with morphologies on neuromorpho\n",
    "morpho_ids = ['19122043', '19129004', '19320022', '2020_01_06_0090']\n",
    "all_meta[all_meta['ABF File'].isin(morpho_ids)]"
   ]
  },
  {
   "cell_type": "code",
   "execution_count": 52,
   "id": "2e57c73d",
   "metadata": {},
   "outputs": [],
   "source": [
    "cells_w_morphology = ['19122003', # smaller L2 morphlogy, first on left\n",
    "                       '2017_03_20_0026', # synaptic blockers?\n",
    "                       '19320017', # small L2 cell, not currently highlighted in paper\n",
    "                       '19122043', # cell currently labelled as L2 350 um\n",
    "                       '19129004', # large L3 morphology\n",
    "                       '19320022', # L3c cell, synaptic blockers\n",
    "                       '19219004', # L3c cell, will be added to paper, synaptic blockers\n",
    "                       '19219021', # L3c cell, will be added to paper, synaptic blockers\n",
    "                       '19128061', # big L5 morphology\n",
    "                       '19129015', # smaller L5 morphology\n",
    "                       '2020_01_06_0048', # L3c cell\n",
    "                       '2019_11_28_0010'] "
   ]
  },
  {
   "cell_type": "code",
   "execution_count": 53,
   "id": "30d9dd69",
   "metadata": {},
   "outputs": [],
   "source": [
    "cells_w_neuromorphoID = ['19122003', # NMO_159995\n",
    "                         '19122043', # NMO_159992\n",
    "                         '19129004', # NMO_159994\n",
    "                         #'19219021', #\n",
    "                         '19128061', # NMO_159993\n",
    "                         '19129015', # NMO_159989\n",
    "                         '2020_01_06_0048', # NMO_159990\n",
    "                         '2019_11_28_0010'] #NMO_159991\n",
    "#'19320017', # apparently have this morphology but not uploaded\n",
    "#'2017_03_20_0026', #\n",
    "#'19320022', #"
   ]
  },
  {
   "cell_type": "code",
   "execution_count": 54,
   "id": "5a54eeda",
   "metadata": {},
   "outputs": [],
   "source": [
    "cells_to_upload = ['19320017',\n",
    "                   '2017_03_20_0026',\n",
    "                   '19320022',\n",
    "                   '19219021']"
   ]
  },
  {
   "cell_type": "code",
   "execution_count": 55,
   "id": "5745ba31",
   "metadata": {},
   "outputs": [],
   "source": [
    "import numpy as np"
   ]
  },
  {
   "cell_type": "code",
   "execution_count": 56,
   "id": "9b8dc691",
   "metadata": {},
   "outputs": [
    {
     "data": {
      "text/plain": [
       "array(['19122003', '19128061', '19129004', '19129015', '2019_11_28_0010',\n",
       "       '2020_01_06_0048'], dtype=object)"
      ]
     },
     "execution_count": 56,
     "metadata": {},
     "output_type": "execute_result"
    }
   ],
   "source": [
    "np.sort(all_meta[all_meta['ABF File'].isin(cells_w_neuromorphoID)].loc[:, 'ABF File'].values)"
   ]
  },
  {
   "cell_type": "code",
   "execution_count": 57,
   "id": "76c25a82",
   "metadata": {},
   "outputs": [
    {
     "data": {
      "text/plain": [
       "array(['19122003', '19128061', '19129004', '19129015', '19320017',\n",
       "       '19320022', '2019_11_28_0010', '2020_01_06_0048'], dtype=object)"
      ]
     },
     "execution_count": 57,
     "metadata": {},
     "output_type": "execute_result"
    }
   ],
   "source": [
    "np.sort(all_meta[all_meta['ABF File'].isin(cells_w_morphology)].loc[:, 'ABF File'].values)"
   ]
  },
  {
   "cell_type": "code",
   "execution_count": 58,
   "id": "afc2a990",
   "metadata": {},
   "outputs": [],
   "source": [
    "all_meta['has_morphology'] = all_meta['ABF File'].isin(cells_w_morphology)"
   ]
  },
  {
   "cell_type": "code",
   "execution_count": 59,
   "id": "30e18475",
   "metadata": {},
   "outputs": [],
   "source": [
    "neuromorpho_id_map = {\n",
    "    '19122003': 'NMO_159995', \n",
    "    '19128061': 'NMO_159993',\n",
    "    '19129015': 'NMO_159989',\n",
    "    '19129004': 'NMO_159994',\n",
    "    '19320017': '',\n",
    "    '2020_01_06_0048': '',\n",
    "    '19320022': ''\n",
    "}\n",
    "\n",
    "neuromorpho_url_map = {\n",
    "    '19122003': '', \n",
    "    '19128061': '',\n",
    "    '19129015': '',\n",
    "    '19129004': '',\n",
    "    '19320017': '',\n",
    "    '2020_01_06_0048': '',\n",
    "    '19320022': ''\n",
    "}"
   ]
  },
  {
   "cell_type": "code",
   "execution_count": 60,
   "id": "b6110a9f",
   "metadata": {},
   "outputs": [
    {
     "data": {
      "text/plain": [
       "array(['19122003', '19128061', '19129015', '19129004', '19320017',\n",
       "       '2020_01_06_0048', '2019_11_28_0010', '19320022'], dtype=object)"
      ]
     },
     "execution_count": 60,
     "metadata": {},
     "output_type": "execute_result"
    }
   ],
   "source": [
    "all_meta[all_meta.has_morphology]['ABF File'].values"
   ]
  },
  {
   "cell_type": "code",
   "execution_count": 61,
   "id": "29e8459f",
   "metadata": {},
   "outputs": [],
   "source": [
    "cutting_solutions = pd.read_csv('./data/raw/cutting_solution.csv')"
   ]
  },
  {
   "cell_type": "code",
   "execution_count": 62,
   "id": "a7ccb9c8",
   "metadata": {},
   "outputs": [],
   "source": [
    "cutting_solutions.recording_id = cutting_solutions.recording_id.str.rstrip('.nwb')"
   ]
  },
  {
   "cell_type": "code",
   "execution_count": 63,
   "id": "662f7588",
   "metadata": {},
   "outputs": [
    {
     "data": {
      "text/html": [
       "<div>\n",
       "<style scoped>\n",
       "    .dataframe tbody tr th:only-of-type {\n",
       "        vertical-align: middle;\n",
       "    }\n",
       "\n",
       "    .dataframe tbody tr th {\n",
       "        vertical-align: top;\n",
       "    }\n",
       "\n",
       "    .dataframe thead th {\n",
       "        text-align: right;\n",
       "    }\n",
       "</style>\n",
       "<table border=\"1\" class=\"dataframe\">\n",
       "  <thead>\n",
       "    <tr style=\"text-align: right;\">\n",
       "      <th></th>\n",
       "      <th>recording_id</th>\n",
       "      <th>cutting_solution</th>\n",
       "    </tr>\n",
       "  </thead>\n",
       "  <tbody>\n",
       "    <tr>\n",
       "      <th>0</th>\n",
       "      <td>19128006</td>\n",
       "      <td>Sucrose</td>\n",
       "    </tr>\n",
       "    <tr>\n",
       "      <th>1</th>\n",
       "      <td>19128040</td>\n",
       "      <td>Sucrose</td>\n",
       "    </tr>\n",
       "    <tr>\n",
       "      <th>2</th>\n",
       "      <td>19129043</td>\n",
       "      <td>Sucrose</td>\n",
       "    </tr>\n",
       "    <tr>\n",
       "      <th>3</th>\n",
       "      <td>19129058</td>\n",
       "      <td>Sucrose</td>\n",
       "    </tr>\n",
       "    <tr>\n",
       "      <th>4</th>\n",
       "      <td>19129072</td>\n",
       "      <td>Sucrose</td>\n",
       "    </tr>\n",
       "    <tr>\n",
       "      <th>...</th>\n",
       "      <td>...</td>\n",
       "      <td>...</td>\n",
       "    </tr>\n",
       "    <tr>\n",
       "      <th>136</th>\n",
       "      <td>19320024</td>\n",
       "      <td>Sucrose</td>\n",
       "    </tr>\n",
       "    <tr>\n",
       "      <th>137</th>\n",
       "      <td>19129047</td>\n",
       "      <td>Sucrose</td>\n",
       "    </tr>\n",
       "    <tr>\n",
       "      <th>138</th>\n",
       "      <td>2016_03_01_0000</td>\n",
       "      <td>Sucrose</td>\n",
       "    </tr>\n",
       "    <tr>\n",
       "      <th>139</th>\n",
       "      <td>15o08002</td>\n",
       "      <td>Sucrose</td>\n",
       "    </tr>\n",
       "    <tr>\n",
       "      <th>140</th>\n",
       "      <td>15o08017</td>\n",
       "      <td>Sucrose</td>\n",
       "    </tr>\n",
       "  </tbody>\n",
       "</table>\n",
       "<p>141 rows × 2 columns</p>\n",
       "</div>"
      ],
      "text/plain": [
       "        recording_id cutting_solution\n",
       "0           19128006          Sucrose\n",
       "1           19128040          Sucrose\n",
       "2           19129043          Sucrose\n",
       "3           19129058          Sucrose\n",
       "4           19129072          Sucrose\n",
       "..               ...              ...\n",
       "136         19320024          Sucrose\n",
       "137         19129047          Sucrose\n",
       "138  2016_03_01_0000          Sucrose\n",
       "139         15o08002          Sucrose\n",
       "140         15o08017          Sucrose\n",
       "\n",
       "[141 rows x 2 columns]"
      ]
     },
     "execution_count": 63,
     "metadata": {},
     "output_type": "execute_result"
    }
   ],
   "source": [
    "cutting_solutions"
   ]
  },
  {
   "cell_type": "code",
   "execution_count": 64,
   "id": "9c913d30",
   "metadata": {},
   "outputs": [],
   "source": [
    "all_meta = all_meta.merge(cutting_solutions, left_on='ABF File', right_on='recording_id', how='left').drop('recording_id', axis=1)"
   ]
  },
  {
   "cell_type": "code",
   "execution_count": 65,
   "id": "aedb2396",
   "metadata": {},
   "outputs": [],
   "source": [
    "all_meta['sex'] = all_meta.sex.str.strip(' ')"
   ]
  },
  {
   "cell_type": "code",
   "execution_count": 66,
   "id": "c8828626",
   "metadata": {},
   "outputs": [],
   "source": [
    "meta_output_path = Path('./data/processed/meta/')\n",
    "meta_output_path.mkdir(exist_ok=True, parents=True)\n",
    "human_meta.to_csv(meta_output_path / 'human_meta_cleaned.csv', index=None)\n",
    "all_meta.to_csv(meta_output_path / 'interim-all_meta_cleaned.csv', index=None)"
   ]
  }
 ],
 "metadata": {
  "kernelspec": {
   "display_name": "Python 3",
   "language": "python",
   "name": "python3"
  },
  "language_info": {
   "codemirror_mode": {
    "name": "ipython",
    "version": 3
   },
   "file_extension": ".py",
   "mimetype": "text/x-python",
   "name": "python",
   "nbconvert_exporter": "python",
   "pygments_lexer": "ipython3",
   "version": "3.8.8"
  }
 },
 "nbformat": 4,
 "nbformat_minor": 5
}
