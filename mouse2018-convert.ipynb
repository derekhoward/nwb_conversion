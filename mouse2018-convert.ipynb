{
 "cells": [
  {
   "cell_type": "code",
   "execution_count": 1,
   "metadata": {},
   "outputs": [],
   "source": [
    "import os\n",
    "import time\n",
    "import datetime\n",
    "from pathlib import Path\n",
    "import numpy as np\n",
    "import pandas as pd\n",
    "import pyabf\n",
    "import utils"
   ]
  },
  {
   "cell_type": "code",
   "execution_count": 2,
   "metadata": {},
   "outputs": [],
   "source": [
    "%load_ext autoreload\n",
    "%autoreload 2"
   ]
  },
  {
   "cell_type": "markdown",
   "metadata": {},
   "source": [
    "# Steps to convert 1st set of ABF files\n",
    "- read in metadata\n",
    "- identify files to be converted (from mouse2018, using protocols testing intrinsic properties, ABFv2)\n",
    "- merge in extracted metadata\n",
    "- convert using modified ABF1Converter\n",
    "- validate NWB outputs using dandi-cli\n",
    "- explore errors\n"
   ]
  },
  {
   "cell_type": "markdown",
   "metadata": {},
   "source": [
    "## Read in metadata provided by Homeira\n",
    "- Focus on files with firing pattern\n",
    "- we find 12 ABF files that suit these criteria\n",
    "- later we will read in files and determine whether they are ABFv1 or ABFv2"
   ]
  },
  {
   "cell_type": "code",
   "execution_count": 3,
   "metadata": {},
   "outputs": [],
   "source": [
    "mouse_meta = pd.read_csv('./data/raw/Metadata/Mouse18_Metadatav2.csv')\n",
    "mouse_meta.drop('Unnamed: 0', axis=1, inplace=True)"
   ]
  },
  {
   "cell_type": "code",
   "execution_count": 4,
   "metadata": {},
   "outputs": [
    {
     "data": {
      "text/html": [
       "<div>\n",
       "<style scoped>\n",
       "    .dataframe tbody tr th:only-of-type {\n",
       "        vertical-align: middle;\n",
       "    }\n",
       "\n",
       "    .dataframe tbody tr th {\n",
       "        vertical-align: top;\n",
       "    }\n",
       "\n",
       "    .dataframe thead th {\n",
       "        text-align: right;\n",
       "    }\n",
       "</style>\n",
       "<table border=\"1\" class=\"dataframe\">\n",
       "  <thead>\n",
       "    <tr style=\"text-align: right;\">\n",
       "      <th></th>\n",
       "      <th>Cell Name</th>\n",
       "      <th>Data Type</th>\n",
       "      <th>Exp. Date</th>\n",
       "      <th>Cell #</th>\n",
       "      <th>Cell Layer</th>\n",
       "      <th>Stim Type</th>\n",
       "      <th>ZD status</th>\n",
       "      <th>stimulus_type</th>\n",
       "      <th>Gain</th>\n",
       "      <th>Offset</th>\n",
       "      <th>Response Channel</th>\n",
       "      <th>Command Channel</th>\n",
       "      <th>RMP</th>\n",
       "    </tr>\n",
       "  </thead>\n",
       "  <tbody>\n",
       "    <tr>\n",
       "      <th>0</th>\n",
       "      <td>18116450</td>\n",
       "      <td>Mouse</td>\n",
       "      <td>Jan 16_2018</td>\n",
       "      <td>C5</td>\n",
       "      <td>L5</td>\n",
       "      <td>Firing</td>\n",
       "      <td>n.a</td>\n",
       "      <td>NaN</td>\n",
       "      <td>1.0</td>\n",
       "      <td>17.5</td>\n",
       "      <td>Iclamp (mV)</td>\n",
       "      <td>Current_in(pA)</td>\n",
       "      <td>-67.5</td>\n",
       "    </tr>\n",
       "    <tr>\n",
       "      <th>1</th>\n",
       "      <td>18130014</td>\n",
       "      <td>Mouse</td>\n",
       "      <td>Jan 30_2018</td>\n",
       "      <td>C5</td>\n",
       "      <td>L5</td>\n",
       "      <td>Firing</td>\n",
       "      <td>n.a</td>\n",
       "      <td>longsquare</td>\n",
       "      <td>1.0</td>\n",
       "      <td>15.2</td>\n",
       "      <td>Iclamp (mV)</td>\n",
       "      <td>Current_in(pA)</td>\n",
       "      <td>-75.2</td>\n",
       "    </tr>\n",
       "    <tr>\n",
       "      <th>2</th>\n",
       "      <td>2018_02_08_0000</td>\n",
       "      <td>Mouse</td>\n",
       "      <td>Feb 08_2018</td>\n",
       "      <td>C1</td>\n",
       "      <td>L5</td>\n",
       "      <td>Firing pattern</td>\n",
       "      <td>n.a</td>\n",
       "      <td>ramp</td>\n",
       "      <td>1.0</td>\n",
       "      <td>12.0</td>\n",
       "      <td>Iclamp (mV)</td>\n",
       "      <td>Current_in(pA)</td>\n",
       "      <td>-62.6</td>\n",
       "    </tr>\n",
       "    <tr>\n",
       "      <th>3</th>\n",
       "      <td>2018_02_08_0001</td>\n",
       "      <td>Mouse</td>\n",
       "      <td>Feb 08_2018</td>\n",
       "      <td>C1</td>\n",
       "      <td>L5</td>\n",
       "      <td>Firing pattern</td>\n",
       "      <td>n.a</td>\n",
       "      <td>longsquare</td>\n",
       "      <td>1.0</td>\n",
       "      <td>12.0</td>\n",
       "      <td>Iclamp (mV)</td>\n",
       "      <td>Current_in(pA)</td>\n",
       "      <td>-62.6</td>\n",
       "    </tr>\n",
       "    <tr>\n",
       "      <th>4</th>\n",
       "      <td>18208013</td>\n",
       "      <td>Mouse</td>\n",
       "      <td>Feb 08_2018</td>\n",
       "      <td>C3</td>\n",
       "      <td>L5</td>\n",
       "      <td>Firing pattern</td>\n",
       "      <td>n.a</td>\n",
       "      <td>ramp</td>\n",
       "      <td>1.0</td>\n",
       "      <td>27.3</td>\n",
       "      <td>Iclamp (mV)</td>\n",
       "      <td>Current_in(pA)</td>\n",
       "      <td>-62.3</td>\n",
       "    </tr>\n",
       "  </tbody>\n",
       "</table>\n",
       "</div>"
      ],
      "text/plain": [
       "         Cell Name Data Type    Exp. Date Cell # Cell Layer       Stim Type  \\\n",
       "0         18116450     Mouse  Jan 16_2018     C5         L5          Firing   \n",
       "1         18130014     Mouse  Jan 30_2018     C5         L5          Firing   \n",
       "2  2018_02_08_0000     Mouse  Feb 08_2018     C1         L5  Firing pattern   \n",
       "3  2018_02_08_0001     Mouse  Feb 08_2018     C1         L5  Firing pattern   \n",
       "4         18208013     Mouse  Feb 08_2018     C3         L5  Firing pattern   \n",
       "\n",
       "  ZD status stimulus_type  Gain  Offset Response Channel   Command Channel  \\\n",
       "0       n.a           NaN   1.0    17.5     Iclamp (mV)     Current_in(pA)   \n",
       "1       n.a    longsquare   1.0    15.2     Iclamp (mV)     Current_in(pA)   \n",
       "2       n.a          ramp   1.0    12.0     Iclamp (mV)     Current_in(pA)   \n",
       "3       n.a    longsquare   1.0    12.0     Iclamp (mV)     Current_in(pA)   \n",
       "4       n.a          ramp   1.0    27.3     Iclamp (mV)     Current_in(pA)   \n",
       "\n",
       "    RMP  \n",
       "0 -67.5  \n",
       "1 -75.2  \n",
       "2 -62.6  \n",
       "3 -62.6  \n",
       "4 -62.3  "
      ]
     },
     "execution_count": 4,
     "metadata": {},
     "output_type": "execute_result"
    }
   ],
   "source": [
    "mouse_meta.head()"
   ]
  },
  {
   "cell_type": "code",
   "execution_count": 5,
   "metadata": {},
   "outputs": [
    {
     "data": {
      "text/plain": [
       "(89, 13)"
      ]
     },
     "execution_count": 5,
     "metadata": {},
     "output_type": "execute_result"
    }
   ],
   "source": [
    "mouse_meta.shape"
   ]
  },
  {
   "cell_type": "code",
   "execution_count": 6,
   "metadata": {},
   "outputs": [
    {
     "data": {
      "text/plain": [
       "Gain 40           62\n",
       "Gain 20           14\n",
       "Firing pattern    11\n",
       "Firing             2\n",
       "Name: Stim Type, dtype: int64"
      ]
     },
     "execution_count": 6,
     "metadata": {},
     "output_type": "execute_result"
    }
   ],
   "source": [
    "mouse_meta['Stim Type'].value_counts()"
   ]
  },
  {
   "cell_type": "code",
   "execution_count": 7,
   "metadata": {},
   "outputs": [],
   "source": [
    "intrinsic_meta = pd.concat([mouse_meta[mouse_meta['Stim Type'] == 'Firing'], mouse_meta[mouse_meta['Stim Type'] == 'Firing pattern']])"
   ]
  },
  {
   "cell_type": "code",
   "execution_count": 8,
   "metadata": {},
   "outputs": [
    {
     "data": {
      "text/plain": [
       "(13, 13)"
      ]
     },
     "execution_count": 8,
     "metadata": {},
     "output_type": "execute_result"
    }
   ],
   "source": [
    "intrinsic_meta.shape"
   ]
  },
  {
   "cell_type": "code",
   "execution_count": 9,
   "metadata": {},
   "outputs": [
    {
     "data": {
      "text/html": [
       "<div>\n",
       "<style scoped>\n",
       "    .dataframe tbody tr th:only-of-type {\n",
       "        vertical-align: middle;\n",
       "    }\n",
       "\n",
       "    .dataframe tbody tr th {\n",
       "        vertical-align: top;\n",
       "    }\n",
       "\n",
       "    .dataframe thead th {\n",
       "        text-align: right;\n",
       "    }\n",
       "</style>\n",
       "<table border=\"1\" class=\"dataframe\">\n",
       "  <thead>\n",
       "    <tr style=\"text-align: right;\">\n",
       "      <th></th>\n",
       "      <th>Cell Name</th>\n",
       "      <th>Data Type</th>\n",
       "      <th>Exp. Date</th>\n",
       "      <th>Cell #</th>\n",
       "      <th>Cell Layer</th>\n",
       "      <th>Stim Type</th>\n",
       "      <th>ZD status</th>\n",
       "      <th>stimulus_type</th>\n",
       "      <th>Gain</th>\n",
       "      <th>Offset</th>\n",
       "      <th>Response Channel</th>\n",
       "      <th>Command Channel</th>\n",
       "      <th>RMP</th>\n",
       "    </tr>\n",
       "  </thead>\n",
       "  <tbody>\n",
       "    <tr>\n",
       "      <th>0</th>\n",
       "      <td>18116450</td>\n",
       "      <td>Mouse</td>\n",
       "      <td>Jan 16_2018</td>\n",
       "      <td>C5</td>\n",
       "      <td>L5</td>\n",
       "      <td>Firing</td>\n",
       "      <td>n.a</td>\n",
       "      <td>NaN</td>\n",
       "      <td>1.0</td>\n",
       "      <td>17.5</td>\n",
       "      <td>Iclamp (mV)</td>\n",
       "      <td>Current_in(pA)</td>\n",
       "      <td>-67.5</td>\n",
       "    </tr>\n",
       "    <tr>\n",
       "      <th>1</th>\n",
       "      <td>18130014</td>\n",
       "      <td>Mouse</td>\n",
       "      <td>Jan 30_2018</td>\n",
       "      <td>C5</td>\n",
       "      <td>L5</td>\n",
       "      <td>Firing</td>\n",
       "      <td>n.a</td>\n",
       "      <td>longsquare</td>\n",
       "      <td>1.0</td>\n",
       "      <td>15.2</td>\n",
       "      <td>Iclamp (mV)</td>\n",
       "      <td>Current_in(pA)</td>\n",
       "      <td>-75.2</td>\n",
       "    </tr>\n",
       "    <tr>\n",
       "      <th>2</th>\n",
       "      <td>2018_02_08_0000</td>\n",
       "      <td>Mouse</td>\n",
       "      <td>Feb 08_2018</td>\n",
       "      <td>C1</td>\n",
       "      <td>L5</td>\n",
       "      <td>Firing pattern</td>\n",
       "      <td>n.a</td>\n",
       "      <td>ramp</td>\n",
       "      <td>1.0</td>\n",
       "      <td>12.0</td>\n",
       "      <td>Iclamp (mV)</td>\n",
       "      <td>Current_in(pA)</td>\n",
       "      <td>-62.6</td>\n",
       "    </tr>\n",
       "    <tr>\n",
       "      <th>3</th>\n",
       "      <td>2018_02_08_0001</td>\n",
       "      <td>Mouse</td>\n",
       "      <td>Feb 08_2018</td>\n",
       "      <td>C1</td>\n",
       "      <td>L5</td>\n",
       "      <td>Firing pattern</td>\n",
       "      <td>n.a</td>\n",
       "      <td>longsquare</td>\n",
       "      <td>1.0</td>\n",
       "      <td>12.0</td>\n",
       "      <td>Iclamp (mV)</td>\n",
       "      <td>Current_in(pA)</td>\n",
       "      <td>-62.6</td>\n",
       "    </tr>\n",
       "    <tr>\n",
       "      <th>4</th>\n",
       "      <td>18208013</td>\n",
       "      <td>Mouse</td>\n",
       "      <td>Feb 08_2018</td>\n",
       "      <td>C3</td>\n",
       "      <td>L5</td>\n",
       "      <td>Firing pattern</td>\n",
       "      <td>n.a</td>\n",
       "      <td>ramp</td>\n",
       "      <td>1.0</td>\n",
       "      <td>27.3</td>\n",
       "      <td>Iclamp (mV)</td>\n",
       "      <td>Current_in(pA)</td>\n",
       "      <td>-62.3</td>\n",
       "    </tr>\n",
       "    <tr>\n",
       "      <th>5</th>\n",
       "      <td>18208014</td>\n",
       "      <td>Mouse</td>\n",
       "      <td>Feb 08_2018</td>\n",
       "      <td>C3</td>\n",
       "      <td>L5</td>\n",
       "      <td>Firing pattern</td>\n",
       "      <td>n.a</td>\n",
       "      <td>longsquare</td>\n",
       "      <td>1.0</td>\n",
       "      <td>27.3</td>\n",
       "      <td>Iclamp (mV)</td>\n",
       "      <td>Current_in(pA)</td>\n",
       "      <td>-62.3</td>\n",
       "    </tr>\n",
       "    <tr>\n",
       "      <th>6</th>\n",
       "      <td>18208023</td>\n",
       "      <td>Mouse</td>\n",
       "      <td>Feb 08_2018</td>\n",
       "      <td>C6</td>\n",
       "      <td>L5</td>\n",
       "      <td>Firing pattern</td>\n",
       "      <td>n.a</td>\n",
       "      <td>ramp</td>\n",
       "      <td>1.0</td>\n",
       "      <td>23.2</td>\n",
       "      <td>Iclamp (mV)</td>\n",
       "      <td>Current_in(pA)</td>\n",
       "      <td>-63.2</td>\n",
       "    </tr>\n",
       "    <tr>\n",
       "      <th>7</th>\n",
       "      <td>18208024</td>\n",
       "      <td>Mouse</td>\n",
       "      <td>Feb 08_2018</td>\n",
       "      <td>C6</td>\n",
       "      <td>L5</td>\n",
       "      <td>Firing pattern</td>\n",
       "      <td>n.a</td>\n",
       "      <td>longsquare</td>\n",
       "      <td>1.0</td>\n",
       "      <td>23.2</td>\n",
       "      <td>Iclamp (mV)</td>\n",
       "      <td>Current_in(pA)</td>\n",
       "      <td>-63.2</td>\n",
       "    </tr>\n",
       "    <tr>\n",
       "      <th>8</th>\n",
       "      <td>18118023</td>\n",
       "      <td>Mouse</td>\n",
       "      <td>Jan 18_2018</td>\n",
       "      <td>C4</td>\n",
       "      <td>L5</td>\n",
       "      <td>Firing pattern</td>\n",
       "      <td>n.a</td>\n",
       "      <td>NaN</td>\n",
       "      <td>20.0</td>\n",
       "      <td>17.4</td>\n",
       "      <td>Iclamp (mV)</td>\n",
       "      <td>Current_in(pA)</td>\n",
       "      <td>-59.4</td>\n",
       "    </tr>\n",
       "    <tr>\n",
       "      <th>9</th>\n",
       "      <td>18118024</td>\n",
       "      <td>Mouse</td>\n",
       "      <td>Jan 18_2018</td>\n",
       "      <td>C4</td>\n",
       "      <td>L5</td>\n",
       "      <td>Firing pattern</td>\n",
       "      <td>n.a</td>\n",
       "      <td>longsquare</td>\n",
       "      <td>20.0</td>\n",
       "      <td>15.4</td>\n",
       "      <td>Iclamp (mV)</td>\n",
       "      <td>Current_in(pA)</td>\n",
       "      <td>-59.4</td>\n",
       "    </tr>\n",
       "    <tr>\n",
       "      <th>10</th>\n",
       "      <td>18119012</td>\n",
       "      <td>Mouse</td>\n",
       "      <td>Jan 19_2018</td>\n",
       "      <td>C2</td>\n",
       "      <td>L5</td>\n",
       "      <td>Firing pattern</td>\n",
       "      <td>n.a</td>\n",
       "      <td>NaN</td>\n",
       "      <td>20.0</td>\n",
       "      <td>16.4</td>\n",
       "      <td>Iclamp (mV)</td>\n",
       "      <td>Current_in(pA)</td>\n",
       "      <td>-70.4</td>\n",
       "    </tr>\n",
       "    <tr>\n",
       "      <th>11</th>\n",
       "      <td>18119024</td>\n",
       "      <td>Mouse</td>\n",
       "      <td>Jan 19_2018</td>\n",
       "      <td>C3</td>\n",
       "      <td>L5</td>\n",
       "      <td>Firing pattern</td>\n",
       "      <td>n.a</td>\n",
       "      <td>NaN</td>\n",
       "      <td>20.0</td>\n",
       "      <td>15.7</td>\n",
       "      <td>Iclamp (mV)</td>\n",
       "      <td>Current_in(pA)</td>\n",
       "      <td>-67.7</td>\n",
       "    </tr>\n",
       "    <tr>\n",
       "      <th>12</th>\n",
       "      <td>18208031</td>\n",
       "      <td>Mouse</td>\n",
       "      <td>Feb 08_2018</td>\n",
       "      <td>C8</td>\n",
       "      <td>L5</td>\n",
       "      <td>Firing pattern</td>\n",
       "      <td>n.a</td>\n",
       "      <td>ramp</td>\n",
       "      <td>1.0</td>\n",
       "      <td>22.4</td>\n",
       "      <td>Iclamp (mV)</td>\n",
       "      <td>Current_in(pA)</td>\n",
       "      <td>-62.4</td>\n",
       "    </tr>\n",
       "  </tbody>\n",
       "</table>\n",
       "</div>"
      ],
      "text/plain": [
       "          Cell Name Data Type    Exp. Date Cell # Cell Layer       Stim Type  \\\n",
       "0          18116450     Mouse  Jan 16_2018     C5         L5          Firing   \n",
       "1          18130014     Mouse  Jan 30_2018     C5         L5          Firing   \n",
       "2   2018_02_08_0000     Mouse  Feb 08_2018     C1         L5  Firing pattern   \n",
       "3   2018_02_08_0001     Mouse  Feb 08_2018     C1         L5  Firing pattern   \n",
       "4          18208013     Mouse  Feb 08_2018     C3         L5  Firing pattern   \n",
       "5          18208014     Mouse  Feb 08_2018     C3         L5  Firing pattern   \n",
       "6          18208023     Mouse  Feb 08_2018     C6         L5  Firing pattern   \n",
       "7          18208024     Mouse  Feb 08_2018     C6         L5  Firing pattern   \n",
       "8          18118023     Mouse  Jan 18_2018     C4         L5  Firing pattern   \n",
       "9          18118024     Mouse  Jan 18_2018     C4         L5  Firing pattern   \n",
       "10         18119012     Mouse  Jan 19_2018     C2         L5  Firing pattern   \n",
       "11         18119024     Mouse  Jan 19_2018     C3         L5  Firing pattern   \n",
       "12         18208031     Mouse  Feb 08_2018     C8         L5  Firing pattern   \n",
       "\n",
       "   ZD status stimulus_type  Gain  Offset Response Channel   Command Channel  \\\n",
       "0        n.a           NaN   1.0    17.5     Iclamp (mV)     Current_in(pA)   \n",
       "1        n.a    longsquare   1.0    15.2     Iclamp (mV)     Current_in(pA)   \n",
       "2        n.a          ramp   1.0    12.0     Iclamp (mV)     Current_in(pA)   \n",
       "3        n.a    longsquare   1.0    12.0     Iclamp (mV)     Current_in(pA)   \n",
       "4        n.a          ramp   1.0    27.3     Iclamp (mV)     Current_in(pA)   \n",
       "5        n.a    longsquare   1.0    27.3     Iclamp (mV)     Current_in(pA)   \n",
       "6        n.a          ramp   1.0    23.2     Iclamp (mV)     Current_in(pA)   \n",
       "7        n.a    longsquare   1.0    23.2     Iclamp (mV)     Current_in(pA)   \n",
       "8        n.a           NaN  20.0    17.4     Iclamp (mV)     Current_in(pA)   \n",
       "9        n.a    longsquare  20.0    15.4     Iclamp (mV)     Current_in(pA)   \n",
       "10       n.a           NaN  20.0    16.4     Iclamp (mV)     Current_in(pA)   \n",
       "11       n.a           NaN  20.0    15.7     Iclamp (mV)     Current_in(pA)   \n",
       "12       n.a          ramp   1.0    22.4     Iclamp (mV)     Current_in(pA)   \n",
       "\n",
       "     RMP  \n",
       "0  -67.5  \n",
       "1  -75.2  \n",
       "2  -62.6  \n",
       "3  -62.6  \n",
       "4  -62.3  \n",
       "5  -62.3  \n",
       "6  -63.2  \n",
       "7  -63.2  \n",
       "8  -59.4  \n",
       "9  -59.4  \n",
       "10 -70.4  \n",
       "11 -67.7  \n",
       "12 -62.4  "
      ]
     },
     "execution_count": 9,
     "metadata": {},
     "output_type": "execute_result"
    }
   ],
   "source": [
    "intrinsic_meta"
   ]
  },
  {
   "cell_type": "markdown",
   "metadata": {},
   "source": [
    "## Identify files to be converted\n",
    "- ABF files from mouse2018\n",
    "- need metadata to determine which files are testing firing pattern\n",
    "- extract ABF version info, time of creation and comments from the ABF file"
   ]
  },
  {
   "cell_type": "code",
   "execution_count": 10,
   "metadata": {},
   "outputs": [],
   "source": [
    "mouse2018_abf_dir = Path(\"./data/raw/recordings/Mouse data/Mouse data_2018\")\n",
    "mouse2018_file_info = utils.summary_df(mouse2018_abf_dir)"
   ]
  },
  {
   "cell_type": "code",
   "execution_count": 11,
   "metadata": {},
   "outputs": [
    {
     "name": "stdout",
     "output_type": "stream",
     "text": [
      "CPU times: user 2.77 s, sys: 1.01 s, total: 3.78 s\n",
      "Wall time: 4.01 s\n"
     ]
    }
   ],
   "source": [
    "%%time\n",
    "def parse_timestamp(abf_path):\n",
    "    abf = pyabf.ABF(abf_path)\n",
    "    return datetime.datetime.strptime(abf.abfDateTimeString, \"%Y-%m-%dT%H:%M:%S.%f\")\n",
    "\n",
    "def extract_abf_version(abf_path):\n",
    "    abf = pyabf.ABF(abf_path)\n",
    "    return abf.abfVersionString\n",
    "\n",
    "def extract_abf_comments(abf_path):\n",
    "    abf = pyabf.ABF(abf_path)\n",
    "    return abf.tagComments\n",
    "\n",
    "mouse2018_file_info['timestamp'] = mouse2018_file_info.path.apply(parse_timestamp)\n",
    "mouse2018_file_info['abf_version'] = mouse2018_file_info.path.apply(extract_abf_version)\n",
    "mouse2018_file_info['abf_comments'] = mouse2018_file_info.path.apply(extract_abf_comments)\n",
    "\n",
    "# add this column to merge with provided metadata\n",
    "mouse2018_file_info['file_id'] = mouse2018_file_info.file_name.apply(lambda x: Path(x).stem) "
   ]
  },
  {
   "cell_type": "code",
   "execution_count": 12,
   "metadata": {},
   "outputs": [
    {
     "data": {
      "text/plain": [
       "(124, 6)"
      ]
     },
     "execution_count": 12,
     "metadata": {},
     "output_type": "execute_result"
    }
   ],
   "source": [
    "mouse2018_file_info.shape"
   ]
  },
  {
   "cell_type": "code",
   "execution_count": 13,
   "metadata": {},
   "outputs": [
    {
     "data": {
      "text/html": [
       "<div>\n",
       "<style scoped>\n",
       "    .dataframe tbody tr th:only-of-type {\n",
       "        vertical-align: middle;\n",
       "    }\n",
       "\n",
       "    .dataframe tbody tr th {\n",
       "        vertical-align: top;\n",
       "    }\n",
       "\n",
       "    .dataframe thead th {\n",
       "        text-align: right;\n",
       "    }\n",
       "</style>\n",
       "<table border=\"1\" class=\"dataframe\">\n",
       "  <thead>\n",
       "    <tr style=\"text-align: right;\">\n",
       "      <th></th>\n",
       "      <th>file_name</th>\n",
       "      <th>path</th>\n",
       "      <th>timestamp</th>\n",
       "      <th>abf_version</th>\n",
       "      <th>abf_comments</th>\n",
       "      <th>file_id</th>\n",
       "    </tr>\n",
       "  </thead>\n",
       "  <tbody>\n",
       "    <tr>\n",
       "      <th>0</th>\n",
       "      <td>18130005.abf</td>\n",
       "      <td>data/raw/recordings/Mouse data/Mouse data_2018...</td>\n",
       "      <td>2018-01-30 13:50:35.671</td>\n",
       "      <td>1.8.3.0</td>\n",
       "      <td>[]</td>\n",
       "      <td>18130005</td>\n",
       "    </tr>\n",
       "    <tr>\n",
       "      <th>1</th>\n",
       "      <td>18130004.abf</td>\n",
       "      <td>data/raw/recordings/Mouse data/Mouse data_2018...</td>\n",
       "      <td>2018-01-30 13:30:38.765</td>\n",
       "      <td>1.8.3.0</td>\n",
       "      <td>[C1,  L5, RMP: -65.1 mv, Gain 20, Dc 100]</td>\n",
       "      <td>18130004</td>\n",
       "    </tr>\n",
       "    <tr>\n",
       "      <th>2</th>\n",
       "      <td>18130006.abf</td>\n",
       "      <td>data/raw/recordings/Mouse data/Mouse data_2018...</td>\n",
       "      <td>2018-01-30 13:51:06.937</td>\n",
       "      <td>1.8.3.0</td>\n",
       "      <td>[]</td>\n",
       "      <td>18130006</td>\n",
       "    </tr>\n",
       "    <tr>\n",
       "      <th>3</th>\n",
       "      <td>18130009.abf</td>\n",
       "      <td>data/raw/recordings/Mouse data/Mouse data_2018...</td>\n",
       "      <td>2018-01-30 14:10:45.468</td>\n",
       "      <td>1.8.3.0</td>\n",
       "      <td>[C2,  L5, RMP: -69.1 mv, Gain 20, Dc 150 every...</td>\n",
       "      <td>18130009</td>\n",
       "    </tr>\n",
       "    <tr>\n",
       "      <th>4</th>\n",
       "      <td>18130008.abf</td>\n",
       "      <td>data/raw/recordings/Mouse data/Mouse data_2018...</td>\n",
       "      <td>2018-01-30 14:00:32.578</td>\n",
       "      <td>1.8.3.0</td>\n",
       "      <td>[C2,  L5, RMP: -69.1 mv, Gain 20, Dc 125, ever...</td>\n",
       "      <td>18130008</td>\n",
       "    </tr>\n",
       "  </tbody>\n",
       "</table>\n",
       "</div>"
      ],
      "text/plain": [
       "      file_name                                               path  \\\n",
       "0  18130005.abf  data/raw/recordings/Mouse data/Mouse data_2018...   \n",
       "1  18130004.abf  data/raw/recordings/Mouse data/Mouse data_2018...   \n",
       "2  18130006.abf  data/raw/recordings/Mouse data/Mouse data_2018...   \n",
       "3  18130009.abf  data/raw/recordings/Mouse data/Mouse data_2018...   \n",
       "4  18130008.abf  data/raw/recordings/Mouse data/Mouse data_2018...   \n",
       "\n",
       "                timestamp abf_version  \\\n",
       "0 2018-01-30 13:50:35.671     1.8.3.0   \n",
       "1 2018-01-30 13:30:38.765     1.8.3.0   \n",
       "2 2018-01-30 13:51:06.937     1.8.3.0   \n",
       "3 2018-01-30 14:10:45.468     1.8.3.0   \n",
       "4 2018-01-30 14:00:32.578     1.8.3.0   \n",
       "\n",
       "                                        abf_comments   file_id  \n",
       "0                                                 []  18130005  \n",
       "1          [C1,  L5, RMP: -65.1 mv, Gain 20, Dc 100]  18130004  \n",
       "2                                                 []  18130006  \n",
       "3  [C2,  L5, RMP: -69.1 mv, Gain 20, Dc 150 every...  18130009  \n",
       "4  [C2,  L5, RMP: -69.1 mv, Gain 20, Dc 125, ever...  18130008  "
      ]
     },
     "execution_count": 13,
     "metadata": {},
     "output_type": "execute_result"
    }
   ],
   "source": [
    "mouse2018_file_info.head()"
   ]
  },
  {
   "cell_type": "code",
   "execution_count": 14,
   "metadata": {},
   "outputs": [
    {
     "data": {
      "text/plain": [
       "1.8.3.0    124\n",
       "Name: abf_version, dtype: int64"
      ]
     },
     "execution_count": 14,
     "metadata": {},
     "output_type": "execute_result"
    }
   ],
   "source": [
    "mouse2018_file_info.abf_version.value_counts()"
   ]
  },
  {
   "cell_type": "code",
   "execution_count": 15,
   "metadata": {},
   "outputs": [],
   "source": [
    "merged_meta = intrinsic_meta.merge(mouse2018_file_info, left_on='Cell Name', right_on='file_id' , how='left')"
   ]
  },
  {
   "cell_type": "code",
   "execution_count": 16,
   "metadata": {},
   "outputs": [
    {
     "data": {
      "text/plain": [
       "1.8.3.0    13\n",
       "Name: abf_version, dtype: int64"
      ]
     },
     "execution_count": 16,
     "metadata": {},
     "output_type": "execute_result"
    }
   ],
   "source": [
    "# we are left with 36 files to convert\n",
    "merged_meta.abf_version.value_counts()"
   ]
  },
  {
   "cell_type": "code",
   "execution_count": 17,
   "metadata": {},
   "outputs": [],
   "source": [
    "temp = merged_meta[merged_meta.abf_version.notnull()]\n",
    "to_convert = temp[temp.abf_version.str.startswith('1')]"
   ]
  },
  {
   "cell_type": "markdown",
   "metadata": {},
   "source": [
    "## Convert!\n",
    "- 13 files to convert to NWB"
   ]
  },
  {
   "cell_type": "code",
   "execution_count": 18,
   "metadata": {},
   "outputs": [],
   "source": [
    "output_dir = Path(\"data/processed/recordings/mouse2018/\")\n",
    "output_dir.mkdir(exist_ok=True)"
   ]
  },
  {
   "cell_type": "code",
   "execution_count": 19,
   "metadata": {},
   "outputs": [
    {
     "data": {
      "text/html": [
       "<div>\n",
       "<style scoped>\n",
       "    .dataframe tbody tr th:only-of-type {\n",
       "        vertical-align: middle;\n",
       "    }\n",
       "\n",
       "    .dataframe tbody tr th {\n",
       "        vertical-align: top;\n",
       "    }\n",
       "\n",
       "    .dataframe thead th {\n",
       "        text-align: right;\n",
       "    }\n",
       "</style>\n",
       "<table border=\"1\" class=\"dataframe\">\n",
       "  <thead>\n",
       "    <tr style=\"text-align: right;\">\n",
       "      <th></th>\n",
       "      <th>Cell Name</th>\n",
       "      <th>Data Type</th>\n",
       "      <th>Exp. Date</th>\n",
       "      <th>Cell #</th>\n",
       "      <th>Cell Layer</th>\n",
       "      <th>Stim Type</th>\n",
       "      <th>ZD status</th>\n",
       "      <th>stimulus_type</th>\n",
       "      <th>Gain</th>\n",
       "      <th>Offset</th>\n",
       "      <th>Response Channel</th>\n",
       "      <th>Command Channel</th>\n",
       "      <th>RMP</th>\n",
       "      <th>file_name</th>\n",
       "      <th>path</th>\n",
       "      <th>timestamp</th>\n",
       "      <th>abf_version</th>\n",
       "      <th>abf_comments</th>\n",
       "      <th>file_id</th>\n",
       "    </tr>\n",
       "  </thead>\n",
       "  <tbody>\n",
       "    <tr>\n",
       "      <th>0</th>\n",
       "      <td>18116450</td>\n",
       "      <td>Mouse</td>\n",
       "      <td>Jan 16_2018</td>\n",
       "      <td>C5</td>\n",
       "      <td>L5</td>\n",
       "      <td>Firing</td>\n",
       "      <td>n.a</td>\n",
       "      <td>NaN</td>\n",
       "      <td>1.0</td>\n",
       "      <td>17.5</td>\n",
       "      <td>Iclamp (mV)</td>\n",
       "      <td>Current_in(pA)</td>\n",
       "      <td>-67.5</td>\n",
       "      <td>18116450.abf</td>\n",
       "      <td>data/raw/recordings/Mouse data/Mouse data_2018...</td>\n",
       "      <td>2018-01-16 16:07:17.546</td>\n",
       "      <td>1.8.3.0</td>\n",
       "      <td>[c5, RMP -67.5 mv]</td>\n",
       "      <td>18116450</td>\n",
       "    </tr>\n",
       "    <tr>\n",
       "      <th>1</th>\n",
       "      <td>18130014</td>\n",
       "      <td>Mouse</td>\n",
       "      <td>Jan 30_2018</td>\n",
       "      <td>C5</td>\n",
       "      <td>L5</td>\n",
       "      <td>Firing</td>\n",
       "      <td>n.a</td>\n",
       "      <td>longsquare</td>\n",
       "      <td>1.0</td>\n",
       "      <td>15.2</td>\n",
       "      <td>Iclamp (mV)</td>\n",
       "      <td>Current_in(pA)</td>\n",
       "      <td>-75.2</td>\n",
       "      <td>18130014.abf</td>\n",
       "      <td>data/raw/recordings/Mouse data/Mouse data_2018...</td>\n",
       "      <td>2018-01-30 15:57:40.031</td>\n",
       "      <td>1.8.3.0</td>\n",
       "      <td>[C5,  L5, RMP: -75.2 mv]</td>\n",
       "      <td>18130014</td>\n",
       "    </tr>\n",
       "    <tr>\n",
       "      <th>2</th>\n",
       "      <td>2018_02_08_0000</td>\n",
       "      <td>Mouse</td>\n",
       "      <td>Feb 08_2018</td>\n",
       "      <td>C1</td>\n",
       "      <td>L5</td>\n",
       "      <td>Firing pattern</td>\n",
       "      <td>n.a</td>\n",
       "      <td>ramp</td>\n",
       "      <td>1.0</td>\n",
       "      <td>12.0</td>\n",
       "      <td>Iclamp (mV)</td>\n",
       "      <td>Current_in(pA)</td>\n",
       "      <td>-62.6</td>\n",
       "      <td>2018_02_08_0000.abf</td>\n",
       "      <td>data/raw/recordings/Mouse data/Mouse data_2018...</td>\n",
       "      <td>2018-02-08 12:57:10.781</td>\n",
       "      <td>1.8.3.0</td>\n",
       "      <td>[]</td>\n",
       "      <td>2018_02_08_0000</td>\n",
       "    </tr>\n",
       "    <tr>\n",
       "      <th>3</th>\n",
       "      <td>2018_02_08_0001</td>\n",
       "      <td>Mouse</td>\n",
       "      <td>Feb 08_2018</td>\n",
       "      <td>C1</td>\n",
       "      <td>L5</td>\n",
       "      <td>Firing pattern</td>\n",
       "      <td>n.a</td>\n",
       "      <td>longsquare</td>\n",
       "      <td>1.0</td>\n",
       "      <td>12.0</td>\n",
       "      <td>Iclamp (mV)</td>\n",
       "      <td>Current_in(pA)</td>\n",
       "      <td>-62.6</td>\n",
       "      <td>2018_02_08_0001.abf</td>\n",
       "      <td>data/raw/recordings/Mouse data/Mouse data_2018...</td>\n",
       "      <td>2018-02-08 12:58:48.218</td>\n",
       "      <td>1.8.3.0</td>\n",
       "      <td>[C1; RMP -62.6mv;layer 5,]</td>\n",
       "      <td>2018_02_08_0001</td>\n",
       "    </tr>\n",
       "    <tr>\n",
       "      <th>4</th>\n",
       "      <td>18208013</td>\n",
       "      <td>Mouse</td>\n",
       "      <td>Feb 08_2018</td>\n",
       "      <td>C3</td>\n",
       "      <td>L5</td>\n",
       "      <td>Firing pattern</td>\n",
       "      <td>n.a</td>\n",
       "      <td>ramp</td>\n",
       "      <td>1.0</td>\n",
       "      <td>27.3</td>\n",
       "      <td>Iclamp (mV)</td>\n",
       "      <td>Current_in(pA)</td>\n",
       "      <td>-62.3</td>\n",
       "      <td>18208013.abf</td>\n",
       "      <td>data/raw/recordings/Mouse data/Mouse data_2018...</td>\n",
       "      <td>2018-02-08 14:45:14.687</td>\n",
       "      <td>1.8.3.0</td>\n",
       "      <td>[C3 RMP -62.3mv;layer 5,]</td>\n",
       "      <td>18208013</td>\n",
       "    </tr>\n",
       "  </tbody>\n",
       "</table>\n",
       "</div>"
      ],
      "text/plain": [
       "         Cell Name Data Type    Exp. Date Cell # Cell Layer       Stim Type  \\\n",
       "0         18116450     Mouse  Jan 16_2018     C5         L5          Firing   \n",
       "1         18130014     Mouse  Jan 30_2018     C5         L5          Firing   \n",
       "2  2018_02_08_0000     Mouse  Feb 08_2018     C1         L5  Firing pattern   \n",
       "3  2018_02_08_0001     Mouse  Feb 08_2018     C1         L5  Firing pattern   \n",
       "4         18208013     Mouse  Feb 08_2018     C3         L5  Firing pattern   \n",
       "\n",
       "  ZD status stimulus_type  Gain  Offset Response Channel   Command Channel  \\\n",
       "0       n.a           NaN   1.0    17.5     Iclamp (mV)     Current_in(pA)   \n",
       "1       n.a    longsquare   1.0    15.2     Iclamp (mV)     Current_in(pA)   \n",
       "2       n.a          ramp   1.0    12.0     Iclamp (mV)     Current_in(pA)   \n",
       "3       n.a    longsquare   1.0    12.0     Iclamp (mV)     Current_in(pA)   \n",
       "4       n.a          ramp   1.0    27.3     Iclamp (mV)     Current_in(pA)   \n",
       "\n",
       "    RMP            file_name  \\\n",
       "0 -67.5         18116450.abf   \n",
       "1 -75.2         18130014.abf   \n",
       "2 -62.6  2018_02_08_0000.abf   \n",
       "3 -62.6  2018_02_08_0001.abf   \n",
       "4 -62.3         18208013.abf   \n",
       "\n",
       "                                                path               timestamp  \\\n",
       "0  data/raw/recordings/Mouse data/Mouse data_2018... 2018-01-16 16:07:17.546   \n",
       "1  data/raw/recordings/Mouse data/Mouse data_2018... 2018-01-30 15:57:40.031   \n",
       "2  data/raw/recordings/Mouse data/Mouse data_2018... 2018-02-08 12:57:10.781   \n",
       "3  data/raw/recordings/Mouse data/Mouse data_2018... 2018-02-08 12:58:48.218   \n",
       "4  data/raw/recordings/Mouse data/Mouse data_2018... 2018-02-08 14:45:14.687   \n",
       "\n",
       "  abf_version                abf_comments          file_id  \n",
       "0     1.8.3.0          [c5, RMP -67.5 mv]         18116450  \n",
       "1     1.8.3.0    [C5,  L5, RMP: -75.2 mv]         18130014  \n",
       "2     1.8.3.0                          []  2018_02_08_0000  \n",
       "3     1.8.3.0  [C1; RMP -62.6mv;layer 5,]  2018_02_08_0001  \n",
       "4     1.8.3.0   [C3 RMP -62.3mv;layer 5,]         18208013  "
      ]
     },
     "execution_count": 19,
     "metadata": {},
     "output_type": "execute_result"
    }
   ],
   "source": [
    "to_convert.head()"
   ]
  },
  {
   "cell_type": "code",
   "execution_count": 20,
   "metadata": {},
   "outputs": [
    {
     "data": {
      "text/plain": [
       "1.0     9\n",
       "20.0    4\n",
       "Name: Gain, dtype: int64"
      ]
     },
     "execution_count": 20,
     "metadata": {},
     "output_type": "execute_result"
    }
   ],
   "source": [
    "to_convert.Gain.value_counts()"
   ]
  },
  {
   "cell_type": "code",
   "execution_count": 21,
   "metadata": {},
   "outputs": [],
   "source": [
    "def get_stim_chan(abf_path):\n",
    "    abf = pyabf.ABF(abf_path)\n",
    "    return abf.dacNames[1]\n",
    "\n",
    "def get_resp_chan(abf_path):\n",
    "    abf = pyabf.ABF(abf_path)\n",
    "    return abf.adcNames[0]"
   ]
  },
  {
   "cell_type": "code",
   "execution_count": 22,
   "metadata": {},
   "outputs": [],
   "source": [
    "to_convert['stim_chan'] = to_convert.path.apply(get_stim_chan)\n",
    "to_convert['resp_chan'] = to_convert.path.apply(get_resp_chan)"
   ]
  },
  {
   "cell_type": "code",
   "execution_count": 23,
   "metadata": {},
   "outputs": [],
   "source": [
    "from x_to_nwb import ABF1Converter_meta2\n",
    "\n",
    "def generate_subject_meta(row):\n",
    "    meta = {\n",
    "    'Subject': {\n",
    "        'age': None,\n",
    "        'description': f'{row.abf_comments}',\n",
    "        'species': 'Homo sapiens',\n",
    "        'subject_id': f'Donor_{row.file_id}'}\n",
    "    }\n",
    "    return meta\n",
    "\n",
    "\n",
    "def convert_abfv1_row(row):\n",
    "    abf = pyabf.ABF(row.path)\n",
    "    file_stem = row.file_id\n",
    "    output_path = output_dir / f'{file_stem}.nwb'\n",
    "    meta = generate_subject_meta(row)\n",
    "\n",
    "    nwb = ABF1Converter_meta2.ABF1Converter(row.path,\n",
    "                                      str(output_path), \n",
    "                                      acquisitionChannelName=row.resp_chan,\n",
    "                                      stimulusChannelName=row.stim_chan,\n",
    "                                      responseOffset=(row.Offset) *(-1),\n",
    "                                      metadata=meta,\n",
    "                                      responseGain=row.Gain * 1000)\n",
    "    \n",
    "    nwb.convert()\n",
    "\n",
    "    print(f\"NWB Conversion complete for {output_path}\")"
   ]
  },
  {
   "cell_type": "code",
   "execution_count": 24,
   "metadata": {
    "scrolled": true
   },
   "outputs": [
    {
     "name": "stdout",
     "output_type": "stream",
     "text": [
      "data/raw/recordings/Mouse data/Mouse data_2018/Jan 16_2018/C5_L5/Firing/18116450.abf\n",
      "****************************************************************************************************\n",
      "Error: 'NoneType' object is not callable \n",
      " data/raw/recordings/Mouse data/Mouse data_2018/Jan 16_2018/C5_L5/Firing/18116450.abf \n",
      "\n",
      "data/raw/recordings/Mouse data/Mouse data_2018/Jan 30_2018/C5_L5/Firing/18130014.abf\n"
     ]
    },
    {
     "name": "stderr",
     "output_type": "stream",
     "text": [
      "/Users/derek_howard/miniconda3/envs/nwbephystest/lib/python3.8/site-packages/pynwb/file.py:753: UserWarning: Date is missing timezone information. Updating to local timezone.\n",
      "  warn(\"Date is missing timezone information. Updating to local timezone.\")\n"
     ]
    },
    {
     "name": "stdout",
     "output_type": "stream",
     "text": [
      "Successfully converted to data/processed/recordings/mouse2018/18130014.nwb.\n",
      "NWB Conversion complete for data/processed/recordings/mouse2018/18130014.nwb\n",
      "data/raw/recordings/Mouse data/Mouse data_2018/Feb 08_2018/C1_L5/Firing pattern/2018_02_08_0000.abf\n",
      "Successfully converted to data/processed/recordings/mouse2018/2018_02_08_0000.nwb.\n",
      "NWB Conversion complete for data/processed/recordings/mouse2018/2018_02_08_0000.nwb\n",
      "data/raw/recordings/Mouse data/Mouse data_2018/Feb 08_2018/C1_L5/Firing pattern/2018_02_08_0001.abf\n",
      "Successfully converted to data/processed/recordings/mouse2018/2018_02_08_0001.nwb.\n",
      "NWB Conversion complete for data/processed/recordings/mouse2018/2018_02_08_0001.nwb\n",
      "data/raw/recordings/Mouse data/Mouse data_2018/Feb 08_2018/C3_L5/Firing pattern/18208013.abf\n",
      "Successfully converted to data/processed/recordings/mouse2018/18208013.nwb.\n",
      "NWB Conversion complete for data/processed/recordings/mouse2018/18208013.nwb\n",
      "data/raw/recordings/Mouse data/Mouse data_2018/Feb 08_2018/C3_L5/Firing pattern/18208014.abf\n",
      "Successfully converted to data/processed/recordings/mouse2018/18208014.nwb.\n",
      "NWB Conversion complete for data/processed/recordings/mouse2018/18208014.nwb\n",
      "data/raw/recordings/Mouse data/Mouse data_2018/Feb 08_2018/C6_L5/Firing pattern/18208023.abf\n",
      "Successfully converted to data/processed/recordings/mouse2018/18208023.nwb.\n",
      "NWB Conversion complete for data/processed/recordings/mouse2018/18208023.nwb\n",
      "data/raw/recordings/Mouse data/Mouse data_2018/Feb 08_2018/C6_L5/Firing pattern/18208024.abf\n",
      "Successfully converted to data/processed/recordings/mouse2018/18208024.nwb.\n",
      "NWB Conversion complete for data/processed/recordings/mouse2018/18208024.nwb\n",
      "data/raw/recordings/Mouse data/Mouse data_2018/Jan 18_2018/C4_L5/Firing pattern/18118023.abf\n",
      "****************************************************************************************************\n",
      "Error: 'NoneType' object is not callable \n",
      " data/raw/recordings/Mouse data/Mouse data_2018/Jan 18_2018/C4_L5/Firing pattern/18118023.abf \n",
      "\n",
      "data/raw/recordings/Mouse data/Mouse data_2018/Jan 18_2018/C4_L5/Firing pattern/18118024.abf\n",
      "Successfully converted to data/processed/recordings/mouse2018/18118024.nwb.\n",
      "NWB Conversion complete for data/processed/recordings/mouse2018/18118024.nwb\n",
      "data/raw/recordings/Mouse data/Mouse data_2018/Jan 19_2018/C2_L5/Firing pattern/18119012.abf\n",
      "****************************************************************************************************\n",
      "Error: 'NoneType' object is not callable \n",
      " data/raw/recordings/Mouse data/Mouse data_2018/Jan 19_2018/C2_L5/Firing pattern/18119012.abf \n",
      "\n",
      "data/raw/recordings/Mouse data/Mouse data_2018/Jan 19_2018/C3_L5/Firing pattern/18119024.abf\n",
      "****************************************************************************************************\n",
      "Error: 'NoneType' object is not callable \n",
      " data/raw/recordings/Mouse data/Mouse data_2018/Jan 19_2018/C3_L5/Firing pattern/18119024.abf \n",
      "\n",
      "data/raw/recordings/Mouse data/Mouse data_2018/Feb 08_2018/C8_L5/Firring pattern/18208031.abf\n",
      "Successfully converted to data/processed/recordings/mouse2018/18208031.nwb.\n",
      "NWB Conversion complete for data/processed/recordings/mouse2018/18208031.nwb\n"
     ]
    }
   ],
   "source": [
    "successes = []\n",
    "errors = []\n",
    "\n",
    "for i, row in to_convert.iterrows():\n",
    "    try:\n",
    "        convert_abfv1_row(row)\n",
    "        successes.append((row.file_id, row.path))\n",
    "    except (ValueError, IndexError, TypeError, KeyError, AttributeError) as e:\n",
    "        print('**'*50)\n",
    "        print(f'Error: {e} \\n {row.path} \\n')\n",
    "        errors.append((e, row.file_id, row.path))"
   ]
  },
  {
   "cell_type": "code",
   "execution_count": 25,
   "metadata": {},
   "outputs": [],
   "source": [
    "error_df = pd.DataFrame(errors, columns = ['error', 'file_id', 'path'])"
   ]
  },
  {
   "cell_type": "code",
   "execution_count": 26,
   "metadata": {},
   "outputs": [
    {
     "data": {
      "text/html": [
       "<div>\n",
       "<style scoped>\n",
       "    .dataframe tbody tr th:only-of-type {\n",
       "        vertical-align: middle;\n",
       "    }\n",
       "\n",
       "    .dataframe tbody tr th {\n",
       "        vertical-align: top;\n",
       "    }\n",
       "\n",
       "    .dataframe thead th {\n",
       "        text-align: right;\n",
       "    }\n",
       "</style>\n",
       "<table border=\"1\" class=\"dataframe\">\n",
       "  <thead>\n",
       "    <tr style=\"text-align: right;\">\n",
       "      <th></th>\n",
       "      <th>error</th>\n",
       "      <th>file_id</th>\n",
       "      <th>path</th>\n",
       "    </tr>\n",
       "  </thead>\n",
       "  <tbody>\n",
       "    <tr>\n",
       "      <th>0</th>\n",
       "      <td>'NoneType' object is not callable</td>\n",
       "      <td>18116450</td>\n",
       "      <td>data/raw/recordings/Mouse data/Mouse data_2018...</td>\n",
       "    </tr>\n",
       "    <tr>\n",
       "      <th>1</th>\n",
       "      <td>'NoneType' object is not callable</td>\n",
       "      <td>18118023</td>\n",
       "      <td>data/raw/recordings/Mouse data/Mouse data_2018...</td>\n",
       "    </tr>\n",
       "    <tr>\n",
       "      <th>2</th>\n",
       "      <td>'NoneType' object is not callable</td>\n",
       "      <td>18119012</td>\n",
       "      <td>data/raw/recordings/Mouse data/Mouse data_2018...</td>\n",
       "    </tr>\n",
       "    <tr>\n",
       "      <th>3</th>\n",
       "      <td>'NoneType' object is not callable</td>\n",
       "      <td>18119024</td>\n",
       "      <td>data/raw/recordings/Mouse data/Mouse data_2018...</td>\n",
       "    </tr>\n",
       "  </tbody>\n",
       "</table>\n",
       "</div>"
      ],
      "text/plain": [
       "                               error   file_id  \\\n",
       "0  'NoneType' object is not callable  18116450   \n",
       "1  'NoneType' object is not callable  18118023   \n",
       "2  'NoneType' object is not callable  18119012   \n",
       "3  'NoneType' object is not callable  18119024   \n",
       "\n",
       "                                                path  \n",
       "0  data/raw/recordings/Mouse data/Mouse data_2018...  \n",
       "1  data/raw/recordings/Mouse data/Mouse data_2018...  \n",
       "2  data/raw/recordings/Mouse data/Mouse data_2018...  \n",
       "3  data/raw/recordings/Mouse data/Mouse data_2018...  "
      ]
     },
     "execution_count": 26,
     "metadata": {},
     "output_type": "execute_result"
    }
   ],
   "source": [
    "error_df"
   ]
  },
  {
   "cell_type": "code",
   "execution_count": 27,
   "metadata": {},
   "outputs": [],
   "source": [
    "successes_df = pd.DataFrame(successes, columns = ['file_id', 'path'])"
   ]
  },
  {
   "cell_type": "code",
   "execution_count": 28,
   "metadata": {},
   "outputs": [],
   "source": [
    "successes_df['nwb_path'] = successes_df.file_id.apply(lambda x: str(output_dir / f\"{x}.nwb\"))"
   ]
  },
  {
   "cell_type": "code",
   "execution_count": 29,
   "metadata": {},
   "outputs": [
    {
     "data": {
      "text/html": [
       "<div>\n",
       "<style scoped>\n",
       "    .dataframe tbody tr th:only-of-type {\n",
       "        vertical-align: middle;\n",
       "    }\n",
       "\n",
       "    .dataframe tbody tr th {\n",
       "        vertical-align: top;\n",
       "    }\n",
       "\n",
       "    .dataframe thead th {\n",
       "        text-align: right;\n",
       "    }\n",
       "</style>\n",
       "<table border=\"1\" class=\"dataframe\">\n",
       "  <thead>\n",
       "    <tr style=\"text-align: right;\">\n",
       "      <th></th>\n",
       "      <th>file_id</th>\n",
       "      <th>path</th>\n",
       "      <th>nwb_path</th>\n",
       "    </tr>\n",
       "  </thead>\n",
       "  <tbody>\n",
       "    <tr>\n",
       "      <th>0</th>\n",
       "      <td>18130014</td>\n",
       "      <td>data/raw/recordings/Mouse data/Mouse data_2018...</td>\n",
       "      <td>data/processed/recordings/mouse2018/18130014.nwb</td>\n",
       "    </tr>\n",
       "    <tr>\n",
       "      <th>1</th>\n",
       "      <td>2018_02_08_0000</td>\n",
       "      <td>data/raw/recordings/Mouse data/Mouse data_2018...</td>\n",
       "      <td>data/processed/recordings/mouse2018/2018_02_08...</td>\n",
       "    </tr>\n",
       "    <tr>\n",
       "      <th>2</th>\n",
       "      <td>2018_02_08_0001</td>\n",
       "      <td>data/raw/recordings/Mouse data/Mouse data_2018...</td>\n",
       "      <td>data/processed/recordings/mouse2018/2018_02_08...</td>\n",
       "    </tr>\n",
       "    <tr>\n",
       "      <th>3</th>\n",
       "      <td>18208013</td>\n",
       "      <td>data/raw/recordings/Mouse data/Mouse data_2018...</td>\n",
       "      <td>data/processed/recordings/mouse2018/18208013.nwb</td>\n",
       "    </tr>\n",
       "    <tr>\n",
       "      <th>4</th>\n",
       "      <td>18208014</td>\n",
       "      <td>data/raw/recordings/Mouse data/Mouse data_2018...</td>\n",
       "      <td>data/processed/recordings/mouse2018/18208014.nwb</td>\n",
       "    </tr>\n",
       "    <tr>\n",
       "      <th>5</th>\n",
       "      <td>18208023</td>\n",
       "      <td>data/raw/recordings/Mouse data/Mouse data_2018...</td>\n",
       "      <td>data/processed/recordings/mouse2018/18208023.nwb</td>\n",
       "    </tr>\n",
       "    <tr>\n",
       "      <th>6</th>\n",
       "      <td>18208024</td>\n",
       "      <td>data/raw/recordings/Mouse data/Mouse data_2018...</td>\n",
       "      <td>data/processed/recordings/mouse2018/18208024.nwb</td>\n",
       "    </tr>\n",
       "    <tr>\n",
       "      <th>7</th>\n",
       "      <td>18118024</td>\n",
       "      <td>data/raw/recordings/Mouse data/Mouse data_2018...</td>\n",
       "      <td>data/processed/recordings/mouse2018/18118024.nwb</td>\n",
       "    </tr>\n",
       "    <tr>\n",
       "      <th>8</th>\n",
       "      <td>18208031</td>\n",
       "      <td>data/raw/recordings/Mouse data/Mouse data_2018...</td>\n",
       "      <td>data/processed/recordings/mouse2018/18208031.nwb</td>\n",
       "    </tr>\n",
       "  </tbody>\n",
       "</table>\n",
       "</div>"
      ],
      "text/plain": [
       "           file_id                                               path  \\\n",
       "0         18130014  data/raw/recordings/Mouse data/Mouse data_2018...   \n",
       "1  2018_02_08_0000  data/raw/recordings/Mouse data/Mouse data_2018...   \n",
       "2  2018_02_08_0001  data/raw/recordings/Mouse data/Mouse data_2018...   \n",
       "3         18208013  data/raw/recordings/Mouse data/Mouse data_2018...   \n",
       "4         18208014  data/raw/recordings/Mouse data/Mouse data_2018...   \n",
       "5         18208023  data/raw/recordings/Mouse data/Mouse data_2018...   \n",
       "6         18208024  data/raw/recordings/Mouse data/Mouse data_2018...   \n",
       "7         18118024  data/raw/recordings/Mouse data/Mouse data_2018...   \n",
       "8         18208031  data/raw/recordings/Mouse data/Mouse data_2018...   \n",
       "\n",
       "                                            nwb_path  \n",
       "0   data/processed/recordings/mouse2018/18130014.nwb  \n",
       "1  data/processed/recordings/mouse2018/2018_02_08...  \n",
       "2  data/processed/recordings/mouse2018/2018_02_08...  \n",
       "3   data/processed/recordings/mouse2018/18208013.nwb  \n",
       "4   data/processed/recordings/mouse2018/18208014.nwb  \n",
       "5   data/processed/recordings/mouse2018/18208023.nwb  \n",
       "6   data/processed/recordings/mouse2018/18208024.nwb  \n",
       "7   data/processed/recordings/mouse2018/18118024.nwb  \n",
       "8   data/processed/recordings/mouse2018/18208031.nwb  "
      ]
     },
     "execution_count": 29,
     "metadata": {},
     "output_type": "execute_result"
    }
   ],
   "source": [
    "successes_df"
   ]
  },
  {
   "cell_type": "markdown",
   "metadata": {},
   "source": [
    "## Plotting converted files"
   ]
  },
  {
   "cell_type": "code",
   "execution_count": 30,
   "metadata": {
    "scrolled": false
   },
   "outputs": [
    {
     "name": "stdout",
     "output_type": "stream",
     "text": [
      "loading dataset into data structure...\n",
      "data/processed/recordings/mouse2018/18130014.nwb\n"
     ]
    },
    {
     "name": "stderr",
     "output_type": "stream",
     "text": [
      "/Users/derek_howard/miniconda3/envs/nwbephystest/lib/python3.8/site-packages/ipfx/stimulus.py:88: UserWarning: Could not find stimulus: NA\n",
      "  warnings.warn(\"Could not find stimulus: %s\" % tag)\n"
     ]
    },
    {
     "name": "stdout",
     "output_type": "stream",
     "text": [
      "loading dataset into data structure...\n",
      "data/processed/recordings/mouse2018/2018_02_08_0000.nwb\n"
     ]
    },
    {
     "name": "stderr",
     "output_type": "stream",
     "text": [
      "/Users/derek_howard/miniconda3/envs/nwbephystest/lib/python3.8/site-packages/ipfx/stimulus.py:88: UserWarning: Could not find stimulus: NA\n",
      "  warnings.warn(\"Could not find stimulus: %s\" % tag)\n"
     ]
    },
    {
     "name": "stdout",
     "output_type": "stream",
     "text": [
      "loading dataset into data structure...\n",
      "data/processed/recordings/mouse2018/2018_02_08_0001.nwb\n"
     ]
    },
    {
     "name": "stderr",
     "output_type": "stream",
     "text": [
      "/Users/derek_howard/miniconda3/envs/nwbephystest/lib/python3.8/site-packages/ipfx/stimulus.py:88: UserWarning: Could not find stimulus: NA\n",
      "  warnings.warn(\"Could not find stimulus: %s\" % tag)\n"
     ]
    },
    {
     "name": "stdout",
     "output_type": "stream",
     "text": [
      "loading dataset into data structure...\n",
      "data/processed/recordings/mouse2018/18208013.nwb\n"
     ]
    },
    {
     "name": "stderr",
     "output_type": "stream",
     "text": [
      "/Users/derek_howard/miniconda3/envs/nwbephystest/lib/python3.8/site-packages/ipfx/stimulus.py:88: UserWarning: Could not find stimulus: NA\n",
      "  warnings.warn(\"Could not find stimulus: %s\" % tag)\n"
     ]
    },
    {
     "name": "stdout",
     "output_type": "stream",
     "text": [
      "loading dataset into data structure...\n",
      "data/processed/recordings/mouse2018/18208014.nwb\n"
     ]
    },
    {
     "name": "stderr",
     "output_type": "stream",
     "text": [
      "/Users/derek_howard/miniconda3/envs/nwbephystest/lib/python3.8/site-packages/ipfx/stimulus.py:88: UserWarning: Could not find stimulus: NA\n",
      "  warnings.warn(\"Could not find stimulus: %s\" % tag)\n"
     ]
    },
    {
     "name": "stdout",
     "output_type": "stream",
     "text": [
      "loading dataset into data structure...\n",
      "data/processed/recordings/mouse2018/18208023.nwb\n"
     ]
    },
    {
     "name": "stderr",
     "output_type": "stream",
     "text": [
      "/Users/derek_howard/miniconda3/envs/nwbephystest/lib/python3.8/site-packages/ipfx/stimulus.py:88: UserWarning: Could not find stimulus: NA\n",
      "  warnings.warn(\"Could not find stimulus: %s\" % tag)\n"
     ]
    },
    {
     "name": "stdout",
     "output_type": "stream",
     "text": [
      "loading dataset into data structure...\n",
      "data/processed/recordings/mouse2018/18208024.nwb\n"
     ]
    },
    {
     "name": "stderr",
     "output_type": "stream",
     "text": [
      "/Users/derek_howard/miniconda3/envs/nwbephystest/lib/python3.8/site-packages/ipfx/stimulus.py:88: UserWarning: Could not find stimulus: NA\n",
      "  warnings.warn(\"Could not find stimulus: %s\" % tag)\n"
     ]
    },
    {
     "name": "stdout",
     "output_type": "stream",
     "text": [
      "loading dataset into data structure...\n",
      "data/processed/recordings/mouse2018/18118024.nwb\n"
     ]
    },
    {
     "name": "stderr",
     "output_type": "stream",
     "text": [
      "/Users/derek_howard/miniconda3/envs/nwbephystest/lib/python3.8/site-packages/ipfx/stimulus.py:88: UserWarning: Could not find stimulus: NA\n",
      "  warnings.warn(\"Could not find stimulus: %s\" % tag)\n"
     ]
    },
    {
     "name": "stdout",
     "output_type": "stream",
     "text": [
      "loading dataset into data structure...\n",
      "data/processed/recordings/mouse2018/18208031.nwb\n"
     ]
    },
    {
     "name": "stderr",
     "output_type": "stream",
     "text": [
      "/Users/derek_howard/miniconda3/envs/nwbephystest/lib/python3.8/site-packages/ipfx/stimulus.py:88: UserWarning: Could not find stimulus: NA\n",
      "  warnings.warn(\"Could not find stimulus: %s\" % tag)\n"
     ]
    },
    {
     "data": {
      "image/png": "[encoded data removed]",
      "text/plain": [
       "<Figure size 432x288 with 2 Axes>"
      ]
     },
     "metadata": {
      "needs_background": "light"
     },
     "output_type": "display_data"
    },
    {
     "data": {
      "image/png": "[encoded data removed]",
      "text/plain": [
       "<Figure size 432x288 with 2 Axes>"
      ]
     },
     "metadata": {
      "needs_background": "light"
     },
     "output_type": "display_data"
    },
    {
     "data": {
      "image/png": "[encoded data removed]",
      "text/plain": [
       "<Figure size 432x288 with 2 Axes>"
      ]
     },
     "metadata": {
      "needs_background": "light"
     },
     "output_type": "display_data"
    },
    {
     "data": {
      "image/png": "[encoded data removed]",
      "text/plain": [
       "<Figure size 432x288 with 2 Axes>"
      ]
     },
     "metadata": {
      "needs_background": "light"
     },
     "output_type": "display_data"
    },
    {
     "data": {
      "image/png": "[encoded data removed]",
      "text/plain": [
       "<Figure size 432x288 with 2 Axes>"
      ]
     },
     "metadata": {
      "needs_background": "light"
     },
     "output_type": "display_data"
    },
    {
     "data": {
      "image/png": "[encoded data removed]",
      "text/plain": [
       "<Figure size 432x288 with 2 Axes>"
      ]
     },
     "metadata": {
      "needs_background": "light"
     },
     "output_type": "display_data"
    },
    {
     "data": {
      "image/png": "[encoded data removed]",
      "text/plain": [
       "<Figure size 432x288 with 2 Axes>"
      ]
     },
     "metadata": {
      "needs_background": "light"
     },
     "output_type": "display_data"
    },
    {
     "data": {
      "image/png": "[encoded data removed]",
      "text/plain": [
       "<Figure size 432x288 with 2 Axes>"
      ]
     },
     "metadata": {
      "needs_background": "light"
     },
     "output_type": "display_data"
    },
    {
     "data": {
      "image/png": "[encoded data removed]",
      "text/plain": [
       "<Figure size 432x288 with 2 Axes>"
      ]
     },
     "metadata": {
      "needs_background": "light"
     },
     "output_type": "display_data"
    }
   ],
   "source": [
    "for i, row in successes_df.iterrows():\n",
    "    utils.plot_nwb_sweep(row.nwb_path, './data/stim_ontology_new_Homeira.json') "
   ]
  },
  {
   "cell_type": "markdown",
   "metadata": {},
   "source": [
    "## Validate"
   ]
  },
  {
   "cell_type": "code",
   "execution_count": 31,
   "metadata": {},
   "outputs": [
    {
     "name": "stdout",
     "output_type": "stream",
     "text": [
      "2021-07-28 15:26:52,483 [ WARNING] A newer version (0.25.0) of dandi/dandi-cli is available. You are using 0.23.2\n",
      "2021-07-28 15:26:57,778 [    INFO] data/processed/recordings/mouse2018/18118024.nwb: ok\n",
      "2021-07-28 15:27:01,172 [    INFO] data/processed/recordings/mouse2018/18208014.nwb: ok\n",
      "2021-07-28 15:27:03,830 [    INFO] data/processed/recordings/mouse2018/18208013.nwb: ok\n",
      "2021-07-28 15:27:06,395 [    INFO] data/processed/recordings/mouse2018/18208023.nwb: ok\n",
      "2021-07-28 15:27:09,588 [    INFO] data/processed/recordings/mouse2018/18208024.nwb: ok\n",
      "2021-07-28 15:27:12,181 [    INFO] data/processed/recordings/mouse2018/18208031.nwb: ok\n",
      "2021-07-28 15:27:14,682 [    INFO] data/processed/recordings/mouse2018/2018_02_08_0001.nwb: ok\n",
      "2021-07-28 15:27:17,020 [    INFO] data/processed/recordings/mouse2018/2018_02_08_0000.nwb: ok\n",
      "2021-07-28 15:27:19,333 [    INFO] data/processed/recordings/mouse2018/18130014.nwb: ok\n",
      "\u001b[32m\u001b[1mSummary: No validation errors among 9 file(s)\u001b[0m\n",
      "2021-07-28 15:27:19,333 [    INFO] Logs saved in /Users/derek_howard/Library/Logs/dandi-cli/20210728192651Z-84204.log\n"
     ]
    }
   ],
   "source": [
    "!dandi validate \"data/processed/recordings/mouse2018\""
   ]
  },
  {
   "cell_type": "markdown",
   "metadata": {},
   "source": [
    "## Extract stimulus info to later merge with metadata"
   ]
  },
  {
   "cell_type": "code",
   "execution_count": 32,
   "metadata": {},
   "outputs": [],
   "source": [
    "converted_nwb_paths = list(Path('data/processed/recordings/mouse2018').glob('*.nwb'))\n",
    "converted_nwb_file_ids = [x.stem for x in converted_nwb_paths]\n",
    "to_extract_stim_info = mouse2018_file_info[mouse2018_file_info.file_id.isin(converted_nwb_file_ids)]"
   ]
  },
  {
   "cell_type": "code",
   "execution_count": 33,
   "metadata": {},
   "outputs": [
    {
     "data": {
      "text/html": [
       "<div>\n",
       "<style scoped>\n",
       "    .dataframe tbody tr th:only-of-type {\n",
       "        vertical-align: middle;\n",
       "    }\n",
       "\n",
       "    .dataframe tbody tr th {\n",
       "        vertical-align: top;\n",
       "    }\n",
       "\n",
       "    .dataframe thead th {\n",
       "        text-align: right;\n",
       "    }\n",
       "</style>\n",
       "<table border=\"1\" class=\"dataframe\">\n",
       "  <thead>\n",
       "    <tr style=\"text-align: right;\">\n",
       "      <th></th>\n",
       "      <th>file_name</th>\n",
       "      <th>path</th>\n",
       "      <th>timestamp</th>\n",
       "      <th>abf_version</th>\n",
       "      <th>abf_comments</th>\n",
       "      <th>file_id</th>\n",
       "    </tr>\n",
       "  </thead>\n",
       "  <tbody>\n",
       "    <tr>\n",
       "      <th>22</th>\n",
       "      <td>18130014.abf</td>\n",
       "      <td>data/raw/recordings/Mouse data/Mouse data_2018...</td>\n",
       "      <td>2018-01-30 15:57:40.031</td>\n",
       "      <td>1.8.3.0</td>\n",
       "      <td>[C5,  L5, RMP: -75.2 mv]</td>\n",
       "      <td>18130014</td>\n",
       "    </tr>\n",
       "    <tr>\n",
       "      <th>39</th>\n",
       "      <td>18208014.abf</td>\n",
       "      <td>data/raw/recordings/Mouse data/Mouse data_2018...</td>\n",
       "      <td>2018-02-08 14:45:29.781</td>\n",
       "      <td>1.8.3.0</td>\n",
       "      <td>[C3 RMP -62.3mv;layer 5,]</td>\n",
       "      <td>18208014</td>\n",
       "    </tr>\n",
       "    <tr>\n",
       "      <th>40</th>\n",
       "      <td>18208013.abf</td>\n",
       "      <td>data/raw/recordings/Mouse data/Mouse data_2018...</td>\n",
       "      <td>2018-02-08 14:45:14.687</td>\n",
       "      <td>1.8.3.0</td>\n",
       "      <td>[C3 RMP -62.3mv;layer 5,]</td>\n",
       "      <td>18208013</td>\n",
       "    </tr>\n",
       "    <tr>\n",
       "      <th>44</th>\n",
       "      <td>18208023.abf</td>\n",
       "      <td>data/raw/recordings/Mouse data/Mouse data_2018...</td>\n",
       "      <td>2018-02-08 17:12:06.421</td>\n",
       "      <td>1.8.3.0</td>\n",
       "      <td>[C6 RMP -63..2 mv;layer 5,]</td>\n",
       "      <td>18208023</td>\n",
       "    </tr>\n",
       "    <tr>\n",
       "      <th>45</th>\n",
       "      <td>18208024.abf</td>\n",
       "      <td>data/raw/recordings/Mouse data/Mouse data_2018...</td>\n",
       "      <td>2018-02-08 17:12:25.687</td>\n",
       "      <td>1.8.3.0</td>\n",
       "      <td>[C6 RMP -63..2 mv;layer 5,, C6 RMP -63..2 mv;l...</td>\n",
       "      <td>18208024</td>\n",
       "    </tr>\n",
       "    <tr>\n",
       "      <th>49</th>\n",
       "      <td>18208031.abf</td>\n",
       "      <td>data/raw/recordings/Mouse data/Mouse data_2018...</td>\n",
       "      <td>2018-02-08 18:24:21.140</td>\n",
       "      <td>1.8.3.0</td>\n",
       "      <td>[C9;  RMP -62.4 mv;layer 5, offset -20.1 mv, C...</td>\n",
       "      <td>18208031</td>\n",
       "    </tr>\n",
       "    <tr>\n",
       "      <th>57</th>\n",
       "      <td>2018_02_08_0000.abf</td>\n",
       "      <td>data/raw/recordings/Mouse data/Mouse data_2018...</td>\n",
       "      <td>2018-02-08 12:57:10.781</td>\n",
       "      <td>1.8.3.0</td>\n",
       "      <td>[]</td>\n",
       "      <td>2018_02_08_0000</td>\n",
       "    </tr>\n",
       "    <tr>\n",
       "      <th>58</th>\n",
       "      <td>2018_02_08_0001.abf</td>\n",
       "      <td>data/raw/recordings/Mouse data/Mouse data_2018...</td>\n",
       "      <td>2018-02-08 12:58:48.218</td>\n",
       "      <td>1.8.3.0</td>\n",
       "      <td>[C1; RMP -62.6mv;layer 5,]</td>\n",
       "      <td>2018_02_08_0001</td>\n",
       "    </tr>\n",
       "    <tr>\n",
       "      <th>117</th>\n",
       "      <td>18118024.abf</td>\n",
       "      <td>data/raw/recordings/Mouse data/Mouse data_2018...</td>\n",
       "      <td>2018-01-18 14:11:46.671</td>\n",
       "      <td>1.8.3.0</td>\n",
       "      <td>[C4, L5, RMP: --59.4 mv]</td>\n",
       "      <td>18118024</td>\n",
       "    </tr>\n",
       "  </tbody>\n",
       "</table>\n",
       "</div>"
      ],
      "text/plain": [
       "               file_name                                               path  \\\n",
       "22          18130014.abf  data/raw/recordings/Mouse data/Mouse data_2018...   \n",
       "39          18208014.abf  data/raw/recordings/Mouse data/Mouse data_2018...   \n",
       "40          18208013.abf  data/raw/recordings/Mouse data/Mouse data_2018...   \n",
       "44          18208023.abf  data/raw/recordings/Mouse data/Mouse data_2018...   \n",
       "45          18208024.abf  data/raw/recordings/Mouse data/Mouse data_2018...   \n",
       "49          18208031.abf  data/raw/recordings/Mouse data/Mouse data_2018...   \n",
       "57   2018_02_08_0000.abf  data/raw/recordings/Mouse data/Mouse data_2018...   \n",
       "58   2018_02_08_0001.abf  data/raw/recordings/Mouse data/Mouse data_2018...   \n",
       "117         18118024.abf  data/raw/recordings/Mouse data/Mouse data_2018...   \n",
       "\n",
       "                  timestamp abf_version  \\\n",
       "22  2018-01-30 15:57:40.031     1.8.3.0   \n",
       "39  2018-02-08 14:45:29.781     1.8.3.0   \n",
       "40  2018-02-08 14:45:14.687     1.8.3.0   \n",
       "44  2018-02-08 17:12:06.421     1.8.3.0   \n",
       "45  2018-02-08 17:12:25.687     1.8.3.0   \n",
       "49  2018-02-08 18:24:21.140     1.8.3.0   \n",
       "57  2018-02-08 12:57:10.781     1.8.3.0   \n",
       "58  2018-02-08 12:58:48.218     1.8.3.0   \n",
       "117 2018-01-18 14:11:46.671     1.8.3.0   \n",
       "\n",
       "                                          abf_comments          file_id  \n",
       "22                            [C5,  L5, RMP: -75.2 mv]         18130014  \n",
       "39                           [C3 RMP -62.3mv;layer 5,]         18208014  \n",
       "40                           [C3 RMP -62.3mv;layer 5,]         18208013  \n",
       "44                         [C6 RMP -63..2 mv;layer 5,]         18208023  \n",
       "45   [C6 RMP -63..2 mv;layer 5,, C6 RMP -63..2 mv;l...         18208024  \n",
       "49   [C9;  RMP -62.4 mv;layer 5, offset -20.1 mv, C...         18208031  \n",
       "57                                                  []  2018_02_08_0000  \n",
       "58                          [C1; RMP -62.6mv;layer 5,]  2018_02_08_0001  \n",
       "117                           [C4, L5, RMP: --59.4 mv]         18118024  "
      ]
     },
     "execution_count": 33,
     "metadata": {},
     "output_type": "execute_result"
    }
   ],
   "source": [
    "to_extract_stim_info"
   ]
  },
  {
   "cell_type": "code",
   "execution_count": 34,
   "metadata": {},
   "outputs": [],
   "source": [
    "# parse relevant info related to stimulus, including duration, and amplitudes\n",
    "def get_stim_info(abf_path, stim_channel_num = 1, stim_gain = 1, stim_name = 'sweepC'):\n",
    "    abf = pyabf.ABF(abf_path)\n",
    "    num_sweeps = abf.sweepCount\n",
    "    stim_amps = np.zeros(num_sweeps) \n",
    "    stim_start_time = None\n",
    "    stim_end_time = None\n",
    "    sampling_rate = int(round(1/(abf.sweepX[2] - abf.sweepX[1]))) # manually calculate the sampling rate\n",
    "\n",
    "    for i in range(0, num_sweeps):\n",
    "        abf.setSweep(i, channel=stim_channel_num)\n",
    "        sampling_rate = abf.dataRate\n",
    "        if stim_name == 'sweepY':\n",
    "            stim_vec = np.round(abf.sweepY * stim_gain)\n",
    "        else:\n",
    "            stim_vec = np.round(abf.sweepC * stim_gain)\n",
    "        stim_amp = stim_vec[5000]\n",
    "\n",
    "        stim_amps[i] = round(stim_amp)\n",
    "        non_zero_inds = np.where(stim_vec == stim_amp)\n",
    "        stim_duration = np.shape(non_zero_inds)[1] * 1/sampling_rate\n",
    "        if stim_duration == 0:\n",
    "            continue\n",
    "        stim_start_ind = non_zero_inds[0][0]\n",
    "        stim_end_ind = non_zero_inds[0][-1]\n",
    "        \n",
    "        stim_start_time = abf.sweepX[stim_start_ind]\n",
    "        stim_end_time = abf.sweepX[stim_end_ind]\n",
    "\n",
    "    ret_dict = {'stim_amp_vec' : stim_amps, 'stim_duration' : stim_duration, \n",
    "                'stim_start_time' : stim_start_time, 'stim_end_time' : stim_end_time, 'num_sweeps' : num_sweeps,\n",
    "               'stim_sampling_rate' : sampling_rate}\n",
    "    return(ret_dict)\n",
    "    \"\"\"\n",
    "    return pd.Series([stim_amps, stim_duration, stim_start_time, stim_end_time, num_sweeps, sampling_rate], \n",
    "                     index=['stim_amp_vec', 'stim_duration', 'stim_start_time', 'stim_end_time', 'num_sweeps', 'stim_sampling_rate'])\n",
    "    \"\"\""
   ]
  },
  {
   "cell_type": "code",
   "execution_count": 35,
   "metadata": {},
   "outputs": [],
   "source": [
    "stim_info = {}\n",
    "for i, row in to_extract_stim_info.iterrows():\n",
    "    try:\n",
    "        abf_info = get_stim_info(row.path, stim_name = 'sweepC')\n",
    "    except (AttributeError, ValueError, IndexError) as e:\n",
    "        print(e)\n",
    "        abf_info = None\n",
    "    stim_info[row.file_name] = abf_info\n",
    "    \n",
    "stim_info_df = pd.DataFrame(stim_info).T"
   ]
  },
  {
   "cell_type": "code",
   "execution_count": 36,
   "metadata": {},
   "outputs": [
    {
     "data": {
      "text/html": [
       "<div>\n",
       "<style scoped>\n",
       "    .dataframe tbody tr th:only-of-type {\n",
       "        vertical-align: middle;\n",
       "    }\n",
       "\n",
       "    .dataframe tbody tr th {\n",
       "        vertical-align: top;\n",
       "    }\n",
       "\n",
       "    .dataframe thead th {\n",
       "        text-align: right;\n",
       "    }\n",
       "</style>\n",
       "<table border=\"1\" class=\"dataframe\">\n",
       "  <thead>\n",
       "    <tr style=\"text-align: right;\">\n",
       "      <th></th>\n",
       "      <th>stim_amp_vec</th>\n",
       "      <th>stim_duration</th>\n",
       "      <th>stim_start_time</th>\n",
       "      <th>stim_end_time</th>\n",
       "      <th>num_sweeps</th>\n",
       "      <th>stim_sampling_rate</th>\n",
       "    </tr>\n",
       "  </thead>\n",
       "  <tbody>\n",
       "    <tr>\n",
       "      <th>18130014.abf</th>\n",
       "      <td>[-50.0, -30.0, -10.0, 10.0, 30.0, 50.0, 70.0, ...</td>\n",
       "      <td>1.0</td>\n",
       "      <td>0.0372</td>\n",
       "      <td>1.0371</td>\n",
       "      <td>11</td>\n",
       "      <td>10000</td>\n",
       "    </tr>\n",
       "    <tr>\n",
       "      <th>18208014.abf</th>\n",
       "      <td>[-220.0, -180.0, -140.0, -100.0, -60.0, -20.0,...</td>\n",
       "      <td>1.0</td>\n",
       "      <td>0.0372</td>\n",
       "      <td>1.0371</td>\n",
       "      <td>13</td>\n",
       "      <td>10000</td>\n",
       "    </tr>\n",
       "    <tr>\n",
       "      <th>18208013.abf</th>\n",
       "      <td>[0.0, 12.0, 24.0, 35.0, 47.0]</td>\n",
       "      <td>0.01</td>\n",
       "      <td>0.4934</td>\n",
       "      <td>0.5033</td>\n",
       "      <td>5</td>\n",
       "      <td>10000</td>\n",
       "    </tr>\n",
       "    <tr>\n",
       "      <th>18208023.abf</th>\n",
       "      <td>[0.0, 12.0, 24.0, 35.0, 47.0]</td>\n",
       "      <td>0.01</td>\n",
       "      <td>0.4934</td>\n",
       "      <td>0.5033</td>\n",
       "      <td>5</td>\n",
       "      <td>10000</td>\n",
       "    </tr>\n",
       "    <tr>\n",
       "      <th>18208024.abf</th>\n",
       "      <td>[-220.0, -180.0, -140.0, -100.0, -60.0, -20.0,...</td>\n",
       "      <td>1.0</td>\n",
       "      <td>0.0372</td>\n",
       "      <td>1.0371</td>\n",
       "      <td>12</td>\n",
       "      <td>10000</td>\n",
       "    </tr>\n",
       "    <tr>\n",
       "      <th>18208031.abf</th>\n",
       "      <td>[0.0, 12.0, 24.0, 35.0, 47.0, 59.0]</td>\n",
       "      <td>0.008</td>\n",
       "      <td>0.4964</td>\n",
       "      <td>0.5043</td>\n",
       "      <td>6</td>\n",
       "      <td>10000</td>\n",
       "    </tr>\n",
       "    <tr>\n",
       "      <th>2018_02_08_0000.abf</th>\n",
       "      <td>[0.0, 12.0, 24.0, 35.0, 47.0, 59.0, 71.0]</td>\n",
       "      <td>0.0067</td>\n",
       "      <td>0.4984</td>\n",
       "      <td>0.505</td>\n",
       "      <td>7</td>\n",
       "      <td>10000</td>\n",
       "    </tr>\n",
       "    <tr>\n",
       "      <th>2018_02_08_0001.abf</th>\n",
       "      <td>[-220.0, -180.0, -140.0, -100.0, -60.0, -20.0,...</td>\n",
       "      <td>1.0</td>\n",
       "      <td>0.0372</td>\n",
       "      <td>1.0371</td>\n",
       "      <td>14</td>\n",
       "      <td>10000</td>\n",
       "    </tr>\n",
       "    <tr>\n",
       "      <th>18118024.abf</th>\n",
       "      <td>[-400.0, -350.0, -300.0, -250.0, -200.0, -150....</td>\n",
       "      <td>1.0</td>\n",
       "      <td>0.0428</td>\n",
       "      <td>1.04275</td>\n",
       "      <td>16</td>\n",
       "      <td>20000</td>\n",
       "    </tr>\n",
       "  </tbody>\n",
       "</table>\n",
       "</div>"
      ],
      "text/plain": [
       "                                                          stim_amp_vec  \\\n",
       "18130014.abf         [-50.0, -30.0, -10.0, 10.0, 30.0, 50.0, 70.0, ...   \n",
       "18208014.abf         [-220.0, -180.0, -140.0, -100.0, -60.0, -20.0,...   \n",
       "18208013.abf                             [0.0, 12.0, 24.0, 35.0, 47.0]   \n",
       "18208023.abf                             [0.0, 12.0, 24.0, 35.0, 47.0]   \n",
       "18208024.abf         [-220.0, -180.0, -140.0, -100.0, -60.0, -20.0,...   \n",
       "18208031.abf                       [0.0, 12.0, 24.0, 35.0, 47.0, 59.0]   \n",
       "2018_02_08_0000.abf          [0.0, 12.0, 24.0, 35.0, 47.0, 59.0, 71.0]   \n",
       "2018_02_08_0001.abf  [-220.0, -180.0, -140.0, -100.0, -60.0, -20.0,...   \n",
       "18118024.abf         [-400.0, -350.0, -300.0, -250.0, -200.0, -150....   \n",
       "\n",
       "                    stim_duration stim_start_time stim_end_time num_sweeps  \\\n",
       "18130014.abf                  1.0          0.0372        1.0371         11   \n",
       "18208014.abf                  1.0          0.0372        1.0371         13   \n",
       "18208013.abf                 0.01          0.4934        0.5033          5   \n",
       "18208023.abf                 0.01          0.4934        0.5033          5   \n",
       "18208024.abf                  1.0          0.0372        1.0371         12   \n",
       "18208031.abf                0.008          0.4964        0.5043          6   \n",
       "2018_02_08_0000.abf        0.0067          0.4984         0.505          7   \n",
       "2018_02_08_0001.abf           1.0          0.0372        1.0371         14   \n",
       "18118024.abf                  1.0          0.0428       1.04275         16   \n",
       "\n",
       "                    stim_sampling_rate  \n",
       "18130014.abf                     10000  \n",
       "18208014.abf                     10000  \n",
       "18208013.abf                     10000  \n",
       "18208023.abf                     10000  \n",
       "18208024.abf                     10000  \n",
       "18208031.abf                     10000  \n",
       "2018_02_08_0000.abf              10000  \n",
       "2018_02_08_0001.abf              10000  \n",
       "18118024.abf                     20000  "
      ]
     },
     "execution_count": 36,
     "metadata": {},
     "output_type": "execute_result"
    }
   ],
   "source": [
    "stim_info_df"
   ]
  },
  {
   "cell_type": "code",
   "execution_count": 37,
   "metadata": {},
   "outputs": [],
   "source": [
    "stim_info_dir = Path('./data/processed/meta/stiminfo/')\n",
    "stim_info_dir.mkdir(exist_ok=True)\n",
    "stim_info_df.index.name = 'abf_filename'\n",
    "stim_info_df.to_csv(stim_info_dir / 'mouse2018_stiminfo.csv')"
   ]
  },
  {
   "cell_type": "code",
   "execution_count": null,
   "metadata": {},
   "outputs": [],
   "source": []
  }
 ],
 "metadata": {
  "kernelspec": {
   "display_name": "Python 3",
   "language": "python",
   "name": "python3"
  },
  "language_info": {
   "codemirror_mode": {
    "name": "ipython",
    "version": 3
   },
   "file_extension": ".py",
   "mimetype": "text/x-python",
   "name": "python",
   "nbconvert_exporter": "python",
   "pygments_lexer": "ipython3",
   "version": "3.8.8"
  }
 },
 "nbformat": 4,
 "nbformat_minor": 4
}
