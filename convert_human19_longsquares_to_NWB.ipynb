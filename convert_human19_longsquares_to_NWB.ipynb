{
 "cells": [
  {
   "cell_type": "code",
   "execution_count": 1,
   "id": "6d084843",
   "metadata": {},
   "outputs": [],
   "source": [
    "import os\n",
    "import time\n",
    "from pathlib import Path\n",
    "import pandas as pd\n",
    "import pyabf\n",
    "from x_to_nwb import ABF2Converter_gain"
   ]
  },
  {
   "cell_type": "code",
   "execution_count": 2,
   "id": "36d2dd4f",
   "metadata": {},
   "outputs": [],
   "source": [
    "# The following provides a dataframe for all abf files found recursively within a directory\n",
    "# it outputs the filename, path to file and date created\n",
    "\n",
    "def summary_df(path):\n",
    "    all_files = []\n",
    "    for i in path.rglob('*[!.DS_Store].abf'): # searches for all files recursively excluding those named .DS_Store\n",
    "        all_files.append((i.name,  i, time.ctime(i.stat().st_ctime)))\n",
    "\n",
    "    columns = [\"file_name\", \"path\", \"created\"]\n",
    "    df = pd.DataFrame.from_records(all_files, columns=columns)\n",
    "    df.path = df.path.astype('str')\n",
    "    return df"
   ]
  },
  {
   "cell_type": "markdown",
   "id": "77eef192",
   "metadata": {},
   "source": [
    "## Get file path info and metadata"
   ]
  },
  {
   "cell_type": "code",
   "execution_count": 61,
   "id": "270504be",
   "metadata": {},
   "outputs": [],
   "source": [
    "abf_directory = Path(\"./data/raw/recordings/Human tissue/Human tissue-White noise_2019/\")\n",
    "human2019_file_info = summary_df(human2019_abf_dir)\n",
    "\n",
    "metadata_file = Path(\"./data/processed/meta/human_2019_intrinsic_properties_meta.csv\")\n",
    "meta_df = pd.read_csv(metadata_file)\n",
    "meta_df['file_name'] = meta_df.loc[:, 'ABF File'] + '.abf'\n",
    "\n",
    "output_dir = Path(\"data/processed/\") #locate the directory where the converted nwb file should be stored"
   ]
  },
  {
   "cell_type": "code",
   "execution_count": 46,
   "id": "fcde7a2f",
   "metadata": {},
   "outputs": [],
   "source": [
    "meta_df = meta_df[meta_df.to_drop == False]#.drop(['Unnamed: 0', 'to_drop'], axis=1)"
   ]
  },
  {
   "cell_type": "code",
   "execution_count": 47,
   "id": "fe5a0fc1",
   "metadata": {},
   "outputs": [
    {
     "data": {
      "text/html": [
       "<div>\n",
       "<style scoped>\n",
       "    .dataframe tbody tr th:only-of-type {\n",
       "        vertical-align: middle;\n",
       "    }\n",
       "\n",
       "    .dataframe tbody tr th {\n",
       "        vertical-align: top;\n",
       "    }\n",
       "\n",
       "    .dataframe thead th {\n",
       "        text-align: right;\n",
       "    }\n",
       "</style>\n",
       "<table border=\"1\" class=\"dataframe\">\n",
       "  <thead>\n",
       "    <tr style=\"text-align: right;\">\n",
       "      <th></th>\n",
       "      <th>Unnamed: 0</th>\n",
       "      <th>ABF File</th>\n",
       "      <th>Data Type</th>\n",
       "      <th>Exp. Date</th>\n",
       "      <th>Cell #</th>\n",
       "      <th>Cell Layer</th>\n",
       "      <th>Stim Type</th>\n",
       "      <th>Threshold</th>\n",
       "      <th>DC</th>\n",
       "      <th>ZD</th>\n",
       "      <th>Hold</th>\n",
       "      <th>file_name</th>\n",
       "      <th>is_duplicate</th>\n",
       "      <th>path</th>\n",
       "      <th>version</th>\n",
       "      <th>to_drop</th>\n",
       "    </tr>\n",
       "  </thead>\n",
       "  <tbody>\n",
       "    <tr>\n",
       "      <th>0</th>\n",
       "      <td>214</td>\n",
       "      <td>2019_11_04_0095</td>\n",
       "      <td>Human</td>\n",
       "      <td>Nov_04_2019</td>\n",
       "      <td>C2</td>\n",
       "      <td>L3C</td>\n",
       "      <td>Intrinsic Properties</td>\n",
       "      <td>n.a</td>\n",
       "      <td>n.a</td>\n",
       "      <td>ZD</td>\n",
       "      <td>n.a</td>\n",
       "      <td>2019_11_04_0095.abf</td>\n",
       "      <td>False</td>\n",
       "      <td>data/raw/recordings/Human tissue/Human tissue-...</td>\n",
       "      <td>2.6.0.0</td>\n",
       "      <td>False</td>\n",
       "    </tr>\n",
       "    <tr>\n",
       "      <th>1</th>\n",
       "      <td>215</td>\n",
       "      <td>2019_11_04_0096</td>\n",
       "      <td>Human</td>\n",
       "      <td>Nov_04_2019</td>\n",
       "      <td>C2</td>\n",
       "      <td>L3C</td>\n",
       "      <td>Intrinsic Properties</td>\n",
       "      <td>n.a</td>\n",
       "      <td>n.a</td>\n",
       "      <td>ZD</td>\n",
       "      <td>n.a</td>\n",
       "      <td>2019_11_04_0096.abf</td>\n",
       "      <td>False</td>\n",
       "      <td>data/raw/recordings/Human tissue/Human tissue-...</td>\n",
       "      <td>2.6.0.0</td>\n",
       "      <td>False</td>\n",
       "    </tr>\n",
       "    <tr>\n",
       "      <th>2</th>\n",
       "      <td>216</td>\n",
       "      <td>2019_11_04_0097</td>\n",
       "      <td>Human</td>\n",
       "      <td>Nov_04_2019</td>\n",
       "      <td>C2</td>\n",
       "      <td>L3C</td>\n",
       "      <td>Intrinsic Properties</td>\n",
       "      <td>n.a</td>\n",
       "      <td>n.a</td>\n",
       "      <td>ZD</td>\n",
       "      <td>n.a</td>\n",
       "      <td>2019_11_04_0097.abf</td>\n",
       "      <td>False</td>\n",
       "      <td>data/raw/recordings/Human tissue/Human tissue-...</td>\n",
       "      <td>2.6.0.0</td>\n",
       "      <td>False</td>\n",
       "    </tr>\n",
       "    <tr>\n",
       "      <th>3</th>\n",
       "      <td>217</td>\n",
       "      <td>2019_11_04_0098</td>\n",
       "      <td>Human</td>\n",
       "      <td>Nov_04_2019</td>\n",
       "      <td>C2</td>\n",
       "      <td>L3C</td>\n",
       "      <td>Intrinsic Properties</td>\n",
       "      <td>n.a</td>\n",
       "      <td>n.a</td>\n",
       "      <td>ZD</td>\n",
       "      <td>n.a</td>\n",
       "      <td>2019_11_04_0098.abf</td>\n",
       "      <td>False</td>\n",
       "      <td>data/raw/recordings/Human tissue/Human tissue-...</td>\n",
       "      <td>2.6.0.0</td>\n",
       "      <td>False</td>\n",
       "    </tr>\n",
       "    <tr>\n",
       "      <th>4</th>\n",
       "      <td>218</td>\n",
       "      <td>2019_11_04_0099</td>\n",
       "      <td>Human</td>\n",
       "      <td>Nov_04_2019</td>\n",
       "      <td>C2</td>\n",
       "      <td>L3C</td>\n",
       "      <td>Intrinsic Properties</td>\n",
       "      <td>n.a</td>\n",
       "      <td>n.a</td>\n",
       "      <td>ZD</td>\n",
       "      <td>n.a</td>\n",
       "      <td>2019_11_04_0099.abf</td>\n",
       "      <td>False</td>\n",
       "      <td>data/raw/recordings/Human tissue/Human tissue-...</td>\n",
       "      <td>2.6.0.0</td>\n",
       "      <td>False</td>\n",
       "    </tr>\n",
       "  </tbody>\n",
       "</table>\n",
       "</div>"
      ],
      "text/plain": [
       "   Unnamed: 0         ABF File Data Type    Exp. Date Cell # Cell Layer  \\\n",
       "0         214  2019_11_04_0095     Human  Nov_04_2019     C2        L3C   \n",
       "1         215  2019_11_04_0096     Human  Nov_04_2019     C2        L3C   \n",
       "2         216  2019_11_04_0097     Human  Nov_04_2019     C2        L3C   \n",
       "3         217  2019_11_04_0098     Human  Nov_04_2019     C2        L3C   \n",
       "4         218  2019_11_04_0099     Human  Nov_04_2019     C2        L3C   \n",
       "\n",
       "              Stim Type Threshold   DC  ZD Hold            file_name  \\\n",
       "0  Intrinsic Properties       n.a  n.a  ZD  n.a  2019_11_04_0095.abf   \n",
       "1  Intrinsic Properties       n.a  n.a  ZD  n.a  2019_11_04_0096.abf   \n",
       "2  Intrinsic Properties       n.a  n.a  ZD  n.a  2019_11_04_0097.abf   \n",
       "3  Intrinsic Properties       n.a  n.a  ZD  n.a  2019_11_04_0098.abf   \n",
       "4  Intrinsic Properties       n.a  n.a  ZD  n.a  2019_11_04_0099.abf   \n",
       "\n",
       "   is_duplicate                                               path  version  \\\n",
       "0         False  data/raw/recordings/Human tissue/Human tissue-...  2.6.0.0   \n",
       "1         False  data/raw/recordings/Human tissue/Human tissue-...  2.6.0.0   \n",
       "2         False  data/raw/recordings/Human tissue/Human tissue-...  2.6.0.0   \n",
       "3         False  data/raw/recordings/Human tissue/Human tissue-...  2.6.0.0   \n",
       "4         False  data/raw/recordings/Human tissue/Human tissue-...  2.6.0.0   \n",
       "\n",
       "   to_drop  \n",
       "0    False  \n",
       "1    False  \n",
       "2    False  \n",
       "3    False  \n",
       "4    False  "
      ]
     },
     "execution_count": 47,
     "metadata": {},
     "output_type": "execute_result"
    }
   ],
   "source": [
    "meta_df.head()"
   ]
  },
  {
   "cell_type": "code",
   "execution_count": null,
   "id": "84f5de50",
   "metadata": {},
   "outputs": [],
   "source": [
    "IP_df[(IP_df['Unnamed: 0'] >= 312) & (IP_df['Unnamed: 0'] <= 414)]"
   ]
  },
  {
   "cell_type": "code",
   "execution_count": null,
   "id": "26a1d12e",
   "metadata": {},
   "outputs": [],
   "source": [
    "meta_"
   ]
  },
  {
   "cell_type": "code",
   "execution_count": 48,
   "id": "7fb85b23",
   "metadata": {},
   "outputs": [
    {
     "data": {
      "text/html": [
       "<div>\n",
       "<style scoped>\n",
       "    .dataframe tbody tr th:only-of-type {\n",
       "        vertical-align: middle;\n",
       "    }\n",
       "\n",
       "    .dataframe tbody tr th {\n",
       "        vertical-align: top;\n",
       "    }\n",
       "\n",
       "    .dataframe thead th {\n",
       "        text-align: right;\n",
       "    }\n",
       "</style>\n",
       "<table border=\"1\" class=\"dataframe\">\n",
       "  <thead>\n",
       "    <tr style=\"text-align: right;\">\n",
       "      <th></th>\n",
       "      <th>Unnamed: 0</th>\n",
       "      <th>ABF File</th>\n",
       "      <th>Data Type</th>\n",
       "      <th>Exp. Date</th>\n",
       "      <th>Cell #</th>\n",
       "      <th>Cell Layer</th>\n",
       "      <th>Stim Type</th>\n",
       "      <th>Threshold</th>\n",
       "      <th>DC</th>\n",
       "      <th>ZD</th>\n",
       "      <th>Hold</th>\n",
       "      <th>file_name</th>\n",
       "      <th>is_duplicate</th>\n",
       "      <th>path</th>\n",
       "      <th>version</th>\n",
       "      <th>to_drop</th>\n",
       "    </tr>\n",
       "  </thead>\n",
       "  <tbody>\n",
       "    <tr>\n",
       "      <th>32</th>\n",
       "      <td>312</td>\n",
       "      <td>19208001</td>\n",
       "      <td>Human</td>\n",
       "      <td>Feb_08_2019_Tumor case</td>\n",
       "      <td>C1</td>\n",
       "      <td>L5</td>\n",
       "      <td>Intrinsic Properties</td>\n",
       "      <td>n.a</td>\n",
       "      <td>n.a</td>\n",
       "      <td>n.a</td>\n",
       "      <td>n.a</td>\n",
       "      <td>19208001.abf</td>\n",
       "      <td>False</td>\n",
       "      <td>data/raw/recordings/Human tissue/Human tissue-...</td>\n",
       "      <td>1.8.3.0</td>\n",
       "      <td>False</td>\n",
       "    </tr>\n",
       "    <tr>\n",
       "      <th>33</th>\n",
       "      <td>313</td>\n",
       "      <td>19219004</td>\n",
       "      <td>Human</td>\n",
       "      <td>Feb_19_2019</td>\n",
       "      <td>C1</td>\n",
       "      <td>L5</td>\n",
       "      <td>Intrinsic Properties</td>\n",
       "      <td>n.a</td>\n",
       "      <td>n.a</td>\n",
       "      <td>n.a</td>\n",
       "      <td>n.a</td>\n",
       "      <td>19219004.abf</td>\n",
       "      <td>False</td>\n",
       "      <td>data/raw/recordings/Human tissue/Human tissue-...</td>\n",
       "      <td>1.8.3.0</td>\n",
       "      <td>False</td>\n",
       "    </tr>\n",
       "    <tr>\n",
       "      <th>34</th>\n",
       "      <td>314</td>\n",
       "      <td>19219005</td>\n",
       "      <td>Human</td>\n",
       "      <td>Feb_19_2019</td>\n",
       "      <td>C1</td>\n",
       "      <td>L5</td>\n",
       "      <td>Intrinsic Properties</td>\n",
       "      <td>n.a</td>\n",
       "      <td>n.a</td>\n",
       "      <td>n.a</td>\n",
       "      <td>n.a</td>\n",
       "      <td>19219005.abf</td>\n",
       "      <td>False</td>\n",
       "      <td>data/raw/recordings/Human tissue/Human tissue-...</td>\n",
       "      <td>1.8.3.0</td>\n",
       "      <td>False</td>\n",
       "    </tr>\n",
       "    <tr>\n",
       "      <th>35</th>\n",
       "      <td>315</td>\n",
       "      <td>19219021</td>\n",
       "      <td>Human</td>\n",
       "      <td>Feb_19_2019</td>\n",
       "      <td>C3</td>\n",
       "      <td>L5</td>\n",
       "      <td>Intrinsic Properties</td>\n",
       "      <td>n.a</td>\n",
       "      <td>n.a</td>\n",
       "      <td>n.a</td>\n",
       "      <td>n.a</td>\n",
       "      <td>19219021.abf</td>\n",
       "      <td>False</td>\n",
       "      <td>data/raw/recordings/Human tissue/Human tissue-...</td>\n",
       "      <td>1.8.3.0</td>\n",
       "      <td>False</td>\n",
       "    </tr>\n",
       "    <tr>\n",
       "      <th>36</th>\n",
       "      <td>316</td>\n",
       "      <td>19228000</td>\n",
       "      <td>Human</td>\n",
       "      <td>Feb_28_2019</td>\n",
       "      <td>C1</td>\n",
       "      <td>L5</td>\n",
       "      <td>Intrinsic Properties</td>\n",
       "      <td>n.a</td>\n",
       "      <td>n.a</td>\n",
       "      <td>n.a</td>\n",
       "      <td>n.a</td>\n",
       "      <td>19228000.abf</td>\n",
       "      <td>False</td>\n",
       "      <td>data/raw/recordings/Human tissue/Human tissue-...</td>\n",
       "      <td>1.8.3.0</td>\n",
       "      <td>False</td>\n",
       "    </tr>\n",
       "    <tr>\n",
       "      <th>...</th>\n",
       "      <td>...</td>\n",
       "      <td>...</td>\n",
       "      <td>...</td>\n",
       "      <td>...</td>\n",
       "      <td>...</td>\n",
       "      <td>...</td>\n",
       "      <td>...</td>\n",
       "      <td>...</td>\n",
       "      <td>...</td>\n",
       "      <td>...</td>\n",
       "      <td>...</td>\n",
       "      <td>...</td>\n",
       "      <td>...</td>\n",
       "      <td>...</td>\n",
       "      <td>...</td>\n",
       "      <td>...</td>\n",
       "    </tr>\n",
       "    <tr>\n",
       "      <th>146</th>\n",
       "      <td>410</td>\n",
       "      <td>19328036</td>\n",
       "      <td>Human</td>\n",
       "      <td>March_28_2019</td>\n",
       "      <td>C5</td>\n",
       "      <td>L5</td>\n",
       "      <td>Intrinsic Properties</td>\n",
       "      <td>n.a</td>\n",
       "      <td>n.a</td>\n",
       "      <td>n.a</td>\n",
       "      <td>n.a</td>\n",
       "      <td>19328036.abf</td>\n",
       "      <td>False</td>\n",
       "      <td>data/raw/recordings/Human tissue/Human tissue-...</td>\n",
       "      <td>1.8.3.0</td>\n",
       "      <td>False</td>\n",
       "    </tr>\n",
       "    <tr>\n",
       "      <th>147</th>\n",
       "      <td>411</td>\n",
       "      <td>19328037</td>\n",
       "      <td>Human</td>\n",
       "      <td>March_28_2019</td>\n",
       "      <td>C5</td>\n",
       "      <td>L5</td>\n",
       "      <td>Intrinsic Properties</td>\n",
       "      <td>n.a</td>\n",
       "      <td>n.a</td>\n",
       "      <td>n.a</td>\n",
       "      <td>n.a</td>\n",
       "      <td>19328037.abf</td>\n",
       "      <td>False</td>\n",
       "      <td>data/raw/recordings/Human tissue/Human tissue-...</td>\n",
       "      <td>1.8.3.0</td>\n",
       "      <td>False</td>\n",
       "    </tr>\n",
       "    <tr>\n",
       "      <th>148</th>\n",
       "      <td>412</td>\n",
       "      <td>19328039</td>\n",
       "      <td>Human</td>\n",
       "      <td>March_28_2019</td>\n",
       "      <td>C5</td>\n",
       "      <td>L5</td>\n",
       "      <td>Intrinsic Properties</td>\n",
       "      <td>n.a</td>\n",
       "      <td>n.a</td>\n",
       "      <td>n.a</td>\n",
       "      <td>n.a</td>\n",
       "      <td>19328039.abf</td>\n",
       "      <td>False</td>\n",
       "      <td>data/raw/recordings/Human tissue/Human tissue-...</td>\n",
       "      <td>1.8.3.0</td>\n",
       "      <td>False</td>\n",
       "    </tr>\n",
       "    <tr>\n",
       "      <th>149</th>\n",
       "      <td>413</td>\n",
       "      <td>19328044</td>\n",
       "      <td>Human</td>\n",
       "      <td>March_28_2019</td>\n",
       "      <td>C5</td>\n",
       "      <td>L5</td>\n",
       "      <td>Intrinsic Properties</td>\n",
       "      <td>n.a</td>\n",
       "      <td>n.a</td>\n",
       "      <td>n.a</td>\n",
       "      <td>n.a</td>\n",
       "      <td>19328044.abf</td>\n",
       "      <td>False</td>\n",
       "      <td>data/raw/recordings/Human tissue/Human tissue-...</td>\n",
       "      <td>1.8.3.0</td>\n",
       "      <td>False</td>\n",
       "    </tr>\n",
       "    <tr>\n",
       "      <th>150</th>\n",
       "      <td>414</td>\n",
       "      <td>19328046</td>\n",
       "      <td>Human</td>\n",
       "      <td>March_28_2019</td>\n",
       "      <td>C6</td>\n",
       "      <td>L5</td>\n",
       "      <td>Intrinsic Properties</td>\n",
       "      <td>n.a</td>\n",
       "      <td>n.a</td>\n",
       "      <td>n.a</td>\n",
       "      <td>n.a</td>\n",
       "      <td>19328046.abf</td>\n",
       "      <td>False</td>\n",
       "      <td>data/raw/recordings/Human tissue/Human tissue-...</td>\n",
       "      <td>1.8.3.0</td>\n",
       "      <td>False</td>\n",
       "    </tr>\n",
       "  </tbody>\n",
       "</table>\n",
       "<p>100 rows × 16 columns</p>\n",
       "</div>"
      ],
      "text/plain": [
       "     Unnamed: 0  ABF File Data Type               Exp. Date Cell # Cell Layer  \\\n",
       "32          312  19208001     Human  Feb_08_2019_Tumor case     C1         L5   \n",
       "33          313  19219004     Human             Feb_19_2019     C1         L5   \n",
       "34          314  19219005     Human             Feb_19_2019     C1         L5   \n",
       "35          315  19219021     Human             Feb_19_2019     C3         L5   \n",
       "36          316  19228000     Human             Feb_28_2019     C1         L5   \n",
       "..          ...       ...       ...                     ...    ...        ...   \n",
       "146         410  19328036     Human           March_28_2019     C5         L5   \n",
       "147         411  19328037     Human           March_28_2019     C5         L5   \n",
       "148         412  19328039     Human           March_28_2019     C5         L5   \n",
       "149         413  19328044     Human           March_28_2019     C5         L5   \n",
       "150         414  19328046     Human           March_28_2019     C6         L5   \n",
       "\n",
       "                Stim Type Threshold   DC   ZD Hold     file_name  \\\n",
       "32   Intrinsic Properties       n.a  n.a  n.a  n.a  19208001.abf   \n",
       "33   Intrinsic Properties       n.a  n.a  n.a  n.a  19219004.abf   \n",
       "34   Intrinsic Properties       n.a  n.a  n.a  n.a  19219005.abf   \n",
       "35   Intrinsic Properties       n.a  n.a  n.a  n.a  19219021.abf   \n",
       "36   Intrinsic Properties       n.a  n.a  n.a  n.a  19228000.abf   \n",
       "..                    ...       ...  ...  ...  ...           ...   \n",
       "146  Intrinsic Properties       n.a  n.a  n.a  n.a  19328036.abf   \n",
       "147  Intrinsic Properties       n.a  n.a  n.a  n.a  19328037.abf   \n",
       "148  Intrinsic Properties       n.a  n.a  n.a  n.a  19328039.abf   \n",
       "149  Intrinsic Properties       n.a  n.a  n.a  n.a  19328044.abf   \n",
       "150  Intrinsic Properties       n.a  n.a  n.a  n.a  19328046.abf   \n",
       "\n",
       "     is_duplicate                                               path  version  \\\n",
       "32          False  data/raw/recordings/Human tissue/Human tissue-...  1.8.3.0   \n",
       "33          False  data/raw/recordings/Human tissue/Human tissue-...  1.8.3.0   \n",
       "34          False  data/raw/recordings/Human tissue/Human tissue-...  1.8.3.0   \n",
       "35          False  data/raw/recordings/Human tissue/Human tissue-...  1.8.3.0   \n",
       "36          False  data/raw/recordings/Human tissue/Human tissue-...  1.8.3.0   \n",
       "..            ...                                                ...      ...   \n",
       "146         False  data/raw/recordings/Human tissue/Human tissue-...  1.8.3.0   \n",
       "147         False  data/raw/recordings/Human tissue/Human tissue-...  1.8.3.0   \n",
       "148         False  data/raw/recordings/Human tissue/Human tissue-...  1.8.3.0   \n",
       "149         False  data/raw/recordings/Human tissue/Human tissue-...  1.8.3.0   \n",
       "150         False  data/raw/recordings/Human tissue/Human tissue-...  1.8.3.0   \n",
       "\n",
       "     to_drop  \n",
       "32     False  \n",
       "33     False  \n",
       "34     False  \n",
       "35     False  \n",
       "36     False  \n",
       "..       ...  \n",
       "146    False  \n",
       "147    False  \n",
       "148    False  \n",
       "149    False  \n",
       "150    False  \n",
       "\n",
       "[100 rows x 16 columns]"
      ]
     },
     "execution_count": 48,
     "metadata": {},
     "output_type": "execute_result"
    }
   ],
   "source": [
    "meta_df[(meta_df['Unnamed: 0'] >= 312) & (meta_df['Unnamed: 0'] <= 414)]"
   ]
  },
  {
   "cell_type": "markdown",
   "id": "c751486e",
   "metadata": {},
   "source": [
    "## Note: this needs cleaning upstream"
   ]
  },
  {
   "cell_type": "code",
   "execution_count": 29,
   "id": "7d4b8a52",
   "metadata": {
    "scrolled": true
   },
   "outputs": [
    {
     "name": "stdout",
     "output_type": "stream",
     "text": [
      "214\n"
     ]
    },
    {
     "data": {
      "text/html": [
       "<div>\n",
       "<style scoped>\n",
       "    .dataframe tbody tr th:only-of-type {\n",
       "        vertical-align: middle;\n",
       "    }\n",
       "\n",
       "    .dataframe tbody tr th {\n",
       "        vertical-align: top;\n",
       "    }\n",
       "\n",
       "    .dataframe thead th {\n",
       "        text-align: right;\n",
       "    }\n",
       "</style>\n",
       "<table border=\"1\" class=\"dataframe\">\n",
       "  <thead>\n",
       "    <tr style=\"text-align: right;\">\n",
       "      <th></th>\n",
       "      <th>ABF File</th>\n",
       "      <th>Data Type</th>\n",
       "      <th>Exp. Date</th>\n",
       "      <th>Cell #</th>\n",
       "      <th>Cell Layer</th>\n",
       "      <th>Stim Type</th>\n",
       "      <th>Threshold</th>\n",
       "      <th>DC</th>\n",
       "      <th>ZD</th>\n",
       "      <th>Hold</th>\n",
       "      <th>file_name</th>\n",
       "      <th>is_duplicate</th>\n",
       "      <th>path</th>\n",
       "      <th>version</th>\n",
       "    </tr>\n",
       "  </thead>\n",
       "  <tbody>\n",
       "    <tr>\n",
       "      <th>70</th>\n",
       "      <td>19129000</td>\n",
       "      <td>Human</td>\n",
       "      <td>Jan_29_2019</td>\n",
       "      <td>C1</td>\n",
       "      <td>L5</td>\n",
       "      <td>Intrinsic Properties</td>\n",
       "      <td>n.a</td>\n",
       "      <td>n.a</td>\n",
       "      <td>n.a</td>\n",
       "      <td>n.a</td>\n",
       "      <td>19129000.abf</td>\n",
       "      <td>True</td>\n",
       "      <td>data/raw/recordings/Human tissue/Human tissue-...</td>\n",
       "      <td>1.8.3.0</td>\n",
       "    </tr>\n",
       "    <tr>\n",
       "      <th>72</th>\n",
       "      <td>19129000</td>\n",
       "      <td>Human</td>\n",
       "      <td>Sep_03-2019</td>\n",
       "      <td>C1</td>\n",
       "      <td>L2</td>\n",
       "      <td>Intrinsic Properties</td>\n",
       "      <td>n.a</td>\n",
       "      <td>n.a</td>\n",
       "      <td>n.a</td>\n",
       "      <td>n.a</td>\n",
       "      <td>19129000.abf</td>\n",
       "      <td>True</td>\n",
       "      <td>data/raw/recordings/Human tissue/Human tissue-...</td>\n",
       "      <td>1.8.3.0</td>\n",
       "    </tr>\n",
       "    <tr>\n",
       "      <th>74</th>\n",
       "      <td>19129002</td>\n",
       "      <td>Human</td>\n",
       "      <td>Jan_29_2019</td>\n",
       "      <td>C1</td>\n",
       "      <td>L5</td>\n",
       "      <td>Intrinsic Properties</td>\n",
       "      <td>n.a</td>\n",
       "      <td>n.a</td>\n",
       "      <td>n.a</td>\n",
       "      <td>n.a</td>\n",
       "      <td>19129002.abf</td>\n",
       "      <td>True</td>\n",
       "      <td>data/raw/recordings/Human tissue/Human tissue-...</td>\n",
       "      <td>1.8.3.0</td>\n",
       "    </tr>\n",
       "    <tr>\n",
       "      <th>76</th>\n",
       "      <td>19129002</td>\n",
       "      <td>Human</td>\n",
       "      <td>Sep_03-2019</td>\n",
       "      <td>C1</td>\n",
       "      <td>L2</td>\n",
       "      <td>Intrinsic Properties</td>\n",
       "      <td>n.a</td>\n",
       "      <td>n.a</td>\n",
       "      <td>n.a</td>\n",
       "      <td>n.a</td>\n",
       "      <td>19129002.abf</td>\n",
       "      <td>True</td>\n",
       "      <td>data/raw/recordings/Human tissue/Human tissue-...</td>\n",
       "      <td>1.8.3.0</td>\n",
       "    </tr>\n",
       "    <tr>\n",
       "      <th>78</th>\n",
       "      <td>19129003</td>\n",
       "      <td>Human</td>\n",
       "      <td>Jan_29_2019</td>\n",
       "      <td>C1</td>\n",
       "      <td>L5</td>\n",
       "      <td>Intrinsic Properties</td>\n",
       "      <td>n.a</td>\n",
       "      <td>n.a</td>\n",
       "      <td>n.a</td>\n",
       "      <td>n.a</td>\n",
       "      <td>19129003.abf</td>\n",
       "      <td>True</td>\n",
       "      <td>data/raw/recordings/Human tissue/Human tissue-...</td>\n",
       "      <td>1.8.3.0</td>\n",
       "    </tr>\n",
       "    <tr>\n",
       "      <th>80</th>\n",
       "      <td>19129003</td>\n",
       "      <td>Human</td>\n",
       "      <td>Sep_03-2019</td>\n",
       "      <td>C1</td>\n",
       "      <td>L2</td>\n",
       "      <td>Intrinsic Properties</td>\n",
       "      <td>n.a</td>\n",
       "      <td>n.a</td>\n",
       "      <td>n.a</td>\n",
       "      <td>n.a</td>\n",
       "      <td>19129003.abf</td>\n",
       "      <td>True</td>\n",
       "      <td>data/raw/recordings/Human tissue/Human tissue-...</td>\n",
       "      <td>1.8.3.0</td>\n",
       "    </tr>\n",
       "    <tr>\n",
       "      <th>82</th>\n",
       "      <td>19129004</td>\n",
       "      <td>Human</td>\n",
       "      <td>Jan_29_2019</td>\n",
       "      <td>C1</td>\n",
       "      <td>L5</td>\n",
       "      <td>Intrinsic Properties</td>\n",
       "      <td>n.a</td>\n",
       "      <td>n.a</td>\n",
       "      <td>n.a</td>\n",
       "      <td>n.a</td>\n",
       "      <td>19129004.abf</td>\n",
       "      <td>True</td>\n",
       "      <td>data/raw/recordings/Human tissue/Human tissue-...</td>\n",
       "      <td>1.8.3.0</td>\n",
       "    </tr>\n",
       "    <tr>\n",
       "      <th>84</th>\n",
       "      <td>19129004</td>\n",
       "      <td>Human</td>\n",
       "      <td>Sep_03-2019</td>\n",
       "      <td>C1</td>\n",
       "      <td>L2</td>\n",
       "      <td>Intrinsic Properties</td>\n",
       "      <td>n.a</td>\n",
       "      <td>n.a</td>\n",
       "      <td>n.a</td>\n",
       "      <td>n.a</td>\n",
       "      <td>19129004.abf</td>\n",
       "      <td>True</td>\n",
       "      <td>data/raw/recordings/Human tissue/Human tissue-...</td>\n",
       "      <td>1.8.3.0</td>\n",
       "    </tr>\n",
       "    <tr>\n",
       "      <th>86</th>\n",
       "      <td>19129010</td>\n",
       "      <td>Human</td>\n",
       "      <td>Jan_29_2019</td>\n",
       "      <td>C1</td>\n",
       "      <td>L5</td>\n",
       "      <td>Intrinsic Properties</td>\n",
       "      <td>n.a</td>\n",
       "      <td>n.a</td>\n",
       "      <td>n.a</td>\n",
       "      <td>n.a</td>\n",
       "      <td>19129010.abf</td>\n",
       "      <td>True</td>\n",
       "      <td>data/raw/recordings/Human tissue/Human tissue-...</td>\n",
       "      <td>1.8.3.0</td>\n",
       "    </tr>\n",
       "    <tr>\n",
       "      <th>88</th>\n",
       "      <td>19129010</td>\n",
       "      <td>Human</td>\n",
       "      <td>Sep_03-2019</td>\n",
       "      <td>C1</td>\n",
       "      <td>L2</td>\n",
       "      <td>Intrinsic Properties</td>\n",
       "      <td>n.a</td>\n",
       "      <td>n.a</td>\n",
       "      <td>n.a</td>\n",
       "      <td>n.a</td>\n",
       "      <td>19129010.abf</td>\n",
       "      <td>True</td>\n",
       "      <td>data/raw/recordings/Human tissue/Human tissue-...</td>\n",
       "      <td>1.8.3.0</td>\n",
       "    </tr>\n",
       "    <tr>\n",
       "      <th>112</th>\n",
       "      <td>19319019</td>\n",
       "      <td>Human</td>\n",
       "      <td>March_19_2019</td>\n",
       "      <td>C4</td>\n",
       "      <td>L5</td>\n",
       "      <td>Intrinsic Properties</td>\n",
       "      <td>n.a</td>\n",
       "      <td>n.a</td>\n",
       "      <td>n.a</td>\n",
       "      <td>n.a</td>\n",
       "      <td>19319019.abf</td>\n",
       "      <td>True</td>\n",
       "      <td>data/raw/recordings/Human tissue/Human tissue-...</td>\n",
       "      <td>1.8.3.0</td>\n",
       "    </tr>\n",
       "    <tr>\n",
       "      <th>114</th>\n",
       "      <td>19319019</td>\n",
       "      <td>Human</td>\n",
       "      <td>March_19_2019</td>\n",
       "      <td>C6</td>\n",
       "      <td>L5</td>\n",
       "      <td>Intrinsic Properties</td>\n",
       "      <td>n.a</td>\n",
       "      <td>n.a</td>\n",
       "      <td>n.a</td>\n",
       "      <td>n.a</td>\n",
       "      <td>19319019.abf</td>\n",
       "      <td>True</td>\n",
       "      <td>data/raw/recordings/Human tissue/Human tissue-...</td>\n",
       "      <td>1.8.3.0</td>\n",
       "    </tr>\n",
       "    <tr>\n",
       "      <th>116</th>\n",
       "      <td>19319020</td>\n",
       "      <td>Human</td>\n",
       "      <td>March_19_2019</td>\n",
       "      <td>C4</td>\n",
       "      <td>L5</td>\n",
       "      <td>Intrinsic Properties</td>\n",
       "      <td>n.a</td>\n",
       "      <td>n.a</td>\n",
       "      <td>n.a</td>\n",
       "      <td>n.a</td>\n",
       "      <td>19319020.abf</td>\n",
       "      <td>True</td>\n",
       "      <td>data/raw/recordings/Human tissue/Human tissue-...</td>\n",
       "      <td>1.8.3.0</td>\n",
       "    </tr>\n",
       "    <tr>\n",
       "      <th>118</th>\n",
       "      <td>19319020</td>\n",
       "      <td>Human</td>\n",
       "      <td>March_19_2019</td>\n",
       "      <td>C6</td>\n",
       "      <td>L5</td>\n",
       "      <td>Intrinsic Properties</td>\n",
       "      <td>n.a</td>\n",
       "      <td>n.a</td>\n",
       "      <td>n.a</td>\n",
       "      <td>n.a</td>\n",
       "      <td>19319020.abf</td>\n",
       "      <td>True</td>\n",
       "      <td>data/raw/recordings/Human tissue/Human tissue-...</td>\n",
       "      <td>1.8.3.0</td>\n",
       "    </tr>\n",
       "  </tbody>\n",
       "</table>\n",
       "</div>"
      ],
      "text/plain": [
       "     ABF File Data Type      Exp. Date Cell # Cell Layer  \\\n",
       "70   19129000     Human    Jan_29_2019     C1         L5   \n",
       "72   19129000     Human    Sep_03-2019     C1         L2   \n",
       "74   19129002     Human    Jan_29_2019     C1         L5   \n",
       "76   19129002     Human    Sep_03-2019     C1         L2   \n",
       "78   19129003     Human    Jan_29_2019     C1         L5   \n",
       "80   19129003     Human    Sep_03-2019     C1         L2   \n",
       "82   19129004     Human    Jan_29_2019     C1         L5   \n",
       "84   19129004     Human    Sep_03-2019     C1         L2   \n",
       "86   19129010     Human    Jan_29_2019     C1         L5   \n",
       "88   19129010     Human    Sep_03-2019     C1         L2   \n",
       "112  19319019     Human  March_19_2019     C4         L5   \n",
       "114  19319019     Human  March_19_2019     C6         L5   \n",
       "116  19319020     Human  March_19_2019     C4         L5   \n",
       "118  19319020     Human  March_19_2019     C6         L5   \n",
       "\n",
       "                Stim Type Threshold   DC   ZD Hold     file_name  \\\n",
       "70   Intrinsic Properties       n.a  n.a  n.a  n.a  19129000.abf   \n",
       "72   Intrinsic Properties       n.a  n.a  n.a  n.a  19129000.abf   \n",
       "74   Intrinsic Properties       n.a  n.a  n.a  n.a  19129002.abf   \n",
       "76   Intrinsic Properties       n.a  n.a  n.a  n.a  19129002.abf   \n",
       "78   Intrinsic Properties       n.a  n.a  n.a  n.a  19129003.abf   \n",
       "80   Intrinsic Properties       n.a  n.a  n.a  n.a  19129003.abf   \n",
       "82   Intrinsic Properties       n.a  n.a  n.a  n.a  19129004.abf   \n",
       "84   Intrinsic Properties       n.a  n.a  n.a  n.a  19129004.abf   \n",
       "86   Intrinsic Properties       n.a  n.a  n.a  n.a  19129010.abf   \n",
       "88   Intrinsic Properties       n.a  n.a  n.a  n.a  19129010.abf   \n",
       "112  Intrinsic Properties       n.a  n.a  n.a  n.a  19319019.abf   \n",
       "114  Intrinsic Properties       n.a  n.a  n.a  n.a  19319019.abf   \n",
       "116  Intrinsic Properties       n.a  n.a  n.a  n.a  19319020.abf   \n",
       "118  Intrinsic Properties       n.a  n.a  n.a  n.a  19319020.abf   \n",
       "\n",
       "     is_duplicate                                               path  version  \n",
       "70           True  data/raw/recordings/Human tissue/Human tissue-...  1.8.3.0  \n",
       "72           True  data/raw/recordings/Human tissue/Human tissue-...  1.8.3.0  \n",
       "74           True  data/raw/recordings/Human tissue/Human tissue-...  1.8.3.0  \n",
       "76           True  data/raw/recordings/Human tissue/Human tissue-...  1.8.3.0  \n",
       "78           True  data/raw/recordings/Human tissue/Human tissue-...  1.8.3.0  \n",
       "80           True  data/raw/recordings/Human tissue/Human tissue-...  1.8.3.0  \n",
       "82           True  data/raw/recordings/Human tissue/Human tissue-...  1.8.3.0  \n",
       "84           True  data/raw/recordings/Human tissue/Human tissue-...  1.8.3.0  \n",
       "86           True  data/raw/recordings/Human tissue/Human tissue-...  1.8.3.0  \n",
       "88           True  data/raw/recordings/Human tissue/Human tissue-...  1.8.3.0  \n",
       "112          True  data/raw/recordings/Human tissue/Human tissue-...  1.8.3.0  \n",
       "114          True  data/raw/recordings/Human tissue/Human tissue-...  1.8.3.0  \n",
       "116          True  data/raw/recordings/Human tissue/Human tissue-...  1.8.3.0  \n",
       "118          True  data/raw/recordings/Human tissue/Human tissue-...  1.8.3.0  "
      ]
     },
     "execution_count": 29,
     "metadata": {},
     "output_type": "execute_result"
    }
   ],
   "source": [
    "print(meta_df.file_name.nunique())\n",
    "# there is still an issue with duplicates\n",
    "meta_df[meta_df.duplicated(subset='path', keep=False)]"
   ]
  },
  {
   "cell_type": "markdown",
   "id": "ecb77b1b",
   "metadata": {},
   "source": [
    "## Focus on converting ABFv2 long squares from human2019 data"
   ]
  },
  {
   "cell_type": "code",
   "execution_count": 32,
   "id": "b77f608c",
   "metadata": {},
   "outputs": [],
   "source": [
    "v2_meta = meta_df[meta_df.version.str.startswith('2')]"
   ]
  },
  {
   "cell_type": "code",
   "execution_count": 57,
   "id": "ded9ea39",
   "metadata": {},
   "outputs": [
    {
     "data": {
      "text/plain": [
       "Intrinsic Properties    116\n",
       "Name: Stim Type, dtype: int64"
      ]
     },
     "execution_count": 57,
     "metadata": {},
     "output_type": "execute_result"
    }
   ],
   "source": [
    "v2_meta['Stim Type'].value_counts()"
   ]
  },
  {
   "cell_type": "code",
   "execution_count": 37,
   "id": "6efd5719",
   "metadata": {
    "scrolled": true
   },
   "outputs": [
    {
     "data": {
      "text/plain": [
       "116"
      ]
     },
     "execution_count": 37,
     "metadata": {},
     "output_type": "execute_result"
    }
   ],
   "source": [
    "v2_meta.path.nunique()"
   ]
  },
  {
   "cell_type": "code",
   "execution_count": 42,
   "id": "8a82c6fe",
   "metadata": {},
   "outputs": [],
   "source": [
    "v2_file_info = human2019_file_info[human2019_file_info.path.isin(v2_meta.path)]"
   ]
  },
  {
   "cell_type": "code",
   "execution_count": 43,
   "id": "2e1d408f",
   "metadata": {},
   "outputs": [
    {
     "data": {
      "text/plain": [
       "(116, 3)"
      ]
     },
     "execution_count": 43,
     "metadata": {},
     "output_type": "execute_result"
    }
   ],
   "source": [
    "v2_file_info.shape"
   ]
  },
  {
   "cell_type": "code",
   "execution_count": 74,
   "id": "b21bd6aa",
   "metadata": {
    "scrolled": true
   },
   "outputs": [
    {
     "data": {
      "text/html": [
       "<div>\n",
       "<style scoped>\n",
       "    .dataframe tbody tr th:only-of-type {\n",
       "        vertical-align: middle;\n",
       "    }\n",
       "\n",
       "    .dataframe tbody tr th {\n",
       "        vertical-align: top;\n",
       "    }\n",
       "\n",
       "    .dataframe thead th {\n",
       "        text-align: right;\n",
       "    }\n",
       "</style>\n",
       "<table border=\"1\" class=\"dataframe\">\n",
       "  <thead>\n",
       "    <tr style=\"text-align: right;\">\n",
       "      <th></th>\n",
       "      <th>file_name</th>\n",
       "      <th>path</th>\n",
       "      <th>created</th>\n",
       "    </tr>\n",
       "  </thead>\n",
       "  <tbody>\n",
       "    <tr>\n",
       "      <th>167</th>\n",
       "      <td>2019_11_26_0037.abf</td>\n",
       "      <td>data/raw/recordings/Human tissue/Human tissue-...</td>\n",
       "      <td>Fri Apr  9 16:26:54 2021</td>\n",
       "    </tr>\n",
       "    <tr>\n",
       "      <th>172</th>\n",
       "      <td>2019_11_26_0091.abf</td>\n",
       "      <td>data/raw/recordings/Human tissue/Human tissue-...</td>\n",
       "      <td>Fri Apr  9 16:26:54 2021</td>\n",
       "    </tr>\n",
       "    <tr>\n",
       "      <th>173</th>\n",
       "      <td>2019_11_26_0083.abf</td>\n",
       "      <td>data/raw/recordings/Human tissue/Human tissue-...</td>\n",
       "      <td>Fri Apr  9 16:26:54 2021</td>\n",
       "    </tr>\n",
       "    <tr>\n",
       "      <th>174</th>\n",
       "      <td>2019_11_26_0076.abf</td>\n",
       "      <td>data/raw/recordings/Human tissue/Human tissue-...</td>\n",
       "      <td>Fri Apr  9 16:26:54 2021</td>\n",
       "    </tr>\n",
       "    <tr>\n",
       "      <th>180</th>\n",
       "      <td>2019_11_26_0074.abf</td>\n",
       "      <td>data/raw/recordings/Human tissue/Human tissue-...</td>\n",
       "      <td>Fri Apr  9 16:26:54 2021</td>\n",
       "    </tr>\n",
       "    <tr>\n",
       "      <th>...</th>\n",
       "      <td>...</td>\n",
       "      <td>...</td>\n",
       "      <td>...</td>\n",
       "    </tr>\n",
       "    <tr>\n",
       "      <th>496</th>\n",
       "      <td>19o10045.abf</td>\n",
       "      <td>data/raw/recordings/Human tissue/Human tissue-...</td>\n",
       "      <td>Fri Apr  9 16:26:54 2021</td>\n",
       "    </tr>\n",
       "    <tr>\n",
       "      <th>497</th>\n",
       "      <td>19o10046.abf</td>\n",
       "      <td>data/raw/recordings/Human tissue/Human tissue-...</td>\n",
       "      <td>Fri Apr  9 16:26:54 2021</td>\n",
       "    </tr>\n",
       "    <tr>\n",
       "      <th>498</th>\n",
       "      <td>19o10047.abf</td>\n",
       "      <td>data/raw/recordings/Human tissue/Human tissue-...</td>\n",
       "      <td>Fri Apr  9 16:26:54 2021</td>\n",
       "    </tr>\n",
       "    <tr>\n",
       "      <th>499</th>\n",
       "      <td>19o10043.abf</td>\n",
       "      <td>data/raw/recordings/Human tissue/Human tissue-...</td>\n",
       "      <td>Fri Apr  9 16:26:54 2021</td>\n",
       "    </tr>\n",
       "    <tr>\n",
       "      <th>500</th>\n",
       "      <td>19o10048.abf</td>\n",
       "      <td>data/raw/recordings/Human tissue/Human tissue-...</td>\n",
       "      <td>Fri Apr  9 16:26:54 2021</td>\n",
       "    </tr>\n",
       "  </tbody>\n",
       "</table>\n",
       "<p>116 rows × 3 columns</p>\n",
       "</div>"
      ],
      "text/plain": [
       "               file_name                                               path  \\\n",
       "167  2019_11_26_0037.abf  data/raw/recordings/Human tissue/Human tissue-...   \n",
       "172  2019_11_26_0091.abf  data/raw/recordings/Human tissue/Human tissue-...   \n",
       "173  2019_11_26_0083.abf  data/raw/recordings/Human tissue/Human tissue-...   \n",
       "174  2019_11_26_0076.abf  data/raw/recordings/Human tissue/Human tissue-...   \n",
       "180  2019_11_26_0074.abf  data/raw/recordings/Human tissue/Human tissue-...   \n",
       "..                   ...                                                ...   \n",
       "496         19o10045.abf  data/raw/recordings/Human tissue/Human tissue-...   \n",
       "497         19o10046.abf  data/raw/recordings/Human tissue/Human tissue-...   \n",
       "498         19o10047.abf  data/raw/recordings/Human tissue/Human tissue-...   \n",
       "499         19o10043.abf  data/raw/recordings/Human tissue/Human tissue-...   \n",
       "500         19o10048.abf  data/raw/recordings/Human tissue/Human tissue-...   \n",
       "\n",
       "                      created  \n",
       "167  Fri Apr  9 16:26:54 2021  \n",
       "172  Fri Apr  9 16:26:54 2021  \n",
       "173  Fri Apr  9 16:26:54 2021  \n",
       "174  Fri Apr  9 16:26:54 2021  \n",
       "180  Fri Apr  9 16:26:54 2021  \n",
       "..                        ...  \n",
       "496  Fri Apr  9 16:26:54 2021  \n",
       "497  Fri Apr  9 16:26:54 2021  \n",
       "498  Fri Apr  9 16:26:54 2021  \n",
       "499  Fri Apr  9 16:26:54 2021  \n",
       "500  Fri Apr  9 16:26:54 2021  \n",
       "\n",
       "[116 rows x 3 columns]"
      ]
     },
     "execution_count": 74,
     "metadata": {},
     "output_type": "execute_result"
    }
   ],
   "source": [
    "v2_file_info#.path.unique()"
   ]
  },
  {
   "cell_type": "code",
   "execution_count": 76,
   "id": "aa425735",
   "metadata": {},
   "outputs": [
    {
     "data": {
      "text/plain": [
       "0"
      ]
     },
     "execution_count": 76,
     "metadata": {},
     "output_type": "execute_result"
    }
   ],
   "source": [
    "v2_file_info.file_name.str.endswith('.json').sum()"
   ]
  },
  {
   "cell_type": "code",
   "execution_count": 78,
   "id": "d30f4bc2",
   "metadata": {},
   "outputs": [
    {
     "name": "stderr",
     "output_type": "stream",
     "text": [
      "WARNING:pyabf.abf:fileGUID isn't truly unique (fileUUID is)\n"
     ]
    },
    {
     "name": "stdout",
     "output_type": "stream",
     "text": [
      "2019_11_26_0037\n"
     ]
    },
    {
     "name": "stderr",
     "output_type": "stream",
     "text": [
      "WARNING:pyabf.abf:fileGUID isn't truly unique (fileUUID is)\n"
     ]
    },
    {
     "name": "stdout",
     "output_type": "stream",
     "text": [
      "NWB Conversion complete for 2019_11_26_0037.nwb\n",
      "\n",
      "2019_11_26_0091\n"
     ]
    },
    {
     "name": "stderr",
     "output_type": "stream",
     "text": [
      "WARNING:pyabf.abf:fileGUID isn't truly unique (fileUUID is)\n"
     ]
    },
    {
     "name": "stdout",
     "output_type": "stream",
     "text": [
      "NWB Conversion complete for 2019_11_26_0091.nwb\n",
      "\n",
      "2019_11_26_0083\n"
     ]
    },
    {
     "name": "stderr",
     "output_type": "stream",
     "text": [
      "WARNING:pyabf.abf:fileGUID isn't truly unique (fileUUID is)\n"
     ]
    },
    {
     "name": "stdout",
     "output_type": "stream",
     "text": [
      "NWB Conversion complete for 2019_11_26_0083.nwb\n",
      "\n",
      "2019_11_26_0076\n"
     ]
    },
    {
     "name": "stderr",
     "output_type": "stream",
     "text": [
      "/Users/derek_howard/triplab/nwb_conversion/x-to-nwb/src/x_to_nwb/ABF2Converter_gain.py:169: UserWarning: Could not find the JSON file data/raw/recordings/Human tissue/Human tissue-White noise_2019/Nov_26_2019/C2_L5/Intrinsic Properties_C2_L5/2019_11_26_0019.json with settings.\n",
      "  warnings.warn(f\"Could not find the JSON file {settings} with settings.\")\n",
      "WARNING:pyabf.abf:fileGUID isn't truly unique (fileUUID is)\n"
     ]
    },
    {
     "name": "stdout",
     "output_type": "stream",
     "text": [
      "NWB Conversion complete for 2019_11_26_0076.nwb\n",
      "\n",
      "2019_11_26_0074\n",
      "****************************************************************************************************\n",
      "Error: Found at least one 'Not a Number' entry in stimulus channel 0 of sweep 0 in file /Users/derek_howard/triplab/nwb_conversion/data/raw/recordings/Human tissue/Human tissue-White noise_2019/Nov_26_2019/C7_L5/Intrinsic Properties_C7_L5/2019_11_26_0074.abf using protocol None. \n",
      " data/raw/recordings/Human tissue/Human tissue-White noise_2019/Nov_26_2019/C7_L5/Intrinsic Properties_C7_L5/2019_11_26_0074.abf \n",
      "\n",
      "2019_11_26_0019\n"
     ]
    },
    {
     "name": "stderr",
     "output_type": "stream",
     "text": [
      "/Users/derek_howard/triplab/nwb_conversion/x-to-nwb/src/x_to_nwb/ABF2Converter_gain.py:169: UserWarning: Could not find the JSON file data/raw/recordings/Human tissue/Human tissue-White noise_2019/Nov_26_2019/C9_L5/Intrinsic Properties_C9_L5/2019_11_26_0110.json with settings.\n",
      "  warnings.warn(f\"Could not find the JSON file {settings} with settings.\")\n",
      "WARNING:pyabf.abf:fileGUID isn't truly unique (fileUUID is)\n"
     ]
    },
    {
     "name": "stdout",
     "output_type": "stream",
     "text": [
      "NWB Conversion complete for 2019_11_26_0019.nwb\n",
      "\n",
      "2019_11_26_0110\n"
     ]
    },
    {
     "name": "stderr",
     "output_type": "stream",
     "text": [
      "/Users/derek_howard/triplab/nwb_conversion/x-to-nwb/src/x_to_nwb/ABF2Converter_gain.py:169: UserWarning: Could not find the JSON file data/raw/recordings/Human tissue/Human tissue-White noise_2019/Nov_26_2019/C8_L5/ZD/Intrinsic properties_C8_L5/2019_11_26_0103.json with settings.\n",
      "  warnings.warn(f\"Could not find the JSON file {settings} with settings.\")\n",
      "WARNING:pyabf.abf:fileGUID isn't truly unique (fileUUID is)\n"
     ]
    },
    {
     "name": "stdout",
     "output_type": "stream",
     "text": [
      "NWB Conversion complete for 2019_11_26_0110.nwb\n",
      "\n",
      "2019_11_26_0103\n"
     ]
    },
    {
     "name": "stderr",
     "output_type": "stream",
     "text": [
      "/Users/derek_howard/triplab/nwb_conversion/x-to-nwb/src/x_to_nwb/ABF2Converter_gain.py:169: UserWarning: Could not find the JSON file data/raw/recordings/Human tissue/Human tissue-White noise_2019/Nov_26_2019/C8_L5/ZD/Intrinsic properties_C8_L5/2019_11_26_0102.json with settings.\n",
      "  warnings.warn(f\"Could not find the JSON file {settings} with settings.\")\n",
      "WARNING:pyabf.abf:fileGUID isn't truly unique (fileUUID is)\n"
     ]
    },
    {
     "name": "stdout",
     "output_type": "stream",
     "text": [
      "NWB Conversion complete for 2019_11_26_0103.nwb\n",
      "\n",
      "2019_11_26_0102\n"
     ]
    },
    {
     "name": "stderr",
     "output_type": "stream",
     "text": [
      "/Users/derek_howard/triplab/nwb_conversion/x-to-nwb/src/x_to_nwb/ABF2Converter_gain.py:169: UserWarning: Could not find the JSON file data/raw/recordings/Human tissue/Human tissue-White noise_2019/Nov_26_2019/C8_L5/Intrinsic Properties_C8_L5/2019_11_26_0094.json with settings.\n",
      "  warnings.warn(f\"Could not find the JSON file {settings} with settings.\")\n",
      "WARNING:pyabf.abf:fileGUID isn't truly unique (fileUUID is)\n"
     ]
    },
    {
     "name": "stdout",
     "output_type": "stream",
     "text": [
      "NWB Conversion complete for 2019_11_26_0102.nwb\n",
      "\n",
      "2019_11_26_0094\n"
     ]
    },
    {
     "name": "stderr",
     "output_type": "stream",
     "text": [
      "/Users/derek_howard/triplab/nwb_conversion/x-to-nwb/src/x_to_nwb/ABF2Converter_gain.py:169: UserWarning: Could not find the JSON file data/raw/recordings/Human tissue/Human tissue-White noise_2019/Nov_26_2019/C1_L5/Intrinsic Properties_C1_L5/2019_11_26_0006.json with settings.\n",
      "  warnings.warn(f\"Could not find the JSON file {settings} with settings.\")\n",
      "WARNING:pyabf.abf:fileGUID isn't truly unique (fileUUID is)\n"
     ]
    },
    {
     "name": "stdout",
     "output_type": "stream",
     "text": [
      "NWB Conversion complete for 2019_11_26_0094.nwb\n",
      "\n",
      "2019_11_26_0006\n"
     ]
    },
    {
     "name": "stderr",
     "output_type": "stream",
     "text": [
      "/Users/derek_howard/triplab/nwb_conversion/x-to-nwb/src/x_to_nwb/ABF2Converter_gain.py:169: UserWarning: Could not find the JSON file data/raw/recordings/Human tissue/Human tissue-White noise_2019/Nov_04_2019/C3_L5/Intrinsic Properties_C3_L5/2019_11_04_0113.json with settings.\n",
      "  warnings.warn(f\"Could not find the JSON file {settings} with settings.\")\n",
      "WARNING:pyabf.abf:fileGUID isn't truly unique (fileUUID is)\n"
     ]
    },
    {
     "name": "stdout",
     "output_type": "stream",
     "text": [
      "NWB Conversion complete for 2019_11_26_0006.nwb\n",
      "\n",
      "2019_11_04_0113\n"
     ]
    },
    {
     "name": "stderr",
     "output_type": "stream",
     "text": [
      "/Users/derek_howard/triplab/nwb_conversion/x-to-nwb/src/x_to_nwb/ABF2Converter_gain.py:169: UserWarning: Could not find the JSON file data/raw/recordings/Human tissue/Human tissue-White noise_2019/Nov_04_2019/C3_L5/ZD_C3_L5/Intrinsic Properties_C3_L5/2019_11_04_0130.json with settings.\n",
      "  warnings.warn(f\"Could not find the JSON file {settings} with settings.\")\n",
      "WARNING:pyabf.abf:fileGUID isn't truly unique (fileUUID is)\n"
     ]
    },
    {
     "name": "stdout",
     "output_type": "stream",
     "text": [
      "NWB Conversion complete for 2019_11_04_0113.nwb\n",
      "\n",
      "2019_11_04_0130\n"
     ]
    },
    {
     "name": "stderr",
     "output_type": "stream",
     "text": [
      "/Users/derek_howard/triplab/nwb_conversion/x-to-nwb/src/x_to_nwb/ABF2Converter_gain.py:495: UserWarning: Could not find the scale factor for the stimset Ramp 1S-190-330-20, using 1.0 as fallback.\n",
      "  warnings.warn(\n",
      "/Users/derek_howard/triplab/nwb_conversion/x-to-nwb/src/x_to_nwb/ABF2Converter_gain.py:169: UserWarning: Could not find the JSON file data/raw/recordings/Human tissue/Human tissue-White noise_2019/Nov_04_2019/C3_L5/ZD_C3_L5/Intrinsic Properties_C3_L5/2019_11_04_0129.json with settings.\n",
      "  warnings.warn(f\"Could not find the JSON file {settings} with settings.\")\n",
      "WARNING:pyabf.abf:fileGUID isn't truly unique (fileUUID is)\n"
     ]
    },
    {
     "name": "stdout",
     "output_type": "stream",
     "text": [
      "NWB Conversion complete for 2019_11_04_0130.nwb\n",
      "\n",
      "2019_11_04_0129\n"
     ]
    },
    {
     "name": "stderr",
     "output_type": "stream",
     "text": [
      "/Users/derek_howard/triplab/nwb_conversion/x-to-nwb/src/x_to_nwb/ABF2Converter_gain.py:169: UserWarning: Could not find the JSON file data/raw/recordings/Human tissue/Human tissue-White noise_2019/Nov_04_2019/C3_L5/ZD_C3_L5/Intrinsic Properties_C3_L5/2019_11_04_0128.json with settings.\n",
      "  warnings.warn(f\"Could not find the JSON file {settings} with settings.\")\n",
      "WARNING:pyabf.abf:fileGUID isn't truly unique (fileUUID is)\n"
     ]
    },
    {
     "name": "stdout",
     "output_type": "stream",
     "text": [
      "NWB Conversion complete for 2019_11_04_0129.nwb\n",
      "\n",
      "2019_11_04_0128\n"
     ]
    },
    {
     "name": "stderr",
     "output_type": "stream",
     "text": [
      "/Users/derek_howard/triplab/nwb_conversion/x-to-nwb/src/x_to_nwb/ABF2Converter_gain.py:169: UserWarning: Could not find the JSON file data/raw/recordings/Human tissue/Human tissue-White noise_2019/Nov_04_2019/C2_L3/Intrinsic Properties_C2_L3C/2019_11_04_0083.json with settings.\n",
      "  warnings.warn(f\"Could not find the JSON file {settings} with settings.\")\n",
      "WARNING:pyabf.abf:fileGUID isn't truly unique (fileUUID is)\n"
     ]
    },
    {
     "name": "stdout",
     "output_type": "stream",
     "text": [
      "NWB Conversion complete for 2019_11_04_0128.nwb\n",
      "\n",
      "2019_11_04_0083\n"
     ]
    },
    {
     "name": "stderr",
     "output_type": "stream",
     "text": [
      "/Users/derek_howard/triplab/nwb_conversion/x-to-nwb/src/x_to_nwb/ABF2Converter_gain.py:169: UserWarning: Could not find the JSON file data/raw/recordings/Human tissue/Human tissue-White noise_2019/Nov_04_2019/C2_L3/Intrinsic Properties_C2_L3C/2019_11_04_0082.json with settings.\n",
      "  warnings.warn(f\"Could not find the JSON file {settings} with settings.\")\n",
      "WARNING:pyabf.abf:fileGUID isn't truly unique (fileUUID is)\n"
     ]
    },
    {
     "name": "stdout",
     "output_type": "stream",
     "text": [
      "NWB Conversion complete for 2019_11_04_0083.nwb\n",
      "\n",
      "2019_11_04_0082\n"
     ]
    },
    {
     "name": "stderr",
     "output_type": "stream",
     "text": [
      "/Users/derek_howard/triplab/nwb_conversion/x-to-nwb/src/x_to_nwb/ABF2Converter_gain.py:169: UserWarning: Could not find the JSON file data/raw/recordings/Human tissue/Human tissue-White noise_2019/Nov_04_2019/C2_L3/Intrinsic Properties_C2_L3C/2019_11_04_0085.json with settings.\n",
      "  warnings.warn(f\"Could not find the JSON file {settings} with settings.\")\n",
      "WARNING:pyabf.abf:fileGUID isn't truly unique (fileUUID is)\n"
     ]
    },
    {
     "name": "stdout",
     "output_type": "stream",
     "text": [
      "NWB Conversion complete for 2019_11_04_0082.nwb\n",
      "\n",
      "2019_11_04_0085\n"
     ]
    },
    {
     "name": "stderr",
     "output_type": "stream",
     "text": [
      "/Users/derek_howard/triplab/nwb_conversion/x-to-nwb/src/x_to_nwb/ABF2Converter_gain.py:169: UserWarning: Could not find the JSON file data/raw/recordings/Human tissue/Human tissue-White noise_2019/Nov_04_2019/C2_L3/Intrinsic Properties_C2_L3C/2019_11_04_0084.json with settings.\n",
      "  warnings.warn(f\"Could not find the JSON file {settings} with settings.\")\n",
      "WARNING:pyabf.abf:fileGUID isn't truly unique (fileUUID is)\n"
     ]
    },
    {
     "name": "stdout",
     "output_type": "stream",
     "text": [
      "NWB Conversion complete for 2019_11_04_0085.nwb\n",
      "\n",
      "2019_11_04_0084\n"
     ]
    },
    {
     "name": "stderr",
     "output_type": "stream",
     "text": [
      "/Users/derek_howard/triplab/nwb_conversion/x-to-nwb/src/x_to_nwb/ABF2Converter_gain.py:169: UserWarning: Could not find the JSON file data/raw/recordings/Human tissue/Human tissue-White noise_2019/Nov_04_2019/C2_L3/ZD_C2_L3C/Intrinsic Properties_C2_L3C/2019_11_04_0108.json with settings.\n",
      "  warnings.warn(f\"Could not find the JSON file {settings} with settings.\")\n",
      "WARNING:pyabf.abf:fileGUID isn't truly unique (fileUUID is)\n"
     ]
    },
    {
     "name": "stdout",
     "output_type": "stream",
     "text": [
      "NWB Conversion complete for 2019_11_04_0084.nwb\n",
      "\n",
      "2019_11_04_0108\n"
     ]
    },
    {
     "name": "stderr",
     "output_type": "stream",
     "text": [
      "/Users/derek_howard/triplab/nwb_conversion/x-to-nwb/src/x_to_nwb/ABF2Converter_gain.py:169: UserWarning: Could not find the JSON file data/raw/recordings/Human tissue/Human tissue-White noise_2019/Nov_04_2019/C2_L3/ZD_C2_L3C/Intrinsic Properties_C2_L3C/2019_11_04_0097.json with settings.\n",
      "  warnings.warn(f\"Could not find the JSON file {settings} with settings.\")\n",
      "WARNING:pyabf.abf:fileGUID isn't truly unique (fileUUID is)\n"
     ]
    },
    {
     "name": "stdout",
     "output_type": "stream",
     "text": [
      "NWB Conversion complete for 2019_11_04_0108.nwb\n",
      "\n",
      "2019_11_04_0097\n",
      "NWB Conversion complete for 2019_11_04_0097.nwb\n",
      "\n",
      "****************************************************************************************************\n",
      "Error: list index out of range \n",
      " data/raw/recordings/Human tissue/Human tissue-White noise_2019/Nov_04_2019/C2_L3/ZD_C2_L3C/Intrinsic Properties_C2_L3C/2019_11_04_0096.abf \n",
      "\n"
     ]
    },
    {
     "name": "stderr",
     "output_type": "stream",
     "text": [
      "/Users/derek_howard/triplab/nwb_conversion/x-to-nwb/src/x_to_nwb/ABF2Converter_gain.py:169: UserWarning: Could not find the JSON file data/raw/recordings/Human tissue/Human tissue-White noise_2019/Nov_04_2019/C2_L3/ZD_C2_L3C/Intrinsic Properties_C2_L3C/2019_11_04_0100.json with settings.\n",
      "  warnings.warn(f\"Could not find the JSON file {settings} with settings.\")\n",
      "WARNING:pyabf.abf:fileGUID isn't truly unique (fileUUID is)\n"
     ]
    },
    {
     "name": "stdout",
     "output_type": "stream",
     "text": [
      "****************************************************************************************************\n",
      "Error: list index out of range \n",
      " data/raw/recordings/Human tissue/Human tissue-White noise_2019/Nov_04_2019/C2_L3/ZD_C2_L3C/Intrinsic Properties_C2_L3C/2019_11_04_0095.abf \n",
      "\n",
      "2019_11_04_0100\n"
     ]
    },
    {
     "name": "stderr",
     "output_type": "stream",
     "text": [
      "/Users/derek_howard/triplab/nwb_conversion/x-to-nwb/src/x_to_nwb/ABF2Converter_gain.py:169: UserWarning: Could not find the JSON file data/raw/recordings/Human tissue/Human tissue-White noise_2019/Nov_04_2019/C2_L3/ZD_C2_L3C/Intrinsic Properties_C2_L3C/2019_11_04_0098.json with settings.\n",
      "  warnings.warn(f\"Could not find the JSON file {settings} with settings.\")\n",
      "WARNING:pyabf.abf:fileGUID isn't truly unique (fileUUID is)\n"
     ]
    },
    {
     "name": "stdout",
     "output_type": "stream",
     "text": [
      "NWB Conversion complete for 2019_11_04_0100.nwb\n",
      "\n",
      "2019_11_04_0098\n"
     ]
    },
    {
     "name": "stderr",
     "output_type": "stream",
     "text": [
      "/Users/derek_howard/triplab/nwb_conversion/x-to-nwb/src/x_to_nwb/ABF2Converter_gain.py:169: UserWarning: Could not find the JSON file data/raw/recordings/Human tissue/Human tissue-White noise_2019/Nov_04_2019/C2_L3/ZD_C2_L3C/Intrinsic Properties_C2_L3C/2019_11_04_0099.json with settings.\n",
      "  warnings.warn(f\"Could not find the JSON file {settings} with settings.\")\n",
      "WARNING:pyabf.abf:fileGUID isn't truly unique (fileUUID is)\n"
     ]
    },
    {
     "name": "stdout",
     "output_type": "stream",
     "text": [
      "NWB Conversion complete for 2019_11_04_0098.nwb\n",
      "\n",
      "2019_11_04_0099\n"
     ]
    },
    {
     "name": "stderr",
     "output_type": "stream",
     "text": [
      "/Users/derek_howard/triplab/nwb_conversion/x-to-nwb/src/x_to_nwb/ABF2Converter_gain.py:169: UserWarning: Could not find the JSON file data/raw/recordings/Human tissue/Human tissue-White noise_2019/Nov_04_2019/C2_L3/ZD_C2_L3C/Intrinsic Properties_C2_L3C/2019_11_04_0106.json with settings.\n",
      "  warnings.warn(f\"Could not find the JSON file {settings} with settings.\")\n",
      "WARNING:pyabf.abf:fileGUID isn't truly unique (fileUUID is)\n"
     ]
    },
    {
     "name": "stdout",
     "output_type": "stream",
     "text": [
      "NWB Conversion complete for 2019_11_04_0099.nwb\n",
      "\n",
      "2019_11_04_0106\n"
     ]
    },
    {
     "name": "stderr",
     "output_type": "stream",
     "text": [
      "/Users/derek_howard/triplab/nwb_conversion/x-to-nwb/src/x_to_nwb/ABF2Converter_gain.py:169: UserWarning: Could not find the JSON file data/raw/recordings/Human tissue/Human tissue-White noise_2019/Nov_04_2019/C1_L3/Intrinsic Properties_C1_L3C/2019_11_04_0037.json with settings.\n",
      "  warnings.warn(f\"Could not find the JSON file {settings} with settings.\")\n",
      "WARNING:pyabf.abf:fileGUID isn't truly unique (fileUUID is)\n"
     ]
    },
    {
     "name": "stdout",
     "output_type": "stream",
     "text": [
      "NWB Conversion complete for 2019_11_04_0106.nwb\n",
      "\n",
      "****************************************************************************************************\n",
      "Error: list index out of range \n",
      " data/raw/recordings/Human tissue/Human tissue-White noise_2019/Nov_04_2019/C2_L3/ZD_C2_L3C/Intrinsic Properties_C2_L3C/2019_11_04_0112.abf \n",
      "\n",
      "2019_11_04_0037\n"
     ]
    },
    {
     "name": "stderr",
     "output_type": "stream",
     "text": [
      "/Users/derek_howard/triplab/nwb_conversion/x-to-nwb/src/x_to_nwb/ABF2Converter_gain.py:169: UserWarning: Could not find the JSON file data/raw/recordings/Human tissue/Human tissue-White noise_2019/Nov_04_2019/C1_L3/Intrinsic Properties_C1_L3C/2019_11_04_0002.json with settings.\n",
      "  warnings.warn(f\"Could not find the JSON file {settings} with settings.\")\n",
      "WARNING:pyabf.abf:fileGUID isn't truly unique (fileUUID is)\n"
     ]
    },
    {
     "name": "stdout",
     "output_type": "stream",
     "text": [
      "NWB Conversion complete for 2019_11_04_0037.nwb\n",
      "\n",
      "2019_11_04_0002\n"
     ]
    },
    {
     "name": "stderr",
     "output_type": "stream",
     "text": [
      "/Users/derek_howard/triplab/nwb_conversion/x-to-nwb/src/x_to_nwb/ABF2Converter_gain.py:169: UserWarning: Could not find the JSON file data/raw/recordings/Human tissue/Human tissue-White noise_2019/Nov_04_2019/C1_L3/Intrinsic Properties_C1_L3C/2019_11_04_0003.json with settings.\n",
      "  warnings.warn(f\"Could not find the JSON file {settings} with settings.\")\n",
      "WARNING:pyabf.abf:fileGUID isn't truly unique (fileUUID is)\n"
     ]
    },
    {
     "name": "stdout",
     "output_type": "stream",
     "text": [
      "NWB Conversion complete for 2019_11_04_0002.nwb\n",
      "\n",
      "2019_11_04_0003\n"
     ]
    },
    {
     "name": "stderr",
     "output_type": "stream",
     "text": [
      "/Users/derek_howard/triplab/nwb_conversion/x-to-nwb/src/x_to_nwb/ABF2Converter_gain.py:169: UserWarning: Could not find the JSON file data/raw/recordings/Human tissue/Human tissue-White noise_2019/Nov_04_2019/C1_L3/Intrinsic Properties_C1_L3C/2019_11_04_0001.json with settings.\n",
      "  warnings.warn(f\"Could not find the JSON file {settings} with settings.\")\n",
      "WARNING:pyabf.abf:fileGUID isn't truly unique (fileUUID is)\n"
     ]
    },
    {
     "name": "stdout",
     "output_type": "stream",
     "text": [
      "NWB Conversion complete for 2019_11_04_0003.nwb\n",
      "\n",
      "2019_11_04_0001\n"
     ]
    },
    {
     "name": "stderr",
     "output_type": "stream",
     "text": [
      "/Users/derek_howard/triplab/nwb_conversion/x-to-nwb/src/x_to_nwb/ABF2Converter_gain.py:169: UserWarning: Could not find the JSON file data/raw/recordings/Human tissue/Human tissue-White noise_2019/Nov_28_2019/C4_L3C/ZD/Intrinsic Properties_C4_L3C-ZD/2019_11_28_0112.json with settings.\n",
      "  warnings.warn(f\"Could not find the JSON file {settings} with settings.\")\n",
      "WARNING:pyabf.abf:fileGUID isn't truly unique (fileUUID is)\n"
     ]
    },
    {
     "name": "stdout",
     "output_type": "stream",
     "text": [
      "NWB Conversion complete for 2019_11_04_0001.nwb\n",
      "\n",
      "2019_11_28_0112\n"
     ]
    },
    {
     "name": "stderr",
     "output_type": "stream",
     "text": [
      "/Users/derek_howard/triplab/nwb_conversion/x-to-nwb/src/x_to_nwb/ABF2Converter_gain.py:169: UserWarning: Could not find the JSON file data/raw/recordings/Human tissue/Human tissue-White noise_2019/Nov_28_2019/C4_L3C/ZD/Intrinsic Properties_C4_L3C-ZD/2019_11_28_0114.json with settings.\n",
      "  warnings.warn(f\"Could not find the JSON file {settings} with settings.\")\n",
      "WARNING:pyabf.abf:fileGUID isn't truly unique (fileUUID is)\n"
     ]
    },
    {
     "name": "stdout",
     "output_type": "stream",
     "text": [
      "NWB Conversion complete for 2019_11_28_0112.nwb\n",
      "\n",
      "2019_11_28_0114\n"
     ]
    },
    {
     "name": "stderr",
     "output_type": "stream",
     "text": [
      "/Users/derek_howard/triplab/nwb_conversion/x-to-nwb/src/x_to_nwb/ABF2Converter_gain.py:169: UserWarning: Could not find the JSON file data/raw/recordings/Human tissue/Human tissue-White noise_2019/Nov_28_2019/C4_L3C/ZD/Intrinsic Properties_C4_L3C-ZD/2019_11_28_0115.json with settings.\n",
      "  warnings.warn(f\"Could not find the JSON file {settings} with settings.\")\n",
      "WARNING:pyabf.abf:fileGUID isn't truly unique (fileUUID is)\n"
     ]
    },
    {
     "name": "stdout",
     "output_type": "stream",
     "text": [
      "NWB Conversion complete for 2019_11_28_0114.nwb\n",
      "\n",
      "2019_11_28_0115\n"
     ]
    },
    {
     "name": "stderr",
     "output_type": "stream",
     "text": [
      "/Users/derek_howard/triplab/nwb_conversion/x-to-nwb/src/x_to_nwb/ABF2Converter_gain.py:169: UserWarning: Could not find the JSON file data/raw/recordings/Human tissue/Human tissue-White noise_2019/Nov_28_2019/C4_L3C/Intrinsic Properties_C4_L3C/2019_11_28_0111.json with settings.\n",
      "  warnings.warn(f\"Could not find the JSON file {settings} with settings.\")\n",
      "WARNING:pyabf.abf:fileGUID isn't truly unique (fileUUID is)\n"
     ]
    },
    {
     "name": "stdout",
     "output_type": "stream",
     "text": [
      "NWB Conversion complete for 2019_11_28_0115.nwb\n",
      "\n",
      "2019_11_28_0111\n"
     ]
    },
    {
     "name": "stderr",
     "output_type": "stream",
     "text": [
      "/Users/derek_howard/triplab/nwb_conversion/x-to-nwb/src/x_to_nwb/ABF2Converter_gain.py:169: UserWarning: Could not find the JSON file data/raw/recordings/Human tissue/Human tissue-White noise_2019/Nov_28_2019/C4_L3C/Intrinsic Properties_C4_L3C/2019_11_28_0093.json with settings.\n",
      "  warnings.warn(f\"Could not find the JSON file {settings} with settings.\")\n",
      "WARNING:pyabf.abf:fileGUID isn't truly unique (fileUUID is)\n"
     ]
    },
    {
     "name": "stdout",
     "output_type": "stream",
     "text": [
      "NWB Conversion complete for 2019_11_28_0111.nwb\n",
      "\n",
      "2019_11_28_0093\n"
     ]
    },
    {
     "name": "stderr",
     "output_type": "stream",
     "text": [
      "/Users/derek_howard/triplab/nwb_conversion/x-to-nwb/src/x_to_nwb/ABF2Converter_gain.py:169: UserWarning: Could not find the JSON file data/raw/recordings/Human tissue/Human tissue-White noise_2019/Nov_28_2019/C2_L3C/ZD/Intrinsic Properties_C1_L3C-ZD/2019_11_28_0058.json with settings.\n",
      "  warnings.warn(f\"Could not find the JSON file {settings} with settings.\")\n",
      "WARNING:pyabf.abf:fileGUID isn't truly unique (fileUUID is)\n"
     ]
    },
    {
     "name": "stdout",
     "output_type": "stream",
     "text": [
      "NWB Conversion complete for 2019_11_28_0093.nwb\n",
      "\n",
      "2019_11_28_0058\n"
     ]
    },
    {
     "name": "stderr",
     "output_type": "stream",
     "text": [
      "/Users/derek_howard/triplab/nwb_conversion/x-to-nwb/src/x_to_nwb/ABF2Converter_gain.py:169: UserWarning: Could not find the JSON file data/raw/recordings/Human tissue/Human tissue-White noise_2019/Nov_28_2019/C2_L3C/ZD/Intrinsic Properties_C1_L3C-ZD/2019_11_28_0046.json with settings.\n",
      "  warnings.warn(f\"Could not find the JSON file {settings} with settings.\")\n",
      "WARNING:pyabf.abf:fileGUID isn't truly unique (fileUUID is)\n"
     ]
    },
    {
     "name": "stdout",
     "output_type": "stream",
     "text": [
      "NWB Conversion complete for 2019_11_28_0058.nwb\n",
      "\n",
      "2019_11_28_0046\n"
     ]
    },
    {
     "name": "stderr",
     "output_type": "stream",
     "text": [
      "/Users/derek_howard/triplab/nwb_conversion/x-to-nwb/src/x_to_nwb/ABF2Converter_gain.py:169: UserWarning: Could not find the JSON file data/raw/recordings/Human tissue/Human tissue-White noise_2019/Nov_28_2019/C2_L3C/ZD/Intrinsic Properties_C1_L3C-ZD/2019_11_28_0054.json with settings.\n",
      "  warnings.warn(f\"Could not find the JSON file {settings} with settings.\")\n",
      "WARNING:pyabf.abf:fileGUID isn't truly unique (fileUUID is)\n"
     ]
    },
    {
     "name": "stdout",
     "output_type": "stream",
     "text": [
      "NWB Conversion complete for 2019_11_28_0046.nwb\n",
      "\n",
      "2019_11_28_0054\n"
     ]
    },
    {
     "name": "stderr",
     "output_type": "stream",
     "text": [
      "/Users/derek_howard/triplab/nwb_conversion/x-to-nwb/src/x_to_nwb/ABF2Converter_gain.py:169: UserWarning: Could not find the JSON file data/raw/recordings/Human tissue/Human tissue-White noise_2019/Nov_28_2019/C2_L3C/Intrinsic Properties_C2_L3C/2019_11_28_0038.json with settings.\n",
      "  warnings.warn(f\"Could not find the JSON file {settings} with settings.\")\n",
      "WARNING:pyabf.abf:fileGUID isn't truly unique (fileUUID is)\n"
     ]
    },
    {
     "name": "stdout",
     "output_type": "stream",
     "text": [
      "NWB Conversion complete for 2019_11_28_0054.nwb\n",
      "\n",
      "2019_11_28_0038\n"
     ]
    },
    {
     "name": "stderr",
     "output_type": "stream",
     "text": [
      "/Users/derek_howard/triplab/nwb_conversion/x-to-nwb/src/x_to_nwb/ABF2Converter_gain.py:169: UserWarning: Could not find the JSON file data/raw/recordings/Human tissue/Human tissue-White noise_2019/Nov_28_2019/C3_L3C/ZD/Intrinsic Properties_C3_L3C-ZD/2019_11_28_0089.json with settings.\n",
      "  warnings.warn(f\"Could not find the JSON file {settings} with settings.\")\n",
      "WARNING:pyabf.abf:fileGUID isn't truly unique (fileUUID is)\n"
     ]
    },
    {
     "name": "stdout",
     "output_type": "stream",
     "text": [
      "NWB Conversion complete for 2019_11_28_0038.nwb\n",
      "\n",
      "2019_11_28_0089\n"
     ]
    },
    {
     "name": "stderr",
     "output_type": "stream",
     "text": [
      "/Users/derek_howard/triplab/nwb_conversion/x-to-nwb/src/x_to_nwb/ABF2Converter_gain.py:169: UserWarning: Could not find the JSON file data/raw/recordings/Human tissue/Human tissue-White noise_2019/Nov_28_2019/C3_L3C/ZD/Intrinsic Properties_C3_L3C-ZD/2019_11_28_0084.json with settings.\n",
      "  warnings.warn(f\"Could not find the JSON file {settings} with settings.\")\n",
      "WARNING:pyabf.abf:fileGUID isn't truly unique (fileUUID is)\n"
     ]
    },
    {
     "name": "stdout",
     "output_type": "stream",
     "text": [
      "NWB Conversion complete for 2019_11_28_0089.nwb\n",
      "\n",
      "2019_11_28_0084\n"
     ]
    },
    {
     "name": "stderr",
     "output_type": "stream",
     "text": [
      "/Users/derek_howard/triplab/nwb_conversion/x-to-nwb/src/x_to_nwb/ABF2Converter_gain.py:169: UserWarning: Could not find the JSON file data/raw/recordings/Human tissue/Human tissue-White noise_2019/Nov_28_2019/C3_L3C/ZD/Intrinsic Properties_C3_L3C-ZD/2019_11_28_0090.json with settings.\n",
      "  warnings.warn(f\"Could not find the JSON file {settings} with settings.\")\n",
      "WARNING:pyabf.abf:fileGUID isn't truly unique (fileUUID is)\n"
     ]
    },
    {
     "name": "stdout",
     "output_type": "stream",
     "text": [
      "NWB Conversion complete for 2019_11_28_0084.nwb\n",
      "\n",
      "2019_11_28_0090\n"
     ]
    },
    {
     "name": "stderr",
     "output_type": "stream",
     "text": [
      "/Users/derek_howard/triplab/nwb_conversion/x-to-nwb/src/x_to_nwb/ABF2Converter_gain.py:169: UserWarning: Could not find the JSON file data/raw/recordings/Human tissue/Human tissue-White noise_2019/Nov_28_2019/C3_L3C/Intrinsic Properties_C3_L3C/2019_11_28_0079.json with settings.\n",
      "  warnings.warn(f\"Could not find the JSON file {settings} with settings.\")\n",
      "WARNING:pyabf.abf:fileGUID isn't truly unique (fileUUID is)\n"
     ]
    },
    {
     "name": "stdout",
     "output_type": "stream",
     "text": [
      "NWB Conversion complete for 2019_11_28_0090.nwb\n",
      "\n",
      "2019_11_28_0079\n"
     ]
    },
    {
     "name": "stderr",
     "output_type": "stream",
     "text": [
      "/Users/derek_howard/triplab/nwb_conversion/x-to-nwb/src/x_to_nwb/ABF2Converter_gain.py:169: UserWarning: Could not find the JSON file data/raw/recordings/Human tissue/Human tissue-White noise_2019/Nov_28_2019/C1_L3C/ZD/Intrinsic Properties_C1_L3C-ZD/2019_11_28_0029.json with settings.\n",
      "  warnings.warn(f\"Could not find the JSON file {settings} with settings.\")\n",
      "WARNING:pyabf.abf:fileGUID isn't truly unique (fileUUID is)\n"
     ]
    },
    {
     "name": "stdout",
     "output_type": "stream",
     "text": [
      "NWB Conversion complete for 2019_11_28_0079.nwb\n",
      "\n",
      "2019_11_28_0029\n"
     ]
    },
    {
     "name": "stderr",
     "output_type": "stream",
     "text": [
      "/Users/derek_howard/triplab/nwb_conversion/x-to-nwb/src/x_to_nwb/ABF2Converter_gain.py:169: UserWarning: Could not find the JSON file data/raw/recordings/Human tissue/Human tissue-White noise_2019/Nov_28_2019/C1_L3C/ZD/Intrinsic Properties_C1_L3C-ZD/2019_11_28_0016.json with settings.\n",
      "  warnings.warn(f\"Could not find the JSON file {settings} with settings.\")\n",
      "WARNING:pyabf.abf:fileGUID isn't truly unique (fileUUID is)\n"
     ]
    },
    {
     "name": "stdout",
     "output_type": "stream",
     "text": [
      "NWB Conversion complete for 2019_11_28_0029.nwb\n",
      "\n",
      "2019_11_28_0016\n"
     ]
    },
    {
     "name": "stderr",
     "output_type": "stream",
     "text": [
      "/Users/derek_howard/triplab/nwb_conversion/x-to-nwb/src/x_to_nwb/ABF2Converter_gain.py:169: UserWarning: Could not find the JSON file data/raw/recordings/Human tissue/Human tissue-White noise_2019/Nov_28_2019/C1_L3C/ZD/Intrinsic Properties_C1_L3C-ZD/2019_11_28_0022.json with settings.\n",
      "  warnings.warn(f\"Could not find the JSON file {settings} with settings.\")\n",
      "WARNING:pyabf.abf:fileGUID isn't truly unique (fileUUID is)\n"
     ]
    },
    {
     "name": "stdout",
     "output_type": "stream",
     "text": [
      "NWB Conversion complete for 2019_11_28_0016.nwb\n",
      "\n",
      "2019_11_28_0022\n"
     ]
    },
    {
     "name": "stderr",
     "output_type": "stream",
     "text": [
      "/Users/derek_howard/triplab/nwb_conversion/x-to-nwb/src/x_to_nwb/ABF2Converter_gain.py:169: UserWarning: Could not find the JSON file data/raw/recordings/Human tissue/Human tissue-White noise_2019/Nov_28_2019/C1_L3C/Intrinsic Properties_C1_L3C/2019_11_28_0010.json with settings.\n",
      "  warnings.warn(f\"Could not find the JSON file {settings} with settings.\")\n",
      "WARNING:pyabf.abf:fileGUID isn't truly unique (fileUUID is)\n"
     ]
    },
    {
     "name": "stdout",
     "output_type": "stream",
     "text": [
      "NWB Conversion complete for 2019_11_28_0022.nwb\n",
      "\n",
      "2019_11_28_0010\n"
     ]
    },
    {
     "name": "stderr",
     "output_type": "stream",
     "text": [
      "/Users/derek_howard/triplab/nwb_conversion/x-to-nwb/src/x_to_nwb/ABF2Converter_gain.py:169: UserWarning: Could not find the JSON file data/raw/recordings/Human tissue/Human tissue-White noise_2019/Nov_28_2019/C5_L5/ZD/Intrinsic Properties_C5_L5_ZD/2019_11_28_0127.json with settings.\n",
      "  warnings.warn(f\"Could not find the JSON file {settings} with settings.\")\n",
      "WARNING:pyabf.abf:fileGUID isn't truly unique (fileUUID is)\n"
     ]
    },
    {
     "name": "stdout",
     "output_type": "stream",
     "text": [
      "NWB Conversion complete for 2019_11_28_0010.nwb\n",
      "\n",
      "2019_11_28_0127\n"
     ]
    },
    {
     "name": "stderr",
     "output_type": "stream",
     "text": [
      "/Users/derek_howard/triplab/nwb_conversion/x-to-nwb/src/x_to_nwb/ABF2Converter_gain.py:169: UserWarning: Could not find the JSON file data/raw/recordings/Human tissue/Human tissue-White noise_2019/Nov_28_2019/C5_L5/ZD/Intrinsic Properties_C5_L5_ZD/2019_11_28_0126.json with settings.\n",
      "  warnings.warn(f\"Could not find the JSON file {settings} with settings.\")\n",
      "WARNING:pyabf.abf:fileGUID isn't truly unique (fileUUID is)\n"
     ]
    },
    {
     "name": "stdout",
     "output_type": "stream",
     "text": [
      "NWB Conversion complete for 2019_11_28_0127.nwb\n",
      "\n",
      "2019_11_28_0126\n"
     ]
    },
    {
     "name": "stderr",
     "output_type": "stream",
     "text": [
      "/Users/derek_howard/triplab/nwb_conversion/x-to-nwb/src/x_to_nwb/ABF2Converter_gain.py:169: UserWarning: Could not find the JSON file data/raw/recordings/Human tissue/Human tissue-White noise_2019/Nov_28_2019/C5_L5/ZD/Intrinsic Properties_C5_L5_ZD/2019_11_28_0132.json with settings.\n",
      "  warnings.warn(f\"Could not find the JSON file {settings} with settings.\")\n",
      "WARNING:pyabf.abf:fileGUID isn't truly unique (fileUUID is)\n"
     ]
    },
    {
     "name": "stdout",
     "output_type": "stream",
     "text": [
      "NWB Conversion complete for 2019_11_28_0126.nwb\n",
      "\n",
      "2019_11_28_0132\n"
     ]
    },
    {
     "name": "stderr",
     "output_type": "stream",
     "text": [
      "/Users/derek_howard/triplab/nwb_conversion/x-to-nwb/src/x_to_nwb/ABF2Converter_gain.py:169: UserWarning: Could not find the JSON file data/raw/recordings/Human tissue/Human tissue-White noise_2019/Nov_28_2019/C5_L5/Intrinsic Properties_C5_L5/2019_11_28_0119.json with settings.\n",
      "  warnings.warn(f\"Could not find the JSON file {settings} with settings.\")\n",
      "WARNING:pyabf.abf:fileGUID isn't truly unique (fileUUID is)\n"
     ]
    },
    {
     "name": "stdout",
     "output_type": "stream",
     "text": [
      "NWB Conversion complete for 2019_11_28_0132.nwb\n",
      "\n",
      "2019_11_28_0119\n"
     ]
    },
    {
     "name": "stderr",
     "output_type": "stream",
     "text": [
      "/Users/derek_howard/triplab/nwb_conversion/x-to-nwb/src/x_to_nwb/ABF2Converter_gain.py:169: UserWarning: Could not find the JSON file data/raw/recordings/Human tissue/Human tissue-White noise_2019/Nov_28_2019/C1_L3C+1/Intrinsic Properties_C1_L3C+1/2019_11_28_0033.json with settings.\n",
      "  warnings.warn(f\"Could not find the JSON file {settings} with settings.\")\n",
      "WARNING:pyabf.abf:fileGUID isn't truly unique (fileUUID is)\n"
     ]
    },
    {
     "name": "stdout",
     "output_type": "stream",
     "text": [
      "NWB Conversion complete for 2019_11_28_0119.nwb\n",
      "\n",
      "2019_11_28_0033\n"
     ]
    },
    {
     "name": "stderr",
     "output_type": "stream",
     "text": [
      "/Users/derek_howard/triplab/nwb_conversion/x-to-nwb/src/x_to_nwb/ABF2Converter_gain.py:169: UserWarning: Could not find the JSON file data/raw/recordings/Human tissue/Human tissue-White noise_2019/Nov_28_2019/C1_L3C+1/Intrinsic Properties_C1_L3C+1/2019_11_28_0032.json with settings.\n",
      "  warnings.warn(f\"Could not find the JSON file {settings} with settings.\")\n",
      "WARNING:pyabf.abf:fileGUID isn't truly unique (fileUUID is)\n"
     ]
    },
    {
     "name": "stdout",
     "output_type": "stream",
     "text": [
      "NWB Conversion complete for 2019_11_28_0033.nwb\n",
      "\n",
      "2019_11_28_0032\n"
     ]
    },
    {
     "name": "stderr",
     "output_type": "stream",
     "text": [
      "/Users/derek_howard/triplab/nwb_conversion/x-to-nwb/src/x_to_nwb/ABF2Converter_gain.py:169: UserWarning: Could not find the JSON file data/raw/recordings/Human tissue/Human tissue-White noise_2019/Sep_03-2019/C3_L2/Intrinsic Properties_C3_L2/2019_09_03_0039.json with settings.\n",
      "  warnings.warn(f\"Could not find the JSON file {settings} with settings.\")\n",
      "WARNING:pyabf.abf:fileGUID isn't truly unique (fileUUID is)\n",
      "/Users/derek_howard/triplab/nwb_conversion/x-to-nwb/src/x_to_nwb/ABF2Converter_gain.py:526: UserWarning: Could not find settings for amplifier unknown of channel Vm_primary.\n",
      "  warnings.warn(f\"Could not find settings for amplifier {amplifier} of channel {adcName}.\")\n",
      "/Users/derek_howard/triplab/nwb_conversion/x-to-nwb/src/x_to_nwb/ABF2Converter_gain.py:169: UserWarning: Could not find the JSON file data/raw/recordings/Human tissue/Human tissue-White noise_2019/Sep_03-2019/C3_L2/Intrinsic Properties_C3_L2/2019_09_03_0040.json with settings.\n",
      "  warnings.warn(f\"Could not find the JSON file {settings} with settings.\")\n",
      "WARNING:pyabf.abf:fileGUID isn't truly unique (fileUUID is)\n"
     ]
    },
    {
     "name": "stdout",
     "output_type": "stream",
     "text": [
      "NWB Conversion complete for 2019_11_28_0032.nwb\n",
      "\n",
      "2019_09_03_0039\n",
      "****************************************************************************************************\n",
      "Error: IZeroClampSeries.__init__: unrecognized argument: 'bias_current', unrecognized argument: 'bridge_balance', unrecognized argument: 'capacitance_compensation' \n",
      " data/raw/recordings/Human tissue/Human tissue-White noise_2019/Sep_03-2019/C3_L2/Intrinsic Properties_C3_L2/2019_09_03_0039.abf \n",
      "\n",
      "2019_09_03_0040\n"
     ]
    },
    {
     "name": "stderr",
     "output_type": "stream",
     "text": [
      "/Users/derek_howard/triplab/nwb_conversion/x-to-nwb/src/x_to_nwb/ABF2Converter_gain.py:169: UserWarning: Could not find the JSON file data/raw/recordings/Human tissue/Human tissue-White noise_2019/Sep_03-2019/C3_L2/Intrinsic Properties_C3_L2/2019_09_03_0041.json with settings.\n",
      "  warnings.warn(f\"Could not find the JSON file {settings} with settings.\")\n",
      "WARNING:pyabf.abf:fileGUID isn't truly unique (fileUUID is)\n",
      "/Users/derek_howard/triplab/nwb_conversion/x-to-nwb/src/x_to_nwb/ABF2Converter_gain.py:169: UserWarning: Could not find the JSON file data/raw/recordings/Human tissue/Human tissue-White noise_2019/Sep_03-2019/C3_L2/Intrinsic Properties_C3_L2/2019_09_03_0042.json with settings.\n",
      "  warnings.warn(f\"Could not find the JSON file {settings} with settings.\")\n",
      "WARNING:pyabf.abf:fileGUID isn't truly unique (fileUUID is)\n"
     ]
    },
    {
     "name": "stdout",
     "output_type": "stream",
     "text": [
      "****************************************************************************************************\n",
      "Error: IZeroClampSeries.__init__: unrecognized argument: 'bias_current', unrecognized argument: 'bridge_balance', unrecognized argument: 'capacitance_compensation' \n",
      " data/raw/recordings/Human tissue/Human tissue-White noise_2019/Sep_03-2019/C3_L2/Intrinsic Properties_C3_L2/2019_09_03_0040.abf \n",
      "\n",
      "2019_09_03_0041\n",
      "****************************************************************************************************\n",
      "Error: IZeroClampSeries.__init__: unrecognized argument: 'bias_current', unrecognized argument: 'bridge_balance', unrecognized argument: 'capacitance_compensation' \n",
      " data/raw/recordings/Human tissue/Human tissue-White noise_2019/Sep_03-2019/C3_L2/Intrinsic Properties_C3_L2/2019_09_03_0041.abf \n",
      "\n",
      "2019_09_03_0042\n"
     ]
    },
    {
     "name": "stderr",
     "output_type": "stream",
     "text": [
      "/Users/derek_howard/triplab/nwb_conversion/x-to-nwb/src/x_to_nwb/ABF2Converter_gain.py:169: UserWarning: Could not find the JSON file data/raw/recordings/Human tissue/Human tissue-White noise_2019/Sep_03-2019/C3_L2/Intrinsic Properties_C3_L2/2019_09_03_0031.json with settings.\n",
      "  warnings.warn(f\"Could not find the JSON file {settings} with settings.\")\n",
      "WARNING:pyabf.abf:fileGUID isn't truly unique (fileUUID is)\n",
      "/Users/derek_howard/triplab/nwb_conversion/x-to-nwb/src/x_to_nwb/ABF2Converter_gain.py:169: UserWarning: Could not find the JSON file data/raw/recordings/Human tissue/Human tissue-White noise_2019/Sep_03-2019/C3_L2/Intrinsic Properties_C3_L2/2019_09_03_0032.json with settings.\n",
      "  warnings.warn(f\"Could not find the JSON file {settings} with settings.\")\n",
      "WARNING:pyabf.abf:fileGUID isn't truly unique (fileUUID is)\n"
     ]
    },
    {
     "name": "stdout",
     "output_type": "stream",
     "text": [
      "****************************************************************************************************\n",
      "Error: IZeroClampSeries.__init__: unrecognized argument: 'bias_current', unrecognized argument: 'bridge_balance', unrecognized argument: 'capacitance_compensation' \n",
      " data/raw/recordings/Human tissue/Human tissue-White noise_2019/Sep_03-2019/C3_L2/Intrinsic Properties_C3_L2/2019_09_03_0042.abf \n",
      "\n",
      "2019_09_03_0031\n",
      "****************************************************************************************************\n",
      "Error: IZeroClampSeries.__init__: unrecognized argument: 'bias_current', unrecognized argument: 'bridge_balance', unrecognized argument: 'capacitance_compensation' \n",
      " data/raw/recordings/Human tissue/Human tissue-White noise_2019/Sep_03-2019/C3_L2/Intrinsic Properties_C3_L2/2019_09_03_0031.abf \n",
      "\n",
      "2019_09_03_0032\n"
     ]
    },
    {
     "name": "stderr",
     "output_type": "stream",
     "text": [
      "/Users/derek_howard/triplab/nwb_conversion/x-to-nwb/src/x_to_nwb/ABF2Converter_gain.py:169: UserWarning: Could not find the JSON file data/raw/recordings/Human tissue/Human tissue-White noise_2019/Sep_03-2019/C3_L2/Intrinsic Properties_C3_L2/2019_09_03_0033.json with settings.\n",
      "  warnings.warn(f\"Could not find the JSON file {settings} with settings.\")\n",
      "WARNING:pyabf.abf:fileGUID isn't truly unique (fileUUID is)\n"
     ]
    },
    {
     "name": "stdout",
     "output_type": "stream",
     "text": [
      "****************************************************************************************************\n",
      "Error: IZeroClampSeries.__init__: unrecognized argument: 'bias_current', unrecognized argument: 'bridge_balance', unrecognized argument: 'capacitance_compensation' \n",
      " data/raw/recordings/Human tissue/Human tissue-White noise_2019/Sep_03-2019/C3_L2/Intrinsic Properties_C3_L2/2019_09_03_0032.abf \n",
      "\n",
      "2019_09_03_0033\n",
      "****************************************************************************************************\n",
      "Error: IZeroClampSeries.__init__: unrecognized argument: 'bias_current', unrecognized argument: 'bridge_balance', unrecognized argument: 'capacitance_compensation' \n",
      " data/raw/recordings/Human tissue/Human tissue-White noise_2019/Sep_03-2019/C3_L2/Intrinsic Properties_C3_L2/2019_09_03_0033.abf \n",
      "\n",
      "2019_09_03_0037\n"
     ]
    },
    {
     "name": "stderr",
     "output_type": "stream",
     "text": [
      "/Users/derek_howard/triplab/nwb_conversion/x-to-nwb/src/x_to_nwb/ABF2Converter_gain.py:169: UserWarning: Could not find the JSON file data/raw/recordings/Human tissue/Human tissue-White noise_2019/Sep_03-2019/C3_L2/Intrinsic Properties_C3_L2/2019_09_03_0037.json with settings.\n",
      "  warnings.warn(f\"Could not find the JSON file {settings} with settings.\")\n",
      "WARNING:pyabf.abf:fileGUID isn't truly unique (fileUUID is)\n",
      "/Users/derek_howard/triplab/nwb_conversion/x-to-nwb/src/x_to_nwb/ABF2Converter_gain.py:169: UserWarning: Could not find the JSON file data/raw/recordings/Human tissue/Human tissue-White noise_2019/Sep_03-2019/C3_L2/Intrinsic Properties_C3_L2/2019_09_03_0036.json with settings.\n",
      "  warnings.warn(f\"Could not find the JSON file {settings} with settings.\")\n",
      "WARNING:pyabf.abf:fileGUID isn't truly unique (fileUUID is)\n",
      "/Users/derek_howard/triplab/nwb_conversion/x-to-nwb/src/x_to_nwb/ABF2Converter_gain.py:169: UserWarning: Could not find the JSON file data/raw/recordings/Human tissue/Human tissue-White noise_2019/Sep_03-2019/C3_L2/Intrinsic Properties_C3_L2/2019_09_03_0034.json with settings.\n",
      "  warnings.warn(f\"Could not find the JSON file {settings} with settings.\")\n",
      "WARNING:pyabf.abf:fileGUID isn't truly unique (fileUUID is)\n"
     ]
    },
    {
     "name": "stdout",
     "output_type": "stream",
     "text": [
      "****************************************************************************************************\n",
      "Error: IZeroClampSeries.__init__: unrecognized argument: 'bias_current', unrecognized argument: 'bridge_balance', unrecognized argument: 'capacitance_compensation' \n",
      " data/raw/recordings/Human tissue/Human tissue-White noise_2019/Sep_03-2019/C3_L2/Intrinsic Properties_C3_L2/2019_09_03_0037.abf \n",
      "\n",
      "2019_09_03_0036\n",
      "****************************************************************************************************\n",
      "Error: IZeroClampSeries.__init__: unrecognized argument: 'bias_current', unrecognized argument: 'bridge_balance', unrecognized argument: 'capacitance_compensation' \n",
      " data/raw/recordings/Human tissue/Human tissue-White noise_2019/Sep_03-2019/C3_L2/Intrinsic Properties_C3_L2/2019_09_03_0036.abf \n",
      "\n",
      "2019_09_03_0034\n"
     ]
    },
    {
     "name": "stderr",
     "output_type": "stream",
     "text": [
      "/Users/derek_howard/triplab/nwb_conversion/x-to-nwb/src/x_to_nwb/ABF2Converter_gain.py:169: UserWarning: Could not find the JSON file data/raw/recordings/Human tissue/Human tissue-White noise_2019/Sep_03-2019/C9_L2/Intrinsic Properties_C9_L2/2019_09_03_0089.json with settings.\n",
      "  warnings.warn(f\"Could not find the JSON file {settings} with settings.\")\n",
      "WARNING:pyabf.abf:fileGUID isn't truly unique (fileUUID is)\n"
     ]
    },
    {
     "name": "stdout",
     "output_type": "stream",
     "text": [
      "NWB Conversion complete for 2019_09_03_0034.nwb\n",
      "\n",
      "2019_09_03_0089\n",
      "****************************************************************************************************\n",
      "Error: IZeroClampSeries.__init__: unrecognized argument: 'bias_current', unrecognized argument: 'bridge_balance', unrecognized argument: 'capacitance_compensation' \n",
      " data/raw/recordings/Human tissue/Human tissue-White noise_2019/Sep_03-2019/C9_L2/Intrinsic Properties_C9_L2/2019_09_03_0089.abf \n",
      "\n"
     ]
    },
    {
     "name": "stderr",
     "output_type": "stream",
     "text": [
      "/Users/derek_howard/triplab/nwb_conversion/x-to-nwb/src/x_to_nwb/ABF2Converter_gain.py:169: UserWarning: Could not find the JSON file data/raw/recordings/Human tissue/Human tissue-White noise_2019/Sep_03-2019/C9_L2/Intrinsic Properties_C9_L2/2019_09_03_0088.json with settings.\n",
      "  warnings.warn(f\"Could not find the JSON file {settings} with settings.\")\n",
      "WARNING:pyabf.abf:fileGUID isn't truly unique (fileUUID is)\n",
      "/Users/derek_howard/triplab/nwb_conversion/x-to-nwb/src/x_to_nwb/ABF2Converter_gain.py:169: UserWarning: Could not find the JSON file data/raw/recordings/Human tissue/Human tissue-White noise_2019/Sep_03-2019/C9_L2/Intrinsic Properties_C9_L2/2019_09_03_0085.json with settings.\n",
      "  warnings.warn(f\"Could not find the JSON file {settings} with settings.\")\n",
      "WARNING:pyabf.abf:fileGUID isn't truly unique (fileUUID is)\n"
     ]
    },
    {
     "name": "stdout",
     "output_type": "stream",
     "text": [
      "2019_09_03_0088\n",
      "****************************************************************************************************\n",
      "Error: IZeroClampSeries.__init__: unrecognized argument: 'bias_current', unrecognized argument: 'bridge_balance', unrecognized argument: 'capacitance_compensation' \n",
      " data/raw/recordings/Human tissue/Human tissue-White noise_2019/Sep_03-2019/C9_L2/Intrinsic Properties_C9_L2/2019_09_03_0088.abf \n",
      "\n",
      "2019_09_03_0085\n"
     ]
    },
    {
     "name": "stderr",
     "output_type": "stream",
     "text": [
      "/Users/derek_howard/triplab/nwb_conversion/x-to-nwb/src/x_to_nwb/ABF2Converter_gain.py:169: UserWarning: Could not find the JSON file data/raw/recordings/Human tissue/Human tissue-White noise_2019/Sep_03-2019/C9_L2/Intrinsic Properties_C9_L2/2019_09_03_0084.json with settings.\n",
      "  warnings.warn(f\"Could not find the JSON file {settings} with settings.\")\n",
      "WARNING:pyabf.abf:fileGUID isn't truly unique (fileUUID is)\n",
      "/Users/derek_howard/triplab/nwb_conversion/x-to-nwb/src/x_to_nwb/ABF2Converter_gain.py:169: UserWarning: Could not find the JSON file data/raw/recordings/Human tissue/Human tissue-White noise_2019/Sep_03-2019/C9_L2/Intrinsic Properties_C9_L2/2019_09_03_0086.json with settings.\n",
      "  warnings.warn(f\"Could not find the JSON file {settings} with settings.\")\n",
      "WARNING:pyabf.abf:fileGUID isn't truly unique (fileUUID is)\n"
     ]
    },
    {
     "name": "stdout",
     "output_type": "stream",
     "text": [
      "****************************************************************************************************\n",
      "Error: IZeroClampSeries.__init__: unrecognized argument: 'bias_current', unrecognized argument: 'bridge_balance', unrecognized argument: 'capacitance_compensation' \n",
      " data/raw/recordings/Human tissue/Human tissue-White noise_2019/Sep_03-2019/C9_L2/Intrinsic Properties_C9_L2/2019_09_03_0085.abf \n",
      "\n",
      "2019_09_03_0084\n",
      "****************************************************************************************************\n",
      "Error: IZeroClampSeries.__init__: unrecognized argument: 'bias_current', unrecognized argument: 'bridge_balance', unrecognized argument: 'capacitance_compensation' \n",
      " data/raw/recordings/Human tissue/Human tissue-White noise_2019/Sep_03-2019/C9_L2/Intrinsic Properties_C9_L2/2019_09_03_0084.abf \n",
      "\n",
      "2019_09_03_0086\n"
     ]
    },
    {
     "name": "stderr",
     "output_type": "stream",
     "text": [
      "/Users/derek_howard/triplab/nwb_conversion/x-to-nwb/src/x_to_nwb/ABF2Converter_gain.py:169: UserWarning: Could not find the JSON file data/raw/recordings/Human tissue/Human tissue-White noise_2019/Sep_03-2019/C9_L2/Intrinsic Properties_C9_L2/2019_09_03_0087.json with settings.\n",
      "  warnings.warn(f\"Could not find the JSON file {settings} with settings.\")\n",
      "WARNING:pyabf.abf:fileGUID isn't truly unique (fileUUID is)\n"
     ]
    },
    {
     "name": "stdout",
     "output_type": "stream",
     "text": [
      "****************************************************************************************************\n",
      "Error: IZeroClampSeries.__init__: unrecognized argument: 'bias_current', unrecognized argument: 'bridge_balance', unrecognized argument: 'capacitance_compensation' \n",
      " data/raw/recordings/Human tissue/Human tissue-White noise_2019/Sep_03-2019/C9_L2/Intrinsic Properties_C9_L2/2019_09_03_0086.abf \n",
      "\n",
      "2019_09_03_0087\n",
      "****************************************************************************************************\n",
      "Error: IZeroClampSeries.__init__: unrecognized argument: 'bias_current', unrecognized argument: 'bridge_balance', unrecognized argument: 'capacitance_compensation' \n",
      " data/raw/recordings/Human tissue/Human tissue-White noise_2019/Sep_03-2019/C9_L2/Intrinsic Properties_C9_L2/2019_09_03_0087.abf \n",
      "\n",
      "2019_09_03_0079\n"
     ]
    },
    {
     "name": "stderr",
     "output_type": "stream",
     "text": [
      "/Users/derek_howard/triplab/nwb_conversion/x-to-nwb/src/x_to_nwb/ABF2Converter_gain.py:169: UserWarning: Could not find the JSON file data/raw/recordings/Human tissue/Human tissue-White noise_2019/Sep_03-2019/C8_L2/Intrinsic Properties_C8_L2/2019_09_03_0079.json with settings.\n",
      "  warnings.warn(f\"Could not find the JSON file {settings} with settings.\")\n",
      "WARNING:pyabf.abf:fileGUID isn't truly unique (fileUUID is)\n",
      "/Users/derek_howard/triplab/nwb_conversion/x-to-nwb/src/x_to_nwb/ABF2Converter_gain.py:169: UserWarning: Could not find the JSON file data/raw/recordings/Human tissue/Human tissue-White noise_2019/Sep_03-2019/C8_L2/Intrinsic Properties_C8_L2/2019_09_03_0080.json with settings.\n",
      "  warnings.warn(f\"Could not find the JSON file {settings} with settings.\")\n",
      "WARNING:pyabf.abf:fileGUID isn't truly unique (fileUUID is)\n"
     ]
    },
    {
     "name": "stdout",
     "output_type": "stream",
     "text": [
      "****************************************************************************************************\n",
      "Error: IZeroClampSeries.__init__: unrecognized argument: 'bias_current', unrecognized argument: 'bridge_balance', unrecognized argument: 'capacitance_compensation' \n",
      " data/raw/recordings/Human tissue/Human tissue-White noise_2019/Sep_03-2019/C8_L2/Intrinsic Properties_C8_L2/2019_09_03_0079.abf \n",
      "\n",
      "2019_09_03_0080\n",
      "****************************************************************************************************\n",
      "Error: IZeroClampSeries.__init__: unrecognized argument: 'bias_current', unrecognized argument: 'bridge_balance', unrecognized argument: 'capacitance_compensation' \n",
      " data/raw/recordings/Human tissue/Human tissue-White noise_2019/Sep_03-2019/C8_L2/Intrinsic Properties_C8_L2/2019_09_03_0080.abf \n",
      "\n",
      "2019_09_03_0081\n"
     ]
    },
    {
     "name": "stderr",
     "output_type": "stream",
     "text": [
      "/Users/derek_howard/triplab/nwb_conversion/x-to-nwb/src/x_to_nwb/ABF2Converter_gain.py:169: UserWarning: Could not find the JSON file data/raw/recordings/Human tissue/Human tissue-White noise_2019/Sep_03-2019/C8_L2/Intrinsic Properties_C8_L2/2019_09_03_0081.json with settings.\n",
      "  warnings.warn(f\"Could not find the JSON file {settings} with settings.\")\n",
      "WARNING:pyabf.abf:fileGUID isn't truly unique (fileUUID is)\n",
      "/Users/derek_howard/triplab/nwb_conversion/x-to-nwb/src/x_to_nwb/ABF2Converter_gain.py:495: UserWarning: Could not find the scale factor for the stimset None, using 1.0 as fallback.\n",
      "  warnings.warn(\n",
      "/Users/derek_howard/triplab/nwb_conversion/x-to-nwb/src/x_to_nwb/ABF2Converter_gain.py:169: UserWarning: Could not find the JSON file data/raw/recordings/Human tissue/Human tissue-White noise_2019/Sep_03-2019/C1_L2/Intrinsic Properties_C1_L2/2019_09_03_0011.json with settings.\n",
      "  warnings.warn(f\"Could not find the JSON file {settings} with settings.\")\n",
      "WARNING:pyabf.abf:fileGUID isn't truly unique (fileUUID is)\n",
      "/Users/derek_howard/triplab/nwb_conversion/x-to-nwb/src/x_to_nwb/ABF2Converter_gain.py:169: UserWarning: Could not find the JSON file data/raw/recordings/Human tissue/Human tissue-White noise_2019/Sep_03-2019/C1_L2/Intrinsic Properties_C1_L2/2019_09_03_0007.json with settings.\n",
      "  warnings.warn(f\"Could not find the JSON file {settings} with settings.\")\n",
      "WARNING:pyabf.abf:fileGUID isn't truly unique (fileUUID is)\n"
     ]
    },
    {
     "name": "stdout",
     "output_type": "stream",
     "text": [
      "****************************************************************************************************\n",
      "Error: IZeroClampSeries.__init__: unrecognized argument: 'bias_current', unrecognized argument: 'bridge_balance', unrecognized argument: 'capacitance_compensation' \n",
      " data/raw/recordings/Human tissue/Human tissue-White noise_2019/Sep_03-2019/C8_L2/Intrinsic Properties_C8_L2/2019_09_03_0081.abf \n",
      "\n",
      "2019_09_03_0011\n",
      "****************************************************************************************************\n",
      "Error: IZeroClampSeries.__init__: unrecognized argument: 'bias_current', unrecognized argument: 'bridge_balance', unrecognized argument: 'capacitance_compensation' \n",
      " data/raw/recordings/Human tissue/Human tissue-White noise_2019/Sep_03-2019/C1_L2/Intrinsic Properties_C1_L2/2019_09_03_0011.abf \n",
      "\n",
      "2019_09_03_0007\n"
     ]
    },
    {
     "name": "stderr",
     "output_type": "stream",
     "text": [
      "/Users/derek_howard/triplab/nwb_conversion/x-to-nwb/src/x_to_nwb/ABF2Converter_gain.py:169: UserWarning: Could not find the JSON file data/raw/recordings/Human tissue/Human tissue-White noise_2019/Sep_03-2019/C1_L2/Intrinsic Properties_C1_L2/2019_09_03_0013.json with settings.\n",
      "  warnings.warn(f\"Could not find the JSON file {settings} with settings.\")\n",
      "WARNING:pyabf.abf:fileGUID isn't truly unique (fileUUID is)\n",
      "/Users/derek_howard/triplab/nwb_conversion/x-to-nwb/src/x_to_nwb/ABF2Converter_gain.py:169: UserWarning: Could not find the JSON file data/raw/recordings/Human tissue/Human tissue-White noise_2019/Sep_03-2019/C1_L2/Intrinsic Properties_C1_L2/2019_09_03_0012.json with settings.\n",
      "  warnings.warn(f\"Could not find the JSON file {settings} with settings.\")\n",
      "WARNING:pyabf.abf:fileGUID isn't truly unique (fileUUID is)\n"
     ]
    },
    {
     "name": "stdout",
     "output_type": "stream",
     "text": [
      "****************************************************************************************************\n",
      "Error: IZeroClampSeries.__init__: unrecognized argument: 'bias_current', unrecognized argument: 'bridge_balance', unrecognized argument: 'capacitance_compensation' \n",
      " data/raw/recordings/Human tissue/Human tissue-White noise_2019/Sep_03-2019/C1_L2/Intrinsic Properties_C1_L2/2019_09_03_0007.abf \n",
      "\n",
      "2019_09_03_0013\n",
      "****************************************************************************************************\n",
      "Error: IZeroClampSeries.__init__: unrecognized argument: 'bias_current', unrecognized argument: 'bridge_balance', unrecognized argument: 'capacitance_compensation' \n",
      " data/raw/recordings/Human tissue/Human tissue-White noise_2019/Sep_03-2019/C1_L2/Intrinsic Properties_C1_L2/2019_09_03_0013.abf \n",
      "\n",
      "2019_09_03_0012\n"
     ]
    },
    {
     "name": "stderr",
     "output_type": "stream",
     "text": [
      "/Users/derek_howard/triplab/nwb_conversion/x-to-nwb/src/x_to_nwb/ABF2Converter_gain.py:169: UserWarning: Could not find the JSON file data/raw/recordings/Human tissue/Human tissue-White noise_2019/Sep_03-2019/C1_L2/Intrinsic Properties_C1_L2/2019_09_03_0017.json with settings.\n",
      "  warnings.warn(f\"Could not find the JSON file {settings} with settings.\")\n",
      "WARNING:pyabf.abf:fileGUID isn't truly unique (fileUUID is)\n",
      "/Users/derek_howard/triplab/nwb_conversion/x-to-nwb/src/x_to_nwb/ABF2Converter_gain.py:169: UserWarning: Could not find the JSON file data/raw/recordings/Human tissue/Human tissue-White noise_2019/Sep_03-2019/C1_L2/Intrinsic Properties_C1_L2/2019_09_03_0015.json with settings.\n",
      "  warnings.warn(f\"Could not find the JSON file {settings} with settings.\")\n",
      "WARNING:pyabf.abf:fileGUID isn't truly unique (fileUUID is)\n"
     ]
    },
    {
     "name": "stdout",
     "output_type": "stream",
     "text": [
      "****************************************************************************************************\n",
      "Error: IZeroClampSeries.__init__: unrecognized argument: 'bias_current', unrecognized argument: 'bridge_balance', unrecognized argument: 'capacitance_compensation' \n",
      " data/raw/recordings/Human tissue/Human tissue-White noise_2019/Sep_03-2019/C1_L2/Intrinsic Properties_C1_L2/2019_09_03_0012.abf \n",
      "\n",
      "2019_09_03_0017\n",
      "****************************************************************************************************\n",
      "Error: IZeroClampSeries.__init__: unrecognized argument: 'bias_current', unrecognized argument: 'bridge_balance', unrecognized argument: 'capacitance_compensation' \n",
      " data/raw/recordings/Human tissue/Human tissue-White noise_2019/Sep_03-2019/C1_L2/Intrinsic Properties_C1_L2/2019_09_03_0017.abf \n",
      "\n",
      "2019_09_03_0015\n"
     ]
    },
    {
     "name": "stderr",
     "output_type": "stream",
     "text": [
      "/Users/derek_howard/triplab/nwb_conversion/x-to-nwb/src/x_to_nwb/ABF2Converter_gain.py:169: UserWarning: Could not find the JSON file data/raw/recordings/Human tissue/Human tissue-White noise_2019/Sep_03-2019/C1_L2/Intrinsic Properties_C1_L2/2019_09_03_0014.json with settings.\n",
      "  warnings.warn(f\"Could not find the JSON file {settings} with settings.\")\n",
      "WARNING:pyabf.abf:fileGUID isn't truly unique (fileUUID is)\n"
     ]
    },
    {
     "name": "stdout",
     "output_type": "stream",
     "text": [
      "****************************************************************************************************\n",
      "Error: IZeroClampSeries.__init__: unrecognized argument: 'bias_current', unrecognized argument: 'bridge_balance', unrecognized argument: 'capacitance_compensation' \n",
      " data/raw/recordings/Human tissue/Human tissue-White noise_2019/Sep_03-2019/C1_L2/Intrinsic Properties_C1_L2/2019_09_03_0015.abf \n",
      "\n",
      "2019_09_03_0014\n"
     ]
    },
    {
     "name": "stderr",
     "output_type": "stream",
     "text": [
      "/Users/derek_howard/triplab/nwb_conversion/x-to-nwb/src/x_to_nwb/ABF2Converter_gain.py:169: UserWarning: Could not find the JSON file data/raw/recordings/Human tissue/Human tissue-White noise_2019/Sep_03-2019/C1_L2/Intrinsic Properties_C1_L2/2019_09_03_0023.json with settings.\n",
      "  warnings.warn(f\"Could not find the JSON file {settings} with settings.\")\n",
      "WARNING:pyabf.abf:fileGUID isn't truly unique (fileUUID is)\n",
      "/Users/derek_howard/triplab/nwb_conversion/x-to-nwb/src/x_to_nwb/ABF2Converter_gain.py:169: UserWarning: Could not find the JSON file data/raw/recordings/Human tissue/Human tissue-White noise_2019/Sep_03-2019/C1_L2/Intrinsic Properties_C1_L2/2019_09_03_0020.json with settings.\n",
      "  warnings.warn(f\"Could not find the JSON file {settings} with settings.\")\n",
      "WARNING:pyabf.abf:fileGUID isn't truly unique (fileUUID is)\n"
     ]
    },
    {
     "name": "stdout",
     "output_type": "stream",
     "text": [
      "****************************************************************************************************\n",
      "Error: IZeroClampSeries.__init__: unrecognized argument: 'bias_current', unrecognized argument: 'bridge_balance', unrecognized argument: 'capacitance_compensation' \n",
      " data/raw/recordings/Human tissue/Human tissue-White noise_2019/Sep_03-2019/C1_L2/Intrinsic Properties_C1_L2/2019_09_03_0014.abf \n",
      "\n",
      "2019_09_03_0023\n",
      "****************************************************************************************************\n",
      "Error: IZeroClampSeries.__init__: unrecognized argument: 'bias_current', unrecognized argument: 'bridge_balance', unrecognized argument: 'capacitance_compensation' \n",
      " data/raw/recordings/Human tissue/Human tissue-White noise_2019/Sep_03-2019/C1_L2/Intrinsic Properties_C1_L2/2019_09_03_0023.abf \n",
      "\n",
      "2019_09_03_0020\n"
     ]
    },
    {
     "name": "stderr",
     "output_type": "stream",
     "text": [
      "/Users/derek_howard/triplab/nwb_conversion/x-to-nwb/src/x_to_nwb/ABF2Converter_gain.py:169: UserWarning: Could not find the JSON file data/raw/recordings/Human tissue/Human tissue-White noise_2019/Sep_03-2019/C1_L2/Intrinsic Properties_C1_L2/2019_09_03_0008.json with settings.\n",
      "  warnings.warn(f\"Could not find the JSON file {settings} with settings.\")\n",
      "WARNING:pyabf.abf:fileGUID isn't truly unique (fileUUID is)\n",
      "/Users/derek_howard/triplab/nwb_conversion/x-to-nwb/src/x_to_nwb/ABF2Converter_gain.py:169: UserWarning: Could not find the JSON file data/raw/recordings/Human tissue/Human tissue-White noise_2019/Sep_03-2019/C4_L5/Intrinsic Properties_C4_L5/2019_09_03_0046.json with settings.\n",
      "  warnings.warn(f\"Could not find the JSON file {settings} with settings.\")\n",
      "WARNING:pyabf.abf:fileGUID isn't truly unique (fileUUID is)\n"
     ]
    },
    {
     "name": "stdout",
     "output_type": "stream",
     "text": [
      "NWB Conversion complete for 2019_09_03_0020.nwb\n",
      "\n",
      "2019_09_03_0008\n",
      "****************************************************************************************************\n",
      "Error: IZeroClampSeries.__init__: unrecognized argument: 'bias_current', unrecognized argument: 'bridge_balance', unrecognized argument: 'capacitance_compensation' \n",
      " data/raw/recordings/Human tissue/Human tissue-White noise_2019/Sep_03-2019/C1_L2/Intrinsic Properties_C1_L2/2019_09_03_0008.abf \n",
      "\n",
      "2019_09_03_0046\n"
     ]
    },
    {
     "name": "stderr",
     "output_type": "stream",
     "text": [
      "/Users/derek_howard/triplab/nwb_conversion/x-to-nwb/src/x_to_nwb/ABF2Converter_gain.py:169: UserWarning: Could not find the JSON file data/raw/recordings/Human tissue/Human tissue-White noise_2019/Sep_03-2019/C4_L5/Intrinsic Properties_C4_L5/2019_09_03_0045.json with settings.\n",
      "  warnings.warn(f\"Could not find the JSON file {settings} with settings.\")\n",
      "WARNING:pyabf.abf:fileGUID isn't truly unique (fileUUID is)\n",
      "/Users/derek_howard/triplab/nwb_conversion/x-to-nwb/src/x_to_nwb/ABF2Converter_gain.py:169: UserWarning: Could not find the JSON file data/raw/recordings/Human tissue/Human tissue-White noise_2019/Sep_03-2019/C4_L5/Intrinsic Properties_C4_L5/2019_09_03_0044.json with settings.\n",
      "  warnings.warn(f\"Could not find the JSON file {settings} with settings.\")\n",
      "WARNING:pyabf.abf:fileGUID isn't truly unique (fileUUID is)\n"
     ]
    },
    {
     "name": "stdout",
     "output_type": "stream",
     "text": [
      "****************************************************************************************************\n",
      "Error: IZeroClampSeries.__init__: unrecognized argument: 'bias_current', unrecognized argument: 'bridge_balance', unrecognized argument: 'capacitance_compensation' \n",
      " data/raw/recordings/Human tissue/Human tissue-White noise_2019/Sep_03-2019/C4_L5/Intrinsic Properties_C4_L5/2019_09_03_0046.abf \n",
      "\n",
      "2019_09_03_0045\n",
      "****************************************************************************************************\n",
      "Error: IZeroClampSeries.__init__: unrecognized argument: 'bias_current', unrecognized argument: 'bridge_balance', unrecognized argument: 'capacitance_compensation' \n",
      " data/raw/recordings/Human tissue/Human tissue-White noise_2019/Sep_03-2019/C4_L5/Intrinsic Properties_C4_L5/2019_09_03_0045.abf \n",
      "\n",
      "2019_09_03_0044\n"
     ]
    },
    {
     "name": "stderr",
     "output_type": "stream",
     "text": [
      "/Users/derek_howard/triplab/nwb_conversion/x-to-nwb/src/x_to_nwb/ABF2Converter_gain.py:169: UserWarning: Could not find the JSON file data/raw/recordings/Human tissue/Human tissue-White noise_2019/Sep_03-2019/C4_L5/Intrinsic Properties_C4_L5/2019_09_03_0043.json with settings.\n",
      "  warnings.warn(f\"Could not find the JSON file {settings} with settings.\")\n",
      "WARNING:pyabf.abf:fileGUID isn't truly unique (fileUUID is)\n",
      "/Users/derek_howard/triplab/nwb_conversion/x-to-nwb/src/x_to_nwb/ABF2Converter_gain.py:169: UserWarning: Could not find the JSON file data/raw/recordings/Human tissue/Human tissue-White noise_2019/October_10_2019_Epileptogenic zone/C3_L5/Intrinsic Properties_C3_L5/19o10032.json with settings.\n",
      "  warnings.warn(f\"Could not find the JSON file {settings} with settings.\")\n",
      "WARNING:pyabf.abf:fileGUID isn't truly unique (fileUUID is)\n"
     ]
    },
    {
     "name": "stdout",
     "output_type": "stream",
     "text": [
      "****************************************************************************************************\n",
      "Error: IZeroClampSeries.__init__: unrecognized argument: 'bias_current', unrecognized argument: 'bridge_balance', unrecognized argument: 'capacitance_compensation' \n",
      " data/raw/recordings/Human tissue/Human tissue-White noise_2019/Sep_03-2019/C4_L5/Intrinsic Properties_C4_L5/2019_09_03_0044.abf \n",
      "\n",
      "2019_09_03_0043\n",
      "****************************************************************************************************\n",
      "Error: IZeroClampSeries.__init__: unrecognized argument: 'bias_current', unrecognized argument: 'bridge_balance', unrecognized argument: 'capacitance_compensation' \n",
      " data/raw/recordings/Human tissue/Human tissue-White noise_2019/Sep_03-2019/C4_L5/Intrinsic Properties_C4_L5/2019_09_03_0043.abf \n",
      "\n",
      "19o10032\n"
     ]
    },
    {
     "name": "stderr",
     "output_type": "stream",
     "text": [
      "/Users/derek_howard/triplab/nwb_conversion/x-to-nwb/src/x_to_nwb/ABF2Converter_gain.py:169: UserWarning: Could not find the JSON file data/raw/recordings/Human tissue/Human tissue-White noise_2019/October_10_2019_Epileptogenic zone/C3_L5/Intrinsic Properties_C3_L5/19o10033.json with settings.\n",
      "  warnings.warn(f\"Could not find the JSON file {settings} with settings.\")\n",
      "WARNING:pyabf.abf:fileGUID isn't truly unique (fileUUID is)\n"
     ]
    },
    {
     "name": "stdout",
     "output_type": "stream",
     "text": [
      "NWB Conversion complete for 19o10032.nwb\n",
      "\n",
      "19o10033\n"
     ]
    },
    {
     "name": "stderr",
     "output_type": "stream",
     "text": [
      "/Users/derek_howard/triplab/nwb_conversion/x-to-nwb/src/x_to_nwb/ABF2Converter_gain.py:169: UserWarning: Could not find the JSON file data/raw/recordings/Human tissue/Human tissue-White noise_2019/October_10_2019_Epileptogenic zone/C3_L5/Intrinsic Properties_C3_L5/19o10031.json with settings.\n",
      "  warnings.warn(f\"Could not find the JSON file {settings} with settings.\")\n",
      "WARNING:pyabf.abf:fileGUID isn't truly unique (fileUUID is)\n"
     ]
    },
    {
     "name": "stdout",
     "output_type": "stream",
     "text": [
      "NWB Conversion complete for 19o10033.nwb\n",
      "\n",
      "19o10031\n"
     ]
    },
    {
     "name": "stderr",
     "output_type": "stream",
     "text": [
      "/Users/derek_howard/triplab/nwb_conversion/x-to-nwb/src/x_to_nwb/ABF2Converter_gain.py:169: UserWarning: Could not find the JSON file data/raw/recordings/Human tissue/Human tissue-White noise_2019/October_10_2019_Epileptogenic zone/C3_L5/Intrinsic Properties_C3_L5/19o10030.json with settings.\n",
      "  warnings.warn(f\"Could not find the JSON file {settings} with settings.\")\n",
      "WARNING:pyabf.abf:fileGUID isn't truly unique (fileUUID is)\n"
     ]
    },
    {
     "name": "stdout",
     "output_type": "stream",
     "text": [
      "NWB Conversion complete for 19o10031.nwb\n",
      "\n",
      "19o10030\n"
     ]
    },
    {
     "name": "stderr",
     "output_type": "stream",
     "text": [
      "/Users/derek_howard/triplab/nwb_conversion/x-to-nwb/src/x_to_nwb/ABF2Converter_gain.py:169: UserWarning: Could not find the JSON file data/raw/recordings/Human tissue/Human tissue-White noise_2019/October_10_2019_Epileptogenic zone/C3_L5/Intrinsic Properties_C3_L5/19o10029.json with settings.\n",
      "  warnings.warn(f\"Could not find the JSON file {settings} with settings.\")\n",
      "WARNING:pyabf.abf:fileGUID isn't truly unique (fileUUID is)\n"
     ]
    },
    {
     "name": "stdout",
     "output_type": "stream",
     "text": [
      "NWB Conversion complete for 19o10030.nwb\n",
      "\n",
      "19o10029\n"
     ]
    },
    {
     "name": "stderr",
     "output_type": "stream",
     "text": [
      "/Users/derek_howard/triplab/nwb_conversion/x-to-nwb/src/x_to_nwb/ABF2Converter_gain.py:169: UserWarning: Could not find the JSON file data/raw/recordings/Human tissue/Human tissue-White noise_2019/October_10_2019_Epileptogenic zone/C6_L2/Intrinsic Properties_C6_L2/19o10064.json with settings.\n",
      "  warnings.warn(f\"Could not find the JSON file {settings} with settings.\")\n",
      "WARNING:pyabf.abf:fileGUID isn't truly unique (fileUUID is)\n"
     ]
    },
    {
     "name": "stdout",
     "output_type": "stream",
     "text": [
      "NWB Conversion complete for 19o10029.nwb\n",
      "\n",
      "19o10064\n"
     ]
    },
    {
     "name": "stderr",
     "output_type": "stream",
     "text": [
      "/Users/derek_howard/triplab/nwb_conversion/x-to-nwb/src/x_to_nwb/ABF2Converter_gain.py:169: UserWarning: Could not find the JSON file data/raw/recordings/Human tissue/Human tissue-White noise_2019/October_10_2019_Epileptogenic zone/C6_L2/Intrinsic Properties_C6_L2/19o10065.json with settings.\n",
      "  warnings.warn(f\"Could not find the JSON file {settings} with settings.\")\n",
      "WARNING:pyabf.abf:fileGUID isn't truly unique (fileUUID is)\n"
     ]
    },
    {
     "name": "stdout",
     "output_type": "stream",
     "text": [
      "NWB Conversion complete for 19o10064.nwb\n",
      "\n",
      "19o10065\n"
     ]
    },
    {
     "name": "stderr",
     "output_type": "stream",
     "text": [
      "/Users/derek_howard/triplab/nwb_conversion/x-to-nwb/src/x_to_nwb/ABF2Converter_gain.py:169: UserWarning: Could not find the JSON file data/raw/recordings/Human tissue/Human tissue-White noise_2019/October_10_2019_Epileptogenic zone/C6_L2/Intrinsic Properties_C6_L2/19o10062.json with settings.\n",
      "  warnings.warn(f\"Could not find the JSON file {settings} with settings.\")\n",
      "WARNING:pyabf.abf:fileGUID isn't truly unique (fileUUID is)\n"
     ]
    },
    {
     "name": "stdout",
     "output_type": "stream",
     "text": [
      "NWB Conversion complete for 19o10065.nwb\n",
      "\n",
      "19o10062\n"
     ]
    },
    {
     "name": "stderr",
     "output_type": "stream",
     "text": [
      "/Users/derek_howard/triplab/nwb_conversion/x-to-nwb/src/x_to_nwb/ABF2Converter_gain.py:169: UserWarning: Could not find the JSON file data/raw/recordings/Human tissue/Human tissue-White noise_2019/October_10_2019_Epileptogenic zone/C6_L2/Intrinsic Properties_C6_L2/19o10063.json with settings.\n",
      "  warnings.warn(f\"Could not find the JSON file {settings} with settings.\")\n",
      "WARNING:pyabf.abf:fileGUID isn't truly unique (fileUUID is)\n"
     ]
    },
    {
     "name": "stdout",
     "output_type": "stream",
     "text": [
      "NWB Conversion complete for 19o10062.nwb\n",
      "\n",
      "19o10063\n"
     ]
    },
    {
     "name": "stderr",
     "output_type": "stream",
     "text": [
      "/Users/derek_howard/triplab/nwb_conversion/x-to-nwb/src/x_to_nwb/ABF2Converter_gain.py:169: UserWarning: Could not find the JSON file data/raw/recordings/Human tissue/Human tissue-White noise_2019/October_10_2019_Epileptogenic zone/C6_L2/Intrinsic Properties_C6_L2/19o10061.json with settings.\n",
      "  warnings.warn(f\"Could not find the JSON file {settings} with settings.\")\n",
      "WARNING:pyabf.abf:fileGUID isn't truly unique (fileUUID is)\n"
     ]
    },
    {
     "name": "stdout",
     "output_type": "stream",
     "text": [
      "NWB Conversion complete for 19o10063.nwb\n",
      "\n",
      "19o10061\n"
     ]
    },
    {
     "name": "stderr",
     "output_type": "stream",
     "text": [
      "/Users/derek_howard/triplab/nwb_conversion/x-to-nwb/src/x_to_nwb/ABF2Converter_gain.py:169: UserWarning: Could not find the JSON file data/raw/recordings/Human tissue/Human tissue-White noise_2019/October_10_2019_Epileptogenic zone/C6_L2/Intrinsic Properties_C6_L2/19o10060.json with settings.\n",
      "  warnings.warn(f\"Could not find the JSON file {settings} with settings.\")\n",
      "WARNING:pyabf.abf:fileGUID isn't truly unique (fileUUID is)\n"
     ]
    },
    {
     "name": "stdout",
     "output_type": "stream",
     "text": [
      "NWB Conversion complete for 19o10061.nwb\n",
      "\n",
      "19o10060\n"
     ]
    },
    {
     "name": "stderr",
     "output_type": "stream",
     "text": [
      "/Users/derek_howard/triplab/nwb_conversion/x-to-nwb/src/x_to_nwb/ABF2Converter_gain.py:169: UserWarning: Could not find the JSON file data/raw/recordings/Human tissue/Human tissue-White noise_2019/October_10_2019_Epileptogenic zone/C2_L5/Intrinsic Properties_C2_L5/19o10013.json with settings.\n",
      "  warnings.warn(f\"Could not find the JSON file {settings} with settings.\")\n",
      "WARNING:pyabf.abf:fileGUID isn't truly unique (fileUUID is)\n"
     ]
    },
    {
     "name": "stdout",
     "output_type": "stream",
     "text": [
      "NWB Conversion complete for 19o10060.nwb\n",
      "\n",
      "19o10013\n"
     ]
    },
    {
     "name": "stderr",
     "output_type": "stream",
     "text": [
      "/Users/derek_howard/triplab/nwb_conversion/x-to-nwb/src/x_to_nwb/ABF2Converter_gain.py:169: UserWarning: Could not find the JSON file data/raw/recordings/Human tissue/Human tissue-White noise_2019/October_10_2019_Epileptogenic zone/C2_L5/Intrinsic Properties_C2_L5/19o10015.json with settings.\n",
      "  warnings.warn(f\"Could not find the JSON file {settings} with settings.\")\n",
      "WARNING:pyabf.abf:fileGUID isn't truly unique (fileUUID is)\n"
     ]
    },
    {
     "name": "stdout",
     "output_type": "stream",
     "text": [
      "NWB Conversion complete for 19o10013.nwb\n",
      "\n",
      "19o10015\n"
     ]
    },
    {
     "name": "stderr",
     "output_type": "stream",
     "text": [
      "/Users/derek_howard/triplab/nwb_conversion/x-to-nwb/src/x_to_nwb/ABF2Converter_gain.py:169: UserWarning: Could not find the JSON file data/raw/recordings/Human tissue/Human tissue-White noise_2019/October_10_2019_Epileptogenic zone/C5_L5/Intrinsic Properties_C5_L5/19o10053.json with settings.\n",
      "  warnings.warn(f\"Could not find the JSON file {settings} with settings.\")\n",
      "WARNING:pyabf.abf:fileGUID isn't truly unique (fileUUID is)\n"
     ]
    },
    {
     "name": "stdout",
     "output_type": "stream",
     "text": [
      "NWB Conversion complete for 19o10015.nwb\n",
      "\n",
      "19o10053\n"
     ]
    },
    {
     "name": "stderr",
     "output_type": "stream",
     "text": [
      "/Users/derek_howard/triplab/nwb_conversion/x-to-nwb/src/x_to_nwb/ABF2Converter_gain.py:169: UserWarning: Could not find the JSON file data/raw/recordings/Human tissue/Human tissue-White noise_2019/October_10_2019_Epileptogenic zone/C5_L5/Intrinsic Properties_C5_L5/19o10056.json with settings.\n",
      "  warnings.warn(f\"Could not find the JSON file {settings} with settings.\")\n",
      "WARNING:pyabf.abf:fileGUID isn't truly unique (fileUUID is)\n"
     ]
    },
    {
     "name": "stdout",
     "output_type": "stream",
     "text": [
      "NWB Conversion complete for 19o10053.nwb\n",
      "\n",
      "19o10056\n"
     ]
    },
    {
     "name": "stderr",
     "output_type": "stream",
     "text": [
      "/Users/derek_howard/triplab/nwb_conversion/x-to-nwb/src/x_to_nwb/ABF2Converter_gain.py:169: UserWarning: Could not find the JSON file data/raw/recordings/Human tissue/Human tissue-White noise_2019/October_10_2019_Epileptogenic zone/C5_L5/Intrinsic Properties_C5_L5/19o10054.json with settings.\n",
      "  warnings.warn(f\"Could not find the JSON file {settings} with settings.\")\n",
      "WARNING:pyabf.abf:fileGUID isn't truly unique (fileUUID is)\n"
     ]
    },
    {
     "name": "stdout",
     "output_type": "stream",
     "text": [
      "NWB Conversion complete for 19o10056.nwb\n",
      "\n",
      "19o10054\n"
     ]
    },
    {
     "name": "stderr",
     "output_type": "stream",
     "text": [
      "/Users/derek_howard/triplab/nwb_conversion/x-to-nwb/src/x_to_nwb/ABF2Converter_gain.py:169: UserWarning: Could not find the JSON file data/raw/recordings/Human tissue/Human tissue-White noise_2019/October_10_2019_Epileptogenic zone/C5_L5/Intrinsic Properties_C5_L5/19o10055.json with settings.\n",
      "  warnings.warn(f\"Could not find the JSON file {settings} with settings.\")\n",
      "WARNING:pyabf.abf:fileGUID isn't truly unique (fileUUID is)\n"
     ]
    },
    {
     "name": "stdout",
     "output_type": "stream",
     "text": [
      "NWB Conversion complete for 19o10054.nwb\n",
      "\n",
      "19o10055\n"
     ]
    },
    {
     "name": "stderr",
     "output_type": "stream",
     "text": [
      "/Users/derek_howard/triplab/nwb_conversion/x-to-nwb/src/x_to_nwb/ABF2Converter_gain.py:169: UserWarning: Could not find the JSON file data/raw/recordings/Human tissue/Human tissue-White noise_2019/October_10_2019_Epileptogenic zone/C1_L5/Intrinsic Properties_C1_L5/19o10012.json with settings.\n",
      "  warnings.warn(f\"Could not find the JSON file {settings} with settings.\")\n",
      "WARNING:pyabf.abf:fileGUID isn't truly unique (fileUUID is)\n"
     ]
    },
    {
     "name": "stdout",
     "output_type": "stream",
     "text": [
      "NWB Conversion complete for 19o10055.nwb\n",
      "\n",
      "19o10012\n"
     ]
    },
    {
     "name": "stderr",
     "output_type": "stream",
     "text": [
      "/Users/derek_howard/triplab/nwb_conversion/x-to-nwb/src/x_to_nwb/ABF2Converter_gain.py:169: UserWarning: Could not find the JSON file data/raw/recordings/Human tissue/Human tissue-White noise_2019/October_10_2019_Epileptogenic zone/C1_L5/Intrinsic Properties_C1_L5/19o10010.json with settings.\n",
      "  warnings.warn(f\"Could not find the JSON file {settings} with settings.\")\n",
      "WARNING:pyabf.abf:fileGUID isn't truly unique (fileUUID is)\n"
     ]
    },
    {
     "name": "stdout",
     "output_type": "stream",
     "text": [
      "NWB Conversion complete for 19o10012.nwb\n",
      "\n",
      "19o10010\n"
     ]
    },
    {
     "name": "stderr",
     "output_type": "stream",
     "text": [
      "/Users/derek_howard/triplab/nwb_conversion/x-to-nwb/src/x_to_nwb/ABF2Converter_gain.py:169: UserWarning: Could not find the JSON file data/raw/recordings/Human tissue/Human tissue-White noise_2019/October_10_2019_Epileptogenic zone/C1_L5/Intrinsic Properties_C1_L5/19o10011.json with settings.\n",
      "  warnings.warn(f\"Could not find the JSON file {settings} with settings.\")\n",
      "WARNING:pyabf.abf:fileGUID isn't truly unique (fileUUID is)\n"
     ]
    },
    {
     "name": "stdout",
     "output_type": "stream",
     "text": [
      "NWB Conversion complete for 19o10010.nwb\n",
      "\n",
      "19o10011\n"
     ]
    },
    {
     "name": "stderr",
     "output_type": "stream",
     "text": [
      "/Users/derek_howard/triplab/nwb_conversion/x-to-nwb/src/x_to_nwb/ABF2Converter_gain.py:169: UserWarning: Could not find the JSON file data/raw/recordings/Human tissue/Human tissue-White noise_2019/October_10_2019_Epileptogenic zone/C1_L5/Intrinsic Properties_C1_L5/19o10001.json with settings.\n",
      "  warnings.warn(f\"Could not find the JSON file {settings} with settings.\")\n",
      "WARNING:pyabf.abf:fileGUID isn't truly unique (fileUUID is)\n"
     ]
    },
    {
     "name": "stdout",
     "output_type": "stream",
     "text": [
      "NWB Conversion complete for 19o10011.nwb\n",
      "\n",
      "19o10001\n"
     ]
    },
    {
     "name": "stderr",
     "output_type": "stream",
     "text": [
      "/Users/derek_howard/triplab/nwb_conversion/x-to-nwb/src/x_to_nwb/ABF2Converter_gain.py:169: UserWarning: Could not find the JSON file data/raw/recordings/Human tissue/Human tissue-White noise_2019/October_10_2019_Epileptogenic zone/C1_L5/Intrinsic Properties_C1_L5/19o10000.json with settings.\n",
      "  warnings.warn(f\"Could not find the JSON file {settings} with settings.\")\n",
      "WARNING:pyabf.abf:fileGUID isn't truly unique (fileUUID is)\n"
     ]
    },
    {
     "name": "stdout",
     "output_type": "stream",
     "text": [
      "NWB Conversion complete for 19o10001.nwb\n",
      "\n",
      "19o10000\n"
     ]
    },
    {
     "name": "stderr",
     "output_type": "stream",
     "text": [
      "/Users/derek_howard/triplab/nwb_conversion/x-to-nwb/src/x_to_nwb/ABF2Converter_gain.py:169: UserWarning: Could not find the JSON file data/raw/recordings/Human tissue/Human tissue-White noise_2019/October_10_2019_Epileptogenic zone/C1_L5/Intrinsic Properties_C1_L5/19o10003.json with settings.\n",
      "  warnings.warn(f\"Could not find the JSON file {settings} with settings.\")\n",
      "WARNING:pyabf.abf:fileGUID isn't truly unique (fileUUID is)\n"
     ]
    },
    {
     "name": "stdout",
     "output_type": "stream",
     "text": [
      "NWB Conversion complete for 19o10000.nwb\n",
      "\n",
      "19o10003\n"
     ]
    },
    {
     "name": "stderr",
     "output_type": "stream",
     "text": [
      "/Users/derek_howard/triplab/nwb_conversion/x-to-nwb/src/x_to_nwb/ABF2Converter_gain.py:169: UserWarning: Could not find the JSON file data/raw/recordings/Human tissue/Human tissue-White noise_2019/October_10_2019_Epileptogenic zone/C4_L5/Intrinsic Properties_C4_L5/19o10045.json with settings.\n",
      "  warnings.warn(f\"Could not find the JSON file {settings} with settings.\")\n",
      "WARNING:pyabf.abf:fileGUID isn't truly unique (fileUUID is)\n"
     ]
    },
    {
     "name": "stdout",
     "output_type": "stream",
     "text": [
      "NWB Conversion complete for 19o10003.nwb\n",
      "\n",
      "19o10045\n"
     ]
    },
    {
     "name": "stderr",
     "output_type": "stream",
     "text": [
      "/Users/derek_howard/triplab/nwb_conversion/x-to-nwb/src/x_to_nwb/ABF2Converter_gain.py:169: UserWarning: Could not find the JSON file data/raw/recordings/Human tissue/Human tissue-White noise_2019/October_10_2019_Epileptogenic zone/C4_L5/Intrinsic Properties_C4_L5/19o10046.json with settings.\n",
      "  warnings.warn(f\"Could not find the JSON file {settings} with settings.\")\n",
      "WARNING:pyabf.abf:fileGUID isn't truly unique (fileUUID is)\n"
     ]
    },
    {
     "name": "stdout",
     "output_type": "stream",
     "text": [
      "NWB Conversion complete for 19o10045.nwb\n",
      "\n",
      "19o10046\n"
     ]
    },
    {
     "name": "stderr",
     "output_type": "stream",
     "text": [
      "/Users/derek_howard/triplab/nwb_conversion/x-to-nwb/src/x_to_nwb/ABF2Converter_gain.py:169: UserWarning: Could not find the JSON file data/raw/recordings/Human tissue/Human tissue-White noise_2019/October_10_2019_Epileptogenic zone/C4_L5/Intrinsic Properties_C4_L5/19o10047.json with settings.\n",
      "  warnings.warn(f\"Could not find the JSON file {settings} with settings.\")\n",
      "WARNING:pyabf.abf:fileGUID isn't truly unique (fileUUID is)\n"
     ]
    },
    {
     "name": "stdout",
     "output_type": "stream",
     "text": [
      "NWB Conversion complete for 19o10046.nwb\n",
      "\n",
      "19o10047\n"
     ]
    },
    {
     "name": "stderr",
     "output_type": "stream",
     "text": [
      "/Users/derek_howard/triplab/nwb_conversion/x-to-nwb/src/x_to_nwb/ABF2Converter_gain.py:169: UserWarning: Could not find the JSON file data/raw/recordings/Human tissue/Human tissue-White noise_2019/October_10_2019_Epileptogenic zone/C4_L5/Intrinsic Properties_C4_L5/19o10043.json with settings.\n",
      "  warnings.warn(f\"Could not find the JSON file {settings} with settings.\")\n",
      "WARNING:pyabf.abf:fileGUID isn't truly unique (fileUUID is)\n"
     ]
    },
    {
     "name": "stdout",
     "output_type": "stream",
     "text": [
      "NWB Conversion complete for 19o10047.nwb\n",
      "\n",
      "19o10043\n"
     ]
    },
    {
     "name": "stderr",
     "output_type": "stream",
     "text": [
      "/Users/derek_howard/triplab/nwb_conversion/x-to-nwb/src/x_to_nwb/ABF2Converter_gain.py:169: UserWarning: Could not find the JSON file data/raw/recordings/Human tissue/Human tissue-White noise_2019/October_10_2019_Epileptogenic zone/C4_L5/Intrinsic Properties_C4_L5/19o10048.json with settings.\n",
      "  warnings.warn(f\"Could not find the JSON file {settings} with settings.\")\n",
      "WARNING:pyabf.abf:fileGUID isn't truly unique (fileUUID is)\n"
     ]
    },
    {
     "name": "stdout",
     "output_type": "stream",
     "text": [
      "NWB Conversion complete for 19o10043.nwb\n",
      "\n",
      "19o10048\n",
      "NWB Conversion complete for 19o10048.nwb\n",
      "\n"
     ]
    }
   ],
   "source": [
    "errors = []\n",
    "\n",
    "for i, file_info in v2_file_info.iterrows():\n",
    "    abf = pyabf.ABF(file_info.path)\n",
    "    try:\n",
    "        stim_chan = abf.dacNames[1]\n",
    "        resp_chan = abf.adcNames[0]\n",
    "        \n",
    "        file_stem = Path(file_info.path).stem\n",
    "        print(file_stem)\n",
    "        output_path = output_dir / f'{file_stem}.nwb'\n",
    "        #nwb = ABF2Converter.ABF2Converter(file_info.path, output_path, includeChannelList=[resp_chan], stimulus_name=stim_chan)\n",
    "        nwb = ABF2Converter_gain.ABF2Converter(file_info.path, str(output_path), includeChannelList=[resp_chan], stimulus_name=stim_chan)\n",
    "        print(\"NWB Conversion complete for \" + file_stem +'.nwb\\n')\n",
    "        \n",
    "    except (ValueError, IndexError, TypeError) as e:\n",
    "        print('**'*50)\n",
    "        print(f'Error: {e} \\n {file_info.path} \\n')\n",
    "        errors.append((e, file_info.path))"
   ]
  },
  {
   "cell_type": "code",
   "execution_count": 83,
   "id": "0c6d2dac",
   "metadata": {},
   "outputs": [],
   "source": [
    "error_df = pd.DataFrame(errors)"
   ]
  },
  {
   "cell_type": "code",
   "execution_count": 84,
   "id": "2934e03f",
   "metadata": {
    "scrolled": true
   },
   "outputs": [
    {
     "data": {
      "text/html": [
       "<div>\n",
       "<style scoped>\n",
       "    .dataframe tbody tr th:only-of-type {\n",
       "        vertical-align: middle;\n",
       "    }\n",
       "\n",
       "    .dataframe tbody tr th {\n",
       "        vertical-align: top;\n",
       "    }\n",
       "\n",
       "    .dataframe thead th {\n",
       "        text-align: right;\n",
       "    }\n",
       "</style>\n",
       "<table border=\"1\" class=\"dataframe\">\n",
       "  <thead>\n",
       "    <tr style=\"text-align: right;\">\n",
       "      <th></th>\n",
       "      <th>0</th>\n",
       "      <th>1</th>\n",
       "    </tr>\n",
       "  </thead>\n",
       "  <tbody>\n",
       "    <tr>\n",
       "      <th>0</th>\n",
       "      <td>Found at least one 'Not a Number' entry in sti...</td>\n",
       "      <td>data/raw/recordings/Human tissue/Human tissue-...</td>\n",
       "    </tr>\n",
       "    <tr>\n",
       "      <th>1</th>\n",
       "      <td>list index out of range</td>\n",
       "      <td>data/raw/recordings/Human tissue/Human tissue-...</td>\n",
       "    </tr>\n",
       "    <tr>\n",
       "      <th>2</th>\n",
       "      <td>list index out of range</td>\n",
       "      <td>data/raw/recordings/Human tissue/Human tissue-...</td>\n",
       "    </tr>\n",
       "    <tr>\n",
       "      <th>3</th>\n",
       "      <td>list index out of range</td>\n",
       "      <td>data/raw/recordings/Human tissue/Human tissue-...</td>\n",
       "    </tr>\n",
       "    <tr>\n",
       "      <th>4</th>\n",
       "      <td>IZeroClampSeries.__init__: unrecognized argume...</td>\n",
       "      <td>data/raw/recordings/Human tissue/Human tissue-...</td>\n",
       "    </tr>\n",
       "    <tr>\n",
       "      <th>5</th>\n",
       "      <td>IZeroClampSeries.__init__: unrecognized argume...</td>\n",
       "      <td>data/raw/recordings/Human tissue/Human tissue-...</td>\n",
       "    </tr>\n",
       "    <tr>\n",
       "      <th>6</th>\n",
       "      <td>IZeroClampSeries.__init__: unrecognized argume...</td>\n",
       "      <td>data/raw/recordings/Human tissue/Human tissue-...</td>\n",
       "    </tr>\n",
       "    <tr>\n",
       "      <th>7</th>\n",
       "      <td>IZeroClampSeries.__init__: unrecognized argume...</td>\n",
       "      <td>data/raw/recordings/Human tissue/Human tissue-...</td>\n",
       "    </tr>\n",
       "    <tr>\n",
       "      <th>8</th>\n",
       "      <td>IZeroClampSeries.__init__: unrecognized argume...</td>\n",
       "      <td>data/raw/recordings/Human tissue/Human tissue-...</td>\n",
       "    </tr>\n",
       "    <tr>\n",
       "      <th>9</th>\n",
       "      <td>IZeroClampSeries.__init__: unrecognized argume...</td>\n",
       "      <td>data/raw/recordings/Human tissue/Human tissue-...</td>\n",
       "    </tr>\n",
       "    <tr>\n",
       "      <th>10</th>\n",
       "      <td>IZeroClampSeries.__init__: unrecognized argume...</td>\n",
       "      <td>data/raw/recordings/Human tissue/Human tissue-...</td>\n",
       "    </tr>\n",
       "    <tr>\n",
       "      <th>11</th>\n",
       "      <td>IZeroClampSeries.__init__: unrecognized argume...</td>\n",
       "      <td>data/raw/recordings/Human tissue/Human tissue-...</td>\n",
       "    </tr>\n",
       "    <tr>\n",
       "      <th>12</th>\n",
       "      <td>IZeroClampSeries.__init__: unrecognized argume...</td>\n",
       "      <td>data/raw/recordings/Human tissue/Human tissue-...</td>\n",
       "    </tr>\n",
       "    <tr>\n",
       "      <th>13</th>\n",
       "      <td>IZeroClampSeries.__init__: unrecognized argume...</td>\n",
       "      <td>data/raw/recordings/Human tissue/Human tissue-...</td>\n",
       "    </tr>\n",
       "    <tr>\n",
       "      <th>14</th>\n",
       "      <td>IZeroClampSeries.__init__: unrecognized argume...</td>\n",
       "      <td>data/raw/recordings/Human tissue/Human tissue-...</td>\n",
       "    </tr>\n",
       "    <tr>\n",
       "      <th>15</th>\n",
       "      <td>IZeroClampSeries.__init__: unrecognized argume...</td>\n",
       "      <td>data/raw/recordings/Human tissue/Human tissue-...</td>\n",
       "    </tr>\n",
       "    <tr>\n",
       "      <th>16</th>\n",
       "      <td>IZeroClampSeries.__init__: unrecognized argume...</td>\n",
       "      <td>data/raw/recordings/Human tissue/Human tissue-...</td>\n",
       "    </tr>\n",
       "    <tr>\n",
       "      <th>17</th>\n",
       "      <td>IZeroClampSeries.__init__: unrecognized argume...</td>\n",
       "      <td>data/raw/recordings/Human tissue/Human tissue-...</td>\n",
       "    </tr>\n",
       "    <tr>\n",
       "      <th>18</th>\n",
       "      <td>IZeroClampSeries.__init__: unrecognized argume...</td>\n",
       "      <td>data/raw/recordings/Human tissue/Human tissue-...</td>\n",
       "    </tr>\n",
       "    <tr>\n",
       "      <th>19</th>\n",
       "      <td>IZeroClampSeries.__init__: unrecognized argume...</td>\n",
       "      <td>data/raw/recordings/Human tissue/Human tissue-...</td>\n",
       "    </tr>\n",
       "    <tr>\n",
       "      <th>20</th>\n",
       "      <td>IZeroClampSeries.__init__: unrecognized argume...</td>\n",
       "      <td>data/raw/recordings/Human tissue/Human tissue-...</td>\n",
       "    </tr>\n",
       "    <tr>\n",
       "      <th>21</th>\n",
       "      <td>IZeroClampSeries.__init__: unrecognized argume...</td>\n",
       "      <td>data/raw/recordings/Human tissue/Human tissue-...</td>\n",
       "    </tr>\n",
       "    <tr>\n",
       "      <th>22</th>\n",
       "      <td>IZeroClampSeries.__init__: unrecognized argume...</td>\n",
       "      <td>data/raw/recordings/Human tissue/Human tissue-...</td>\n",
       "    </tr>\n",
       "    <tr>\n",
       "      <th>23</th>\n",
       "      <td>IZeroClampSeries.__init__: unrecognized argume...</td>\n",
       "      <td>data/raw/recordings/Human tissue/Human tissue-...</td>\n",
       "    </tr>\n",
       "    <tr>\n",
       "      <th>24</th>\n",
       "      <td>IZeroClampSeries.__init__: unrecognized argume...</td>\n",
       "      <td>data/raw/recordings/Human tissue/Human tissue-...</td>\n",
       "    </tr>\n",
       "    <tr>\n",
       "      <th>25</th>\n",
       "      <td>IZeroClampSeries.__init__: unrecognized argume...</td>\n",
       "      <td>data/raw/recordings/Human tissue/Human tissue-...</td>\n",
       "    </tr>\n",
       "    <tr>\n",
       "      <th>26</th>\n",
       "      <td>IZeroClampSeries.__init__: unrecognized argume...</td>\n",
       "      <td>data/raw/recordings/Human tissue/Human tissue-...</td>\n",
       "    </tr>\n",
       "    <tr>\n",
       "      <th>27</th>\n",
       "      <td>IZeroClampSeries.__init__: unrecognized argume...</td>\n",
       "      <td>data/raw/recordings/Human tissue/Human tissue-...</td>\n",
       "    </tr>\n",
       "    <tr>\n",
       "      <th>28</th>\n",
       "      <td>IZeroClampSeries.__init__: unrecognized argume...</td>\n",
       "      <td>data/raw/recordings/Human tissue/Human tissue-...</td>\n",
       "    </tr>\n",
       "    <tr>\n",
       "      <th>29</th>\n",
       "      <td>IZeroClampSeries.__init__: unrecognized argume...</td>\n",
       "      <td>data/raw/recordings/Human tissue/Human tissue-...</td>\n",
       "    </tr>\n",
       "    <tr>\n",
       "      <th>30</th>\n",
       "      <td>IZeroClampSeries.__init__: unrecognized argume...</td>\n",
       "      <td>data/raw/recordings/Human tissue/Human tissue-...</td>\n",
       "    </tr>\n",
       "    <tr>\n",
       "      <th>31</th>\n",
       "      <td>IZeroClampSeries.__init__: unrecognized argume...</td>\n",
       "      <td>data/raw/recordings/Human tissue/Human tissue-...</td>\n",
       "    </tr>\n",
       "    <tr>\n",
       "      <th>32</th>\n",
       "      <td>IZeroClampSeries.__init__: unrecognized argume...</td>\n",
       "      <td>data/raw/recordings/Human tissue/Human tissue-...</td>\n",
       "    </tr>\n",
       "    <tr>\n",
       "      <th>33</th>\n",
       "      <td>IZeroClampSeries.__init__: unrecognized argume...</td>\n",
       "      <td>data/raw/recordings/Human tissue/Human tissue-...</td>\n",
       "    </tr>\n",
       "    <tr>\n",
       "      <th>34</th>\n",
       "      <td>IZeroClampSeries.__init__: unrecognized argume...</td>\n",
       "      <td>data/raw/recordings/Human tissue/Human tissue-...</td>\n",
       "    </tr>\n",
       "  </tbody>\n",
       "</table>\n",
       "</div>"
      ],
      "text/plain": [
       "                                                    0  \\\n",
       "0   Found at least one 'Not a Number' entry in sti...   \n",
       "1                             list index out of range   \n",
       "2                             list index out of range   \n",
       "3                             list index out of range   \n",
       "4   IZeroClampSeries.__init__: unrecognized argume...   \n",
       "5   IZeroClampSeries.__init__: unrecognized argume...   \n",
       "6   IZeroClampSeries.__init__: unrecognized argume...   \n",
       "7   IZeroClampSeries.__init__: unrecognized argume...   \n",
       "8   IZeroClampSeries.__init__: unrecognized argume...   \n",
       "9   IZeroClampSeries.__init__: unrecognized argume...   \n",
       "10  IZeroClampSeries.__init__: unrecognized argume...   \n",
       "11  IZeroClampSeries.__init__: unrecognized argume...   \n",
       "12  IZeroClampSeries.__init__: unrecognized argume...   \n",
       "13  IZeroClampSeries.__init__: unrecognized argume...   \n",
       "14  IZeroClampSeries.__init__: unrecognized argume...   \n",
       "15  IZeroClampSeries.__init__: unrecognized argume...   \n",
       "16  IZeroClampSeries.__init__: unrecognized argume...   \n",
       "17  IZeroClampSeries.__init__: unrecognized argume...   \n",
       "18  IZeroClampSeries.__init__: unrecognized argume...   \n",
       "19  IZeroClampSeries.__init__: unrecognized argume...   \n",
       "20  IZeroClampSeries.__init__: unrecognized argume...   \n",
       "21  IZeroClampSeries.__init__: unrecognized argume...   \n",
       "22  IZeroClampSeries.__init__: unrecognized argume...   \n",
       "23  IZeroClampSeries.__init__: unrecognized argume...   \n",
       "24  IZeroClampSeries.__init__: unrecognized argume...   \n",
       "25  IZeroClampSeries.__init__: unrecognized argume...   \n",
       "26  IZeroClampSeries.__init__: unrecognized argume...   \n",
       "27  IZeroClampSeries.__init__: unrecognized argume...   \n",
       "28  IZeroClampSeries.__init__: unrecognized argume...   \n",
       "29  IZeroClampSeries.__init__: unrecognized argume...   \n",
       "30  IZeroClampSeries.__init__: unrecognized argume...   \n",
       "31  IZeroClampSeries.__init__: unrecognized argume...   \n",
       "32  IZeroClampSeries.__init__: unrecognized argume...   \n",
       "33  IZeroClampSeries.__init__: unrecognized argume...   \n",
       "34  IZeroClampSeries.__init__: unrecognized argume...   \n",
       "\n",
       "                                                    1  \n",
       "0   data/raw/recordings/Human tissue/Human tissue-...  \n",
       "1   data/raw/recordings/Human tissue/Human tissue-...  \n",
       "2   data/raw/recordings/Human tissue/Human tissue-...  \n",
       "3   data/raw/recordings/Human tissue/Human tissue-...  \n",
       "4   data/raw/recordings/Human tissue/Human tissue-...  \n",
       "5   data/raw/recordings/Human tissue/Human tissue-...  \n",
       "6   data/raw/recordings/Human tissue/Human tissue-...  \n",
       "7   data/raw/recordings/Human tissue/Human tissue-...  \n",
       "8   data/raw/recordings/Human tissue/Human tissue-...  \n",
       "9   data/raw/recordings/Human tissue/Human tissue-...  \n",
       "10  data/raw/recordings/Human tissue/Human tissue-...  \n",
       "11  data/raw/recordings/Human tissue/Human tissue-...  \n",
       "12  data/raw/recordings/Human tissue/Human tissue-...  \n",
       "13  data/raw/recordings/Human tissue/Human tissue-...  \n",
       "14  data/raw/recordings/Human tissue/Human tissue-...  \n",
       "15  data/raw/recordings/Human tissue/Human tissue-...  \n",
       "16  data/raw/recordings/Human tissue/Human tissue-...  \n",
       "17  data/raw/recordings/Human tissue/Human tissue-...  \n",
       "18  data/raw/recordings/Human tissue/Human tissue-...  \n",
       "19  data/raw/recordings/Human tissue/Human tissue-...  \n",
       "20  data/raw/recordings/Human tissue/Human tissue-...  \n",
       "21  data/raw/recordings/Human tissue/Human tissue-...  \n",
       "22  data/raw/recordings/Human tissue/Human tissue-...  \n",
       "23  data/raw/recordings/Human tissue/Human tissue-...  \n",
       "24  data/raw/recordings/Human tissue/Human tissue-...  \n",
       "25  data/raw/recordings/Human tissue/Human tissue-...  \n",
       "26  data/raw/recordings/Human tissue/Human tissue-...  \n",
       "27  data/raw/recordings/Human tissue/Human tissue-...  \n",
       "28  data/raw/recordings/Human tissue/Human tissue-...  \n",
       "29  data/raw/recordings/Human tissue/Human tissue-...  \n",
       "30  data/raw/recordings/Human tissue/Human tissue-...  \n",
       "31  data/raw/recordings/Human tissue/Human tissue-...  \n",
       "32  data/raw/recordings/Human tissue/Human tissue-...  \n",
       "33  data/raw/recordings/Human tissue/Human tissue-...  \n",
       "34  data/raw/recordings/Human tissue/Human tissue-...  "
      ]
     },
     "execution_count": 84,
     "metadata": {},
     "output_type": "execute_result"
    }
   ],
   "source": [
    "error_df"
   ]
  },
  {
   "cell_type": "code",
   "execution_count": null,
   "id": "3c0d72e8",
   "metadata": {},
   "outputs": [],
   "source": []
  }
 ],
 "metadata": {
  "kernelspec": {
   "display_name": "Python 3",
   "language": "python",
   "name": "python3"
  },
  "language_info": {
   "codemirror_mode": {
    "name": "ipython",
    "version": 3
   },
   "file_extension": ".py",
   "mimetype": "text/x-python",
   "name": "python",
   "nbconvert_exporter": "python",
   "pygments_lexer": "ipython3",
   "version": "3.8.8"
  }
 },
 "nbformat": 4,
 "nbformat_minor": 5
}
