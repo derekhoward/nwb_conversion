{
 "cells": [
  {
   "cell_type": "code",
   "execution_count": 1,
   "id": "03dbb806",
   "metadata": {},
   "outputs": [],
   "source": [
    "import os\n",
    "import time\n",
    "import datetime\n",
    "from pathlib import Path\n",
    "import numpy as np\n",
    "import pandas as pd\n",
    "import pyabf\n",
    "import utils\n",
    "\n",
    "%load_ext autoreload\n",
    "%autoreload 2"
   ]
  },
  {
   "cell_type": "code",
   "execution_count": 2,
   "id": "da406f7f",
   "metadata": {},
   "outputs": [],
   "source": [
    "human_meta = pd.read_csv('./data/raw/Metadata/Human19_Metadatav3.csv')\n",
    "human_meta.drop('Unnamed: 0', axis=1, inplace=True)"
   ]
  },
  {
   "cell_type": "code",
   "execution_count": 3,
   "id": "224139a7",
   "metadata": {},
   "outputs": [
    {
     "data": {
      "text/plain": [
       "(372, 16)"
      ]
     },
     "execution_count": 3,
     "metadata": {},
     "output_type": "execute_result"
    }
   ],
   "source": [
    "human_meta.shape"
   ]
  },
  {
   "cell_type": "code",
   "execution_count": 4,
   "id": "61296fc7",
   "metadata": {},
   "outputs": [
    {
     "data": {
      "text/html": [
       "<div>\n",
       "<style scoped>\n",
       "    .dataframe tbody tr th:only-of-type {\n",
       "        vertical-align: middle;\n",
       "    }\n",
       "\n",
       "    .dataframe tbody tr th {\n",
       "        vertical-align: top;\n",
       "    }\n",
       "\n",
       "    .dataframe thead th {\n",
       "        text-align: right;\n",
       "    }\n",
       "</style>\n",
       "<table border=\"1\" class=\"dataframe\">\n",
       "  <thead>\n",
       "    <tr style=\"text-align: right;\">\n",
       "      <th></th>\n",
       "      <th>ABF File</th>\n",
       "      <th>Data Type</th>\n",
       "      <th>Exp. Date</th>\n",
       "      <th>Cell #</th>\n",
       "      <th>Cell Layer</th>\n",
       "      <th>Stim Type</th>\n",
       "      <th>Threshold</th>\n",
       "      <th>DC</th>\n",
       "      <th>ZD</th>\n",
       "      <th>Hold</th>\n",
       "      <th>Gain</th>\n",
       "      <th>Offset</th>\n",
       "      <th>Response Channel</th>\n",
       "      <th>Command Channel</th>\n",
       "      <th>RMP</th>\n",
       "      <th>stimulus_type</th>\n",
       "    </tr>\n",
       "  </thead>\n",
       "  <tbody>\n",
       "    <tr>\n",
       "      <th>0</th>\n",
       "      <td>2019_11_26_0010</td>\n",
       "      <td>Human</td>\n",
       "      <td>Nov_26_2019</td>\n",
       "      <td>C1</td>\n",
       "      <td>L5</td>\n",
       "      <td>Gap Free</td>\n",
       "      <td>n.a</td>\n",
       "      <td>n.a</td>\n",
       "      <td>ZD</td>\n",
       "      <td>n.a</td>\n",
       "      <td>1.0</td>\n",
       "      <td>0.0</td>\n",
       "      <td>Vm_Sec(mV)</td>\n",
       "      <td>NaN</td>\n",
       "      <td>-71.5</td>\n",
       "      <td>NaN</td>\n",
       "    </tr>\n",
       "    <tr>\n",
       "      <th>1</th>\n",
       "      <td>2019_11_26_0011</td>\n",
       "      <td>Human</td>\n",
       "      <td>Nov_26_2019</td>\n",
       "      <td>C1</td>\n",
       "      <td>L5</td>\n",
       "      <td>Gap Free</td>\n",
       "      <td>n.a</td>\n",
       "      <td>n.a</td>\n",
       "      <td>ZD</td>\n",
       "      <td>n.a</td>\n",
       "      <td>1.0</td>\n",
       "      <td>0.0</td>\n",
       "      <td>Vm_Sec(mV)</td>\n",
       "      <td>NaN</td>\n",
       "      <td>-71.5</td>\n",
       "      <td>NaN</td>\n",
       "    </tr>\n",
       "    <tr>\n",
       "      <th>2</th>\n",
       "      <td>2019_11_26_0018</td>\n",
       "      <td>Human</td>\n",
       "      <td>Nov_26_2019</td>\n",
       "      <td>C2</td>\n",
       "      <td>L5</td>\n",
       "      <td>Gap Free</td>\n",
       "      <td>n.a</td>\n",
       "      <td>n.a</td>\n",
       "      <td>ZD</td>\n",
       "      <td>n.a</td>\n",
       "      <td>1.0</td>\n",
       "      <td>0.0</td>\n",
       "      <td>Vm_Sec(mV)</td>\n",
       "      <td>NaN</td>\n",
       "      <td>-72.9</td>\n",
       "      <td>NaN</td>\n",
       "    </tr>\n",
       "    <tr>\n",
       "      <th>3</th>\n",
       "      <td>2019_11_26_0020</td>\n",
       "      <td>Human</td>\n",
       "      <td>Nov_26_2019</td>\n",
       "      <td>C2</td>\n",
       "      <td>L5</td>\n",
       "      <td>Gap Free</td>\n",
       "      <td>n.a</td>\n",
       "      <td>n.a</td>\n",
       "      <td>ZD</td>\n",
       "      <td>n.a</td>\n",
       "      <td>1.0</td>\n",
       "      <td>0.0</td>\n",
       "      <td>Vm_Sec(mV)</td>\n",
       "      <td>NaN</td>\n",
       "      <td>-72.9</td>\n",
       "      <td>NaN</td>\n",
       "    </tr>\n",
       "    <tr>\n",
       "      <th>4</th>\n",
       "      <td>2019_11_26_0021</td>\n",
       "      <td>Human</td>\n",
       "      <td>Nov_26_2019</td>\n",
       "      <td>C2</td>\n",
       "      <td>L5</td>\n",
       "      <td>Gap Free</td>\n",
       "      <td>n.a</td>\n",
       "      <td>n.a</td>\n",
       "      <td>ZD</td>\n",
       "      <td>n.a</td>\n",
       "      <td>1.0</td>\n",
       "      <td>0.0</td>\n",
       "      <td>Vm_Sec(mV)</td>\n",
       "      <td>NaN</td>\n",
       "      <td>-72.9</td>\n",
       "      <td>NaN</td>\n",
       "    </tr>\n",
       "  </tbody>\n",
       "</table>\n",
       "</div>"
      ],
      "text/plain": [
       "          ABF File Data Type    Exp. Date Cell # Cell Layer Stim Type  \\\n",
       "0  2019_11_26_0010     Human  Nov_26_2019     C1         L5  Gap Free   \n",
       "1  2019_11_26_0011     Human  Nov_26_2019     C1         L5  Gap Free   \n",
       "2  2019_11_26_0018     Human  Nov_26_2019     C2         L5  Gap Free   \n",
       "3  2019_11_26_0020     Human  Nov_26_2019     C2         L5  Gap Free   \n",
       "4  2019_11_26_0021     Human  Nov_26_2019     C2         L5  Gap Free   \n",
       "\n",
       "  Threshold   DC  ZD Hold  Gain  Offset Response Channel Command Channel  \\\n",
       "0       n.a  n.a  ZD  n.a   1.0     0.0       Vm_Sec(mV)             NaN   \n",
       "1       n.a  n.a  ZD  n.a   1.0     0.0       Vm_Sec(mV)             NaN   \n",
       "2       n.a  n.a  ZD  n.a   1.0     0.0       Vm_Sec(mV)             NaN   \n",
       "3       n.a  n.a  ZD  n.a   1.0     0.0       Vm_Sec(mV)             NaN   \n",
       "4       n.a  n.a  ZD  n.a   1.0     0.0       Vm_Sec(mV)             NaN   \n",
       "\n",
       "    RMP stimulus_type  \n",
       "0 -71.5           NaN  \n",
       "1 -71.5           NaN  \n",
       "2 -72.9           NaN  \n",
       "3 -72.9           NaN  \n",
       "4 -72.9           NaN  "
      ]
     },
     "execution_count": 4,
     "metadata": {},
     "output_type": "execute_result"
    }
   ],
   "source": [
    "human_meta.head()"
   ]
  },
  {
   "cell_type": "code",
   "execution_count": 5,
   "id": "5bdc6bf0",
   "metadata": {},
   "outputs": [],
   "source": [
    "intrinsic_meta = human_meta[human_meta['Stim Type'] == 'Intrinsic Properties']"
   ]
  },
  {
   "cell_type": "code",
   "execution_count": 6,
   "id": "a840b125",
   "metadata": {},
   "outputs": [
    {
     "data": {
      "text/plain": [
       "(71, 16)"
      ]
     },
     "execution_count": 6,
     "metadata": {},
     "output_type": "execute_result"
    }
   ],
   "source": [
    "intrinsic_meta.shape"
   ]
  },
  {
   "cell_type": "markdown",
   "id": "28d327ce",
   "metadata": {},
   "source": [
    "## Identify files to be converted\n",
    "- ABF files from human2019\n",
    "- need metadata to determine which files are testing intrinsic properties\n",
    "- extract ABF version info, time of creation and comments from the ABF file"
   ]
  },
  {
   "cell_type": "code",
   "execution_count": 7,
   "id": "63b2f66d",
   "metadata": {},
   "outputs": [],
   "source": [
    "human2019_abf_dir = Path(\"./data/raw/recordings/Human tissue/Human tissue-White noise_2019/\")\n",
    "human2019_file_info = utils.summary_df(human2019_abf_dir)"
   ]
  },
  {
   "cell_type": "code",
   "execution_count": 8,
   "id": "7f2d4142",
   "metadata": {},
   "outputs": [
    {
     "name": "stdout",
     "output_type": "stream",
     "text": [
      "CPU times: user 19.5 s, sys: 8.9 s, total: 28.4 s\n",
      "Wall time: 31.1 s\n"
     ]
    }
   ],
   "source": [
    "%%time\n",
    "def parse_timestamp(abf_path):\n",
    "    abf = pyabf.ABF(abf_path)\n",
    "    return datetime.datetime.strptime(abf.abfDateTimeString, \"%Y-%m-%dT%H:%M:%S.%f\")\n",
    "\n",
    "def extract_abf_version(abf_path):\n",
    "    abf = pyabf.ABF(abf_path)\n",
    "    return abf.abfVersionString\n",
    "\n",
    "def extract_abf_comments(abf_path):\n",
    "    abf = pyabf.ABF(abf_path)\n",
    "    return abf.tagComments\n",
    "\n",
    "human2019_file_info['timestamp'] = human2019_file_info.path.apply(parse_timestamp)\n",
    "human2019_file_info['abf_version'] = human2019_file_info.path.apply(extract_abf_version)\n",
    "human2019_file_info['abf_comments'] = human2019_file_info.path.apply(extract_abf_comments)\n",
    "\n",
    "# add this column to merge with provided metadata\n",
    "human2019_file_info['file_id'] = human2019_file_info.file_name.apply(lambda x: Path(x).stem) "
   ]
  },
  {
   "cell_type": "code",
   "execution_count": 9,
   "id": "0ce03f10",
   "metadata": {},
   "outputs": [
    {
     "data": {
      "text/plain": [
       "(503, 6)"
      ]
     },
     "execution_count": 9,
     "metadata": {},
     "output_type": "execute_result"
    }
   ],
   "source": [
    "human2019_file_info.shape"
   ]
  },
  {
   "cell_type": "code",
   "execution_count": 10,
   "id": "32bf6e00",
   "metadata": {},
   "outputs": [
    {
     "data": {
      "text/plain": [
       "488"
      ]
     },
     "execution_count": 10,
     "metadata": {},
     "output_type": "execute_result"
    }
   ],
   "source": [
    "human2019_file_info.file_name.nunique()"
   ]
  },
  {
   "cell_type": "code",
   "execution_count": 11,
   "id": "794c174b",
   "metadata": {},
   "outputs": [
    {
     "data": {
      "text/html": [
       "<div>\n",
       "<style scoped>\n",
       "    .dataframe tbody tr th:only-of-type {\n",
       "        vertical-align: middle;\n",
       "    }\n",
       "\n",
       "    .dataframe tbody tr th {\n",
       "        vertical-align: top;\n",
       "    }\n",
       "\n",
       "    .dataframe thead th {\n",
       "        text-align: right;\n",
       "    }\n",
       "</style>\n",
       "<table border=\"1\" class=\"dataframe\">\n",
       "  <thead>\n",
       "    <tr style=\"text-align: right;\">\n",
       "      <th></th>\n",
       "      <th>file_name</th>\n",
       "      <th>path</th>\n",
       "      <th>timestamp</th>\n",
       "      <th>abf_version</th>\n",
       "      <th>abf_comments</th>\n",
       "      <th>file_id</th>\n",
       "    </tr>\n",
       "  </thead>\n",
       "  <tbody>\n",
       "    <tr>\n",
       "      <th>0</th>\n",
       "      <td>19219023.abf</td>\n",
       "      <td>data/raw/recordings/Human tissue/Human tissue-...</td>\n",
       "      <td>2019-02-19 15:18:15.656</td>\n",
       "      <td>1.8.3.0</td>\n",
       "      <td>[C3,L5,   RMP -65.6 mv, gain 40; DC 200]</td>\n",
       "      <td>19219023</td>\n",
       "    </tr>\n",
       "    <tr>\n",
       "      <th>1</th>\n",
       "      <td>19219021.abf</td>\n",
       "      <td>data/raw/recordings/Human tissue/Human tissue-...</td>\n",
       "      <td>2019-02-19 15:14:56.781</td>\n",
       "      <td>1.8.3.0</td>\n",
       "      <td>[C3,L5,   RMP -65.6 mv,]</td>\n",
       "      <td>19219021</td>\n",
       "    </tr>\n",
       "    <tr>\n",
       "      <th>2</th>\n",
       "      <td>19219005.abf</td>\n",
       "      <td>data/raw/recordings/Human tissue/Human tissue-...</td>\n",
       "      <td>2019-02-19 12:13:46.656</td>\n",
       "      <td>1.8.3.0</td>\n",
       "      <td>[C1,L5,   RMP -62.6 mv,]</td>\n",
       "      <td>19219005</td>\n",
       "    </tr>\n",
       "    <tr>\n",
       "      <th>3</th>\n",
       "      <td>19219004.abf</td>\n",
       "      <td>data/raw/recordings/Human tissue/Human tissue-...</td>\n",
       "      <td>2019-02-19 12:13:30.968</td>\n",
       "      <td>1.8.3.0</td>\n",
       "      <td>[C1,L5,   RMP -62.6 mv,]</td>\n",
       "      <td>19219004</td>\n",
       "    </tr>\n",
       "    <tr>\n",
       "      <th>4</th>\n",
       "      <td>19219016.abf</td>\n",
       "      <td>data/raw/recordings/Human tissue/Human tissue-...</td>\n",
       "      <td>2019-02-19 12:45:01.828</td>\n",
       "      <td>1.8.3.0</td>\n",
       "      <td>[C1,L5,   RMP -61.6 mv, Gain 40; DC 150 pA]</td>\n",
       "      <td>19219016</td>\n",
       "    </tr>\n",
       "  </tbody>\n",
       "</table>\n",
       "</div>"
      ],
      "text/plain": [
       "      file_name                                               path  \\\n",
       "0  19219023.abf  data/raw/recordings/Human tissue/Human tissue-...   \n",
       "1  19219021.abf  data/raw/recordings/Human tissue/Human tissue-...   \n",
       "2  19219005.abf  data/raw/recordings/Human tissue/Human tissue-...   \n",
       "3  19219004.abf  data/raw/recordings/Human tissue/Human tissue-...   \n",
       "4  19219016.abf  data/raw/recordings/Human tissue/Human tissue-...   \n",
       "\n",
       "                timestamp abf_version  \\\n",
       "0 2019-02-19 15:18:15.656     1.8.3.0   \n",
       "1 2019-02-19 15:14:56.781     1.8.3.0   \n",
       "2 2019-02-19 12:13:46.656     1.8.3.0   \n",
       "3 2019-02-19 12:13:30.968     1.8.3.0   \n",
       "4 2019-02-19 12:45:01.828     1.8.3.0   \n",
       "\n",
       "                                  abf_comments   file_id  \n",
       "0     [C3,L5,   RMP -65.6 mv, gain 40; DC 200]  19219023  \n",
       "1                     [C3,L5,   RMP -65.6 mv,]  19219021  \n",
       "2                     [C1,L5,   RMP -62.6 mv,]  19219005  \n",
       "3                     [C1,L5,   RMP -62.6 mv,]  19219004  \n",
       "4  [C1,L5,   RMP -61.6 mv, Gain 40; DC 150 pA]  19219016  "
      ]
     },
     "execution_count": 11,
     "metadata": {},
     "output_type": "execute_result"
    }
   ],
   "source": [
    "human2019_file_info.head()"
   ]
  },
  {
   "cell_type": "code",
   "execution_count": 12,
   "id": "d0f5b9d6",
   "metadata": {},
   "outputs": [
    {
     "data": {
      "text/plain": [
       "2.6.0.0    276\n",
       "1.8.3.0    227\n",
       "Name: abf_version, dtype: int64"
      ]
     },
     "execution_count": 12,
     "metadata": {},
     "output_type": "execute_result"
    }
   ],
   "source": [
    "human2019_file_info.abf_version.value_counts()"
   ]
  },
  {
   "cell_type": "markdown",
   "id": "89f4c798",
   "metadata": {},
   "source": [
    "## Merge metadata with extracted information about ABF files"
   ]
  },
  {
   "cell_type": "code",
   "execution_count": 13,
   "id": "6e3bf77f",
   "metadata": {},
   "outputs": [],
   "source": [
    "merged_meta = intrinsic_meta.merge(human2019_file_info, left_on='ABF File', right_on='file_id' , how='left')"
   ]
  },
  {
   "cell_type": "code",
   "execution_count": 14,
   "id": "17d3c38d",
   "metadata": {},
   "outputs": [
    {
     "data": {
      "text/plain": [
       "1.8.3.0    37\n",
       "2.6.0.0    36\n",
       "Name: abf_version, dtype: int64"
      ]
     },
     "execution_count": 14,
     "metadata": {},
     "output_type": "execute_result"
    }
   ],
   "source": [
    "# we are left with 36 files to convert\n",
    "merged_meta.abf_version.value_counts()"
   ]
  },
  {
   "cell_type": "code",
   "execution_count": 15,
   "id": "2b19500e",
   "metadata": {},
   "outputs": [
    {
     "data": {
      "text/plain": [
       "71"
      ]
     },
     "execution_count": 15,
     "metadata": {},
     "output_type": "execute_result"
    }
   ],
   "source": [
    "merged_meta['ABF File'].nunique()"
   ]
  },
  {
   "cell_type": "code",
   "execution_count": 16,
   "id": "97130178",
   "metadata": {},
   "outputs": [
    {
     "data": {
      "text/plain": [
       "Index(['ABF File', 'Data Type', 'Exp. Date', 'Cell #', 'Cell Layer',\n",
       "       'Stim Type', 'Threshold', 'DC', 'ZD', 'Hold', 'Gain', 'Offset',\n",
       "       'Response Channel', 'Command Channel', 'RMP', 'stimulus_type',\n",
       "       'file_name', 'path', 'timestamp', 'abf_version', 'abf_comments',\n",
       "       'file_id'],\n",
       "      dtype='object')"
      ]
     },
     "execution_count": 16,
     "metadata": {},
     "output_type": "execute_result"
    }
   ],
   "source": [
    "merged_meta.columns"
   ]
  },
  {
   "cell_type": "markdown",
   "id": "c1de38e9",
   "metadata": {},
   "source": [
    "## Convert"
   ]
  },
  {
   "cell_type": "code",
   "execution_count": 17,
   "id": "795772a1",
   "metadata": {},
   "outputs": [],
   "source": [
    "output_dir = Path(\"data/processed/recordings/human2019/\")\n",
    "output_dir.mkdir(exist_ok=True, parents=True)"
   ]
  },
  {
   "cell_type": "code",
   "execution_count": 18,
   "id": "45309b1a",
   "metadata": {},
   "outputs": [],
   "source": [
    "from x_to_nwb import ABF2Converter\n",
    "from x_to_nwb import ABF1Converter_meta2\n",
    "\n",
    "def generate_subject_meta(row):\n",
    "    meta = {\n",
    "    'Subject': {\n",
    "        'age': None,\n",
    "        'description': f'{row.abf_comments}',\n",
    "        'species': 'Homo sapiens',\n",
    "        'subject_id': f'Donor_{row.file_id}'}\n",
    "    }\n",
    "    return meta\n",
    "\n",
    "\n",
    "def convert_abfv1_row(row):\n",
    "    abf = pyabf.ABF(row.path)\n",
    "    file_stem = row.file_id\n",
    "    output_path = output_dir / f'{file_stem}.nwb'\n",
    "    meta = generate_subject_meta(row)\n",
    "\n",
    "    nwb = ABF1Converter_meta2.ABF1Converter(row.path,\n",
    "                                      str(output_path), \n",
    "                                      acquisitionChannelName= row.resp_chan, #'Iclamp',#row.stim_chan,\n",
    "                                      stimulusChannelName=row.stim_chan, #'Cmd 1', #row.resp_chan,\n",
    "                                      responseOffset=float(row.Offset) * (-1),# * (1e-3),\n",
    "                                      metadata=meta,\n",
    "                                      responseGain=float(row.Gain) *0.01)\n",
    "    \n",
    "    nwb.convert()\n",
    "    print(f\"NWB Conversion complete for {output_path}\")\n",
    "\n",
    "\n",
    "def convert_abfv2_row(row):\n",
    "    abf = pyabf.ABF(row.path)\n",
    "    file_stem = row.file_id\n",
    "    output_path = output_dir / f'{file_stem}.nwb'\n",
    "    meta = generate_subject_meta(row)\n",
    "    print(f'Subject meta: {meta}')\n",
    "    print(f'Stimulus chan: {row.stim_chan}')\n",
    "    print(f'Response chan: {row.resp_chan}')\n",
    "\n",
    "    nwb = ABF2Converter.ABF2Converter(row.path,\n",
    "                                      str(output_path), \n",
    "                                      includeChannelList=[row.resp_chan],\n",
    "                                      stimulus_name=row.stim_chan,\n",
    "                                      metadata=meta)\n",
    "\n",
    "    print(f\"NWB Conversion complete for {output_path}\")"
   ]
  },
  {
   "cell_type": "code",
   "execution_count": 19,
   "id": "09b6c9e5",
   "metadata": {},
   "outputs": [
    {
     "data": {
      "text/plain": [
       "(73, 22)"
      ]
     },
     "execution_count": 19,
     "metadata": {},
     "output_type": "execute_result"
    }
   ],
   "source": [
    "merged_meta.shape"
   ]
  },
  {
   "cell_type": "code",
   "execution_count": 20,
   "id": "02d946e4",
   "metadata": {},
   "outputs": [
    {
     "data": {
      "text/html": [
       "<div>\n",
       "<style scoped>\n",
       "    .dataframe tbody tr th:only-of-type {\n",
       "        vertical-align: middle;\n",
       "    }\n",
       "\n",
       "    .dataframe tbody tr th {\n",
       "        vertical-align: top;\n",
       "    }\n",
       "\n",
       "    .dataframe thead th {\n",
       "        text-align: right;\n",
       "    }\n",
       "</style>\n",
       "<table border=\"1\" class=\"dataframe\">\n",
       "  <thead>\n",
       "    <tr style=\"text-align: right;\">\n",
       "      <th></th>\n",
       "      <th>ABF File</th>\n",
       "      <th>Data Type</th>\n",
       "      <th>Exp. Date</th>\n",
       "      <th>Cell #</th>\n",
       "      <th>Cell Layer</th>\n",
       "      <th>Stim Type</th>\n",
       "      <th>Threshold</th>\n",
       "      <th>DC</th>\n",
       "      <th>ZD</th>\n",
       "      <th>Hold</th>\n",
       "      <th>...</th>\n",
       "      <th>Response Channel</th>\n",
       "      <th>Command Channel</th>\n",
       "      <th>RMP</th>\n",
       "      <th>stimulus_type</th>\n",
       "      <th>file_name</th>\n",
       "      <th>path</th>\n",
       "      <th>timestamp</th>\n",
       "      <th>abf_version</th>\n",
       "      <th>abf_comments</th>\n",
       "      <th>file_id</th>\n",
       "    </tr>\n",
       "  </thead>\n",
       "  <tbody>\n",
       "    <tr>\n",
       "      <th>18</th>\n",
       "      <td>19129000</td>\n",
       "      <td>Human</td>\n",
       "      <td>Jan_29_2019</td>\n",
       "      <td>C1</td>\n",
       "      <td>L5</td>\n",
       "      <td>Intrinsic Properties</td>\n",
       "      <td>n.a</td>\n",
       "      <td>n.a</td>\n",
       "      <td>n.a</td>\n",
       "      <td>n.a</td>\n",
       "      <td>...</td>\n",
       "      <td>Iclamp(mV)</td>\n",
       "      <td>Current_in(pA)</td>\n",
       "      <td>-62.9</td>\n",
       "      <td>NaN</td>\n",
       "      <td>19129000.abf</td>\n",
       "      <td>data/raw/recordings/Human tissue/Human tissue-...</td>\n",
       "      <td>2019-01-29 12:16:18.000</td>\n",
       "      <td>1.8.3.0</td>\n",
       "      <td>[C1,  L5,   RMP -62.9mv,]</td>\n",
       "      <td>19129000</td>\n",
       "    </tr>\n",
       "    <tr>\n",
       "      <th>19</th>\n",
       "      <td>19129000</td>\n",
       "      <td>Human</td>\n",
       "      <td>Jan_29_2019</td>\n",
       "      <td>C1</td>\n",
       "      <td>L5</td>\n",
       "      <td>Intrinsic Properties</td>\n",
       "      <td>n.a</td>\n",
       "      <td>n.a</td>\n",
       "      <td>n.a</td>\n",
       "      <td>n.a</td>\n",
       "      <td>...</td>\n",
       "      <td>Iclamp(mV)</td>\n",
       "      <td>Current_in(pA)</td>\n",
       "      <td>-62.9</td>\n",
       "      <td>NaN</td>\n",
       "      <td>19129000.abf</td>\n",
       "      <td>data/raw/recordings/Human tissue/Human tissue-...</td>\n",
       "      <td>2019-01-29 12:16:18.000</td>\n",
       "      <td>1.8.3.0</td>\n",
       "      <td>[C1,  L5,   RMP -62.9mv,]</td>\n",
       "      <td>19129000</td>\n",
       "    </tr>\n",
       "    <tr>\n",
       "      <th>29</th>\n",
       "      <td>19319020</td>\n",
       "      <td>Human</td>\n",
       "      <td>March_19_2019</td>\n",
       "      <td>C4</td>\n",
       "      <td>L5</td>\n",
       "      <td>Intrinsic Properties</td>\n",
       "      <td>n.a</td>\n",
       "      <td>n.a</td>\n",
       "      <td>n.a</td>\n",
       "      <td>n.a</td>\n",
       "      <td>...</td>\n",
       "      <td>Iclamp(mV)</td>\n",
       "      <td>Current_in(pA)</td>\n",
       "      <td>-63.1</td>\n",
       "      <td>NaN</td>\n",
       "      <td>19319020.abf</td>\n",
       "      <td>data/raw/recordings/Human tissue/Human tissue-...</td>\n",
       "      <td>2019-03-19 16:17:49.781</td>\n",
       "      <td>1.8.3.0</td>\n",
       "      <td>[C4, L5,   RMP -63.1mv,, C4, L5,   RMP -63.1mv,]</td>\n",
       "      <td>19319020</td>\n",
       "    </tr>\n",
       "    <tr>\n",
       "      <th>30</th>\n",
       "      <td>19319020</td>\n",
       "      <td>Human</td>\n",
       "      <td>March_19_2019</td>\n",
       "      <td>C4</td>\n",
       "      <td>L5</td>\n",
       "      <td>Intrinsic Properties</td>\n",
       "      <td>n.a</td>\n",
       "      <td>n.a</td>\n",
       "      <td>n.a</td>\n",
       "      <td>n.a</td>\n",
       "      <td>...</td>\n",
       "      <td>Iclamp(mV)</td>\n",
       "      <td>Current_in(pA)</td>\n",
       "      <td>-63.1</td>\n",
       "      <td>NaN</td>\n",
       "      <td>19319020.abf</td>\n",
       "      <td>data/raw/recordings/Human tissue/Human tissue-...</td>\n",
       "      <td>2019-03-19 16:17:49.781</td>\n",
       "      <td>1.8.3.0</td>\n",
       "      <td>[C4, L5,   RMP -63.1mv,, C4, L5,   RMP -63.1mv,]</td>\n",
       "      <td>19319020</td>\n",
       "    </tr>\n",
       "  </tbody>\n",
       "</table>\n",
       "<p>4 rows × 22 columns</p>\n",
       "</div>"
      ],
      "text/plain": [
       "    ABF File Data Type      Exp. Date Cell # Cell Layer             Stim Type  \\\n",
       "18  19129000     Human    Jan_29_2019     C1         L5  Intrinsic Properties   \n",
       "19  19129000     Human    Jan_29_2019     C1         L5  Intrinsic Properties   \n",
       "29  19319020     Human  March_19_2019     C4         L5  Intrinsic Properties   \n",
       "30  19319020     Human  March_19_2019     C4         L5  Intrinsic Properties   \n",
       "\n",
       "   Threshold   DC   ZD Hold  ...  Response Channel  Command Channel   RMP  \\\n",
       "18       n.a  n.a  n.a  n.a  ...        Iclamp(mV)   Current_in(pA) -62.9   \n",
       "19       n.a  n.a  n.a  n.a  ...        Iclamp(mV)   Current_in(pA) -62.9   \n",
       "29       n.a  n.a  n.a  n.a  ...        Iclamp(mV)   Current_in(pA) -63.1   \n",
       "30       n.a  n.a  n.a  n.a  ...        Iclamp(mV)   Current_in(pA) -63.1   \n",
       "\n",
       "   stimulus_type     file_name  \\\n",
       "18           NaN  19129000.abf   \n",
       "19           NaN  19129000.abf   \n",
       "29           NaN  19319020.abf   \n",
       "30           NaN  19319020.abf   \n",
       "\n",
       "                                                 path               timestamp  \\\n",
       "18  data/raw/recordings/Human tissue/Human tissue-... 2019-01-29 12:16:18.000   \n",
       "19  data/raw/recordings/Human tissue/Human tissue-... 2019-01-29 12:16:18.000   \n",
       "29  data/raw/recordings/Human tissue/Human tissue-... 2019-03-19 16:17:49.781   \n",
       "30  data/raw/recordings/Human tissue/Human tissue-... 2019-03-19 16:17:49.781   \n",
       "\n",
       "   abf_version                                      abf_comments   file_id  \n",
       "18     1.8.3.0                         [C1,  L5,   RMP -62.9mv,]  19129000  \n",
       "19     1.8.3.0                         [C1,  L5,   RMP -62.9mv,]  19129000  \n",
       "29     1.8.3.0  [C4, L5,   RMP -63.1mv,, C4, L5,   RMP -63.1mv,]  19319020  \n",
       "30     1.8.3.0  [C4, L5,   RMP -63.1mv,, C4, L5,   RMP -63.1mv,]  19319020  \n",
       "\n",
       "[4 rows x 22 columns]"
      ]
     },
     "execution_count": 20,
     "metadata": {},
     "output_type": "execute_result"
    }
   ],
   "source": [
    "merged_meta[merged_meta.duplicated(subset=['file_id'], keep=False)]"
   ]
  },
  {
   "cell_type": "code",
   "execution_count": 21,
   "id": "eb88007d",
   "metadata": {},
   "outputs": [],
   "source": [
    "abf1 = merged_meta[merged_meta.abf_version.str.startswith('1')]\n",
    "abf2 = merged_meta[merged_meta.abf_version.str.startswith('2')]"
   ]
  },
  {
   "cell_type": "code",
   "execution_count": 22,
   "id": "2205d680",
   "metadata": {
    "scrolled": true
   },
   "outputs": [
    {
     "name": "stderr",
     "output_type": "stream",
     "text": [
      "<ipython-input-22-2ec584e15cec>:1: SettingWithCopyWarning: \n",
      "A value is trying to be set on a copy of a slice from a DataFrame.\n",
      "Try using .loc[row_indexer,col_indexer] = value instead\n",
      "\n",
      "See the caveats in the documentation: https://pandas.pydata.org/pandas-docs/stable/user_guide/indexing.html#returning-a-view-versus-a-copy\n",
      "  abf1['stim_chan'] = abf1.path.apply(lambda x: pyabf.ABF(x).dacNames[1])\n",
      "<ipython-input-22-2ec584e15cec>:2: SettingWithCopyWarning: \n",
      "A value is trying to be set on a copy of a slice from a DataFrame.\n",
      "Try using .loc[row_indexer,col_indexer] = value instead\n",
      "\n",
      "See the caveats in the documentation: https://pandas.pydata.org/pandas-docs/stable/user_guide/indexing.html#returning-a-view-versus-a-copy\n",
      "  abf1['resp_chan'] = abf1.path.apply(lambda x: pyabf.ABF(x).adcNames[2])\n",
      "<ipython-input-22-2ec584e15cec>:4: SettingWithCopyWarning: \n",
      "A value is trying to be set on a copy of a slice from a DataFrame.\n",
      "Try using .loc[row_indexer,col_indexer] = value instead\n",
      "\n",
      "See the caveats in the documentation: https://pandas.pydata.org/pandas-docs/stable/user_guide/indexing.html#returning-a-view-versus-a-copy\n",
      "  abf2['stim_chan'] = abf2.path.apply(lambda x: pyabf.ABF(x).dacNames[1])\n",
      "<ipython-input-22-2ec584e15cec>:5: SettingWithCopyWarning: \n",
      "A value is trying to be set on a copy of a slice from a DataFrame.\n",
      "Try using .loc[row_indexer,col_indexer] = value instead\n",
      "\n",
      "See the caveats in the documentation: https://pandas.pydata.org/pandas-docs/stable/user_guide/indexing.html#returning-a-view-versus-a-copy\n",
      "  abf2['resp_chan'] = abf2.path.apply(lambda x: pyabf.ABF(x).adcNames[0])\n"
     ]
    }
   ],
   "source": [
    "abf1['stim_chan'] = abf1.path.apply(lambda x: pyabf.ABF(x).dacNames[1])\n",
    "abf1['resp_chan'] = abf1.path.apply(lambda x: pyabf.ABF(x).adcNames[2])\n",
    "\n",
    "abf2['stim_chan'] = abf2.path.apply(lambda x: pyabf.ABF(x).dacNames[1])\n",
    "abf2['resp_chan'] = abf2.path.apply(lambda x: pyabf.ABF(x).adcNames[0])"
   ]
  },
  {
   "cell_type": "code",
   "execution_count": 23,
   "id": "61d0fce8",
   "metadata": {},
   "outputs": [],
   "source": [
    "to_convert = pd.concat([abf1, abf2])\n",
    "to_convert = to_convert[~to_convert.duplicated(subset=['file_id'], keep=False)]"
   ]
  },
  {
   "cell_type": "code",
   "execution_count": 24,
   "id": "73ebc4c8",
   "metadata": {},
   "outputs": [
    {
     "data": {
      "text/plain": [
       "(69, 24)"
      ]
     },
     "execution_count": 24,
     "metadata": {},
     "output_type": "execute_result"
    }
   ],
   "source": [
    "to_convert.shape"
   ]
  },
  {
   "cell_type": "code",
   "execution_count": 25,
   "id": "3ac1dca5",
   "metadata": {
    "scrolled": true
   },
   "outputs": [
    {
     "name": "stdout",
     "output_type": "stream",
     "text": [
      "data/raw/recordings/Human tissue/Human tissue-White noise_2019/Feb_28_2019/C3_L5/Intrinsic Properties_C3_L5/19228030.abf\n"
     ]
    },
    {
     "name": "stderr",
     "output_type": "stream",
     "text": [
      "/Users/derek_howard/miniconda3/envs/nwbephystest/lib/python3.8/site-packages/pynwb/file.py:753: UserWarning: Date is missing timezone information. Updating to local timezone.\n",
      "  warn(\"Date is missing timezone information. Updating to local timezone.\")\n"
     ]
    },
    {
     "name": "stdout",
     "output_type": "stream",
     "text": [
      "Successfully converted to data/processed/recordings/human2019/19228030.nwb.\n",
      "NWB Conversion complete for data/processed/recordings/human2019/19228030.nwb\n",
      "data/raw/recordings/Human tissue/Human tissue-White noise_2019/Feb_28_2019/C4_L5/Intrinsic Properties_C4_L5/19228044.abf\n",
      "Successfully converted to data/processed/recordings/human2019/19228044.nwb.\n",
      "NWB Conversion complete for data/processed/recordings/human2019/19228044.nwb\n",
      "data/raw/recordings/Human tissue/Human tissue-White noise_2019/Feb_28_2019/C5_L5/Intrinsic Properties_C5_L5/19228058.abf\n",
      "Successfully converted to data/processed/recordings/human2019/19228058.nwb.\n",
      "NWB Conversion complete for data/processed/recordings/human2019/19228058.nwb\n",
      "data/raw/recordings/Human tissue/Human tissue-White noise_2019/Feb_28_2019/C6_L5/Intrinsic Properties_C6_L5/19228068.abf\n",
      "Successfully converted to data/processed/recordings/human2019/19228068.nwb.\n",
      "NWB Conversion complete for data/processed/recordings/human2019/19228068.nwb\n",
      "data/raw/recordings/Human tissue/Human tissue-White noise_2019/Jan_22_2019/C1-L2/Intrinsic Properties-C1-L2/19122003.abf\n",
      "Successfully converted to data/processed/recordings/human2019/19122003.nwb.\n",
      "NWB Conversion complete for data/processed/recordings/human2019/19122003.nwb\n",
      "data/raw/recordings/Human tissue/Human tissue-White noise_2019/Jan_22_2019/C7-L5/Intrinsic Properties_C7_L5/19122026.abf\n",
      "Successfully converted to data/processed/recordings/human2019/19122026.nwb.\n",
      "NWB Conversion complete for data/processed/recordings/human2019/19122026.nwb\n",
      "data/raw/recordings/Human tissue/Human tissue-White noise_2019/Jan_28_2019/C2-L5/Intrinsic Properties_C2_L5/19128006.abf\n",
      "Successfully converted to data/processed/recordings/human2019/19128006.nwb.\n",
      "NWB Conversion complete for data/processed/recordings/human2019/19128006.nwb\n",
      "data/raw/recordings/Human tissue/Human tissue-White noise_2019/Jan_28_2019/C5-L5/Intrinsic Properties_C5_L5/19128040.abf\n",
      "Successfully converted to data/processed/recordings/human2019/19128040.nwb.\n",
      "NWB Conversion complete for data/processed/recordings/human2019/19128040.nwb\n",
      "data/raw/recordings/Human tissue/Human tissue-White noise_2019/Jan_28_2019/C8-L5/Intrinsic Properties_C8_L5/19128061.abf\n",
      "Successfully converted to data/processed/recordings/human2019/19128061.nwb.\n",
      "NWB Conversion complete for data/processed/recordings/human2019/19128061.nwb\n",
      "data/raw/recordings/Human tissue/Human tissue-White noise_2019/Jan_28_2019/C9-L5/Intrinsic Properties_C9_L5/19128068.abf\n",
      "Successfully converted to data/processed/recordings/human2019/19128068.nwb.\n",
      "NWB Conversion complete for data/processed/recordings/human2019/19128068.nwb\n",
      "data/raw/recordings/Human tissue/Human tissue-White noise_2019/Jan_29_2019/C11_L2/Intrinsic Properties_C11_L2/19129058.abf\n",
      "Successfully converted to data/processed/recordings/human2019/19129058.nwb.\n",
      "NWB Conversion complete for data/processed/recordings/human2019/19129058.nwb\n",
      "data/raw/recordings/Human tissue/Human tissue-White noise_2019/Jan_29_2019/C13_L3/Intrinsic Properties_C13_L3/19129072.abf\n",
      "Successfully converted to data/processed/recordings/human2019/19129072.nwb.\n",
      "NWB Conversion complete for data/processed/recordings/human2019/19129072.nwb\n",
      "data/raw/recordings/Human tissue/Human tissue-White noise_2019/Jan_29_2019/C2_L5/Intrinsic Properties_C2_L5/19129014.abf\n",
      "Successfully converted to data/processed/recordings/human2019/19129014.nwb.\n",
      "NWB Conversion complete for data/processed/recordings/human2019/19129014.nwb\n",
      "data/raw/recordings/Human tissue/Human tissue-White noise_2019/Jan_29_2019/C3_L5/Intrinsic Properties_C3_L5/19129022.abf\n",
      "Successfully converted to data/processed/recordings/human2019/19129022.nwb.\n",
      "NWB Conversion complete for data/processed/recordings/human2019/19129022.nwb\n",
      "data/raw/recordings/Human tissue/Human tissue-White noise_2019/Jan_29_2019/C4_L5/Intrinsic Properties_C4_L5/19129024.abf\n",
      "Successfully converted to data/processed/recordings/human2019/19129024.nwb.\n",
      "NWB Conversion complete for data/processed/recordings/human2019/19129024.nwb\n",
      "data/raw/recordings/Human tissue/Human tissue-White noise_2019/Jan_29_2019/C6_L5/Intrinsic Properties_C6_L5/19129037.abf\n",
      "Successfully converted to data/processed/recordings/human2019/19129037.nwb.\n",
      "NWB Conversion complete for data/processed/recordings/human2019/19129037.nwb\n",
      "data/raw/recordings/Human tissue/Human tissue-White noise_2019/Jan_29_2019/C7_L3/Intrinsic Properties_C7_L3/19129040.abf\n",
      "Successfully converted to data/processed/recordings/human2019/19129040.nwb.\n",
      "NWB Conversion complete for data/processed/recordings/human2019/19129040.nwb\n",
      "data/raw/recordings/Human tissue/Human tissue-White noise_2019/Jan_29_2019/C8_L3/Intrinsic Properties_C8_L3/19129043.abf\n",
      "Successfully converted to data/processed/recordings/human2019/19129043.nwb.\n",
      "NWB Conversion complete for data/processed/recordings/human2019/19129043.nwb\n",
      "data/raw/recordings/Human tissue/Human tissue-White noise_2019/Jan_29_2019/C9_L3/Intrinsic Properties_C9_L3/19129047.abf\n",
      "Successfully converted to data/processed/recordings/human2019/19129047.nwb.\n",
      "NWB Conversion complete for data/processed/recordings/human2019/19129047.nwb\n",
      "data/raw/recordings/Human tissue/Human tissue-White noise_2019/March_19_2019/C6-L5/Intrinsic Properties_C6_L5/19319025.abf\n",
      "Successfully converted to data/processed/recordings/human2019/19319025.nwb.\n",
      "NWB Conversion complete for data/processed/recordings/human2019/19319025.nwb\n",
      "data/raw/recordings/Human tissue/Human tissue-White noise_2019/March_20_ 2019/C1_L5/Intrinsic Properties_C1_L5/19320001.abf\n",
      "Successfully converted to data/processed/recordings/human2019/19320001.nwb.\n",
      "NWB Conversion complete for data/processed/recordings/human2019/19320001.nwb\n",
      "data/raw/recordings/Human tissue/Human tissue-White noise_2019/March_20_ 2019/C2_L5/Intrinsic Properties_C2_L5/19320007.abf\n",
      "Successfully converted to data/processed/recordings/human2019/19320007.nwb.\n",
      "NWB Conversion complete for data/processed/recordings/human2019/19320007.nwb\n",
      "data/raw/recordings/Human tissue/Human tissue-White noise_2019/March_20_ 2019/C4_L23/Intrinsic Properties_C4_L23/19320017.abf\n",
      "Successfully converted to data/processed/recordings/human2019/19320017.nwb.\n",
      "NWB Conversion complete for data/processed/recordings/human2019/19320017.nwb\n",
      "data/raw/recordings/Human tissue/Human tissue-White noise_2019/March_20_ 2019/C5_L23/Intrinsic Properties_C5_L23/19320022.abf\n",
      "Successfully converted to data/processed/recordings/human2019/19320022.nwb.\n",
      "NWB Conversion complete for data/processed/recordings/human2019/19320022.nwb\n",
      "data/raw/recordings/Human tissue/Human tissue-White noise_2019/March_20_ 2019/C6_L23/Intrinsic Properties_C6_L23/19320025.abf\n",
      "Successfully converted to data/processed/recordings/human2019/19320025.nwb.\n",
      "NWB Conversion complete for data/processed/recordings/human2019/19320025.nwb\n",
      "data/raw/recordings/Human tissue/Human tissue-White noise_2019/March_20_ 2019/C7_L23/Intrinsic Properties_C7_L5/19320030.abf\n",
      "Successfully converted to data/processed/recordings/human2019/19320030.nwb.\n",
      "NWB Conversion complete for data/processed/recordings/human2019/19320030.nwb\n",
      "data/raw/recordings/Human tissue/Human tissue-White noise_2019/March_20_ 2019/C8_L5/Intrinsic Properties_C8_L5/19320041.abf\n",
      "Successfully converted to data/processed/recordings/human2019/19320041.nwb.\n",
      "NWB Conversion complete for data/processed/recordings/human2019/19320041.nwb\n",
      "data/raw/recordings/Human tissue/Human tissue-White noise_2019/March_28_2019/C1_L5/Intrinsic Properties_C1_L5/19328001.abf\n",
      "Successfully converted to data/processed/recordings/human2019/19328001.nwb.\n",
      "NWB Conversion complete for data/processed/recordings/human2019/19328001.nwb\n",
      "data/raw/recordings/Human tissue/Human tissue-White noise_2019/March_28_2019/C2_L5/Intrinsic Properties_C2_L5/19328009.abf\n",
      "Successfully converted to data/processed/recordings/human2019/19328009.nwb.\n",
      "NWB Conversion complete for data/processed/recordings/human2019/19328009.nwb\n",
      "data/raw/recordings/Human tissue/Human tissue-White noise_2019/March_28_2019/C3_L5/Intrinsic Properties_C3_L5/19328019.abf\n",
      "Successfully converted to data/processed/recordings/human2019/19328019.nwb.\n",
      "NWB Conversion complete for data/processed/recordings/human2019/19328019.nwb\n",
      "data/raw/recordings/Human tissue/Human tissue-White noise_2019/March_28_2019/C4_L5/Intrinsic Properties_C4_L5/19328034.abf\n"
     ]
    },
    {
     "name": "stdout",
     "output_type": "stream",
     "text": [
      "Successfully converted to data/processed/recordings/human2019/19328034.nwb.\n",
      "NWB Conversion complete for data/processed/recordings/human2019/19328034.nwb\n",
      "data/raw/recordings/Human tissue/Human tissue-White noise_2019/March_28_2019/C5_L5/Intrinsic Properties_C5_L5/19328039.abf\n",
      "Successfully converted to data/processed/recordings/human2019/19328039.nwb.\n",
      "NWB Conversion complete for data/processed/recordings/human2019/19328039.nwb\n",
      "data/raw/recordings/Human tissue/Human tissue-White noise_2019/March_28_2019/C6_L5/Intrinsic Properties_C6_L5/19328046.abf\n"
     ]
    },
    {
     "name": "stderr",
     "output_type": "stream",
     "text": [
      "/Users/derek_howard/triplab/x-to-nwb/src/x_to_nwb/ABF2Converter.py:188: UserWarning: Could not find the JSON file data/raw/recordings/Human tissue/Human tissue-White noise_2019/Nov_04_2019/C2_L3/ZD_C2_L3C/Intrinsic Properties_C2_L3C/2019_11_04_0098.json with settings.\n",
      "  warnings.warn(f\"Could not find the JSON file {settings} with settings.\")\n",
      "WARNING:pyabf.abf:fileGUID isn't truly unique (fileUUID is)\n"
     ]
    },
    {
     "name": "stdout",
     "output_type": "stream",
     "text": [
      "Successfully converted to data/processed/recordings/human2019/19328046.nwb.\n",
      "NWB Conversion complete for data/processed/recordings/human2019/19328046.nwb\n",
      "Subject meta: {'Subject': {'age': None, 'description': \"['C2, L3, APV,CNQX,PTX,ZD 10 uM']\", 'species': 'Homo sapiens', 'subject_id': 'Donor_2019_11_04_0098'}}\n",
      "Stimulus chan: I_clampsec\n",
      "Response chan: Vm_sec\n"
     ]
    },
    {
     "name": "stderr",
     "output_type": "stream",
     "text": [
      "/Users/derek_howard/triplab/x-to-nwb/src/x_to_nwb/ABF2Converter.py:519: UserWarning: Could not find the scale factor for the stimset I-V curve ,-400 pA, using 1.0 as fallback.\n",
      "  warnings.warn(\n",
      "/Users/derek_howard/triplab/x-to-nwb/src/x_to_nwb/ABF2Converter.py:550: UserWarning: Could not find settings for amplifier unknown of channel Vm_sec.\n",
      "  warnings.warn(f\"Could not find settings for amplifier {amplifier} of channel {adcName}.\")\n",
      "/Users/derek_howard/triplab/x-to-nwb/src/x_to_nwb/ABF2Converter.py:188: UserWarning: Could not find the JSON file data/raw/recordings/Human tissue/Human tissue-White noise_2019/Nov_04_2019/C3_L5/ZD_C3_L5/Intrinsic Properties_C3_L5/2019_11_04_0128.json with settings.\n",
      "  warnings.warn(f\"Could not find the JSON file {settings} with settings.\")\n",
      "WARNING:pyabf.abf:fileGUID isn't truly unique (fileUUID is)\n"
     ]
    },
    {
     "name": "stdout",
     "output_type": "stream",
     "text": [
      "NWB Conversion complete for data/processed/recordings/human2019/2019_11_04_0098.nwb\n",
      "Subject meta: {'Subject': {'age': None, 'description': \"['C3, L5, APV,CNQX,PTX, ZD 10 uM']\", 'species': 'Homo sapiens', 'subject_id': 'Donor_2019_11_04_0128'}}\n",
      "Stimulus chan: I_clampsec\n",
      "Response chan: Vm_sec\n"
     ]
    },
    {
     "name": "stderr",
     "output_type": "stream",
     "text": [
      "/Users/derek_howard/triplab/x-to-nwb/src/x_to_nwb/ABF2Converter.py:188: UserWarning: Could not find the JSON file data/raw/recordings/Human tissue/Human tissue-White noise_2019/Nov_26_2019/C8_L5/ZD/Intrinsic properties_C8_L5/2019_11_26_0103.json with settings.\n",
      "  warnings.warn(f\"Could not find the JSON file {settings} with settings.\")\n",
      "WARNING:pyabf.abf:fileGUID isn't truly unique (fileUUID is)\n"
     ]
    },
    {
     "name": "stdout",
     "output_type": "stream",
     "text": [
      "NWB Conversion complete for data/processed/recordings/human2019/2019_11_04_0128.nwb\n",
      "Subject meta: {'Subject': {'age': None, 'description': \"['C8. L5 RMP -65.2  mV Big cell, gain 40, Dc 150, ZD']\", 'species': 'Homo sapiens', 'subject_id': 'Donor_2019_11_26_0103'}}\n",
      "Stimulus chan: I_clampsec\n",
      "Response chan: Vm_sec\n"
     ]
    },
    {
     "name": "stderr",
     "output_type": "stream",
     "text": [
      "/Users/derek_howard/triplab/x-to-nwb/src/x_to_nwb/ABF2Converter.py:188: UserWarning: Could not find the JSON file data/raw/recordings/Human tissue/Human tissue-White noise_2019/Nov_28_2019/C1_L3C/ZD/Intrinsic Properties_C1_L3C-ZD/2019_11_28_0016.json with settings.\n",
      "  warnings.warn(f\"Could not find the JSON file {settings} with settings.\")\n",
      "WARNING:pyabf.abf:fileGUID isn't truly unique (fileUUID is)\n"
     ]
    },
    {
     "name": "stdout",
     "output_type": "stream",
     "text": [
      "NWB Conversion complete for data/processed/recordings/human2019/2019_11_26_0103.nwb\n",
      "Subject meta: {'Subject': {'age': None, 'description': \"['C1. L3C RMP -62.4  mV, Gain 40, Dc 140 pA, ZD 10 uM']\", 'species': 'Homo sapiens', 'subject_id': 'Donor_2019_11_28_0016'}}\n",
      "Stimulus chan: I_clampsec\n",
      "Response chan: Vm_sec\n"
     ]
    },
    {
     "name": "stderr",
     "output_type": "stream",
     "text": [
      "/Users/derek_howard/triplab/x-to-nwb/src/x_to_nwb/ABF2Converter.py:188: UserWarning: Could not find the JSON file data/raw/recordings/Human tissue/Human tissue-White noise_2019/Nov_28_2019/C2_L3C/ZD/Intrinsic Properties_C1_L3C-ZD/2019_11_28_0054.json with settings.\n",
      "  warnings.warn(f\"Could not find the JSON file {settings} with settings.\")\n",
      "WARNING:pyabf.abf:fileGUID isn't truly unique (fileUUID is)\n"
     ]
    },
    {
     "name": "stdout",
     "output_type": "stream",
     "text": [
      "NWB Conversion complete for data/processed/recordings/human2019/2019_11_28_0016.nwb\n",
      "Subject meta: {'Subject': {'age': None, 'description': \"['C2. L3 RMP -70 mv,ZD 10 uM, Gain 40, DC 27']\", 'species': 'Homo sapiens', 'subject_id': 'Donor_2019_11_28_0054'}}\n",
      "Stimulus chan: I_clampsec\n",
      "Response chan: Vm_sec\n"
     ]
    },
    {
     "name": "stderr",
     "output_type": "stream",
     "text": [
      "/Users/derek_howard/triplab/x-to-nwb/src/x_to_nwb/ABF2Converter.py:188: UserWarning: Could not find the JSON file data/raw/recordings/Human tissue/Human tissue-White noise_2019/Nov_28_2019/C3_L3C/ZD/Intrinsic Properties_C3_L3C-ZD/2019_11_28_0090.json with settings.\n",
      "  warnings.warn(f\"Could not find the JSON file {settings} with settings.\")\n",
      "WARNING:pyabf.abf:fileGUID isn't truly unique (fileUUID is)\n"
     ]
    },
    {
     "name": "stdout",
     "output_type": "stream",
     "text": [
      "NWB Conversion complete for data/processed/recordings/human2019/2019_11_28_0054.nwb\n",
      "Subject meta: {'Subject': {'age': None, 'description': \"['C3. L3c, RMP -64.5, ZD 10uM , After ZD']\", 'species': 'Homo sapiens', 'subject_id': 'Donor_2019_11_28_0090'}}\n",
      "Stimulus chan: I_clampsec\n",
      "Response chan: Vm_sec\n"
     ]
    },
    {
     "name": "stderr",
     "output_type": "stream",
     "text": [
      "/Users/derek_howard/triplab/x-to-nwb/src/x_to_nwb/ABF2Converter.py:188: UserWarning: Could not find the JSON file data/raw/recordings/Human tissue/Human tissue-White noise_2019/Nov_28_2019/C4_L3C/ZD/Intrinsic Properties_C4_L3C-ZD/2019_11_28_0114.json with settings.\n",
      "  warnings.warn(f\"Could not find the JSON file {settings} with settings.\")\n",
      "WARNING:pyabf.abf:fileGUID isn't truly unique (fileUUID is)\n"
     ]
    },
    {
     "name": "stdout",
     "output_type": "stream",
     "text": [
      "NWB Conversion complete for data/processed/recordings/human2019/2019_11_28_0090.nwb\n",
      "Subject meta: {'Subject': {'age': None, 'description': \"['C4 L3c, RMP -64.3, ZD 10 uM']\", 'species': 'Homo sapiens', 'subject_id': 'Donor_2019_11_28_0114'}}\n",
      "Stimulus chan: I_clampsec\n",
      "Response chan: Vm_sec\n"
     ]
    },
    {
     "name": "stderr",
     "output_type": "stream",
     "text": [
      "/Users/derek_howard/triplab/x-to-nwb/src/x_to_nwb/ABF2Converter.py:188: UserWarning: Could not find the JSON file data/raw/recordings/Human tissue/Human tissue-White noise_2019/Nov_28_2019/C5_L5/ZD/Intrinsic Properties_C5_L5_ZD/2019_11_28_0127.json with settings.\n",
      "  warnings.warn(f\"Could not find the JSON file {settings} with settings.\")\n",
      "WARNING:pyabf.abf:fileGUID isn't truly unique (fileUUID is)\n"
     ]
    },
    {
     "name": "stdout",
     "output_type": "stream",
     "text": [
      "NWB Conversion complete for data/processed/recordings/human2019/2019_11_28_0114.nwb\n",
      "Subject meta: {'Subject': {'age': None, 'description': \"['C5, L5, RMP -61 mV,ZD']\", 'species': 'Homo sapiens', 'subject_id': 'Donor_2019_11_28_0127'}}\n",
      "Stimulus chan: I_clampsec\n",
      "Response chan: Vm_sec\n"
     ]
    },
    {
     "name": "stderr",
     "output_type": "stream",
     "text": [
      "/Users/derek_howard/triplab/x-to-nwb/src/x_to_nwb/ABF2Converter.py:188: UserWarning: Could not find the JSON file data/raw/recordings/Human tissue/Human tissue-White noise_2019/Nov_04_2019/C1_L3/Intrinsic Properties_C1_L3C/2019_11_04_0001.json with settings.\n",
      "  warnings.warn(f\"Could not find the JSON file {settings} with settings.\")\n",
      "WARNING:pyabf.abf:fileGUID isn't truly unique (fileUUID is)\n"
     ]
    },
    {
     "name": "stdout",
     "output_type": "stream",
     "text": [
      "NWB Conversion complete for data/processed/recordings/human2019/2019_11_28_0127.nwb\n",
      "Subject meta: {'Subject': {'age': None, 'description': \"['C1, L3, APV,CNQX,PTX, RMP -63..6 mV']\", 'species': 'Homo sapiens', 'subject_id': 'Donor_2019_11_04_0001'}}\n",
      "Stimulus chan: I_clampsec\n",
      "Response chan: Vm_sec\n"
     ]
    },
    {
     "name": "stderr",
     "output_type": "stream",
     "text": [
      "/Users/derek_howard/triplab/x-to-nwb/src/x_to_nwb/ABF2Converter.py:188: UserWarning: Could not find the JSON file data/raw/recordings/Human tissue/Human tissue-White noise_2019/Nov_04_2019/C1_L3/Intrinsic Properties_C1_L3C/2019_11_04_0002.json with settings.\n",
      "  warnings.warn(f\"Could not find the JSON file {settings} with settings.\")\n",
      "WARNING:pyabf.abf:fileGUID isn't truly unique (fileUUID is)\n"
     ]
    },
    {
     "name": "stdout",
     "output_type": "stream",
     "text": [
      "NWB Conversion complete for data/processed/recordings/human2019/2019_11_04_0001.nwb\n",
      "Subject meta: {'Subject': {'age': None, 'description': \"['C1, L3, APV,CNQX,PTX, RMP -63..6 mV']\", 'species': 'Homo sapiens', 'subject_id': 'Donor_2019_11_04_0002'}}\n",
      "Stimulus chan: I_clampsec\n",
      "Response chan: Vm_sec\n"
     ]
    },
    {
     "name": "stderr",
     "output_type": "stream",
     "text": [
      "/Users/derek_howard/triplab/x-to-nwb/src/x_to_nwb/ABF2Converter.py:188: UserWarning: Could not find the JSON file data/raw/recordings/Human tissue/Human tissue-White noise_2019/Nov_04_2019/C1_L3/Intrinsic Properties_C1_L3C/2019_11_04_0003.json with settings.\n",
      "  warnings.warn(f\"Could not find the JSON file {settings} with settings.\")\n",
      "WARNING:pyabf.abf:fileGUID isn't truly unique (fileUUID is)\n"
     ]
    },
    {
     "name": "stdout",
     "output_type": "stream",
     "text": [
      "NWB Conversion complete for data/processed/recordings/human2019/2019_11_04_0002.nwb\n",
      "Subject meta: {'Subject': {'age': None, 'description': \"['C1, L3, APV,CNQX,PTX, RMP -63..6 mV']\", 'species': 'Homo sapiens', 'subject_id': 'Donor_2019_11_04_0003'}}\n",
      "Stimulus chan: Cmd 1\n",
      "Response chan: Vm_sec\n"
     ]
    },
    {
     "name": "stderr",
     "output_type": "stream",
     "text": [
      "/Users/derek_howard/triplab/x-to-nwb/src/x_to_nwb/ABF2Converter.py:519: UserWarning: Could not find the scale factor for the stimset Ramp 1S-190-330-20, using 1.0 as fallback.\n",
      "  warnings.warn(\n",
      "/Users/derek_howard/triplab/x-to-nwb/src/x_to_nwb/ABF2Converter.py:188: UserWarning: Could not find the JSON file data/raw/recordings/Human tissue/Human tissue-White noise_2019/Nov_04_2019/C2_L3/Intrinsic Properties_C2_L3C/2019_11_04_0083.json with settings.\n",
      "  warnings.warn(f\"Could not find the JSON file {settings} with settings.\")\n",
      "WARNING:pyabf.abf:fileGUID isn't truly unique (fileUUID is)\n"
     ]
    },
    {
     "name": "stdout",
     "output_type": "stream",
     "text": [
      "NWB Conversion complete for data/processed/recordings/human2019/2019_11_04_0003.nwb\n",
      "Subject meta: {'Subject': {'age': None, 'description': \"['C2, L3, APV,CNQX,PTX,']\", 'species': 'Homo sapiens', 'subject_id': 'Donor_2019_11_04_0083'}}\n",
      "Stimulus chan: I_clampsec\n",
      "Response chan: Vm_sec\n"
     ]
    },
    {
     "name": "stderr",
     "output_type": "stream",
     "text": [
      "/Users/derek_howard/triplab/x-to-nwb/src/x_to_nwb/ABF2Converter.py:188: UserWarning: Could not find the JSON file data/raw/recordings/Human tissue/Human tissue-White noise_2019/Nov_04_2019/C2_L3/Intrinsic Properties_C2_L3C/2019_11_04_0084.json with settings.\n",
      "  warnings.warn(f\"Could not find the JSON file {settings} with settings.\")\n",
      "WARNING:pyabf.abf:fileGUID isn't truly unique (fileUUID is)\n"
     ]
    },
    {
     "name": "stdout",
     "output_type": "stream",
     "text": [
      "NWB Conversion complete for data/processed/recordings/human2019/2019_11_04_0083.nwb\n",
      "Subject meta: {'Subject': {'age': None, 'description': \"['C2, L3, APV,CNQX,PTX,']\", 'species': 'Homo sapiens', 'subject_id': 'Donor_2019_11_04_0084'}}\n",
      "Stimulus chan: I_clampsec\n",
      "Response chan: Vm_sec\n"
     ]
    },
    {
     "name": "stderr",
     "output_type": "stream",
     "text": [
      "/Users/derek_howard/triplab/x-to-nwb/src/x_to_nwb/ABF2Converter.py:188: UserWarning: Could not find the JSON file data/raw/recordings/Human tissue/Human tissue-White noise_2019/Nov_04_2019/C2_L3/Intrinsic Properties_C2_L3C/2019_11_04_0085.json with settings.\n",
      "  warnings.warn(f\"Could not find the JSON file {settings} with settings.\")\n",
      "WARNING:pyabf.abf:fileGUID isn't truly unique (fileUUID is)\n"
     ]
    },
    {
     "name": "stdout",
     "output_type": "stream",
     "text": [
      "NWB Conversion complete for data/processed/recordings/human2019/2019_11_04_0084.nwb\n",
      "Subject meta: {'Subject': {'age': None, 'description': \"['C2, L3, APV,CNQX,PTX,']\", 'species': 'Homo sapiens', 'subject_id': 'Donor_2019_11_04_0085'}}\n",
      "Stimulus chan: Cmd 1\n",
      "Response chan: Vm_sec\n"
     ]
    },
    {
     "name": "stderr",
     "output_type": "stream",
     "text": [
      "/Users/derek_howard/triplab/x-to-nwb/src/x_to_nwb/ABF2Converter.py:188: UserWarning: Could not find the JSON file data/raw/recordings/Human tissue/Human tissue-White noise_2019/Nov_26_2019/C1_L5/Intrinsic Properties_C1_L5/2019_11_26_0006.json with settings.\n",
      "  warnings.warn(f\"Could not find the JSON file {settings} with settings.\")\n",
      "WARNING:pyabf.abf:fileGUID isn't truly unique (fileUUID is)\n"
     ]
    },
    {
     "name": "stdout",
     "output_type": "stream",
     "text": [
      "NWB Conversion complete for data/processed/recordings/human2019/2019_11_04_0085.nwb\n",
      "Subject meta: {'Subject': {'age': None, 'description': \"['C1, L5, RMP -71.5 mv,PV,CNQX, CGP,BIC']\", 'species': 'Homo sapiens', 'subject_id': 'Donor_2019_11_26_0006'}}\n",
      "Stimulus chan: I_clampsec\n",
      "Response chan: Vm_sec\n"
     ]
    },
    {
     "name": "stderr",
     "output_type": "stream",
     "text": [
      "/Users/derek_howard/triplab/x-to-nwb/src/x_to_nwb/ABF2Converter.py:188: UserWarning: Could not find the JSON file data/raw/recordings/Human tissue/Human tissue-White noise_2019/Nov_26_2019/C2_L5/Intrinsic Properties_C2_L5/2019_11_26_0019.json with settings.\n",
      "  warnings.warn(f\"Could not find the JSON file {settings} with settings.\")\n",
      "WARNING:pyabf.abf:fileGUID isn't truly unique (fileUUID is)\n"
     ]
    },
    {
     "name": "stdout",
     "output_type": "stream",
     "text": [
      "NWB Conversion complete for data/processed/recordings/human2019/2019_11_26_0006.nwb\n",
      "Subject meta: {'Subject': {'age': None, 'description': \"['C2 L5, RMP -72.9 mv,PV,CNQX, CGP,BIic, ZD 10 uM added']\", 'species': 'Homo sapiens', 'subject_id': 'Donor_2019_11_26_0019'}}\n",
      "Stimulus chan: I_clampsec\n",
      "Response chan: Vm_sec\n"
     ]
    },
    {
     "name": "stderr",
     "output_type": "stream",
     "text": [
      "/Users/derek_howard/triplab/x-to-nwb/src/x_to_nwb/ABF2Converter.py:188: UserWarning: Could not find the JSON file data/raw/recordings/Human tissue/Human tissue-White noise_2019/Nov_26_2019/C3_L3/Intrinsic Properties_C3_L3/2019_11_26_0037.json with settings.\n",
      "  warnings.warn(f\"Could not find the JSON file {settings} with settings.\")\n",
      "WARNING:pyabf.abf:fileGUID isn't truly unique (fileUUID is)\n"
     ]
    },
    {
     "name": "stdout",
     "output_type": "stream",
     "text": [
      "NWB Conversion complete for data/processed/recordings/human2019/2019_11_26_0019.nwb\n",
      "Subject meta: {'Subject': {'age': None, 'description': \"['C3 L3c RMP -68.7,']\", 'species': 'Homo sapiens', 'subject_id': 'Donor_2019_11_26_0037'}}\n",
      "Stimulus chan: I_clampsec\n",
      "Response chan: Vm_sec\n"
     ]
    },
    {
     "name": "stderr",
     "output_type": "stream",
     "text": [
      "/Users/derek_howard/triplab/x-to-nwb/src/x_to_nwb/ABF2Converter.py:188: UserWarning: Could not find the JSON file data/raw/recordings/Human tissue/Human tissue-White noise_2019/Nov_26_2019/C8_L5/Intrinsic Properties_C8_L5/2019_11_26_0094.json with settings.\n",
      "  warnings.warn(f\"Could not find the JSON file {settings} with settings.\")\n",
      "WARNING:pyabf.abf:fileGUID isn't truly unique (fileUUID is)\n"
     ]
    },
    {
     "name": "stdout",
     "output_type": "stream",
     "text": [
      "NWB Conversion complete for data/processed/recordings/human2019/2019_11_26_0037.nwb\n",
      "Subject meta: {'Subject': {'age': None, 'description': \"['C8. L5 RMP -65.2  mV Big cell']\", 'species': 'Homo sapiens', 'subject_id': 'Donor_2019_11_26_0094'}}\n",
      "Stimulus chan: I_clampsec\n",
      "Response chan: Vm_sec\n"
     ]
    },
    {
     "name": "stderr",
     "output_type": "stream",
     "text": [
      "/Users/derek_howard/triplab/x-to-nwb/src/x_to_nwb/ABF2Converter.py:188: UserWarning: Could not find the JSON file data/raw/recordings/Human tissue/Human tissue-White noise_2019/Nov_26_2019/C9_L5/Intrinsic Properties_C9_L5/2019_11_26_0110.json with settings.\n",
      "  warnings.warn(f\"Could not find the JSON file {settings} with settings.\")\n",
      "WARNING:pyabf.abf:fileGUID isn't truly unique (fileUUID is)\n"
     ]
    },
    {
     "name": "stdout",
     "output_type": "stream",
     "text": [
      "NWB Conversion complete for data/processed/recordings/human2019/2019_11_26_0094.nwb\n",
      "Subject meta: {'Subject': {'age': None, 'description': \"['C9. L5 RMP -65.4  mV Big cell,']\", 'species': 'Homo sapiens', 'subject_id': 'Donor_2019_11_26_0110'}}\n",
      "Stimulus chan: I_clampsec\n",
      "Response chan: Vm_sec\n"
     ]
    },
    {
     "name": "stderr",
     "output_type": "stream",
     "text": [
      "/Users/derek_howard/triplab/x-to-nwb/src/x_to_nwb/ABF2Converter.py:188: UserWarning: Could not find the JSON file data/raw/recordings/Human tissue/Human tissue-White noise_2019/Nov_28_2019/C1_L3C/Intrinsic Properties_C1_L3C/2019_11_28_0010.json with settings.\n",
      "  warnings.warn(f\"Could not find the JSON file {settings} with settings.\")\n",
      "WARNING:pyabf.abf:fileGUID isn't truly unique (fileUUID is)\n"
     ]
    },
    {
     "name": "stdout",
     "output_type": "stream",
     "text": [
      "NWB Conversion complete for data/processed/recordings/human2019/2019_11_26_0110.nwb\n",
      "Subject meta: {'Subject': {'age': None, 'description': \"['C1. L3C RMP -62.4  mV,']\", 'species': 'Homo sapiens', 'subject_id': 'Donor_2019_11_28_0010'}}\n",
      "Stimulus chan: I_clampsec\n",
      "Response chan: Vm_sec\n"
     ]
    },
    {
     "name": "stderr",
     "output_type": "stream",
     "text": [
      "/Users/derek_howard/triplab/x-to-nwb/src/x_to_nwb/ABF2Converter.py:188: UserWarning: Could not find the JSON file data/raw/recordings/Human tissue/Human tissue-White noise_2019/Nov_28_2019/C2_L3C/Intrinsic Properties_C2_L3C/2019_11_28_0038.json with settings.\n",
      "  warnings.warn(f\"Could not find the JSON file {settings} with settings.\")\n",
      "WARNING:pyabf.abf:fileGUID isn't truly unique (fileUUID is)\n"
     ]
    },
    {
     "name": "stdout",
     "output_type": "stream",
     "text": [
      "NWB Conversion complete for data/processed/recordings/human2019/2019_11_28_0010.nwb\n",
      "Subject meta: {'Subject': {'age': None, 'description': \"['C2. L3 RMP -71.9 mv']\", 'species': 'Homo sapiens', 'subject_id': 'Donor_2019_11_28_0038'}}\n",
      "Stimulus chan: I_clampsec\n",
      "Response chan: Vm_sec\n"
     ]
    },
    {
     "name": "stderr",
     "output_type": "stream",
     "text": [
      "/Users/derek_howard/triplab/x-to-nwb/src/x_to_nwb/ABF2Converter.py:188: UserWarning: Could not find the JSON file data/raw/recordings/Human tissue/Human tissue-White noise_2019/Nov_28_2019/C3_L3C/Intrinsic Properties_C3_L3C/2019_11_28_0079.json with settings.\n",
      "  warnings.warn(f\"Could not find the JSON file {settings} with settings.\")\n",
      "WARNING:pyabf.abf:fileGUID isn't truly unique (fileUUID is)\n"
     ]
    },
    {
     "name": "stdout",
     "output_type": "stream",
     "text": [
      "NWB Conversion complete for data/processed/recordings/human2019/2019_11_28_0038.nwb\n",
      "Subject meta: {'Subject': {'age': None, 'description': \"['C3. L3 RMP -64.2  mv,', 'C3. L3c, RMP -64.2  mv,']\", 'species': 'Homo sapiens', 'subject_id': 'Donor_2019_11_28_0079'}}\n",
      "Stimulus chan: I_clampsec\n",
      "Response chan: Vm_sec\n"
     ]
    },
    {
     "name": "stderr",
     "output_type": "stream",
     "text": [
      "/Users/derek_howard/triplab/x-to-nwb/src/x_to_nwb/ABF2Converter.py:188: UserWarning: Could not find the JSON file data/raw/recordings/Human tissue/Human tissue-White noise_2019/Nov_28_2019/C5_L5/Intrinsic Properties_C5_L5/2019_11_28_0119.json with settings.\n",
      "  warnings.warn(f\"Could not find the JSON file {settings} with settings.\")\n",
      "WARNING:pyabf.abf:fileGUID isn't truly unique (fileUUID is)\n"
     ]
    },
    {
     "name": "stdout",
     "output_type": "stream",
     "text": [
      "NWB Conversion complete for data/processed/recordings/human2019/2019_11_28_0079.nwb\n",
      "Subject meta: {'Subject': {'age': None, 'description': \"['C5, L5, RMP -61 mV']\", 'species': 'Homo sapiens', 'subject_id': 'Donor_2019_11_28_0119'}}\n",
      "Stimulus chan: I_clampsec\n",
      "Response chan: Vm_sec\n"
     ]
    },
    {
     "name": "stderr",
     "output_type": "stream",
     "text": [
      "/Users/derek_howard/triplab/x-to-nwb/src/x_to_nwb/ABF2Converter.py:188: UserWarning: Could not find the JSON file data/raw/recordings/Human tissue/Human tissue-White noise_2019/October_10_2019_Epileptogenic zone/C1_L5/Intrinsic Properties_C1_L5/19o10010.json with settings.\n",
      "  warnings.warn(f\"Could not find the JSON file {settings} with settings.\")\n",
      "WARNING:pyabf.abf:fileGUID isn't truly unique (fileUUID is)\n"
     ]
    },
    {
     "name": "stdout",
     "output_type": "stream",
     "text": [
      "NWB Conversion complete for data/processed/recordings/human2019/2019_11_28_0119.nwb\n",
      "Subject meta: {'Subject': {'age': None, 'description': \"['C1, L5, APV, CNQX, 4AP, PTX,']\", 'species': 'Homo sapiens', 'subject_id': 'Donor_19o10010'}}\n",
      "Stimulus chan: I_clampsec\n",
      "Response chan: Vm_sec\n"
     ]
    },
    {
     "name": "stderr",
     "output_type": "stream",
     "text": [
      "/Users/derek_howard/triplab/x-to-nwb/src/x_to_nwb/ABF2Converter.py:188: UserWarning: Could not find the JSON file data/raw/recordings/Human tissue/Human tissue-White noise_2019/October_10_2019_Epileptogenic zone/C1_L5/Intrinsic Properties_C1_L5/19o10011.json with settings.\n",
      "  warnings.warn(f\"Could not find the JSON file {settings} with settings.\")\n",
      "WARNING:pyabf.abf:fileGUID isn't truly unique (fileUUID is)\n"
     ]
    },
    {
     "name": "stdout",
     "output_type": "stream",
     "text": [
      "NWB Conversion complete for data/processed/recordings/human2019/19o10010.nwb\n",
      "Subject meta: {'Subject': {'age': None, 'description': \"['C1, L5, APV, CNQX, 4AP, PTX,']\", 'species': 'Homo sapiens', 'subject_id': 'Donor_19o10011'}}\n",
      "Stimulus chan: I_clampsec\n",
      "Response chan: Vm_sec\n"
     ]
    },
    {
     "name": "stderr",
     "output_type": "stream",
     "text": [
      "/Users/derek_howard/triplab/x-to-nwb/src/x_to_nwb/ABF2Converter.py:188: UserWarning: Could not find the JSON file data/raw/recordings/Human tissue/Human tissue-White noise_2019/October_10_2019_Epileptogenic zone/C1_L5/Intrinsic Properties_C1_L5/19o10012.json with settings.\n",
      "  warnings.warn(f\"Could not find the JSON file {settings} with settings.\")\n",
      "WARNING:pyabf.abf:fileGUID isn't truly unique (fileUUID is)\n"
     ]
    },
    {
     "name": "stdout",
     "output_type": "stream",
     "text": [
      "NWB Conversion complete for data/processed/recordings/human2019/19o10011.nwb\n",
      "Subject meta: {'Subject': {'age': None, 'description': \"['C1, L5, APV, CNQX, 4AP, PTX,']\", 'species': 'Homo sapiens', 'subject_id': 'Donor_19o10012'}}\n",
      "Stimulus chan: Cmd 1\n",
      "Response chan: Vm_sec\n"
     ]
    },
    {
     "name": "stderr",
     "output_type": "stream",
     "text": [
      "/Users/derek_howard/triplab/x-to-nwb/src/x_to_nwb/ABF2Converter.py:188: UserWarning: Could not find the JSON file data/raw/recordings/Human tissue/Human tissue-White noise_2019/October_10_2019_Epileptogenic zone/C4_L5/Intrinsic Properties_C4_L5/19o10045.json with settings.\n",
      "  warnings.warn(f\"Could not find the JSON file {settings} with settings.\")\n",
      "WARNING:pyabf.abf:fileGUID isn't truly unique (fileUUID is)\n"
     ]
    },
    {
     "name": "stdout",
     "output_type": "stream",
     "text": [
      "NWB Conversion complete for data/processed/recordings/human2019/19o10012.nwb\n",
      "Subject meta: {'Subject': {'age': None, 'description': \"['C4, L5, APV,CNQX, PTX']\", 'species': 'Homo sapiens', 'subject_id': 'Donor_19o10045'}}\n",
      "Stimulus chan: I_clampsec\n",
      "Response chan: Vm_sec\n"
     ]
    },
    {
     "name": "stderr",
     "output_type": "stream",
     "text": [
      "/Users/derek_howard/triplab/x-to-nwb/src/x_to_nwb/ABF2Converter.py:188: UserWarning: Could not find the JSON file data/raw/recordings/Human tissue/Human tissue-White noise_2019/October_10_2019_Epileptogenic zone/C4_L5/Intrinsic Properties_C4_L5/19o10046.json with settings.\n",
      "  warnings.warn(f\"Could not find the JSON file {settings} with settings.\")\n",
      "WARNING:pyabf.abf:fileGUID isn't truly unique (fileUUID is)\n"
     ]
    },
    {
     "name": "stdout",
     "output_type": "stream",
     "text": [
      "NWB Conversion complete for data/processed/recordings/human2019/19o10045.nwb\n",
      "Subject meta: {'Subject': {'age': None, 'description': \"['C4, L5, APV,CNQX, PTX']\", 'species': 'Homo sapiens', 'subject_id': 'Donor_19o10046'}}\n",
      "Stimulus chan: I_clampsec\n",
      "Response chan: Vm_sec\n"
     ]
    },
    {
     "name": "stderr",
     "output_type": "stream",
     "text": [
      "/Users/derek_howard/triplab/x-to-nwb/src/x_to_nwb/ABF2Converter.py:188: UserWarning: Could not find the JSON file data/raw/recordings/Human tissue/Human tissue-White noise_2019/October_10_2019_Epileptogenic zone/C4_L5/Intrinsic Properties_C4_L5/19o10048.json with settings.\n",
      "  warnings.warn(f\"Could not find the JSON file {settings} with settings.\")\n",
      "WARNING:pyabf.abf:fileGUID isn't truly unique (fileUUID is)\n"
     ]
    },
    {
     "name": "stdout",
     "output_type": "stream",
     "text": [
      "NWB Conversion complete for data/processed/recordings/human2019/19o10046.nwb\n",
      "Subject meta: {'Subject': {'age': None, 'description': \"['C4, L5, APV,CNQX, PTX']\", 'species': 'Homo sapiens', 'subject_id': 'Donor_19o10048'}}\n",
      "Stimulus chan: Cmd 1\n",
      "Response chan: Vm_sec\n"
     ]
    },
    {
     "name": "stderr",
     "output_type": "stream",
     "text": [
      "/Users/derek_howard/triplab/x-to-nwb/src/x_to_nwb/ABF2Converter.py:188: UserWarning: Could not find the JSON file data/raw/recordings/Human tissue/Human tissue-White noise_2019/October_10_2019_Epileptogenic zone/C5_L5/Intrinsic Properties_C5_L5/19o10054.json with settings.\n",
      "  warnings.warn(f\"Could not find the JSON file {settings} with settings.\")\n",
      "WARNING:pyabf.abf:fileGUID isn't truly unique (fileUUID is)\n"
     ]
    },
    {
     "name": "stdout",
     "output_type": "stream",
     "text": [
      "NWB Conversion complete for data/processed/recordings/human2019/19o10048.nwb\n",
      "Subject meta: {'Subject': {'age': None, 'description': \"['C5, L5, APV,CNQX, PTX,']\", 'species': 'Homo sapiens', 'subject_id': 'Donor_19o10054'}}\n",
      "Stimulus chan: I_clampsec\n",
      "Response chan: Vm_sec\n"
     ]
    },
    {
     "name": "stderr",
     "output_type": "stream",
     "text": [
      "/Users/derek_howard/triplab/x-to-nwb/src/x_to_nwb/ABF2Converter.py:188: UserWarning: Could not find the JSON file data/raw/recordings/Human tissue/Human tissue-White noise_2019/October_10_2019_Epileptogenic zone/C5_L5/Intrinsic Properties_C5_L5/19o10055.json with settings.\n",
      "  warnings.warn(f\"Could not find the JSON file {settings} with settings.\")\n",
      "WARNING:pyabf.abf:fileGUID isn't truly unique (fileUUID is)\n"
     ]
    },
    {
     "name": "stdout",
     "output_type": "stream",
     "text": [
      "NWB Conversion complete for data/processed/recordings/human2019/19o10054.nwb\n",
      "Subject meta: {'Subject': {'age': None, 'description': \"['C5, L5, APV,CNQX, PTX,']\", 'species': 'Homo sapiens', 'subject_id': 'Donor_19o10055'}}\n",
      "Stimulus chan: I_clampsec\n",
      "Response chan: Vm_sec\n"
     ]
    },
    {
     "name": "stderr",
     "output_type": "stream",
     "text": [
      "/Users/derek_howard/triplab/x-to-nwb/src/x_to_nwb/ABF2Converter.py:188: UserWarning: Could not find the JSON file data/raw/recordings/Human tissue/Human tissue-White noise_2019/October_10_2019_Epileptogenic zone/C6_L2/Intrinsic Properties_C6_L2/19o10062.json with settings.\n",
      "  warnings.warn(f\"Could not find the JSON file {settings} with settings.\")\n",
      "WARNING:pyabf.abf:fileGUID isn't truly unique (fileUUID is)\n"
     ]
    },
    {
     "name": "stdout",
     "output_type": "stream",
     "text": [
      "NWB Conversion complete for data/processed/recordings/human2019/19o10055.nwb\n",
      "Subject meta: {'Subject': {'age': None, 'description': \"['C6, L2, APV,CNQX, PTX,']\", 'species': 'Homo sapiens', 'subject_id': 'Donor_19o10062'}}\n",
      "Stimulus chan: I_clampsec\n",
      "Response chan: Vm_sec\n"
     ]
    },
    {
     "name": "stderr",
     "output_type": "stream",
     "text": [
      "/Users/derek_howard/triplab/x-to-nwb/src/x_to_nwb/ABF2Converter.py:188: UserWarning: Could not find the JSON file data/raw/recordings/Human tissue/Human tissue-White noise_2019/October_10_2019_Epileptogenic zone/C6_L2/Intrinsic Properties_C6_L2/19o10063.json with settings.\n",
      "  warnings.warn(f\"Could not find the JSON file {settings} with settings.\")\n",
      "WARNING:pyabf.abf:fileGUID isn't truly unique (fileUUID is)\n"
     ]
    },
    {
     "name": "stdout",
     "output_type": "stream",
     "text": [
      "NWB Conversion complete for data/processed/recordings/human2019/19o10062.nwb\n",
      "Subject meta: {'Subject': {'age': None, 'description': \"['C6, L2, APV,CNQX, PTX,']\", 'species': 'Homo sapiens', 'subject_id': 'Donor_19o10063'}}\n",
      "Stimulus chan: Cmd 1\n",
      "Response chan: Vm_sec\n"
     ]
    },
    {
     "name": "stderr",
     "output_type": "stream",
     "text": [
      "/Users/derek_howard/triplab/x-to-nwb/src/x_to_nwb/ABF2Converter.py:188: UserWarning: Could not find the JSON file data/raw/recordings/Human tissue/Human tissue-White noise_2019/October_10_2019_Epileptogenic zone/C6_L2/Intrinsic Properties_C6_L2/19o10065.json with settings.\n",
      "  warnings.warn(f\"Could not find the JSON file {settings} with settings.\")\n",
      "WARNING:pyabf.abf:fileGUID isn't truly unique (fileUUID is)\n"
     ]
    },
    {
     "name": "stdout",
     "output_type": "stream",
     "text": [
      "NWB Conversion complete for data/processed/recordings/human2019/19o10063.nwb\n",
      "Subject meta: {'Subject': {'age': None, 'description': \"['C6, L2, APV,CNQX, PTX,', 'C6, L2, APV,CNQX, PTX,']\", 'species': 'Homo sapiens', 'subject_id': 'Donor_19o10065'}}\n",
      "Stimulus chan: I_clampsec\n",
      "Response chan: Vm_sec\n"
     ]
    },
    {
     "name": "stderr",
     "output_type": "stream",
     "text": [
      "/Users/derek_howard/triplab/x-to-nwb/src/x_to_nwb/ABF2Converter.py:188: UserWarning: Could not find the JSON file data/raw/recordings/Human tissue/Human tissue-White noise_2019/Sep_03-2019/C1_L2/Intrinsic Properties_C1_L2/2019_09_03_0017.json with settings.\n",
      "  warnings.warn(f\"Could not find the JSON file {settings} with settings.\")\n",
      "WARNING:pyabf.abf:fileGUID isn't truly unique (fileUUID is)\n",
      "/Users/derek_howard/triplab/x-to-nwb/src/x_to_nwb/ABF2Converter.py:519: UserWarning: Could not find the scale factor for the stimset None, using 1.0 as fallback.\n",
      "  warnings.warn(\n",
      "/Users/derek_howard/triplab/x-to-nwb/src/x_to_nwb/ABF2Converter.py:550: UserWarning: Could not find settings for amplifier unknown of channel Vm_primary.\n",
      "  warnings.warn(f\"Could not find settings for amplifier {amplifier} of channel {adcName}.\")\n",
      "/Users/derek_howard/triplab/x-to-nwb/src/x_to_nwb/ABF2Converter.py:605: UserWarning: Unsupported clamp mode {clampMode}\n",
      "  warnings.warn(\"Unsupported clamp mode {clampMode}\")\n",
      "/Users/derek_howard/triplab/x-to-nwb/src/x_to_nwb/ABF2Converter.py:188: UserWarning: Could not find the JSON file data/raw/recordings/Human tissue/Human tissue-White noise_2019/Sep_03-2019/C1_L2/Intrinsic Properties_C1_L2/2019_09_03_0020.json with settings.\n",
      "  warnings.warn(f\"Could not find the JSON file {settings} with settings.\")\n",
      "WARNING:pyabf.abf:fileGUID isn't truly unique (fileUUID is)\n"
     ]
    },
    {
     "name": "stdout",
     "output_type": "stream",
     "text": [
      "NWB Conversion complete for data/processed/recordings/human2019/19o10065.nwb\n",
      "Subject meta: {'Subject': {'age': None, 'description': \"['C1, L2-RMP -64']\", 'species': 'Homo sapiens', 'subject_id': 'Donor_2019_09_03_0017'}}\n",
      "Stimulus chan: I_clampsec\n",
      "Response chan: Vm_primary\n",
      "****************************************************************************************************\n",
      "Error: 'bias_current' \n",
      " data/raw/recordings/Human tissue/Human tissue-White noise_2019/Sep_03-2019/C1_L2/Intrinsic Properties_C1_L2/2019_09_03_0017.abf \n",
      "\n",
      "Subject meta: {'Subject': {'age': None, 'description': \"['C1, L2-RMP -64']\", 'species': 'Homo sapiens', 'subject_id': 'Donor_2019_09_03_0020'}}\n",
      "Stimulus chan: Cmd 1\n",
      "Response chan: Vm_sec\n",
      "NWB Conversion complete for data/processed/recordings/human2019/2019_09_03_0020.nwb\n"
     ]
    }
   ],
   "source": [
    "successes = []\n",
    "errors = []\n",
    "\n",
    "for i, row in to_convert.iterrows():\n",
    "    if row.abf_version == '2.6.0.0':\n",
    "        try:\n",
    "            convert_abfv2_row(row)\n",
    "            successes.append((row.file_id, row.path))\n",
    "        except (ValueError, IndexError, TypeError, KeyError) as e:\n",
    "            print('**'*50)\n",
    "            print(f'Error: {e} \\n {row.path} \\n')\n",
    "            errors.append((e, row.file_id, row.path))\n",
    "    \n",
    "    elif row.abf_version == '1.8.3.0':\n",
    "        try:\n",
    "            convert_abfv1_row(row)\n",
    "            successes.append((row.file_id, row.path))\n",
    "        except (ValueError, IndexError, TypeError, KeyError) as e:\n",
    "            print('**'*50)\n",
    "            print(f'Error: {e} \\n {row.path} \\n')\n",
    "            errors.append((e, row.file_id, row.path))        "
   ]
  },
  {
   "cell_type": "code",
   "execution_count": 35,
   "id": "45611174",
   "metadata": {},
   "outputs": [
    {
     "name": "stdout",
     "output_type": "stream",
     "text": [
      "2021-07-28 15:39:27,015 [ WARNING] A newer version (0.25.0) of dandi/dandi-cli is available. You are using 0.23.2\n",
      "2021-07-28 15:39:30,371 [    INFO] data/processed/recordings/human2019/19320017.nwb: ok\n",
      "2021-07-28 15:39:32,146 [    INFO] data/processed/recordings/human2019/19320001.nwb: ok\n",
      "2021-07-28 15:39:33,846 [    INFO] data/processed/recordings/human2019/2019_11_28_0010.nwb: ok\n",
      "2021-07-28 15:39:35,485 [    INFO] data/processed/recordings/human2019/2019_11_28_0038.nwb: ok\n",
      "2021-07-28 15:39:37,187 [    INFO] data/processed/recordings/human2019/2019_11_26_0019.nwb: ok\n",
      "2021-07-28 15:39:38,954 [    INFO] data/processed/recordings/human2019/19228058.nwb: ok\n",
      "2021-07-28 15:39:40,763 [    INFO] data/processed/recordings/human2019/19129072.nwb: ok\n",
      "2021-07-28 15:39:42,582 [    INFO] data/processed/recordings/human2019/19129058.nwb: ok\n",
      "2021-07-28 15:39:44,463 [    INFO] data/processed/recordings/human2019/19320007.nwb: ok\n",
      "2021-07-28 15:39:46,257 [    INFO] data/processed/recordings/human2019/2019_11_28_0016.nwb: ok\n",
      "2021-07-28 15:39:48,003 [    INFO] data/processed/recordings/human2019/2019_11_26_0037.nwb: ok\n",
      "2021-07-28 15:39:49,721 [    INFO] data/processed/recordings/human2019/19328039.nwb: ok\n",
      "2021-07-28 15:39:51,471 [    INFO] data/processed/recordings/human2019/19319025.nwb: ok\n",
      "2021-07-28 15:39:53,135 [    INFO] data/processed/recordings/human2019/19o10045.nwb: ok\n",
      "2021-07-28 15:39:54,896 [    INFO] data/processed/recordings/human2019/2019_11_04_0083.nwb: ok\n",
      "2021-07-28 15:39:56,475 [    INFO] data/processed/recordings/human2019/19o10046.nwb: ok\n",
      "2021-07-28 15:39:58,265 [    INFO] data/processed/recordings/human2019/19128040.nwb: ok\n",
      "2021-07-28 15:40:00,014 [    INFO] data/processed/recordings/human2019/19128068.nwb: ok\n",
      "2021-07-28 15:40:01,768 [    INFO] data/processed/recordings/human2019/19129014.nwb: ok\n",
      "2021-07-28 15:40:03,407 [    INFO] data/processed/recordings/human2019/2019_11_04_0084.nwb: ok\n",
      "2021-07-28 15:40:05,133 [    INFO] data/processed/recordings/human2019/2019_11_26_0094.nwb: ok\n",
      "2021-07-28 15:40:06,821 [    INFO] data/processed/recordings/human2019/2019_11_04_0085.nwb: ok\n",
      "2021-07-28 15:40:08,512 [    INFO] data/processed/recordings/human2019/19122026.nwb: ok\n",
      "2021-07-28 15:40:10,172 [    INFO] data/processed/recordings/human2019/19o10055.nwb: ok\n",
      "2021-07-28 15:40:11,927 [    INFO] data/processed/recordings/human2019/19o10054.nwb: ok\n",
      "2021-07-28 15:40:13,675 [    INFO] data/processed/recordings/human2019/2019_11_28_0114.nwb: ok\n",
      "2021-07-28 15:40:15,439 [    INFO] data/processed/recordings/human2019/19328001.nwb: ok\n",
      "2021-07-28 15:40:17,157 [    INFO] data/processed/recordings/human2019/19129037.nwb: ok\n",
      "2021-07-28 15:40:18,881 [    INFO] data/processed/recordings/human2019/2019_11_26_0110.nwb: ok\n",
      "2021-07-28 15:40:20,686 [    INFO] data/processed/recordings/human2019/2019_11_28_0079.nwb: ok\n",
      "2021-07-28 15:40:22,431 [    INFO] data/processed/recordings/human2019/19228030.nwb: ok\n",
      "2021-07-28 15:40:24,109 [    INFO] data/processed/recordings/human2019/2019_11_28_0119.nwb: ok\n",
      "2021-07-28 15:40:25,847 [    INFO] data/processed/recordings/human2019/2019_11_04_0128.nwb: ok\n",
      "2021-07-28 15:40:27,594 [    INFO] data/processed/recordings/human2019/19o10065.nwb: ok\n",
      "2021-07-28 15:40:29,487 [    INFO] data/processed/recordings/human2019/19122003.nwb: ok\n",
      "2021-07-28 15:40:31,209 [    INFO] data/processed/recordings/human2019/19328019.nwb: ok\n",
      "2021-07-28 15:40:32,991 [    INFO] data/processed/recordings/human2019/19320041.nwb: ok\n",
      "2021-07-28 15:40:34,747 [    INFO] data/processed/recordings/human2019/19129022.nwb: ok\n",
      "2021-07-28 15:40:36,461 [    INFO] data/processed/recordings/human2019/2019_11_28_0127.nwb: ok\n",
      "2021-07-28 15:40:38,214 [    INFO] data/processed/recordings/human2019/19128061.nwb: ok\n",
      "2021-07-28 15:40:40,125 [    INFO] data/processed/recordings/human2019/2019_11_28_0090.nwb: ok\n",
      "2021-07-28 15:40:42,025 [    INFO] data/processed/recordings/human2019/19o10063.nwb: ok\n",
      "2021-07-28 15:40:44,043 [    INFO] data/processed/recordings/human2019/19o10062.nwb: ok\n",
      "2021-07-28 15:40:46,180 [    INFO] data/processed/recordings/human2019/2019_11_26_0103.nwb: ok\n",
      "2021-07-28 15:40:48,151 [    INFO] data/processed/recordings/human2019/2019_11_04_0098.nwb: ok\n",
      "2021-07-28 15:40:49,906 [    INFO] data/processed/recordings/human2019/19129024.nwb: ok\n",
      "2021-07-28 15:40:51,549 [    INFO] data/processed/recordings/human2019/2019_11_28_0054.nwb: ok\n",
      "2021-07-28 15:40:53,303 [    INFO] data/processed/recordings/human2019/19328009.nwb: ok\n",
      "2021-07-28 15:40:54,998 [    INFO] data/processed/recordings/human2019/19o10048.nwb: ok\n",
      "2021-07-28 15:40:56,747 [    INFO] data/processed/recordings/human2019/19328034.nwb: ok\n",
      "2021-07-28 15:40:58,495 [    INFO] data/processed/recordings/human2019/19129040.nwb: ok\n",
      "2021-07-28 15:41:00,078 [    INFO] data/processed/recordings/human2019/2019_11_04_0003.nwb: ok\n",
      "2021-07-28 15:41:01,821 [    INFO] data/processed/recordings/human2019/19o10012.nwb: ok\n",
      "2021-07-28 15:41:03,476 [    INFO] data/processed/recordings/human2019/2019_11_26_0006.nwb: ok\n",
      "2021-07-28 15:41:05,254 [    INFO] data/processed/recordings/human2019/19328046.nwb: ok\n",
      "2021-07-28 15:41:07,013 [    INFO] data/processed/recordings/human2019/19320022.nwb: ok\n",
      "2021-07-28 15:41:08,874 [    INFO] data/processed/recordings/human2019/2019_11_04_0002.nwb: ok\n",
      "2021-07-28 15:41:10,609 [    INFO] data/processed/recordings/human2019/19129043.nwb: ok\n",
      "2021-07-28 15:41:12,370 [    INFO] data/processed/recordings/human2019/19228044.nwb: ok\n",
      "2021-07-28 15:41:14,049 [    INFO] data/processed/recordings/human2019/19o10011.nwb: ok\n",
      "2021-07-28 15:41:15,775 [    INFO] data/processed/recordings/human2019/19o10010.nwb: ok\n",
      "2021-07-28 15:41:17,934 [    INFO] data/processed/recordings/human2019/2019_11_04_0001.nwb: ok\n",
      "2021-07-28 15:41:19,755 [    INFO] data/processed/recordings/human2019/19320025.nwb: ok\n",
      "2021-07-28 15:41:21,574 [    INFO] data/processed/recordings/human2019/19128006.nwb: ok\n",
      "2021-07-28 15:41:23,400 [    INFO] data/processed/recordings/human2019/19228068.nwb: ok\n",
      "2021-07-28 15:41:25,187 [    INFO] data/processed/recordings/human2019/19320030.nwb: ok\n",
      "2021-07-28 15:41:26,957 [    INFO] data/processed/recordings/human2019/19129047.nwb: ok\n",
      "2021-07-28 15:41:28,649 [    INFO] data/processed/recordings/human2019/2019_09_03_0020.nwb: ok\n",
      "\u001b[32m\u001b[1mSummary: No validation errors among 68 file(s)\u001b[0m\n",
      "2021-07-28 15:41:28,649 [    INFO] Logs saved in /Users/derek_howard/Library/Logs/dandi-cli/20210728193926Z-84913.log\n"
     ]
    }
   ],
   "source": [
    "!dandi validate \"data/processed/recordings/human2019/\""
   ]
  },
  {
   "cell_type": "markdown",
   "id": "477c4208",
   "metadata": {},
   "source": [
    "## Extract stimulus info to later merge with metadat"
   ]
  },
  {
   "cell_type": "code",
   "execution_count": 44,
   "id": "aaa72f36",
   "metadata": {},
   "outputs": [],
   "source": [
    "converted_nwb_paths = list(Path('data/processed/recordings/human2019/').glob('*.nwb'))"
   ]
  },
  {
   "cell_type": "code",
   "execution_count": 45,
   "id": "b13f33ba",
   "metadata": {},
   "outputs": [],
   "source": [
    "converted_nwb_file_ids = [x.stem for x in converted_nwb_paths]"
   ]
  },
  {
   "cell_type": "code",
   "execution_count": 46,
   "id": "334f53e4",
   "metadata": {},
   "outputs": [],
   "source": [
    "to_extract_stim_info = human2019_file_info[human2019_file_info.file_id.isin(converted_nwb_file_ids)]"
   ]
  },
  {
   "cell_type": "code",
   "execution_count": 47,
   "id": "3cb7be2c",
   "metadata": {},
   "outputs": [],
   "source": [
    "# parse relevant info related to stimulus, including duration, and amplitudes\n",
    "def get_stim_info(abf_path, stim_channel_num = 1, stim_gain = 1, stim_name = 'sweepC'):\n",
    "    abf = pyabf.ABF(abf_path)\n",
    "    num_sweeps = abf.sweepCount\n",
    "    stim_amps = np.zeros(num_sweeps) \n",
    "    stim_start_time = None\n",
    "    stim_end_time = None\n",
    "    sampling_rate = int(round(1/(abf.sweepX[2] - abf.sweepX[1]))) # manually calculate the sampling rate\n",
    "\n",
    "    for i in range(0, num_sweeps):\n",
    "        abf.setSweep(i, channel=stim_channel_num)\n",
    "        sampling_rate = abf.dataRate\n",
    "        if stim_name == 'sweepY':\n",
    "            stim_vec = np.round(abf.sweepY * stim_gain)\n",
    "        else:\n",
    "            stim_vec = np.round(abf.sweepC * stim_gain)\n",
    "        stim_amp = stim_vec[5000]\n",
    "\n",
    "        stim_amps[i] = round(stim_amp)\n",
    "        non_zero_inds = np.where(stim_vec == stim_amp)\n",
    "        stim_duration = np.shape(non_zero_inds)[1] * 1/sampling_rate\n",
    "        if stim_duration == 0:\n",
    "            continue\n",
    "        stim_start_ind = non_zero_inds[0][0]\n",
    "        stim_end_ind = non_zero_inds[0][-1]\n",
    "        \n",
    "        stim_start_time = abf.sweepX[stim_start_ind]\n",
    "        stim_end_time = abf.sweepX[stim_end_ind]\n",
    "\n",
    "    ret_dict = {'stim_amp_vec' : stim_amps, 'stim_duration' : stim_duration, \n",
    "                'stim_start_time' : stim_start_time, 'stim_end_time' : stim_end_time, 'num_sweeps' : num_sweeps,\n",
    "               'stim_sampling_rate' : sampling_rate}\n",
    "    return(ret_dict)\n",
    "    \"\"\"\n",
    "    return pd.Series([stim_amps, stim_duration, stim_start_time, stim_end_time, num_sweeps, sampling_rate], \n",
    "                     index=['stim_amp_vec', 'stim_duration', 'stim_start_time', 'stim_end_time', 'num_sweeps', 'stim_sampling_rate'])\n",
    "    \"\"\""
   ]
  },
  {
   "cell_type": "code",
   "execution_count": 48,
   "id": "8ce03fdd",
   "metadata": {
    "scrolled": true
   },
   "outputs": [],
   "source": [
    "stim_info = {}\n",
    "for i, row in to_extract_stim_info.iterrows():\n",
    "    try:\n",
    "        abf_info = get_stim_info(row.path, stim_name = 'sweepC')\n",
    "    except (AttributeError, ValueError) as e:\n",
    "        print(e)\n",
    "        abf_info = None\n",
    "    stim_info[row.file_name] = abf_info"
   ]
  },
  {
   "cell_type": "code",
   "execution_count": 49,
   "id": "91847ed3",
   "metadata": {},
   "outputs": [],
   "source": [
    "stim_info_df = pd.DataFrame(stim_info).T"
   ]
  },
  {
   "cell_type": "code",
   "execution_count": 50,
   "id": "972e6277",
   "metadata": {},
   "outputs": [],
   "source": [
    "stim_info_dir = Path('./data/processed/meta/stiminfo/')\n",
    "stim_info_dir.mkdir(exist_ok=True)"
   ]
  },
  {
   "cell_type": "code",
   "execution_count": 51,
   "id": "c3c5e732",
   "metadata": {},
   "outputs": [],
   "source": [
    "stim_info_df.index.name = 'abf_filename'\n",
    "stim_info_df.to_csv(stim_info_dir / 'human2019_stiminfo.csv')"
   ]
  },
  {
   "cell_type": "code",
   "execution_count": null,
   "id": "b7541dc5",
   "metadata": {},
   "outputs": [],
   "source": []
  }
 ],
 "metadata": {
  "kernelspec": {
   "display_name": "Python 3",
   "language": "python",
   "name": "python3"
  },
  "language_info": {
   "codemirror_mode": {
    "name": "ipython",
    "version": 3
   },
   "file_extension": ".py",
   "mimetype": "text/x-python",
   "name": "python",
   "nbconvert_exporter": "python",
   "pygments_lexer": "ipython3",
   "version": "3.8.8"
  }
 },
 "nbformat": 4,
 "nbformat_minor": 5
}
